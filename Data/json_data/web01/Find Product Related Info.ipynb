{
 "cells": [
  {
   "cell_type": "code",
   "execution_count": 5,
   "metadata": {},
   "outputs": [],
   "source": [
    "import numpy as np\n",
    "import time\n",
    "import json"
   ]
  },
  {
   "cell_type": "markdown",
   "metadata": {},
   "source": [
    "# data load"
   ]
  },
  {
   "cell_type": "code",
   "execution_count": 9,
   "metadata": {},
   "outputs": [],
   "source": [
    "data = json.load(open('1c066fc5065ae3a72540fb5d17a61653.meta.json'))"
   ]
  },
  {
   "cell_type": "markdown",
   "metadata": {},
   "source": [
    "# dataframe basic analysis"
   ]
  },
  {
   "cell_type": "code",
   "execution_count": 18,
   "metadata": {},
   "outputs": [
    {
     "data": {
      "text/plain": [
       "dict_keys(['microdata', 'json-ld', 'rdfa'])"
      ]
     },
     "execution_count": 18,
     "metadata": {},
     "output_type": "execute_result"
    }
   ],
   "source": [
    "data.keys()"
   ]
  },
  {
   "cell_type": "code",
   "execution_count": 32,
   "metadata": {},
   "outputs": [
    {
     "data": {
      "text/plain": [
       "[{'type': 'http://data-vocabulary.org/Breadcrumb', 'value': 'Home'}]"
      ]
     },
     "execution_count": 32,
     "metadata": {},
     "output_type": "execute_result"
    }
   ],
   "source": [
    "data['microdata']"
   ]
  },
  {
   "cell_type": "code",
   "execution_count": 53,
   "metadata": {},
   "outputs": [
    {
     "data": {
      "text/plain": [
       "[{'@context': 'http://schema.org',\n",
       "  '@type': 'Product',\n",
       "  'brand': 'Samsung',\n",
       "  'description': \"The sleek new Samsung Galaxy S8 and S8+ have ultra-thin bezels that give the phone a rounded infinity display and fully immersive experience whilst still providing dust and water resistance.<br><br/>  \\r\\n \\r\\nIntegrated Bixby Vision provides you with a personal assistant and information services experience enabling you to do what you want, when you want. And your personal information protection has got even more secure with the Galaxy S8's Iris Scanner feature.<br><br/>\\r\\n \\r\\nYou'll be able to capture your favourite scenes and moments with friends with the S8's Dual Pixel 12MP camera. Facial recognition autofocus on the 8MP front camera provides the perfect selfie.<br><br/>  \\r\\n \\r\\nThe S8 & S8+ have expandable storage for all of your favourite music and with the in-box AKG-tune earphones and enhanced audio technology your songs will never have sounded so good.\",\n",
       "  'itemCondition': 'new',\n",
       "  'model': 'Galaxy S8',\n",
       "  'name': 'Samsung Galaxy S8',\n",
       "  'offers': {'@type': 'AggregateOffer',\n",
       "   'highPrice': 689.99,\n",
       "   'lowPrice': 79,\n",
       "   'offerCount': 18,\n",
       "   'priceCurrency': 'GBP'},\n",
       "  'url': 'http://www.three.co.uk/samsung/galaxy-s8'}]"
      ]
     },
     "execution_count": 53,
     "metadata": {},
     "output_type": "execute_result"
    }
   ],
   "source": [
    "data['json-ld']"
   ]
  },
  {
   "cell_type": "code",
   "execution_count": 24,
   "metadata": {},
   "outputs": [
    {
     "data": {
      "text/plain": [
       "[{'@id': 'http://www.three.co.uk/samsung/galaxy-s8#hub-navigation',\n",
       "  'http://www.w3.org/1999/xhtml/vocab#role': [{'@id': 'http://www.w3.org/1999/xhtml/vocab#menuitem'}]},\n",
       " {'@id': '_:Nb46eae0074de42239a9401209ebefafb',\n",
       "  'http://www.w3.org/1999/xhtml/vocab#role': [{'@id': 'http://www.w3.org/1999/xhtml/vocab#menuitem'}]},\n",
       " {'@id': '_:N35f0d73f7c0d4d57b31ae232eef5c042',\n",
       "  'http://www.w3.org/1999/xhtml/vocab#role': [{'@id': 'http://www.w3.org/1999/xhtml/vocab#menu'}]},\n",
       " {'@id': '_:Nddd21180ee454f7a9d80d8a101025dcb',\n",
       "  'http://www.w3.org/1999/xhtml/vocab#role': [{'@id': 'http://www.w3.org/1999/xhtml/vocab#menuitem'}]},\n",
       " {'@id': '_:N233905b14acf4b78b64f3f9634d39afd',\n",
       "  'http://www.w3.org/1999/xhtml/vocab#role': [{'@id': 'http://www.w3.org/1999/xhtml/vocab#menuitem'}]},\n",
       " {'@id': '_:Nb0044952299a408396ef98b1a2348eed',\n",
       "  'http://www.w3.org/1999/xhtml/vocab#role': [{'@id': 'http://www.w3.org/1999/xhtml/vocab#menu'}]},\n",
       " {'@id': '_:N3650b60a09e94d65a0a974a8fdf19452',\n",
       "  'http://www.w3.org/1999/xhtml/vocab#role': [{'@id': 'http://www.w3.org/1999/xhtml/vocab#menuitem'}]},\n",
       " {'@id': '_:N830909e6b1bc4464af9ab8d2a239a3ed',\n",
       "  'http://www.w3.org/1999/xhtml/vocab#role': [{'@id': 'http://www.w3.org/1999/xhtml/vocab#menuitem'}]},\n",
       " {'@id': '_:Na6e0cb173d5842f0a995d61002e3dacc',\n",
       "  'http://www.w3.org/1999/xhtml/vocab#role': [{'@id': 'http://www.w3.org/1999/xhtml/vocab#menuitem'}]},\n",
       " {'@id': '_:N26a057d425ca4f3381eb96da5be9f7cd',\n",
       "  'http://www.w3.org/1999/xhtml/vocab#role': [{'@id': 'http://www.w3.org/1999/xhtml/vocab#menuitem'}]},\n",
       " {'@id': '_:N6683507d0af44b91b1c8c9924b786dc9',\n",
       "  'http://www.w3.org/1999/xhtml/vocab#role': [{'@id': 'http://www.w3.org/1999/xhtml/vocab#menuitem'}]},\n",
       " {'@id': '_:Nea17aabf5ae841f190c25f60743c562b',\n",
       "  'http://www.w3.org/1999/xhtml/vocab#role': [{'@id': 'http://www.w3.org/1999/xhtml/vocab#menuitem'}]},\n",
       " {'@id': '_:Naebe22d5edea4488a6a2eb7f30dde670',\n",
       "  'http://www.w3.org/1999/xhtml/vocab#role': [{'@id': 'http://www.w3.org/1999/xhtml/vocab#heading'}]},\n",
       " {'@id': '_:N75d82b80119745238875dbcdb5ba4c4b',\n",
       "  'http://www.w3.org/1999/xhtml/vocab#role': [{'@id': 'http://www.w3.org/1999/xhtml/vocab#menuitem'}]},\n",
       " {'@id': '_:N36c254ba5a7f4ff899db476c276e5167',\n",
       "  'http://www.w3.org/1999/xhtml/vocab#role': [{'@id': 'http://www.w3.org/1999/xhtml/vocab#contentinfo'}]},\n",
       " {'@id': '_:Nb9cd3ec51db44adeb577366d1001b19c',\n",
       "  'http://www.w3.org/1999/xhtml/vocab#role': [{'@id': 'http://www.w3.org/1999/xhtml/vocab#menuitem'}]},\n",
       " {'@id': 'http://www.three.co.uk/samsung/galaxy-s8#shop-navigation',\n",
       "  'http://www.w3.org/1999/xhtml/vocab#role': [{'@id': 'http://www.w3.org/1999/xhtml/vocab#menuitem'}]},\n",
       " {'@id': '_:Nb8ac8c3b98c24691b307ef063fcc7b8f',\n",
       "  'http://www.w3.org/1999/xhtml/vocab#role': [{'@id': 'http://www.w3.org/1999/xhtml/vocab#heading'}]},\n",
       " {'@id': '_:Ncba742d6a3b842238f191e15ea8e09f3',\n",
       "  'http://www.w3.org/1999/xhtml/vocab#role': [{'@id': 'http://www.w3.org/1999/xhtml/vocab#menu'}]},\n",
       " {'@id': '_:Nf7c367a3373d4bba9bf29cee6d4fa09c',\n",
       "  'http://www.w3.org/1999/xhtml/vocab#role': [{'@id': 'http://www.w3.org/1999/xhtml/vocab#menuitem'}]},\n",
       " {'@id': '_:N3a01a72fe2384079a6239a2d750fb77c',\n",
       "  'http://www.w3.org/1999/xhtml/vocab#role': [{'@id': 'http://www.w3.org/1999/xhtml/vocab#menuitem'}]},\n",
       " {'@id': '_:Nd9f5087b67c447aa9901c1c29df6e5fa',\n",
       "  'http://www.w3.org/1999/xhtml/vocab#role': [{'@id': 'http://www.w3.org/1999/xhtml/vocab#menu'}]},\n",
       " {'@id': '_:N0665303c13fb4d6fa2ff29219d5a4f10',\n",
       "  'http://www.w3.org/1999/xhtml/vocab#role': [{'@id': 'http://www.w3.org/1999/xhtml/vocab#menu'}]},\n",
       " {'@id': 'http://www.three.co.uk/samsung/galaxy-s8#mobile-action',\n",
       "  'http://www.w3.org/1999/xhtml/vocab#role': [{'@id': 'http://www.w3.org/1999/xhtml/vocab#presentation'}]},\n",
       " {'@id': '_:N794538e880974a548d6d11a63a7f0cc4',\n",
       "  'http://www.w3.org/1999/xhtml/vocab#role': [{'@id': 'http://www.w3.org/1999/xhtml/vocab#menu'}]},\n",
       " {'@id': '_:N4e56de38956e4a28baf160c9c210e203',\n",
       "  'http://www.w3.org/1999/xhtml/vocab#role': [{'@id': 'http://www.w3.org/1999/xhtml/vocab#heading'}]},\n",
       " {'@id': '_:N0519fb4f2f2f46b19478310f41424862',\n",
       "  'http://www.w3.org/1999/xhtml/vocab#role': [{'@id': 'http://www.w3.org/1999/xhtml/vocab#menuitem'}]},\n",
       " {'@id': 'http://www.three.co.uk/samsung/galaxy-s8#support-navigation',\n",
       "  'http://www.w3.org/1999/xhtml/vocab#role': [{'@id': 'http://www.w3.org/1999/xhtml/vocab#menuitem'}]},\n",
       " {'@id': '_:N53fcdcd943864092b67926f99a9a4689',\n",
       "  'http://www.w3.org/1999/xhtml/vocab#role': [{'@id': 'http://www.w3.org/1999/xhtml/vocab#menuitem'}]},\n",
       " {'@id': '_:Nabc34828e8ef4edebba0389583d27803',\n",
       "  'http://www.w3.org/1999/xhtml/vocab#role': [{'@id': 'http://www.w3.org/1999/xhtml/vocab#menuitem'}]},\n",
       " {'@id': '_:Ne8af239b8756418693dc4dd3d9bf52a3',\n",
       "  'http://www.w3.org/1999/xhtml/vocab#role': [{'@id': 'http://www.w3.org/1999/xhtml/vocab#menuitem'}]},\n",
       " {'@id': '_:Nd5ecca2594ca4a58bde4a397067ca699',\n",
       "  'http://www.w3.org/1999/xhtml/vocab#role': [{'@id': 'http://www.w3.org/1999/xhtml/vocab#heading'}]},\n",
       " {'@id': '_:N1bc58b928e6d4554b580cd1fa4db14a7',\n",
       "  'http://www.w3.org/1999/xhtml/vocab#role': [{'@id': 'http://www.w3.org/1999/xhtml/vocab#menuitem'}]},\n",
       " {'@id': '_:Nd3762095b7744d35b8a08c30b93e5913',\n",
       "  'http://www.w3.org/1999/xhtml/vocab#role': [{'@id': 'http://www.w3.org/1999/xhtml/vocab#menuitem'}]},\n",
       " {'@id': '_:N447a2d4c9c7c4c85bc0f081e84a763df',\n",
       "  'http://www.w3.org/1999/xhtml/vocab#role': [{'@id': 'http://www.w3.org/1999/xhtml/vocab#menuitem'}]},\n",
       " {'@id': '_:N8cf8931e46f64efeb8d97477a5a83768',\n",
       "  'http://www.w3.org/1999/xhtml/vocab#role': [{'@id': 'http://www.w3.org/1999/xhtml/vocab#menuitem'}]},\n",
       " {'@id': '_:N28a9a3a370dd4612887e81bb2d305517',\n",
       "  'http://www.w3.org/1999/xhtml/vocab#role': [{'@id': 'http://www.w3.org/1999/xhtml/vocab#menuitem'}]},\n",
       " {'@id': '_:N959178277a504f618febde839af9381f',\n",
       "  'http://www.w3.org/1999/xhtml/vocab#role': [{'@id': 'http://www.w3.org/1999/xhtml/vocab#menuitem'}]},\n",
       " {'@id': '_:Ncc39e2f3e63040e4880fb653b0c5dc57',\n",
       "  'http://www.w3.org/1999/xhtml/vocab#role': [{'@id': 'http://www.w3.org/1999/xhtml/vocab#menuitem'}]},\n",
       " {'@id': '_:N7af8ad1248f14f8ea813c56ab87e20a9',\n",
       "  'http://www.w3.org/1999/xhtml/vocab#role': [{'@id': 'http://www.w3.org/1999/xhtml/vocab#menuitem'}]},\n",
       " {'@id': '_:Nb89821682d5e40c2b5b0a69603ac4d3a',\n",
       "  'http://www.w3.org/1999/xhtml/vocab#role': [{'@id': 'http://www.w3.org/1999/xhtml/vocab#menuitem'}]},\n",
       " {'@id': '_:Ncdf0b26e8af34f68aa442db32b67c509',\n",
       "  'http://www.w3.org/1999/xhtml/vocab#role': [{'@id': 'http://www.w3.org/1999/xhtml/vocab#menuitem'}]},\n",
       " {'@id': '_:N828c3b49be094699ac37e514ae1da51e',\n",
       "  'http://www.w3.org/1999/xhtml/vocab#role': [{'@id': 'http://www.w3.org/1999/xhtml/vocab#menuitem'}]},\n",
       " {'@id': '_:Naba31ccda3034acd8ee6c82119ac3037',\n",
       "  'http://www.w3.org/1999/xhtml/vocab#role': [{'@id': 'http://www.w3.org/1999/xhtml/vocab#menuitem'}]},\n",
       " {'@id': '_:Ndd23fe4fe7ca4e5480a8f883cf231160',\n",
       "  'http://www.w3.org/1999/xhtml/vocab#role': [{'@id': 'http://www.w3.org/1999/xhtml/vocab#menuitem'}]},\n",
       " {'@id': '_:N76ed83f240234b108a82ecebfb1cef67',\n",
       "  'http://www.w3.org/1999/xhtml/vocab#role': [{'@id': 'http://www.w3.org/1999/xhtml/vocab#menuitem'}]},\n",
       " {'@id': '_:Na7bdc6454b9c4736b0740b029d45c076',\n",
       "  'http://www.w3.org/1999/xhtml/vocab#role': [{'@id': 'http://www.w3.org/1999/xhtml/vocab#menuitem'}]},\n",
       " {'@id': '_:N2b484aec41b349eba96ac36cc59cd23d',\n",
       "  'http://www.w3.org/1999/xhtml/vocab#role': [{'@id': 'http://www.w3.org/1999/xhtml/vocab#menu'}]},\n",
       " {'@id': '_:Nabc03d0eea1d4d62a272468c3b99be98',\n",
       "  'http://www.w3.org/1999/xhtml/vocab#role': [{'@id': 'http://www.w3.org/1999/xhtml/vocab#menuitem'}]},\n",
       " {'@id': '_:Nadcb47777766460eac6313fe0f98c39c',\n",
       "  'http://www.w3.org/1999/xhtml/vocab#role': [{'@id': 'http://www.w3.org/1999/xhtml/vocab#menuitem'}]},\n",
       " {'@id': '_:N346f3fe97a324da0bd5f221e7119423f',\n",
       "  'http://www.w3.org/1999/xhtml/vocab#role': [{'@id': 'http://www.w3.org/1999/xhtml/vocab#menuitem'}]},\n",
       " {'@id': 'http://www.three.co.uk/samsung/galaxy-s8#googlesearch',\n",
       "  'http://www.w3.org/1999/xhtml/vocab#role': [{'@id': 'http://www.w3.org/1999/xhtml/vocab#search'}]},\n",
       " {'@id': '_:Nf33f3955438a4addae833911c299a34c',\n",
       "  'http://www.w3.org/1999/xhtml/vocab#role': [{'@id': 'http://www.w3.org/1999/xhtml/vocab#menu'}]},\n",
       " {'@id': '_:N320b1096b6b944bd9d0f3e9cb56a2b82',\n",
       "  'http://www.w3.org/1999/xhtml/vocab#role': [{'@id': 'http://www.w3.org/1999/xhtml/vocab#menuitem'}]},\n",
       " {'@id': '_:Ndf1f01869b154d7bbae2a72c987fc221',\n",
       "  'http://www.w3.org/1999/xhtml/vocab#role': [{'@id': 'http://www.w3.org/1999/xhtml/vocab#menuitem'}]},\n",
       " {'@id': '_:N39c17722bd20443688c91f6d0f86577d',\n",
       "  'http://www.w3.org/1999/xhtml/vocab#role': [{'@id': 'http://www.w3.org/1999/xhtml/vocab#menuitem'}]},\n",
       " {'@id': '_:Nb8538cb3b4214bd285ee7d046a1f57d4',\n",
       "  'http://www.w3.org/1999/xhtml/vocab#role': [{'@id': 'http://www.w3.org/1999/xhtml/vocab#menuitem'}]},\n",
       " {'@id': '_:N7c540d49706a4fcd9d177ee1d7aee084',\n",
       "  'http://www.w3.org/1999/xhtml/vocab#role': [{'@id': 'http://www.w3.org/1999/xhtml/vocab#menu'}]},\n",
       " {'@id': '_:Nbbea81cf70064198859a53f25dc8e877',\n",
       "  'http://www.w3.org/1999/xhtml/vocab#role': [{'@id': 'http://www.w3.org/1999/xhtml/vocab#menuitem'}]},\n",
       " {'@id': '_:N3ff2ab4c1ef441d19fbb68558a52022d',\n",
       "  'http://www.w3.org/1999/xhtml/vocab#role': [{'@id': 'http://www.w3.org/1999/xhtml/vocab#menuitem'}]},\n",
       " {'@id': '_:Nbc9ac01fa394428e9a643f6101b260de',\n",
       "  'http://www.w3.org/1999/xhtml/vocab#role': [{'@id': 'http://www.w3.org/1999/xhtml/vocab#menuitem'}]},\n",
       " {'@id': '_:N74dde0188b3d44feae0ecfd2bd960c41',\n",
       "  'http://www.w3.org/1999/xhtml/vocab#role': [{'@id': 'http://www.w3.org/1999/xhtml/vocab#menuitem'}]},\n",
       " {'@id': '_:N719b31d0bf0d4a3aa4fda19f5f2e6954',\n",
       "  'http://www.w3.org/1999/xhtml/vocab#role': [{'@id': 'http://www.w3.org/1999/xhtml/vocab#menuitem'}]},\n",
       " {'@id': '_:N5a6652d0a74b43c3a7968b5aab99951a',\n",
       "  'http://www.w3.org/1999/xhtml/vocab#role': [{'@id': 'http://www.w3.org/1999/xhtml/vocab#menuitem'}]},\n",
       " {'@id': '_:Nee163066cd294130aa82785f972178b8',\n",
       "  'http://www.w3.org/1999/xhtml/vocab#role': [{'@id': 'http://www.w3.org/1999/xhtml/vocab#menuitem'}]},\n",
       " {'@id': '_:N0844f304dd6f4c7ab263a86e53063fad',\n",
       "  'http://www.w3.org/1999/xhtml/vocab#role': [{'@id': 'http://www.w3.org/1999/xhtml/vocab#menuitem'}]},\n",
       " {'@id': '_:N2a9ccf3fd25d4e9ca09f453c66ae78f4',\n",
       "  'http://www.w3.org/1999/xhtml/vocab#role': [{'@id': 'http://www.w3.org/1999/xhtml/vocab#heading'}]},\n",
       " {'@id': '_:Nb2c4540009ef4d12bc14446216efd55e',\n",
       "  'http://www.w3.org/1999/xhtml/vocab#role': [{'@id': 'http://www.w3.org/1999/xhtml/vocab#presentation'}]},\n",
       " {'@id': '_:N915bc03039e448df9dca655df0747601',\n",
       "  'http://www.w3.org/1999/xhtml/vocab#role': [{'@id': 'http://www.w3.org/1999/xhtml/vocab#menuitem'}]},\n",
       " {'@id': '_:N6c11c701955a48ef8fc39b4788812bf4',\n",
       "  'http://www.w3.org/1999/xhtml/vocab#role': [{'@id': 'http://www.w3.org/1999/xhtml/vocab#menuitem'}]},\n",
       " {'@id': 'http://www.three.co.uk/samsung/galaxy-s8#site-links',\n",
       "  'http://www.w3.org/1999/xhtml/vocab#role': [{'@id': 'http://www.w3.org/1999/xhtml/vocab#navigation'}]},\n",
       " {'@id': '_:Nbd611e4af0ab4f05ab017ed9c69c8b7b',\n",
       "  'http://www.w3.org/1999/xhtml/vocab#role': [{'@id': 'http://www.w3.org/1999/xhtml/vocab#link'}]},\n",
       " {'@id': '_:Nd3fe86375822498a9877f90eb55aeed5',\n",
       "  'http://www.w3.org/1999/xhtml/vocab#role': [{'@id': 'http://www.w3.org/1999/xhtml/vocab#menuitem'}]},\n",
       " {'@id': '_:Ncb5fb1038b894ea9a25e79635796d4c6',\n",
       "  'http://www.w3.org/1999/xhtml/vocab#role': [{'@id': 'http://www.w3.org/1999/xhtml/vocab#menu'}]},\n",
       " {'@id': '_:N4df8d62353b04f59bfeaa3ad8c51eb10',\n",
       "  'http://www.w3.org/1999/xhtml/vocab#role': [{'@id': 'http://www.w3.org/1999/xhtml/vocab#menuitem'}]},\n",
       " {'@id': '_:N081469b6d08c4f95ab1b11d507399210',\n",
       "  'http://www.w3.org/1999/xhtml/vocab#role': [{'@id': 'http://www.w3.org/1999/xhtml/vocab#menuitem'}]},\n",
       " {'@id': '_:Ncf96b6ddc6f64b5cbf4e110b432bc075',\n",
       "  'http://www.w3.org/1999/xhtml/vocab#role': [{'@id': 'http://www.w3.org/1999/xhtml/vocab#menuitem'}]},\n",
       " {'@id': '_:Nfeee2ccf9d0b4091829653e3c5d4113f',\n",
       "  'http://www.w3.org/1999/xhtml/vocab#role': [{'@id': 'http://www.w3.org/1999/xhtml/vocab#menu'}]},\n",
       " {'@id': '_:N1273fb8da19f49b39247c96a61f17a7e',\n",
       "  'http://www.w3.org/1999/xhtml/vocab#role': [{'@id': 'http://www.w3.org/1999/xhtml/vocab#menuitem'}]},\n",
       " {'@id': '_:Nc2be79c389fa44d396524a45ec5f16c6',\n",
       "  'http://www.w3.org/1999/xhtml/vocab#role': [{'@id': 'http://www.w3.org/1999/xhtml/vocab#menuitem'}]},\n",
       " {'@id': '_:Na9ddb24b10944b8891e342b5a67bd972',\n",
       "  'http://www.w3.org/1999/xhtml/vocab#role': [{'@id': 'http://www.w3.org/1999/xhtml/vocab#menu'}]},\n",
       " {'@id': '_:N12b269a0f4014cb2a411d7e38b411d09',\n",
       "  'http://www.w3.org/1999/xhtml/vocab#role': [{'@id': 'http://www.w3.org/1999/xhtml/vocab#menuitem'}]},\n",
       " {'@id': '_:Nb64be873bdb84063849778f43835dcd5',\n",
       "  'http://www.w3.org/1999/xhtml/vocab#role': [{'@id': 'http://www.w3.org/1999/xhtml/vocab#menuitem'}]},\n",
       " {'@id': 'http://www.three.co.uk/samsung/galaxy-s8#mobilehomelink',\n",
       "  'http://www.w3.org/1999/xhtml/vocab#role': [{'@id': 'http://www.w3.org/1999/xhtml/vocab#menuitem'}]},\n",
       " {'@id': '_:N693c02676b9a4e55892e2be295a8bd00',\n",
       "  'http://www.w3.org/1999/xhtml/vocab#role': [{'@id': 'http://www.w3.org/1999/xhtml/vocab#menuitem'}]},\n",
       " {'@id': '_:Ndf40c29d06584fe59f0308f49b92d585',\n",
       "  'http://www.w3.org/1999/xhtml/vocab#role': [{'@id': 'http://www.w3.org/1999/xhtml/vocab#menuitem'}]},\n",
       " {'@id': '_:N446373a10b0a4610a0a84c781aaaec0d',\n",
       "  'http://www.w3.org/1999/xhtml/vocab#role': [{'@id': 'http://www.w3.org/1999/xhtml/vocab#menuitem'}]}]"
      ]
     },
     "execution_count": 24,
     "metadata": {},
     "output_type": "execute_result"
    }
   ],
   "source": [
    "data['rdfa']"
   ]
  },
  {
   "cell_type": "markdown",
   "metadata": {},
   "source": [
    "# further look"
   ]
  },
  {
   "cell_type": "code",
   "execution_count": 35,
   "metadata": {},
   "outputs": [
    {
     "data": {
      "text/plain": [
       "list"
      ]
     },
     "execution_count": 35,
     "metadata": {},
     "output_type": "execute_result"
    }
   ],
   "source": [
    "type(data['json-ld'])"
   ]
  },
  {
   "cell_type": "code",
   "execution_count": 36,
   "metadata": {},
   "outputs": [
    {
     "data": {
      "text/plain": [
       "[{'@context': 'http://schema.org',\n",
       "  '@type': 'Product',\n",
       "  'brand': 'Samsung',\n",
       "  'description': \"The sleek new Samsung Galaxy S8 and S8+ have ultra-thin bezels that give the phone a rounded infinity display and fully immersive experience whilst still providing dust and water resistance.<br><br/>  \\r\\n \\r\\nIntegrated Bixby Vision provides you with a personal assistant and information services experience enabling you to do what you want, when you want. And your personal information protection has got even more secure with the Galaxy S8's Iris Scanner feature.<br><br/>\\r\\n \\r\\nYou'll be able to capture your favourite scenes and moments with friends with the S8's Dual Pixel 12MP camera. Facial recognition autofocus on the 8MP front camera provides the perfect selfie.<br><br/>  \\r\\n \\r\\nThe S8 & S8+ have expandable storage for all of your favourite music and with the in-box AKG-tune earphones and enhanced audio technology your songs will never have sounded so good.\",\n",
       "  'itemCondition': 'new',\n",
       "  'model': 'Galaxy S8',\n",
       "  'name': 'Samsung Galaxy S8',\n",
       "  'offers': {'@type': 'AggregateOffer',\n",
       "   'highPrice': 689.99,\n",
       "   'lowPrice': 79,\n",
       "   'offerCount': 18,\n",
       "   'priceCurrency': 'GBP'},\n",
       "  'url': 'http://www.three.co.uk/samsung/galaxy-s8'}]"
      ]
     },
     "execution_count": 36,
     "metadata": {},
     "output_type": "execute_result"
    }
   ],
   "source": [
    "data['json-ld']"
   ]
  },
  {
   "cell_type": "code",
   "execution_count": 55,
   "metadata": {},
   "outputs": [
    {
     "data": {
      "text/plain": [
       "{'@context': 'http://schema.org',\n",
       " '@type': 'Product',\n",
       " 'brand': 'Samsung',\n",
       " 'description': \"The sleek new Samsung Galaxy S8 and S8+ have ultra-thin bezels that give the phone a rounded infinity display and fully immersive experience whilst still providing dust and water resistance.<br><br/>  \\r\\n \\r\\nIntegrated Bixby Vision provides you with a personal assistant and information services experience enabling you to do what you want, when you want. And your personal information protection has got even more secure with the Galaxy S8's Iris Scanner feature.<br><br/>\\r\\n \\r\\nYou'll be able to capture your favourite scenes and moments with friends with the S8's Dual Pixel 12MP camera. Facial recognition autofocus on the 8MP front camera provides the perfect selfie.<br><br/>  \\r\\n \\r\\nThe S8 & S8+ have expandable storage for all of your favourite music and with the in-box AKG-tune earphones and enhanced audio technology your songs will never have sounded so good.\",\n",
       " 'itemCondition': 'new',\n",
       " 'model': 'Galaxy S8',\n",
       " 'name': 'Samsung Galaxy S8',\n",
       " 'offers': {'@type': 'AggregateOffer',\n",
       "  'highPrice': 689.99,\n",
       "  'lowPrice': 79,\n",
       "  'offerCount': 18,\n",
       "  'priceCurrency': 'GBP'},\n",
       " 'url': 'http://www.three.co.uk/samsung/galaxy-s8'}"
      ]
     },
     "execution_count": 55,
     "metadata": {},
     "output_type": "execute_result"
    }
   ],
   "source": [
    "data['json-ld'][0]"
   ]
  },
  {
   "cell_type": "code",
   "execution_count": 60,
   "metadata": {},
   "outputs": [
    {
     "data": {
      "text/plain": [
       "dict_keys(['offers', 'brand', '@context', 'description', '@type', 'name', 'url', 'itemCondition', 'model'])"
      ]
     },
     "execution_count": 60,
     "metadata": {},
     "output_type": "execute_result"
    }
   ],
   "source": [
    "data['json-ld'][0].keys()"
   ]
  },
  {
   "cell_type": "code",
   "execution_count": 63,
   "metadata": {},
   "outputs": [
    {
     "data": {
      "text/plain": [
       "{'@context': 'http://schema.org',\n",
       " '@type': 'Product',\n",
       " 'brand': 'Samsung',\n",
       " 'description': \"The sleek new Samsung Galaxy S8 and S8+ have ultra-thin bezels that give the phone a rounded infinity display and fully immersive experience whilst still providing dust and water resistance.<br><br/>  \\r\\n \\r\\nIntegrated Bixby Vision provides you with a personal assistant and information services experience enabling you to do what you want, when you want. And your personal information protection has got even more secure with the Galaxy S8's Iris Scanner feature.<br><br/>\\r\\n \\r\\nYou'll be able to capture your favourite scenes and moments with friends with the S8's Dual Pixel 12MP camera. Facial recognition autofocus on the 8MP front camera provides the perfect selfie.<br><br/>  \\r\\n \\r\\nThe S8 & S8+ have expandable storage for all of your favourite music and with the in-box AKG-tune earphones and enhanced audio technology your songs will never have sounded so good.\",\n",
       " 'itemCondition': 'new',\n",
       " 'model': 'Galaxy S8',\n",
       " 'name': 'Samsung Galaxy S8',\n",
       " 'offers': {'@type': 'AggregateOffer',\n",
       "  'highPrice': 689.99,\n",
       "  'lowPrice': 79,\n",
       "  'offerCount': 18,\n",
       "  'priceCurrency': 'GBP'},\n",
       " 'url': 'http://www.three.co.uk/samsung/galaxy-s8'}"
      ]
     },
     "execution_count": 63,
     "metadata": {},
     "output_type": "execute_result"
    }
   ],
   "source": [
    "data['json-ld'][0]"
   ]
  },
  {
   "cell_type": "code",
   "execution_count": 65,
   "metadata": {},
   "outputs": [
    {
     "data": {
      "text/plain": [
       "{'@type': 'AggregateOffer',\n",
       " 'highPrice': 689.99,\n",
       " 'lowPrice': 79,\n",
       " 'offerCount': 18,\n",
       " 'priceCurrency': 'GBP'}"
      ]
     },
     "execution_count": 65,
     "metadata": {},
     "output_type": "execute_result"
    }
   ],
   "source": [
    "data['json-ld'][0]['offers']"
   ]
  }
 ],
 "metadata": {
  "kernelspec": {
   "display_name": "Python 3",
   "language": "python",
   "name": "python3"
  },
  "language_info": {
   "codemirror_mode": {
    "name": "ipython",
    "version": 3
   },
   "file_extension": ".py",
   "mimetype": "text/x-python",
   "name": "python",
   "nbconvert_exporter": "python",
   "pygments_lexer": "ipython3",
   "version": "3.5.2"
  },
  "toc": {
   "nav_menu": {},
   "number_sections": true,
   "sideBar": true,
   "skip_h1_title": false,
   "toc_cell": false,
   "toc_position": {},
   "toc_section_display": "block",
   "toc_window_display": true
  }
 },
 "nbformat": 4,
 "nbformat_minor": 2
}
