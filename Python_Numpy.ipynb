{
 "cells": [
  {
   "cell_type": "code",
   "execution_count": 1,
   "metadata": {},
   "outputs": [],
   "source": [
    "import numpy as np\n",
    "import time"
   ]
  },
  {
   "cell_type": "markdown",
   "metadata": {},
   "source": [
    "# Data Structure"
   ]
  },
  {
   "cell_type": "markdown",
   "metadata": {},
   "source": [
    "## Rank 1 Array\n",
    "It is neighter a column or row vector"
   ]
  },
  {
   "cell_type": "code",
   "execution_count": 20,
   "metadata": {},
   "outputs": [
    {
     "name": "stdout",
     "output_type": "stream",
     "text": [
      "a is  [ 0.7596722   0.62479242  0.6133298  ...,  0.89592354  0.12794423\n",
      "  0.53782594] \n",
      "\n",
      "Shape of a is (10000,) \n",
      "\n",
      "a is a rank 1 array, we dont use this in deep learning coding.\n"
     ]
    }
   ],
   "source": [
    "a=np.random.rand(10000)\n",
    "print('a is ',a,'\\n')\n",
    "print('Shape of a is',a.shape,'\\n')\n",
    "print('a is a rank 1 array, we dont use this in deep learning coding.')"
   ]
  },
  {
   "cell_type": "code",
   "execution_count": 23,
   "metadata": {},
   "outputs": [
    {
     "data": {
      "text/plain": [
       "array([ 0.7596722 ,  0.62479242,  0.6133298 , ...,  0.89592354,\n",
       "        0.12794423,  0.53782594])"
      ]
     },
     "execution_count": 23,
     "metadata": {},
     "output_type": "execute_result"
    }
   ],
   "source": [
    "a.T \n",
    "# a transpose is same as a."
   ]
  },
  {
   "cell_type": "markdown",
   "metadata": {},
   "source": [
    "## Numpy array"
   ]
  },
  {
   "cell_type": "code",
   "execution_count": 28,
   "metadata": {},
   "outputs": [
    {
     "name": "stdout",
     "output_type": "stream",
     "text": [
      "a is  [[-0.19473661]\n",
      " [ 0.79441682]\n",
      " [-1.25127324]\n",
      " [-0.0313365 ]\n",
      " [-1.25358584]] \n",
      "\n",
      "Shape of a is (5, 1) \n",
      "\n",
      "a is a 5x1 column vector.\n"
     ]
    }
   ],
   "source": [
    "a=np.random.randn(5,1)\n",
    "print('a is ',a,'\\n')\n",
    "print('Shape of a is',a.shape,'\\n')\n",
    "print('a is a 5x1 column vector.')"
   ]
  },
  {
   "cell_type": "markdown",
   "metadata": {},
   "source": [
    "## ndarray"
   ]
  },
  {
   "cell_type": "code",
   "execution_count": 2,
   "metadata": {
    "collapsed": true
   },
   "outputs": [],
   "source": [
    "import numpy as np\n",
    "import time"
   ]
  },
  {
   "cell_type": "code",
   "execution_count": 27,
   "metadata": {},
   "outputs": [
    {
     "data": {
      "text/plain": [
       "array([[[[2, 3, 0, 3, 2],\n",
       "         [0, 4, 8, 2, 5],\n",
       "         [3, 5, 2, 0, 5],\n",
       "         [1, 3, 9, 2, 9]],\n",
       "\n",
       "        [[6, 3, 4, 5, 8],\n",
       "         [9, 5, 7, 8, 6],\n",
       "         [2, 3, 2, 5, 4],\n",
       "         [8, 3, 6, 1, 6]],\n",
       "\n",
       "        [[2, 4, 5, 2, 7],\n",
       "         [0, 6, 0, 4, 7],\n",
       "         [7, 2, 3, 3, 6],\n",
       "         [2, 3, 8, 9, 7]]],\n",
       "\n",
       "\n",
       "       [[[0, 3, 1, 1, 5],\n",
       "         [2, 2, 8, 9, 8],\n",
       "         [5, 0, 9, 7, 4],\n",
       "         [5, 0, 4, 4, 2]],\n",
       "\n",
       "        [[0, 2, 3, 7, 5],\n",
       "         [4, 4, 9, 0, 3],\n",
       "         [4, 8, 2, 7, 8],\n",
       "         [1, 3, 8, 4, 6]],\n",
       "\n",
       "        [[0, 7, 7, 9, 1],\n",
       "         [8, 3, 1, 9, 6],\n",
       "         [8, 9, 1, 0, 0],\n",
       "         [5, 2, 3, 3, 0]]]])"
      ]
     },
     "execution_count": 27,
     "metadata": {},
     "output_type": "execute_result"
    }
   ],
   "source": [
    "sample_data=np.random.randint(low=0, high=10,size=(2,3,4,5))\n",
    "sample_data\n",
    "# (2，3，4，5)就是按照次序相互嵌套，最里层的是5个element."
   ]
  },
  {
   "cell_type": "markdown",
   "metadata": {},
   "source": [
    "## np.reshape\n",
    "np.reshape( )=ndarray.reshape( )\n",
    "<br>用上面ndarray的数据"
   ]
  },
  {
   "cell_type": "code",
   "execution_count": 33,
   "metadata": {},
   "outputs": [
    {
     "data": {
      "text/plain": [
       "array([[2, 3, 0, 3, 2, 0, 4, 8, 2, 5, 3, 5, 2, 0, 5, 1, 3, 9, 2, 9, 6, 3,\n",
       "        4, 5, 8, 9, 5, 7, 8, 6, 2, 3, 2, 5, 4, 8, 3, 6, 1, 6, 2, 4, 5, 2,\n",
       "        7, 0, 6, 0, 4, 7, 7, 2, 3, 3, 6, 2, 3, 8, 9, 7],\n",
       "       [0, 3, 1, 1, 5, 2, 2, 8, 9, 8, 5, 0, 9, 7, 4, 5, 0, 4, 4, 2, 0, 2,\n",
       "        3, 7, 5, 4, 4, 9, 0, 3, 4, 8, 2, 7, 8, 1, 3, 8, 4, 6, 0, 7, 7, 9,\n",
       "        1, 8, 3, 1, 9, 6, 8, 9, 1, 0, 0, 5, 2, 3, 3, 0]])"
      ]
     },
     "execution_count": 33,
     "metadata": {},
     "output_type": "execute_result"
    }
   ],
   "source": [
    "sample_data.reshape(2,-1)\n",
    "\n",
    "# -1 表示dimension根据情况自动计算. \n",
    "\n",
    "# reshape的排列顺序就是按照最里层的开始，按照次序一个一个对堆叠. Nothing sepecial."
   ]
  },
  {
   "cell_type": "markdown",
   "metadata": {},
   "source": [
    "# Summation"
   ]
  },
  {
   "cell_type": "code",
   "execution_count": 6,
   "metadata": {},
   "outputs": [
    {
     "data": {
      "text/plain": [
       "array([[0, 0, 0],\n",
       "       [0, 1, 0],\n",
       "       [0, 2, 0],\n",
       "       [1, 0, 0],\n",
       "       [1, 1, 0]])"
      ]
     },
     "execution_count": 6,
     "metadata": {},
     "output_type": "execute_result"
    }
   ],
   "source": [
    "a=np.array([[0, 0, 0],\n",
    "       [0, 1, 0],\n",
    "       [0, 2, 0],\n",
    "       [1, 0, 0],\n",
    "       [1, 1, 0]])\n",
    "a"
   ]
  },
  {
   "cell_type": "code",
   "execution_count": 7,
   "metadata": {},
   "outputs": [
    {
     "data": {
      "text/plain": [
       "6"
      ]
     },
     "execution_count": 7,
     "metadata": {},
     "output_type": "execute_result"
    }
   ],
   "source": [
    "np.sum(a)"
   ]
  },
  {
   "cell_type": "code",
   "execution_count": 9,
   "metadata": {},
   "outputs": [
    {
     "data": {
      "text/plain": [
       "array([0, 1, 2, 1, 2])"
      ]
     },
     "execution_count": 9,
     "metadata": {},
     "output_type": "execute_result"
    }
   ],
   "source": [
    "np.sum(a,axis=1)"
   ]
  },
  {
   "cell_type": "code",
   "execution_count": 10,
   "metadata": {},
   "outputs": [
    {
     "data": {
      "text/plain": [
       "array([[0],\n",
       "       [1],\n",
       "       [2],\n",
       "       [1],\n",
       "       [2]])"
      ]
     },
     "execution_count": 10,
     "metadata": {},
     "output_type": "execute_result"
    }
   ],
   "source": [
    "np.sum(a, keepdims=True,axis=1)"
   ]
  },
  {
   "cell_type": "code",
   "execution_count": 14,
   "metadata": {},
   "outputs": [
    {
     "data": {
      "text/plain": [
       "array([2, 4, 0])"
      ]
     },
     "execution_count": 14,
     "metadata": {},
     "output_type": "execute_result"
    }
   ],
   "source": [
    "np.sum(a,axis=0)"
   ]
  },
  {
   "cell_type": "code",
   "execution_count": 17,
   "metadata": {},
   "outputs": [
    {
     "data": {
      "text/plain": [
       "array([[2, 4, 0]])"
      ]
     },
     "execution_count": 17,
     "metadata": {},
     "output_type": "execute_result"
    }
   ],
   "source": [
    "np.sum(a, keepdims=True,axis=0)"
   ]
  },
  {
   "cell_type": "code",
   "execution_count": 15,
   "metadata": {},
   "outputs": [
    {
     "data": {
      "text/plain": [
       "(1, 3)"
      ]
     },
     "execution_count": 15,
     "metadata": {},
     "output_type": "execute_result"
    }
   ],
   "source": [
    "np.shape(np.sum(a, keepdims=True,axis=0))"
   ]
  },
  {
   "cell_type": "markdown",
   "metadata": {},
   "source": [
    "# Production"
   ]
  },
  {
   "cell_type": "markdown",
   "metadata": {},
   "source": [
    "## np.dot\n",
    "若是数据是array形式，then this is normal matrix multiplication."
   ]
  },
  {
   "cell_type": "code",
   "execution_count": 35,
   "metadata": {
    "collapsed": true
   },
   "outputs": [],
   "source": [
    "import numpy as np"
   ]
  },
  {
   "cell_type": "code",
   "execution_count": 53,
   "metadata": {},
   "outputs": [
    {
     "name": "stdout",
     "output_type": "stream",
     "text": [
      "a:  [[4 7]]\n",
      "b:  [[1 9]]\n"
     ]
    }
   ],
   "source": [
    "a = np.random.randint(0,10,(1,2))\n",
    "print('a: ',a)\n",
    "b = np.random.randint(0,10,(1,2))\n",
    "print('b: ',b)"
   ]
  },
  {
   "cell_type": "code",
   "execution_count": 54,
   "metadata": {},
   "outputs": [
    {
     "name": "stdout",
     "output_type": "stream",
     "text": [
      "[[ 4 36]\n",
      " [ 7 63]]\n"
     ]
    }
   ],
   "source": [
    "dot_prod = np.dot(a.T,b)\n",
    "print(dot_prod)"
   ]
  },
  {
   "cell_type": "markdown",
   "metadata": {},
   "source": [
    "**若数据是list形式，则不用转置.**"
   ]
  },
  {
   "cell_type": "code",
   "execution_count": 62,
   "metadata": {},
   "outputs": [
    {
     "name": "stdout",
     "output_type": "stream",
     "text": [
      "\n",
      "dot = 278\n",
      " ----- Computation time = 0.09199999999998099ms\n",
      "\n",
      "\n",
      "outer = [[81 18 18 81  0 81 18 45  0  0 81 18 45  0  0]\n",
      " [18  4  4 18  0 18  4 10  0  0 18  4 10  0  0]\n",
      " [45 10 10 45  0 45 10 25  0  0 45 10 25  0  0]\n",
      " [ 0  0  0  0  0  0  0  0  0  0  0  0  0  0  0]\n",
      " [ 0  0  0  0  0  0  0  0  0  0  0  0  0  0  0]\n",
      " [63 14 14 63  0 63 14 35  0  0 63 14 35  0  0]\n",
      " [45 10 10 45  0 45 10 25  0  0 45 10 25  0  0]\n",
      " [ 0  0  0  0  0  0  0  0  0  0  0  0  0  0  0]\n",
      " [ 0  0  0  0  0  0  0  0  0  0  0  0  0  0  0]\n",
      " [ 0  0  0  0  0  0  0  0  0  0  0  0  0  0  0]\n",
      " [81 18 18 81  0 81 18 45  0  0 81 18 45  0  0]\n",
      " [18  4  4 18  0 18  4 10  0  0 18  4 10  0  0]\n",
      " [45 10 10 45  0 45 10 25  0  0 45 10 25  0  0]\n",
      " [ 0  0  0  0  0  0  0  0  0  0  0  0  0  0  0]\n",
      " [ 0  0  0  0  0  0  0  0  0  0  0  0  0  0  0]]\n",
      " ----- Computation time = 0.11899999999975819ms\n",
      "\n",
      "\n",
      "elementwise multiplication = [81  4 10  0  0 63 10  0  0  0 81  4 25  0  0]\n",
      " ----- Computation time = 0.16700000000025028ms\n",
      "\n"
     ]
    }
   ],
   "source": [
    "x1 = [9, 2, 5, 0, 0, 7, 5, 0, 0, 0, 9, 2, 5, 0, 0]\n",
    "x2 = [9, 2, 2, 9, 0, 9, 2, 5, 0, 0, 9, 2, 5, 0, 0]\n",
    "\n",
    "### VECTORIZED DOT PRODUCT OF VECTORS ###\n",
    "tic = time.process_time()\n",
    "dot = np.dot(x1,x2)\n",
    "toc = time.process_time()\n",
    "print (\"\\ndot = \" + str(dot) + \"\\n ----- Computation time = \" + str(1000*(toc - tic)) + \"ms\\n\")\n",
    "\n",
    "### VECTORIZED OUTER PRODUCT ###\n",
    "tic = time.process_time()\n",
    "outer = np.outer(x1,x2)\n",
    "toc = time.process_time()\n",
    "print (\"\\nouter = \" + str(outer) + \"\\n ----- Computation time = \" + str(1000*(toc - tic)) + \"ms\\n\")\n",
    "\n",
    "### VECTORIZED ELEMENTWISE MULTIPLICATION ###\n",
    "tic = time.process_time()\n",
    "mul = np.multiply(x1,x2)\n",
    "toc = time.process_time()\n",
    "print (\"\\nelementwise multiplication = \" + str(mul) + \"\\n ----- Computation time = \" + str(1000*(toc - tic)) + \"ms\\n\")"
   ]
  },
  {
   "cell_type": "markdown",
   "metadata": {},
   "source": [
    "# Vectorization"
   ]
  },
  {
   "cell_type": "markdown",
   "metadata": {},
   "source": [
    "## Product of vectors"
   ]
  },
  {
   "cell_type": "code",
   "execution_count": 2,
   "metadata": {},
   "outputs": [
    {
     "name": "stdout",
     "output_type": "stream",
     "text": [
      "a:\n",
      " [ 0.77995441  0.12196738  0.87082693 ...,  0.00808     0.70840525\n",
      "  0.41778966]\n",
      "\n",
      "Type of a is <class 'numpy.ndarray'>\n",
      "\n",
      "b:\n",
      " [ 0.96921684  0.97355159  0.95395174 ...,  0.10123722  0.83658746\n",
      "  0.19243381]\n"
     ]
    }
   ],
   "source": [
    "a=np.random.rand(10000)\n",
    "b= np.random.rand(10000)\n",
    "print('a:\\n',a)\n",
    "print('\\nType of a is',type(a))\n",
    "print('\\nb:\\n',b)"
   ]
  },
  {
   "cell_type": "code",
   "execution_count": 3,
   "metadata": {},
   "outputs": [
    {
     "name": "stdout",
     "output_type": "stream",
     "text": [
      "Vectorization product takes 5.850791931152344 ms\n"
     ]
    }
   ],
   "source": [
    "tic = time.time()\n",
    "c = np.dot(a,b)\n",
    "toc= time.time()\n",
    "print('Vectorization product takes '+str(1000*(toc-tic))+' ms')"
   ]
  },
  {
   "cell_type": "markdown",
   "metadata": {},
   "source": [
    "# Broadcast"
   ]
  },
  {
   "cell_type": "code",
   "execution_count": 36,
   "metadata": {},
   "outputs": [
    {
     "data": {
      "text/plain": [
       "array([[2, 3, 4, 5],\n",
       "       [9, 4, 2, 5]])"
      ]
     },
     "execution_count": 36,
     "metadata": {},
     "output_type": "execute_result"
    }
   ],
   "source": [
    "b= np.array([[2,3,4,5],[9,4,2,5]])\n",
    "b"
   ]
  },
  {
   "cell_type": "code",
   "execution_count": 42,
   "metadata": {},
   "outputs": [
    {
     "name": "stdout",
     "output_type": "stream",
     "text": [
      "c is:\n",
      " [[102 103 104 105]\n",
      " [109 104 102 105]]\n"
     ]
    }
   ],
   "source": [
    "c=b+100\n",
    "print('c is:\\n',c)\n"
   ]
  },
  {
   "cell_type": "code",
   "execution_count": null,
   "metadata": {
    "collapsed": true
   },
   "outputs": [],
   "source": []
  }
 ],
 "metadata": {
  "kernelspec": {
   "display_name": "Python 3",
   "language": "python",
   "name": "python3"
  },
  "language_info": {
   "codemirror_mode": {
    "name": "ipython",
    "version": 3
   },
   "file_extension": ".py",
   "mimetype": "text/x-python",
   "name": "python",
   "nbconvert_exporter": "python",
   "pygments_lexer": "ipython3",
   "version": "3.6.5"
  },
  "toc": {
   "base_numbering": 1,
   "nav_menu": {},
   "number_sections": true,
   "sideBar": true,
   "skip_h1_title": false,
   "title_cell": "Table of Contents",
   "title_sidebar": "Contents",
   "toc_cell": false,
   "toc_position": {},
   "toc_section_display": "block",
   "toc_window_display": true
  }
 },
 "nbformat": 4,
 "nbformat_minor": 2
}
