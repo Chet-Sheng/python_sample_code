{
 "cells": [
  {
   "cell_type": "markdown",
   "metadata": {
    "toc": true
   },
   "source": [
    "<h1>Table of Contents<span class=\"tocSkip\"></span></h1>\n",
    "<div class=\"toc\"><ul class=\"toc-item\"><li><span><a href=\"#List\" data-toc-modified-id=\"List-1\"><span class=\"toc-item-num\">1&nbsp;&nbsp;</span>List</a></span></li><li><span><a href=\"#Tuples\" data-toc-modified-id=\"Tuples-2\"><span class=\"toc-item-num\">2&nbsp;&nbsp;</span>Tuples</a></span></li><li><span><a href=\"#Dictionary-/-MAP\" data-toc-modified-id=\"Dictionary-/-MAP-3\"><span class=\"toc-item-num\">3&nbsp;&nbsp;</span>Dictionary / MAP</a></span><ul class=\"toc-item\"><li><span><a href=\"#Defaultdict\" data-toc-modified-id=\"Defaultdict-3.1\"><span class=\"toc-item-num\">3.1&nbsp;&nbsp;</span>Defaultdict</a></span><ul class=\"toc-item\"><li><span><a href=\"#defaultdict-for-refering\" data-toc-modified-id=\"defaultdict-for-refering-3.1.1\"><span class=\"toc-item-num\">3.1.1&nbsp;&nbsp;</span>defaultdict for refering</a></span></li><li><span><a href=\"#defaultdict-for-counting\" data-toc-modified-id=\"defaultdict-for-counting-3.1.2\"><span class=\"toc-item-num\">3.1.2&nbsp;&nbsp;</span>defaultdict for counting</a></span></li><li><span><a href=\"#defaultdict-for-listing\" data-toc-modified-id=\"defaultdict-for-listing-3.1.3\"><span class=\"toc-item-num\">3.1.3&nbsp;&nbsp;</span>defaultdict for listing</a></span></li></ul></li></ul></li><li><span><a href=\"#If-else-Statement\" data-toc-modified-id=\"If-else-Statement-4\"><span class=\"toc-item-num\">4&nbsp;&nbsp;</span>If else Statement</a></span></li><li><span><a href=\"#For-Loops\" data-toc-modified-id=\"For-Loops-5\"><span class=\"toc-item-num\">5&nbsp;&nbsp;</span>For Loops</a></span><ul class=\"toc-item\"><li><span><a href=\"#tqdm-in-For-Loop\" data-toc-modified-id=\"tqdm-in-For-Loop-5.1\"><span class=\"toc-item-num\">5.1&nbsp;&nbsp;</span>tqdm in For Loop</a></span></li><li><span><a href=\"#Enumerate\" data-toc-modified-id=\"Enumerate-5.2\"><span class=\"toc-item-num\">5.2&nbsp;&nbsp;</span>Enumerate</a></span></li></ul></li><li><span><a href=\"#While-Loops\" data-toc-modified-id=\"While-Loops-6\"><span class=\"toc-item-num\">6&nbsp;&nbsp;</span>While Loops</a></span></li><li><span><a href=\"#Functions\" data-toc-modified-id=\"Functions-7\"><span class=\"toc-item-num\">7&nbsp;&nbsp;</span>Functions</a></span></li><li><span><a href=\"#User-Input\" data-toc-modified-id=\"User-Input-8\"><span class=\"toc-item-num\">8&nbsp;&nbsp;</span>User Input</a></span></li><li><span><a href=\"#Strings\" data-toc-modified-id=\"Strings-9\"><span class=\"toc-item-num\">9&nbsp;&nbsp;</span>Strings</a></span><ul class=\"toc-item\"><li><span><a href=\"#String-Formatting\" data-toc-modified-id=\"String-Formatting-9.1\"><span class=\"toc-item-num\">9.1&nbsp;&nbsp;</span>String Formatting</a></span></li><li><span><a href=\"#String-Attribute\" data-toc-modified-id=\"String-Attribute-9.2\"><span class=\"toc-item-num\">9.2&nbsp;&nbsp;</span>String Attribute</a></span></li><li><span><a href=\"#Examples\" data-toc-modified-id=\"Examples-9.3\"><span class=\"toc-item-num\">9.3&nbsp;&nbsp;</span>Examples</a></span><ul class=\"toc-item\"><li><span><a href=\"#Naming-File\" data-toc-modified-id=\"Naming-File-9.3.1\"><span class=\"toc-item-num\">9.3.1&nbsp;&nbsp;</span>Naming File</a></span></li><li><span><a href=\"#Print-out\" data-toc-modified-id=\"Print-out-9.3.2\"><span class=\"toc-item-num\">9.3.2&nbsp;&nbsp;</span>Print out</a></span></li></ul></li></ul></li><li><span><a href=\"#File-I/O\" data-toc-modified-id=\"File-I/O-10\"><span class=\"toc-item-num\">10&nbsp;&nbsp;</span>File I/O</a></span><ul class=\"toc-item\"><li><span><a href=\"#Path\" data-toc-modified-id=\"Path-10.1\"><span class=\"toc-item-num\">10.1&nbsp;&nbsp;</span>Path</a></span></li><li><span><a href=\"#Multiple-Files\" data-toc-modified-id=\"Multiple-Files-10.2\"><span class=\"toc-item-num\">10.2&nbsp;&nbsp;</span>Multiple Files</a></span></li><li><span><a href=\"#Pickle-Save-&amp;-Load\" data-toc-modified-id=\"Pickle-Save-&amp;-Load-10.3\"><span class=\"toc-item-num\">10.3&nbsp;&nbsp;</span>Pickle Save &amp; Load</a></span></li></ul></li><li><span><a href=\"#Classes-and-Objects\" data-toc-modified-id=\"Classes-and-Objects-11\"><span class=\"toc-item-num\">11&nbsp;&nbsp;</span>Classes and Objects</a></span><ul class=\"toc-item\"><li><span><a href=\"#Scopes-and-Namespaces-Example\" data-toc-modified-id=\"Scopes-and-Namespaces-Example-11.1\"><span class=\"toc-item-num\">11.1&nbsp;&nbsp;</span>Scopes and Namespaces Example</a></span></li><li><span><a href=\"#Constructor\" data-toc-modified-id=\"Constructor-11.2\"><span class=\"toc-item-num\">11.2&nbsp;&nbsp;</span>Constructor</a></span></li><li><span><a href=\"#Explanation\" data-toc-modified-id=\"Explanation-11.3\"><span class=\"toc-item-num\">11.3&nbsp;&nbsp;</span>Explanation</a></span></li><li><span><a href=\"#Decorator\" data-toc-modified-id=\"Decorator-11.4\"><span class=\"toc-item-num\">11.4&nbsp;&nbsp;</span>Decorator</a></span></li><li><span><a href=\"#Example\" data-toc-modified-id=\"Example-11.5\"><span class=\"toc-item-num\">11.5&nbsp;&nbsp;</span>Example</a></span></li><li><span><a href=\"#__slots__\" data-toc-modified-id=\"__slots__-11.6\"><span class=\"toc-item-num\">11.6&nbsp;&nbsp;</span>__slots__</a></span></li></ul></li><li><span><a href=\"#Inheritance\" data-toc-modified-id=\"Inheritance-12\"><span class=\"toc-item-num\">12&nbsp;&nbsp;</span>Inheritance</a></span><ul class=\"toc-item\"><li><span><a href=\"#Example\" data-toc-modified-id=\"Example-12.1\"><span class=\"toc-item-num\">12.1&nbsp;&nbsp;</span>Example</a></span></li></ul></li><li><span><a href=\"#Terminal\" data-toc-modified-id=\"Terminal-13\"><span class=\"toc-item-num\">13&nbsp;&nbsp;</span>Terminal</a></span></li></ul></div>"
   ]
  },
  {
   "cell_type": "markdown",
   "metadata": {},
   "source": [
    "table of content setting: http://jupyter-contrib-nbextensions.readthedocs.io/en/latest/nbextensions/toc2/README.html"
   ]
  },
  {
   "cell_type": "markdown",
   "metadata": {},
   "source": [
    "# List\n",
    "- A list allows you to create a list of values and manipulate them\n",
    "- Each value has an index with the first one starting at 0"
   ]
  },
  {
   "cell_type": "code",
   "execution_count": 1,
   "metadata": {},
   "outputs": [
    {
     "name": "stdout",
     "output_type": "stream",
     "text": [
      "The first item is Tomatoes\n",
      "['Green Juice', 'Tomatoes', 'Potatoes', 'Bananas']\n"
     ]
    }
   ],
   "source": [
    "# LISTS -----------------------------------------------------------\n",
    "\n",
    "grocery_list = ['Juice', 'Tomatoes', 'Potatoes', 'Bananas']\n",
    "print('The first item is', grocery_list[1])\n",
    "\n",
    "# You can change the value stored in a list box\n",
    "grocery_list[0] = \"Green Juice\"\n",
    "print(grocery_list)"
   ]
  },
  {
   "cell_type": "code",
   "execution_count": 2,
   "metadata": {},
   "outputs": [
    {
     "name": "stdout",
     "output_type": "stream",
     "text": [
      "['Tomatoes', 'Potatoes']\n",
      "[['Wash Car', 'Pick up Kids', 'Cash Check'], ['Green Juice', 'Tomatoes', 'Potatoes', 'Bananas']]\n",
      "Tomatoes\n",
      "[['Wash Car', 'Pick up Kids', 'Cash Check'], ['Green Juice', 'Tomatoes', 'Potatoes', 'Bananas', 'onions']]\n",
      "[['Wash Car', 'Pick up Kids', 'Cash Check'], ['onions', 'Tomatoes', 'Potatoes', 'Green Juice']]\n",
      "['Wash Car', 'Pick up Kids', 'Cash Check', 'onions', 'Tomatoes', 'Potatoes', 'Green Juice']\n",
      "7\n",
      "onions\n",
      "Cash Check\n"
     ]
    }
   ],
   "source": [
    "# You can get a subset of the list with [min:up to but not including max]\n",
    "\n",
    "print(grocery_list[1:3])\n",
    "\n",
    "# You can put any data type in a a list including a list\n",
    "other_events = ['Wash Car', 'Pick up Kids', 'Cash Check']\n",
    "to_do_list = [other_events, grocery_list]\n",
    "\n",
    "print(to_do_list)\n",
    "\n",
    "# Get the second item in the second list (Boxes inside of boxes)\n",
    "print(to_do_list[1][1])\n",
    "\n",
    "# You add values using append\n",
    "grocery_list.append('onions')\n",
    "print(to_do_list)\n",
    "\n",
    "# Insert item at given index\n",
    "grocery_list.insert(1, \"Pickle\")\n",
    "\n",
    "# Remove item from list\n",
    "grocery_list.remove(\"Pickle\")\n",
    "\n",
    "# Sorts items in list\n",
    "grocery_list.sort()\n",
    "\n",
    "# Reverse sort items in list\n",
    "grocery_list.reverse()\n",
    "\n",
    "# del deletes an item at specified index\n",
    "del grocery_list[4]\n",
    "print(to_do_list)\n",
    "\n",
    "# We can combine lists with a +\n",
    "to_do_list = other_events + grocery_list\n",
    "print(to_do_list)\n",
    "\n",
    "# Get length of list\n",
    "print(len(to_do_list))\n",
    "\n",
    "# Get the max item in list\n",
    "print(max(to_do_list))\n",
    "\n",
    "# Get the minimum item in list\n",
    "print(min(to_do_list))"
   ]
  },
  {
   "cell_type": "markdown",
   "metadata": {},
   "source": [
    "# Tuples\n",
    "Value in a tuple can't change like lists. Kind of store only?"
   ]
  },
  {
   "cell_type": "code",
   "execution_count": 12,
   "metadata": {},
   "outputs": [
    {
     "name": "stdout",
     "output_type": "stream",
     "text": [
      "(3, 1, 4, 1, 5, 9)\n",
      "[3, 1, 4, 1, 5, 9]\n",
      "('onions', 'Tomatoes', 'Potatoes', 'Green Juice')\n",
      "len(tuple): 6\n",
      "min(tuple): 1\n",
      "max(tuple): 9\n"
     ]
    }
   ],
   "source": [
    "# TUPLES -------------\n",
    "# Values in a tuple can't change like lists\n",
    "\n",
    "pi_tuple = (3, 1, 4, 1, 5, 9)\n",
    "print(pi_tuple)\n",
    "\n",
    "# Convert tuple into a list\n",
    "new_tuple = list(pi_tuple)\n",
    "print(new_tuple)\n",
    "\n",
    "# Convert a list into a tuple\n",
    "new_list = tuple(grocery_list)\n",
    "print(new_list)\n",
    "\n",
    "# tuples also have len(tuple), min(tuple) and max(tuple)\n",
    "print('len(tuple):',len(pi_tuple))\n",
    "print('min(tuple):',min(pi_tuple))\n",
    "print('max(tuple):',max(pi_tuple))"
   ]
  },
  {
   "cell_type": "code",
   "execution_count": 2,
   "metadata": {
    "collapsed": true
   },
   "outputs": [],
   "source": [
    "arrays = [['bar', 'bar', 'baz', 'baz', 'foo', 'foo', 'qux', 'qux'],\\\n",
    "          ['one', 'two', 'one', 'two', 'one', 'two', 'one', 'two']]"
   ]
  },
  {
   "cell_type": "code",
   "execution_count": 7,
   "metadata": {},
   "outputs": [
    {
     "data": {
      "text/plain": [
       "[(['bar', 'bar', 'baz', 'baz', 'foo', 'foo', 'qux', 'qux'],),\n",
       " (['one', 'two', 'one', 'two', 'one', 'two', 'one', 'two'],)]"
      ]
     },
     "execution_count": 7,
     "metadata": {},
     "output_type": "execute_result"
    }
   ],
   "source": [
    "list(zip(arrays))"
   ]
  },
  {
   "cell_type": "code",
   "execution_count": 6,
   "metadata": {},
   "outputs": [
    {
     "data": {
      "text/plain": [
       "[('bar', 'one'),\n",
       " ('bar', 'two'),\n",
       " ('baz', 'one'),\n",
       " ('baz', 'two'),\n",
       " ('foo', 'one'),\n",
       " ('foo', 'two'),\n",
       " ('qux', 'one'),\n",
       " ('qux', 'two')]"
      ]
     },
     "execution_count": 6,
     "metadata": {},
     "output_type": "execute_result"
    }
   ],
   "source": [
    "list(zip(*arrays))"
   ]
  },
  {
   "cell_type": "markdown",
   "metadata": {},
   "source": [
    "# Dictionary / MAP\n",
    "- Made up of values with a unique key for each value\n",
    "- Similar to lists, but you can't join dicts with a +\n",
    "\n",
    "Items **before colon** is the key (referer); Items **after colon** is the result (value)."
   ]
  },
  {
   "cell_type": "code",
   "execution_count": 13,
   "metadata": {},
   "outputs": [
    {
     "name": "stdout",
     "output_type": "stream",
     "text": [
      "Leonard Snart\n",
      "{'Captain Cold': 'Leonard Snart', 'Weather Wizard': 'Mark Mardon', 'Mirror Master': 'Sam Scudder', 'Pied Piper': 'Thomas Peterson'}\n",
      "4\n"
     ]
    }
   ],
   "source": [
    "# DICTIONARY or MAP -------------\n",
    "\n",
    "super_villains = {'Fiddler' : 'Isaac Bowin',\n",
    "                  'Captain Cold' : 'Leonard Snart',\n",
    "                  'Weather Wizard' : 'Mark Mardon',\n",
    "                  'Mirror Master' : 'Sam Scudder',\n",
    "                  'Pied Piper' : 'Thomas Peterson'}\n",
    "\n",
    "print(super_villains['Captain Cold'])\n",
    "\n",
    "# Delete an entry\n",
    "del super_villains['Fiddler']\n",
    "print(super_villains)\n",
    "\n",
    "# Replace a value\n",
    "super_villains['Pied Piper'] = 'Hartley Rathaway'\n",
    "\n",
    "# Print the number of items in the dictionary\n",
    "print(len(super_villains))"
   ]
  },
  {
   "cell_type": "markdown",
   "metadata": {},
   "source": [
    "**Call Values:**"
   ]
  },
  {
   "cell_type": "code",
   "execution_count": 14,
   "metadata": {},
   "outputs": [
    {
     "name": "stdout",
     "output_type": "stream",
     "text": [
      "Hartley Rathaway\n",
      "Hartley Rathaway\n",
      "dict_keys(['Captain Cold', 'Weather Wizard', 'Mirror Master', 'Pied Piper'])\n",
      "dict_values(['Leonard Snart', 'Mark Mardon', 'Sam Scudder', 'Hartley Rathaway'])\n"
     ]
    }
   ],
   "source": [
    "# Get the value for the passed key\n",
    "print(super_villains.get('Pied Piper'))\n",
    "# or \n",
    "print(super_villains['Pied Piper'])\n",
    "\n",
    "# Get a list of dictionary keys\n",
    "print(super_villains.keys())\n",
    "\n",
    "# Get a list of dictionary values\n",
    "print(super_villains.values())"
   ]
  },
  {
   "cell_type": "code",
   "execution_count": 4,
   "metadata": {},
   "outputs": [
    {
     "data": {
      "text/plain": [
       "{(0, 0): 1, (0, 1): 2, (1, 0): 3, (1, 1): 4}"
      ]
     },
     "execution_count": 4,
     "metadata": {},
     "output_type": "execute_result"
    }
   ],
   "source": [
    "a = dict()\n",
    "a[0,0]=1\n",
    "a[0,1]=2\n",
    "a[1,0]=3\n",
    "a[1,1]=4\n",
    "a"
   ]
  },
  {
   "cell_type": "markdown",
   "metadata": {},
   "source": [
    "## Defaultdict\n",
    "- A defaultdict works exactly like a normal dict;\n",
    "- But it is initialized with a function (“default factory”) that takes no arguments and provides the default value for a nonexistent key.\n",
    "- 所以defaultdict的好处就是可以给dict设置value的初始默认值\n",
    "- 要保证defaultdict()括号里面的是callable的"
   ]
  },
  {
   "cell_type": "markdown",
   "metadata": {},
   "source": [
    "### defaultdict for refering\n",
    "定义默认值后, 没有key也可以call, 不会报错."
   ]
  },
  {
   "cell_type": "code",
   "execution_count": 2,
   "metadata": {
    "collapsed": true
   },
   "outputs": [],
   "source": [
    "from collections import defaultdict"
   ]
  },
  {
   "cell_type": "code",
   "execution_count": 3,
   "metadata": {},
   "outputs": [
    {
     "name": "stdout",
     "output_type": "stream",
     "text": [
      "Chunky Monkey\n"
     ]
    }
   ],
   "source": [
    "# assign values to non-available keys:\n",
    "ice_cream = defaultdict(lambda: 'Vanilla') # anonymous functions always return 'Vanilla'\n",
    "\n",
    "ice_cream['Sarah'] = 'Chunky Monkey'\n",
    "ice_cream['Abdul'] = 'Butter Pecan'\n",
    "print(ice_cream['Sarah'])"
   ]
  },
  {
   "cell_type": "code",
   "execution_count": 4,
   "metadata": {},
   "outputs": [
    {
     "data": {
      "text/plain": [
       "'Vanilla'"
      ]
     },
     "execution_count": 4,
     "metadata": {},
     "output_type": "execute_result"
    }
   ],
   "source": [
    "# in this case, any non-available keys would have value 'Vanilla'\n",
    "ice_cream['Any Non-available Keys']"
   ]
  },
  {
   "cell_type": "code",
   "execution_count": 43,
   "metadata": {},
   "outputs": [
    {
     "ename": "TypeError",
     "evalue": "first argument must be callable or None",
     "output_type": "error",
     "traceback": [
      "\u001b[0;31m---------------------------------------------------------------------------\u001b[0m",
      "\u001b[0;31mTypeError\u001b[0m                                 Traceback (most recent call last)",
      "\u001b[0;32m<ipython-input-43-814c6b658167>\u001b[0m in \u001b[0;36m<module>\u001b[0;34m()\u001b[0m\n\u001b[0;32m----> 1\u001b[0;31m \u001b[0mtest_2\u001b[0m\u001b[0;34m=\u001b[0m\u001b[0mdefaultdict\u001b[0m\u001b[0;34m(\u001b[0m\u001b[0;36m1\u001b[0m\u001b[0;34m)\u001b[0m\u001b[0;34m\u001b[0m\u001b[0m\n\u001b[0m\u001b[1;32m      2\u001b[0m \u001b[0mtest_2\u001b[0m\u001b[0;34m[\u001b[0m\u001b[0;34m'2'\u001b[0m\u001b[0;34m]\u001b[0m\u001b[0;34m\u001b[0m\u001b[0m\n\u001b[1;32m      3\u001b[0m \u001b[0;34m\u001b[0m\u001b[0m\n\u001b[1;32m      4\u001b[0m \u001b[0;31m# Errors. Therefore, we need the argument to be callable.\u001b[0m\u001b[0;34m\u001b[0m\u001b[0;34m\u001b[0m\u001b[0m\n",
      "\u001b[0;31mTypeError\u001b[0m: first argument must be callable or None"
     ]
    }
   ],
   "source": [
    "test_2=defaultdict(1)\n",
    "test_2['2']\n",
    "\n",
    "# Errors. Therefore, we need the argument to be callable."
   ]
  },
  {
   "cell_type": "code",
   "execution_count": 72,
   "metadata": {},
   "outputs": [
    {
     "data": {
      "text/plain": [
       "True"
      ]
     },
     "execution_count": 72,
     "metadata": {},
     "output_type": "execute_result"
    }
   ],
   "source": [
    "# int is callable\n",
    "callable(int)"
   ]
  },
  {
   "cell_type": "code",
   "execution_count": 73,
   "metadata": {},
   "outputs": [
    {
     "data": {
      "text/plain": [
       "0"
      ]
     },
     "execution_count": 73,
     "metadata": {},
     "output_type": "execute_result"
    }
   ],
   "source": [
    "# int itself is a function\n",
    "int()"
   ]
  },
  {
   "cell_type": "markdown",
   "metadata": {},
   "source": [
    "### defaultdict for counting\n",
    "**用来数数**\n",
    "\n",
    "**In the following example, a defaultdict is used for counting. **\n",
    "- The default factory is int, which in turn has a default value of zero. (Note: “lambda: 0″ would also work in this situation). \n",
    "- For each food in the list, the value is incremented by one where the key is the food. \n",
    "- We do not need to make sure the food is already a key – it will use the default value of zero."
   ]
  },
  {
   "cell_type": "code",
   "execution_count": 50,
   "metadata": {},
   "outputs": [
    {
     "data": {
      "text/plain": [
       "['spam', 'spam', 'spam', 'spam', 'spam', 'spam', 'eggs', 'spam']"
      ]
     },
     "execution_count": 50,
     "metadata": {},
     "output_type": "execute_result"
    }
   ],
   "source": [
    "food_list = 'spam spam spam spam spam spam eggs spam'.split()\n",
    "food_list"
   ]
  },
  {
   "cell_type": "code",
   "execution_count": 51,
   "metadata": {},
   "outputs": [
    {
     "data": {
      "text/plain": [
       "defaultdict(int, {})"
      ]
     },
     "execution_count": 51,
     "metadata": {},
     "output_type": "execute_result"
    }
   ],
   "source": [
    "food_count = defaultdict(int) # default value of int is 0\n",
    "food_count"
   ]
  },
  {
   "cell_type": "code",
   "execution_count": 52,
   "metadata": {
    "collapsed": true
   },
   "outputs": [],
   "source": [
    "for food in food_list:\n",
    "    food_count[food] += 1 # increment element's value by 1"
   ]
  },
  {
   "cell_type": "code",
   "execution_count": 53,
   "metadata": {},
   "outputs": [
    {
     "data": {
      "text/plain": [
       "defaultdict(int, {'spam': 7, 'eggs': 1})"
      ]
     },
     "execution_count": 53,
     "metadata": {},
     "output_type": "execute_result"
    }
   ],
   "source": [
    "food_count"
   ]
  },
  {
   "cell_type": "markdown",
   "metadata": {},
   "source": [
    "### defaultdict for listing\n",
    "**算是用来分类吧**\n",
    "\n",
    "**In the next example, we start with a list of states and cities.**\n",
    "- We want to build a dictionary where the keys are the state abbreviations and the values are lists of all cities for that state. \n",
    "- To build this dictionary of lists, we use a defaultdict with a default factory of list. \n",
    "- A new list is created for each new key."
   ]
  },
  {
   "cell_type": "code",
   "execution_count": 55,
   "metadata": {
    "scrolled": false
   },
   "outputs": [
    {
     "data": {
      "text/plain": [
       "[('TX', 'Austin'),\n",
       " ('TX', 'Houston'),\n",
       " ('NY', 'Albany'),\n",
       " ('NY', 'Syracuse'),\n",
       " ('NY', 'Buffalo'),\n",
       " ('NY', 'Rochester'),\n",
       " ('TX', 'Dallas'),\n",
       " ('CA', 'Sacramento'),\n",
       " ('CA', 'Palo Alto'),\n",
       " ('GA', 'Atlanta')]"
      ]
     },
     "execution_count": 55,
     "metadata": {},
     "output_type": "execute_result"
    }
   ],
   "source": [
    "city_list = [('TX','Austin'), ('TX','Houston'), ('NY','Albany'), ('NY', 'Syracuse'), ('NY', 'Buffalo'), \n",
    "        ('NY', 'Rochester'), ('TX', 'Dallas'), ('CA','Sacramento'), ('CA', 'Palo Alto'), ('GA', 'Atlanta')]\n",
    "city_list"
   ]
  },
  {
   "cell_type": "code",
   "execution_count": 67,
   "metadata": {},
   "outputs": [
    {
     "data": {
      "text/plain": [
       "True"
      ]
     },
     "execution_count": 67,
     "metadata": {},
     "output_type": "execute_result"
    }
   ],
   "source": [
    "# list is callable\n",
    "callable(list)"
   ]
  },
  {
   "cell_type": "code",
   "execution_count": 68,
   "metadata": {},
   "outputs": [
    {
     "data": {
      "text/plain": [
       "[]"
      ]
     },
     "execution_count": 68,
     "metadata": {},
     "output_type": "execute_result"
    }
   ],
   "source": [
    "# list itself is a function\n",
    "list()"
   ]
  },
  {
   "cell_type": "code",
   "execution_count": 69,
   "metadata": {
    "collapsed": true
   },
   "outputs": [],
   "source": [
    "cities_by_state = defaultdict(list)"
   ]
  },
  {
   "cell_type": "code",
   "execution_count": 70,
   "metadata": {
    "collapsed": true
   },
   "outputs": [],
   "source": [
    "for state, city in city_list:\n",
    "    cities_by_state[state].append(city)"
   ]
  },
  {
   "cell_type": "code",
   "execution_count": 71,
   "metadata": {},
   "outputs": [
    {
     "data": {
      "text/plain": [
       "defaultdict(list,\n",
       "            {'TX': ['Austin', 'Houston', 'Dallas'],\n",
       "             'NY': ['Albany', 'Syracuse', 'Buffalo', 'Rochester'],\n",
       "             'CA': ['Sacramento', 'Palo Alto'],\n",
       "             'GA': ['Atlanta']})"
      ]
     },
     "execution_count": 71,
     "metadata": {},
     "output_type": "execute_result"
    }
   ],
   "source": [
    "cities_by_state"
   ]
  },
  {
   "cell_type": "markdown",
   "metadata": {},
   "source": [
    "# If else Statement"
   ]
  },
  {
   "cell_type": "markdown",
   "metadata": {},
   "source": [
    "- The if, else and elif statements\n",
    "- Comparison Operators : ==, !=, >, <, >=, <="
   ]
  },
  {
   "cell_type": "code",
   "execution_count": 19,
   "metadata": {},
   "outputs": [
    {
     "name": "stdout",
     "output_type": "stream",
     "text": [
      "You are old enough to drive\n",
      "You are old enough to drive\n",
      "You are old enough to drive a tractor trailer\n",
      "You get a birthday party yeah\n"
     ]
    }
   ],
   "source": [
    "# CONDITIONALS -------------\n",
    "\n",
    "# The if statement will execute code if a condition is met\n",
    "# White space is used to group blocks of code in Python\n",
    "# Use the same number of proceeding spaces for blocks of code\n",
    "\n",
    "age = 30\n",
    "if age > 16 :\n",
    "    print('You are old enough to drive')\n",
    "\n",
    "# Use an if statement if you want to execute different code regardless\n",
    "# of whether the condition ws met or not\n",
    "\n",
    "if age > 16 :\n",
    "    print('You are old enough to drive')\n",
    "else :\n",
    "    print('You are not old enough to drive')\n",
    "\n",
    "# If you want to check for multiple conditions use elif\n",
    "# If the first matches it won't check other conditions that follow\n",
    "\n",
    "if age >= 21 :\n",
    "    print('You are old enough to drive a tractor trailer')\n",
    "elif age >= 16:\n",
    "    print('You are old enough to drive a car')\n",
    "else :\n",
    "    print('You are not old enough to drive')\n",
    "\n",
    "# You can combine conditions with logical operators\n",
    "# Logical Operators : and, or, not\n",
    "\n",
    "if ((age >= 1) and (age <= 18)):\n",
    "    print(\"You get a birthday party\")\n",
    "elif (age == 21) or (age >= 65):\n",
    "    print(\"You get a birthday party\")\n",
    "elif not(age == 30):\n",
    "    print(\"You don't get a birthday party\")\n",
    "else:\n",
    "    print(\"You get a birthday party yeah\")"
   ]
  },
  {
   "cell_type": "markdown",
   "metadata": {},
   "source": [
    "**if else loop in same line**"
   ]
  },
  {
   "cell_type": "code",
   "execution_count": 86,
   "metadata": {},
   "outputs": [
    {
     "name": "stdout",
     "output_type": "stream",
     "text": [
      "wow!\n"
     ]
    }
   ],
   "source": [
    "a=1\n",
    "count = 'wow!' if a == 1 else a\n",
    "print(count)"
   ]
  },
  {
   "cell_type": "markdown",
   "metadata": {},
   "source": [
    "# For Loops\n",
    "- Allows you to perform an action a set number of times\n",
    "- range(0, 10) performs the action 10 times 0 - 9 (right bound was not included as usual)"
   ]
  },
  {
   "cell_type": "code",
   "execution_count": 45,
   "metadata": {},
   "outputs": [
    {
     "name": "stdout",
     "output_type": "stream",
     "text": [
      "0  1  2  3  4  5  6  7  8  9  \n",
      "-------------------\n",
      "Juice\n",
      "Tomatoes\n",
      "Potatoes\n",
      "Bananas\n",
      "-------------------\n",
      "2\n",
      "4\n",
      "6\n",
      "8\n",
      "10\n",
      "-------------------\n",
      "1\n",
      "2\n",
      "3\n",
      "\n",
      "\n",
      "10\n",
      "20\n",
      "30\n",
      "\n",
      "\n",
      "100\n",
      "200\n",
      "300\n",
      "\n",
      "\n"
     ]
    }
   ],
   "source": [
    "# For Loops -------------\n",
    "for x in range(0, 10):\n",
    "    print(x , ' ', end=\"\")\n",
    "\n",
    "print('\\n-------------------')\n",
    "\n",
    "# You can use for loops to cycle through a list\n",
    "grocery_list = ['Juice', 'Tomatoes', 'Potatoes', 'Bananas']\n",
    "\n",
    "for y in grocery_list:\n",
    "    print(y)\n",
    "print('-------------------')\n",
    "# You can also define a list of numbers to cycle through\n",
    "for x in [2,4,6,8,10]:\n",
    "    print(x)\n",
    "print('-------------------')\n",
    "# You can double up for loops to cycle through lists\n",
    "num_list =[[1,2,3],[10,20,30],[100,200,300]];\n",
    "\n",
    "for x in range(0,3):\n",
    "    for y in range(0,3):\n",
    "        print(num_list[x][y])\n",
    "    print('\\n')"
   ]
  },
  {
   "cell_type": "markdown",
   "metadata": {},
   "source": [
    "## tqdm in For Loop"
   ]
  },
  {
   "cell_type": "code",
   "execution_count": 88,
   "metadata": {
    "collapsed": true
   },
   "outputs": [],
   "source": [
    "from tqdm import tqdm, trange, tqdm_pandas\n",
    "\n",
    "tqdm.pandas(desc=\"Progress Bar\")\n",
    "Page_URL = df_url.progress_apply(lambda x: urllib.parse.unquote(x))"
   ]
  },
  {
   "cell_type": "code",
   "execution_count": null,
   "metadata": {
    "collapsed": true
   },
   "outputs": [],
   "source": [
    "For i in tqdm.tqdm(range(10)):"
   ]
  },
  {
   "cell_type": "markdown",
   "metadata": {},
   "source": [
    "## Enumerate"
   ]
  },
  {
   "cell_type": "code",
   "execution_count": 75,
   "metadata": {},
   "outputs": [
    {
     "name": "stdout",
     "output_type": "stream",
     "text": [
      "1 apple\n",
      "2 banana\n",
      "3 grapes\n",
      "4 pear\n"
     ]
    }
   ],
   "source": [
    "my_list = ['apple', 'banana', 'grapes', 'pear']\n",
    "for c, value in enumerate(my_list,1):\n",
    "    print(c, value)"
   ]
  },
  {
   "cell_type": "code",
   "execution_count": 76,
   "metadata": {},
   "outputs": [
    {
     "name": "stdout",
     "output_type": "stream",
     "text": [
      "0 apple\n",
      "1 banana\n",
      "2 grapes\n",
      "3 pear\n"
     ]
    }
   ],
   "source": [
    "my_list = ['apple', 'banana', 'grapes', 'pear']\n",
    "for c, value in enumerate(my_list):\n",
    "    print(c, value)"
   ]
  },
  {
   "cell_type": "markdown",
   "metadata": {},
   "source": [
    "# While Loops\n",
    "While loops are used when you don't know ahead of time how many times you'll have to loop."
   ]
  },
  {
   "cell_type": "code",
   "execution_count": 46,
   "metadata": {
    "scrolled": true
   },
   "outputs": [
    {
     "name": "stdout",
     "output_type": "stream",
     "text": [
      "2\n",
      "50\n",
      "32\n",
      "1\n",
      "38\n",
      "32\n",
      "99\n",
      "65\n",
      "98\n",
      "39\n",
      "13\n",
      "44\n",
      "4\n",
      "90\n",
      "83\n",
      "18\n",
      "80\n",
      "19\n",
      "3\n",
      "68\n",
      "27\n",
      "0\n",
      "35\n",
      "37\n",
      "96\n",
      "47\n",
      "52\n",
      "51\n",
      "82\n",
      "79\n",
      "3\n",
      "0\n",
      "13\n",
      "59\n",
      "90\n",
      "51\n",
      "83\n",
      "80\n",
      "59\n",
      "75\n",
      "35\n",
      "42\n",
      "91\n",
      "51\n",
      "85\n",
      "20\n",
      "57\n",
      "9\n",
      "0\n",
      "7\n",
      "28\n",
      "61\n",
      "42\n",
      "98\n",
      "5\n",
      "72\n",
      "20\n",
      "23\n",
      "97\n",
      "86\n",
      "5\n",
      "57\n",
      "89\n",
      "98\n",
      "76\n",
      "1\n",
      "38\n",
      "20\n",
      "86\n",
      "32\n",
      "33\n",
      "28\n",
      "86\n",
      "14\n",
      "14\n",
      "83\n",
      "87\n",
      "16\n",
      "41\n",
      "2\n",
      "18\n",
      "69\n",
      "81\n",
      "88\n",
      "60\n",
      "78\n",
      "65\n",
      "4\n",
      "99\n",
      "42\n",
      "85\n",
      "21\n",
      "99\n",
      "53\n",
      "55\n",
      "87\n",
      "41\n",
      "65\n",
      "46\n",
      "66\n",
      "58\n",
      "44\n",
      "59\n",
      "75\n",
      "92\n",
      "77\n",
      "88\n",
      "21\n",
      "63\n",
      "5\n",
      "66\n",
      "53\n",
      "21\n",
      "19\n",
      "70\n",
      "65\n",
      "56\n",
      "36\n",
      "53\n",
      "65\n",
      "64\n",
      "27\n",
      "34\n",
      "65\n",
      "76\n",
      "86\n",
      "59\n",
      "30\n",
      "60\n",
      "94\n",
      "29\n",
      "34\n",
      "49\n",
      "11\n",
      "58\n",
      "21\n",
      "67\n",
      "7\n",
      "8\n",
      "24\n",
      "64\n",
      "35\n",
      "52\n",
      "67\n",
      "58\n",
      "74\n",
      "3\n",
      "67\n",
      "88\n",
      "67\n",
      "25\n",
      "71\n",
      "83\n",
      "83\n",
      "20\n",
      "29\n",
      "30\n",
      "47\n",
      "98\n",
      "46\n",
      "63\n",
      "56\n",
      "91\n",
      "31\n",
      "12\n",
      "31\n",
      "9\n",
      "14\n",
      "40\n",
      "12\n",
      "57\n",
      "19\n",
      "60\n",
      "58\n",
      "32\n",
      "85\n",
      "36\n",
      "29\n",
      "46\n",
      "89\n",
      "98\n",
      "38\n",
      "74\n",
      "39\n",
      "90\n",
      "69\n",
      "18\n",
      "93\n",
      "80\n",
      "74\n",
      "63\n",
      "54\n",
      "63\n",
      "23\n",
      "63\n",
      "6\n",
      "22\n",
      "88\n",
      "17\n",
      "30\n",
      "83\n",
      "77\n",
      "50\n",
      "40\n",
      "53\n",
      "23\n",
      "13\n",
      "66\n",
      "10\n",
      "86\n",
      "79\n",
      "73\n",
      "97\n",
      "31\n",
      "78\n",
      "71\n",
      "76\n",
      "78\n",
      "92\n",
      "47\n",
      "91\n",
      "3\n",
      "72\n",
      "77\n",
      "55\n",
      "94\n",
      "20\n",
      "21\n",
      "30\n",
      "8\n",
      "13\n",
      "97\n",
      "60\n",
      "11\n",
      "73\n",
      "49\n",
      "79\n",
      "32\n",
      "95\n",
      "61\n",
      "8\n",
      "31\n",
      "22\n",
      "26\n",
      "44\n",
      "30\n",
      "72\n",
      "59\n",
      "74\n",
      "0\n",
      "2\n"
     ]
    }
   ],
   "source": [
    "# While Loops -------------\n",
    "# times you'll have to loop\n",
    "import random\n",
    "random_num = random.randrange(0,10)\n",
    "\n",
    "while (random_num != 15):\n",
    "    print(random_num)\n",
    "    random_num = random.randrange(0,100)\n",
    "\n",
    "# An iterator for a while loop is defined before the loop\n",
    "i = 0;\n",
    "while (i <= 5):\n",
    "    if(i%2 == 0):\n",
    "        print(i)\n",
    "    elif(i == 3):\n",
    "        # Forces the loop to end all together\n",
    "        break\n",
    "    else:\n",
    "        # Shorthand for i = i + 1\n",
    "        i += 1\n",
    "        # Skips to the next iteration of the loop\n",
    "        continue\n",
    "\n",
    "    i += 1"
   ]
  },
  {
   "cell_type": "markdown",
   "metadata": {},
   "source": [
    "#  Functions\n",
    "- Functions allow you to reuse and write readable code\n",
    "- Type def (define), function name and parameters it receives\n",
    "- return is used to return something to the caller of the function"
   ]
  },
  {
   "cell_type": "code",
   "execution_count": 47,
   "metadata": {},
   "outputs": [
    {
     "name": "stdout",
     "output_type": "stream",
     "text": [
      "5\n",
      "-3\n"
     ]
    }
   ],
   "source": [
    "# Functions -------------\n",
    "def addNumbers(fNum, sNum):\n",
    "    sumNum = fNum + sNum\n",
    "    return sumNum\n",
    "\n",
    "print(addNumbers(1, 4))\n",
    "\n",
    "# Can't get the value of rNum because it was created in a function\n",
    "# It is said to be out of scope\n",
    "# print(sumNum)\n",
    "\n",
    "# If you define a variable outside of the function it works every place\n",
    "newNum = 0;\n",
    "def subNumbers(fNum, sNum):\n",
    "    newNum = fNum - sNum\n",
    "    return newNum\n",
    "\n",
    "print(subNumbers(1, 4))"
   ]
  },
  {
   "cell_type": "markdown",
   "metadata": {},
   "source": [
    "# User Input"
   ]
  },
  {
   "cell_type": "code",
   "execution_count": 49,
   "metadata": {},
   "outputs": [
    {
     "name": "stdout",
     "output_type": "stream",
     "text": [
      "What is your name?\n",
      "Hello \n"
     ]
    }
   ],
   "source": [
    "# USER INPUT -------------\n",
    "import sys\n",
    "print('What is your name?')\n",
    "\n",
    "# Stores everything typed up until ENTER\n",
    "name = sys.stdin.readline()\n",
    "# Above seems to be wrong. Not working in Spyder.\n",
    "\n",
    "print('Hello', name)"
   ]
  },
  {
   "cell_type": "markdown",
   "metadata": {},
   "source": [
    "# Strings"
   ]
  },
  {
   "cell_type": "code",
   "execution_count": 50,
   "metadata": {},
   "outputs": [
    {
     "name": "stdout",
     "output_type": "stream",
     "text": [
      "I'll\n",
      "Floor\n",
      "I'll catch you if you fall - The \n",
      "I'll be there\n"
     ]
    }
   ],
   "source": [
    "# STRINGS -------------\n",
    "# A string is a series of characters surrounded by ' or \"\n",
    "long_string = \"I'll catch you if you fall - The Floor\"\n",
    "\n",
    "# Retrieve the first 4 characters\n",
    "print(long_string[0:4])\n",
    "\n",
    "# Get the last 5 characters\n",
    "print(long_string[-5:])\n",
    "\n",
    "# Everything up to the last 5 characters\n",
    "print(long_string[:-5])\n",
    "\n",
    "# Concatenate part of a string to another\n",
    "print(long_string[:4] + \" be there\")"
   ]
  },
  {
   "cell_type": "markdown",
   "metadata": {},
   "source": [
    "## String Formatting"
   ]
  },
  {
   "cell_type": "code",
   "execution_count": 51,
   "metadata": {},
   "outputs": [
    {
     "name": "stdout",
     "output_type": "stream",
     "text": [
      "X is my favorite letter and my number 1 number is 0.14000\n"
     ]
    }
   ],
   "source": [
    "# String formatting\n",
    "print(\"%c is my %s letter and my number %d number is %.5f\" % ('X', 'favorite', 1, .14))\n",
    "# below by order\n",
    "# c: Character\n",
    "# s: String\n",
    "# d: Decimal Integer\n",
    "# f: Floating Number"
   ]
  },
  {
   "cell_type": "markdown",
   "metadata": {},
   "source": [
    "## String Attribute\n",
    "More attributes here (search 'String Methods'):\n",
    "https://docs.python.org/3/library/stdtypes.html"
   ]
  },
  {
   "cell_type": "code",
   "execution_count": 63,
   "metadata": {},
   "outputs": [
    {
     "name": "stdout",
     "output_type": "stream",
     "text": [
      "Ex1: I'll catch you if you fall - The Floor\n",
      "Ex2: I'll catch you if you fall - the floor\n",
      "Ex3: 33\n",
      "Ex4: False\n",
      "Ex5: False\n",
      "Ex6: 38\n",
      "Ex7: I'll catch you if you fall - The Ground\n",
      "Ex8: I'll catch you if you fall - The Floor\n",
      "Ex9: 'll catch you if you fall - The Floo\n",
      "Ex10: [\"I'll\", 'catch', 'you', 'if', 'you', 'fall', '-', 'The', 'Floor']\n"
     ]
    }
   ],
   "source": [
    "# Base string\n",
    "print('Ex1:',long_string)\n",
    "\n",
    "# Capitalizes the first letter\n",
    "print('Ex2:',long_string.capitalize())\n",
    "\n",
    "# Returns the index of the start of the string\n",
    "# case sensitive\n",
    "print('Ex3:',long_string.find(\"Floor\"))\n",
    "\n",
    "# Returns true if all characters are alphabetic characters(letter) only\n",
    "print('Ex4:',long_string.isalpha())\n",
    "\n",
    "# Returns true if all characters are numbers\n",
    "print('Ex5:',long_string.isalnum())\n",
    "\n",
    "# Returns the string length\n",
    "print('Ex6:',len(long_string))\n",
    "\n",
    "# Replace the first word with the second (Add a number to replace more)\n",
    "print('Ex7:',long_string.replace(\"Floor\", \"Ground\"))\n",
    "\n",
    "# Remove white space from front and end\n",
    "print('Ex8:',long_string.strip())\n",
    "\n",
    "# Remove letters 'I' & 'r' from front and end. Capital or not also matters\n",
    "print('Ex9:',long_string.strip('Ir'))\n",
    "\n",
    "# Split a string into a list based on the delimiter you provide\n",
    "quote_list = long_string.split(\" \")\n",
    "print('Ex10:',quote_list)"
   ]
  },
  {
   "cell_type": "markdown",
   "metadata": {},
   "source": [
    "## Examples\n",
    "### Naming File"
   ]
  },
  {
   "cell_type": "code",
   "execution_count": 39,
   "metadata": {},
   "outputs": [
    {
     "name": "stdout",
     "output_type": "stream",
     "text": [
      "file_1.dat\n",
      "file_1.dat\n",
      "file_1.dat\n"
     ]
    }
   ],
   "source": [
    "i=1\n",
    "tmp1=\"file_\" + str(i) + \".dat\"\n",
    "tmp2=\"file_%s.dat\" % i\n",
    "tmp3=\"file_{}.dat\".format(i)\n",
    "# c: Character\n",
    "# s: String\n",
    "# d: Decimal Integer\n",
    "# f: Floating Number\n",
    "print(tmp1)\n",
    "print(tmp2)\n",
    "print(tmp3)"
   ]
  },
  {
   "cell_type": "markdown",
   "metadata": {},
   "source": [
    "### Print out"
   ]
  },
  {
   "cell_type": "code",
   "execution_count": 40,
   "metadata": {},
   "outputs": [
    {
     "name": "stdout",
     "output_type": "stream",
     "text": [
      "001.json\n",
      "002.json\n",
      "003.json\n",
      "004.json\n",
      "--------\n",
      "1.json\n",
      "2.json\n",
      "3.json\n",
      "4.json\n"
     ]
    }
   ],
   "source": [
    "for id in range(1,5):\n",
    "    print('%03d.json' %id)\n",
    "    # This Wildcard can be used globally even for loop value assignment.\n",
    "\n",
    "print('--------')\n",
    "\n",
    "for id in range(1,5):\n",
    "    print('%d.json' %id)"
   ]
  },
  {
   "cell_type": "markdown",
   "metadata": {},
   "source": [
    "# File I/O"
   ]
  },
  {
   "cell_type": "code",
   "execution_count": 77,
   "metadata": {
    "collapsed": true
   },
   "outputs": [],
   "source": [
    "# Overwrite or create a file for writing\n",
    "test_file = open(\"test.txt\", \"wb\")\n",
    "\n",
    "# Get the file mode used\n",
    "print(test_file.mode)\n",
    "\n",
    "# Get the files name\n",
    "print(test_file.name)\n",
    "\n",
    "# Write text to a file with a newline\n",
    "test_file.write(bytes(\"Write me to the file\\n\", 'UTF-8'))\n",
    "\n",
    "# Close the file\n",
    "test_file.close()\n",
    "\n",
    "# Opens a file for reading and writing\n",
    "test_file = open(\"test.txt\", \"r+\")\n",
    "\n",
    "# Read text from the file\n",
    "text_in_file = test_file.read()\n",
    "\n",
    "print(text_in_file)\n",
    "\n",
    "# Delete the file\n",
    "os.remove(\"test.txt\")"
   ]
  },
  {
   "cell_type": "markdown",
   "metadata": {},
   "source": [
    "## Path \n",
    "- Default path depends on where the python kernal is. \n",
    "- Python的默认文件夹(dir)在哪里, 默认的location就在哪里\n",
    "- More about os:\\ https://docs.python.org/3/library/os.path.html"
   ]
  },
  {
   "cell_type": "code",
   "execution_count": 1,
   "metadata": {},
   "outputs": [
    {
     "name": "stdout",
     "output_type": "stream",
     "text": [
      "\u001b[34mCoursera\u001b[m\u001b[m                         Python_Tensorflow.ipynb\r\n",
      "\u001b[34mData\u001b[m\u001b[m                             Tensorflow_Dataset_API.ipynb\r\n",
      "Draft.ipynb                      Tensorflow_Embedding.ipynb\r\n",
      "Python_Base.ipynb                Tensorflow_Operations.ipynb\r\n",
      "Python_Base_HTMLStyleTrial.ipynb argparse_test.py\r\n",
      "Python_Numpy.ipynb               run_argparse.sh\r\n",
      "Python_Pandas.ipynb\r\n"
     ]
    }
   ],
   "source": [
    "# show existing files in current folder\n",
    "!ls"
   ]
  },
  {
   "cell_type": "code",
   "execution_count": 2,
   "metadata": {},
   "outputs": [
    {
     "name": "stdout",
     "output_type": "stream",
     "text": [
      "/Users/huafengsheng/GoogleDrive/GitHub/Alfred/Python_Code\r\n"
     ]
    }
   ],
   "source": [
    "# show current path\n",
    "!pwd"
   ]
  },
  {
   "cell_type": "code",
   "execution_count": 3,
   "metadata": {},
   "outputs": [
    {
     "name": "stdout",
     "output_type": "stream",
     "text": [
      "A good way to get path of a file based on current dictionary:\n",
      "1st Print: \n",
      "2nd Print: /Users/huafengsheng/GoogleDrive/GitHub/Alfred/Python_Code\n",
      "3rd Print: /Users/huafengsheng/GoogleDrive/GitHub/Alfred/Python_Code/../lib\n",
      "4th Print: /Users/huafengsheng/GoogleDrive/GitHub/Alfred/lib\n"
     ]
    }
   ],
   "source": [
    "import os\n",
    "import numpy as np\n",
    "import glob\n",
    "\n",
    "print('A good way to get path of a file based on current dictionary:')\n",
    "\n",
    "# os.path.dirname: Return the directory name of pathname path\n",
    "print('1st Print:',os.path.dirname('__file__'))\n",
    "print('2nd Print:',os.path.abspath(os.path.dirname('__file__')))\n",
    "print('3rd Print:',os.path.join(os.path.abspath(os.path.dirname('__file__')), '..', 'lib'))\n",
    "lib_path = os.path.realpath(os.path.join(os.path.abspath(os.path.dirname('__file__')), '..', 'lib'))\n",
    "print('4th Print:',lib_path)"
   ]
  },
  {
   "cell_type": "code",
   "execution_count": 2,
   "metadata": {},
   "outputs": [
    {
     "data": {
      "text/plain": [
       "'/home/huafeng/Desktop/Alfred/lib'"
      ]
     },
     "execution_count": 2,
     "metadata": {},
     "output_type": "execute_result"
    }
   ],
   "source": [
    "lib_path"
   ]
  },
  {
   "cell_type": "markdown",
   "metadata": {},
   "source": [
    "## Multiple Files"
   ]
  },
  {
   "cell_type": "code",
   "execution_count": 40,
   "metadata": {},
   "outputs": [
    {
     "data": {
      "text/plain": [
       "'/home/huafeng/Desktop/Alfred/Python_Code/Data/ProductData/*'"
      ]
     },
     "execution_count": 40,
     "metadata": {},
     "output_type": "execute_result"
    }
   ],
   "source": [
    "path_json=os.path.realpath(os.path.join(os.path.abspath(os.path.dirname('__file__')),'Data','ProductData','*'))\n",
    "path_json"
   ]
  },
  {
   "cell_type": "code",
   "execution_count": 45,
   "metadata": {},
   "outputs": [
    {
     "name": "stdout",
     "output_type": "stream",
     "text": [
      "glob.glob would give multiple files in a list:\n"
     ]
    },
    {
     "data": {
      "text/plain": [
       "['/home/huafeng/Desktop/Alfred/Python_Code/Data/ProductData/web02',\n",
       " '/home/huafeng/Desktop/Alfred/Python_Code/Data/ProductData/web03',\n",
       " '/home/huafeng/Desktop/Alfred/Python_Code/Data/ProductData/web04',\n",
       " '/home/huafeng/Desktop/Alfred/Python_Code/Data/ProductData/web01']"
      ]
     },
     "metadata": {},
     "output_type": "display_data"
    },
    {
     "name": "stdout",
     "output_type": "stream",
     "text": [
      "Sorted data:\n",
      " ['/home/huafeng/Desktop/Alfred/Python_Code/Data/ProductData/web01'\n",
      " '/home/huafeng/Desktop/Alfred/Python_Code/Data/ProductData/web02'\n",
      " '/home/huafeng/Desktop/Alfred/Python_Code/Data/ProductData/web03'\n",
      " '/home/huafeng/Desktop/Alfred/Python_Code/Data/ProductData/web04']\n"
     ]
    }
   ],
   "source": [
    "print('glob.glob would give multiple files in a list:')\n",
    "display(glob.glob(path_json))\n",
    "print('Sorted data:\\n',np.sort(glob.glob(path_json)))"
   ]
  },
  {
   "cell_type": "markdown",
   "metadata": {},
   "source": [
    "## Pickle Save & Load"
   ]
  },
  {
   "cell_type": "code",
   "execution_count": null,
   "metadata": {
    "collapsed": true
   },
   "outputs": [],
   "source": [
    "import pickle\n",
    "\n",
    "# Pickle Save \n",
    "with open( \"../Data/df.p\", \"wb\" )  as f:\n",
    "    pickle.dump(df, f)\n",
    "\n",
    "#Pickle Load\n",
    "with open( \"../Data/P0_Base_Data.p\", \"rb” ) as f:\n",
    "    data0=pickle.load(f)"
   ]
  },
  {
   "cell_type": "markdown",
   "metadata": {},
   "source": [
    "# Classes and Objects \n",
    "- The concept of OOP (object-oriened programming) allows us to model real world things using code\n",
    "- Every object has attributes (color, height, weight) which are object variables\n",
    "- Every object has abilities (walk, talk, eat) which are object functions\n",
    "\n",
    "You can make a variable private by starting it with double under score: __ "
   ]
  },
  {
   "cell_type": "markdown",
   "metadata": {},
   "source": [
    "## Scopes and Namespaces Example\n",
    "- Global Variable\n",
    "- Non-Local Variable\n",
    "- Local Variable."
   ]
  },
  {
   "cell_type": "code",
   "execution_count": 1,
   "metadata": {},
   "outputs": [],
   "source": [
    "def scope_test():\n",
    "    def do_local():\n",
    "        spam = \"local spam\"\n",
    "\n",
    "    def do_nonlocal():\n",
    "        nonlocal spam\n",
    "        spam = \"nonlocal spam\"\n",
    "\n",
    "    def do_global():\n",
    "        global spam\n",
    "        spam = \"global spam\"\n",
    "\n",
    "    spam = \"test spam\"\n",
    "    do_local()\n",
    "    print(\"After local assignment:\", spam)\n",
    "    do_nonlocal()\n",
    "    print(\"After nonlocal assignment:\", spam)\n",
    "    do_global()\n",
    "    print(\"After global assignment:\", spam)    "
   ]
  },
  {
   "cell_type": "code",
   "execution_count": 2,
   "metadata": {},
   "outputs": [
    {
     "name": "stdout",
     "output_type": "stream",
     "text": [
      "After local assignment: test spam\n",
      "After nonlocal assignment: nonlocal spam\n",
      "After global assignment: nonlocal spam\n",
      "In global scope: global spam\n"
     ]
    }
   ],
   "source": [
    "scope_test()\n",
    "print(\"In global scope:\", spam)"
   ]
  },
  {
   "cell_type": "markdown",
   "metadata": {},
   "source": [
    "- The local assignment (which is default) didn’t change scope_test’s binding of spam\n",
    "- The nonlocal assignment changed scope_test’s binding of spam\n",
    "- The global assignment changed the module-level binding"
   ]
  },
  {
   "cell_type": "markdown",
   "metadata": {},
   "source": [
    "## Constructor\n",
    "- A class constructor is a special member function of a class that is executed whenever whe create new objects of that class.\n",
    "- A constructor will have **exact same name** as the class and it does not have any return type at all, not even void (for C++).\n",
    "- Constructors can be very usefull for **setting initial values** for certain member variables.\n",
    "\n",
    "The **Constructor** is called to set up or **initialize** an object.\n",
    "<br>**'self'** allows an object to refer to itself inside of the class."
   ]
  },
  {
   "cell_type": "code",
   "execution_count": 3,
   "metadata": {},
   "outputs": [],
   "source": [
    "class Animal(object):\n",
    "# continued\n",
    "    # below is a constructor to initialze an object, assigning values.\n",
    "    def __init__(self, name, height, weight, sound):\n",
    "        self.__name = name\n",
    "        self.__height = height\n",
    "        self.__weight = weight\n",
    "        self.__sound = sound\n",
    "        # above are privite variables cannot be accessed from  \n",
    "        self.test01 = 1 \n",
    "        self._test02 = 2\n",
    "        \n",
    "    # assigning values-----------\n",
    "    # below block is used for updating variables if needed later\n",
    "    def set_name(self, name):\n",
    "        self.__name = name\n",
    "\n",
    "    def set_height(self, height):\n",
    "        self.__height = height\n",
    "\n",
    "    def set_weight(self, weight):\n",
    "        self.__weight = weight\n",
    "\n",
    "    def set_sound(self, sound):\n",
    "        self.__sound = sound\n",
    "    \n",
    "    # get values-----------------\n",
    "    def get_name(self):\n",
    "        return self.__name\n",
    "\n",
    "    def get_height(self):\n",
    "        return str(self.__height)\n",
    "\n",
    "    def get_weight(self):\n",
    "        return str(self.__weight)\n",
    "\n",
    "    def get_sound(self):\n",
    "        return self.__sound\n",
    "\n",
    "    def get_type(self):\n",
    "        print(\"Animal\")\n",
    "        \n",
    "    def get_healthScore(self):\n",
    "        self.score = self.__height -self.__weight\n",
    "        return self.score\n",
    "    \n",
    "    # make it a string-----------\n",
    "    def toString(self):\n",
    "        return \"{} is {} cm tall and {} kilograms and says {}\".format(self.__name, self.__height, \\\n",
    "                                                                      self.__weight, self.__sound)"
   ]
  },
  {
   "cell_type": "code",
   "execution_count": 4,
   "metadata": {},
   "outputs": [
    {
     "name": "stdout",
     "output_type": "stream",
     "text": [
      "health score is : 23\n",
      "Whiskers is 33 cm tall and 10 kilograms and says Meow\n"
     ]
    }
   ],
   "source": [
    "# How to create a Animal object\n",
    "cat = Animal('Whiskers', 33, 10, 'Meow')\n",
    "score=cat.get_healthScore()\n",
    "print('health score is :', score)\n",
    "print(cat.toString())\n",
    "\n",
    "# You can't access this value directly because it is private\n",
    "# print(cat.__name)"
   ]
  },
  {
   "cell_type": "code",
   "execution_count": 5,
   "metadata": {},
   "outputs": [
    {
     "ename": "AttributeError",
     "evalue": "'Animal' object has no attribute '__height'",
     "output_type": "error",
     "traceback": [
      "\u001b[0;31m---------------------------------------------------------------------------\u001b[0m",
      "\u001b[0;31mAttributeError\u001b[0m                            Traceback (most recent call last)",
      "\u001b[0;32m<ipython-input-5-cf0f0f305d51>\u001b[0m in \u001b[0;36m<module>\u001b[0;34m()\u001b[0m\n\u001b[1;32m      1\u001b[0m \u001b[0;31m# .__height is private attribute, cannot be accessed from outside\u001b[0m\u001b[0;34m\u001b[0m\u001b[0;34m\u001b[0m\u001b[0m\n\u001b[0;32m----> 2\u001b[0;31m \u001b[0mcat\u001b[0m\u001b[0;34m.\u001b[0m\u001b[0m__height\u001b[0m\u001b[0;34m\u001b[0m\u001b[0m\n\u001b[0m",
      "\u001b[0;31mAttributeError\u001b[0m: 'Animal' object has no attribute '__height'"
     ]
    }
   ],
   "source": [
    "# .__height is private attribute, cannot be accessed from outside\n",
    "cat.__height"
   ]
  },
  {
   "cell_type": "code",
   "execution_count": 6,
   "metadata": {},
   "outputs": [
    {
     "data": {
      "text/plain": [
       "1"
      ]
     },
     "execution_count": 6,
     "metadata": {},
     "output_type": "execute_result"
    }
   ],
   "source": [
    "cat.test01"
   ]
  },
  {
   "cell_type": "code",
   "execution_count": 7,
   "metadata": {},
   "outputs": [
    {
     "data": {
      "text/plain": [
       "2"
      ]
     },
     "execution_count": 7,
     "metadata": {},
     "output_type": "execute_result"
    }
   ],
   "source": [
    "# _test02 is deemed as private but still can be access. When seeing it, need to treat with caution.\n",
    "# ._test02 do not have auto fill, when tab cat.\n",
    "cat._test02"
   ]
  },
  {
   "cell_type": "markdown",
   "metadata": {},
   "source": [
    "## Explanation\n",
    "- The jeff object, known as an **instance**, is the realized version of the Customer **class**\n",
    "- Functions in class are called as **method**\n",
    "- self is the **instance** of the Customer that withdraw is being called on.\n",
    "\n",
    "eg.\n",
    "def withdraw(self, amount)<br>\n",
    "self here is just equal to the instance jeff.<br>\n",
    "**jeff.withdraw(100.0)**  is just shorthand for **Customer.withdraw(jeff, 100.0)**"
   ]
  },
  {
   "cell_type": "markdown",
   "metadata": {},
   "source": [
    "<font size=3>how to work on this question</font>"
   ]
  },
  {
   "cell_type": "code",
   "execution_count": 149,
   "metadata": {},
   "outputs": [
    {
     "data": {
      "text/plain": [
       "900.0"
      ]
     },
     "execution_count": 149,
     "metadata": {},
     "output_type": "execute_result"
    }
   ],
   "source": [
    "class Customer(object):\n",
    "    \"\"\"A customer of ABC Bank with a checking account. Customers have the\n",
    "    following properties:\n",
    "\n",
    "    Attributes:\n",
    "        name: A string representing the customer's name.\n",
    "        balance: A float tracking the current balance of the customer's account.\n",
    "    \"\"\"\n",
    "\n",
    "    def __init__(self, name):\n",
    "        \"\"\"Return a Customer object whose name is *name*.\"\"\" \n",
    "        self.name = name\n",
    "\n",
    "    def set_balance(self, balance=0.0):\n",
    "        \"\"\"Set the customer's starting balance.\"\"\"\n",
    "        self.balance = balance\n",
    "\n",
    "    def withdraw(self, amount):\n",
    "        \"\"\"Return the balance remaining after withdrawing *amount*\n",
    "        dollars.\"\"\"\n",
    "        if amount > self.balance:\n",
    "            raise RuntimeError('Amount greater than available balance.')\n",
    "        self.balance -= amount\n",
    "        return self.balance\n",
    "\n",
    "    def deposit(self, amount):\n",
    "        \"\"\"Return the balance remaining after depositing *amount*\n",
    "        dollars.\"\"\"\n",
    "        self.balance += amount\n",
    "        return self.balance\n",
    "\n",
    "jeff = Customer('Jeff Knupp')\n",
    "jeff.set_balance()\n",
    "jeff.deposit(1000)\n",
    "jeff.withdraw(100.0)\n"
   ]
  },
  {
   "cell_type": "markdown",
   "metadata": {},
   "source": [
    "## Decorator\n",
    "** @staticmethod** decorator is used\n",
    "- **@staticmethod** can have no parameters at all.\n"
   ]
  },
  {
   "cell_type": "code",
   "execution_count": 10,
   "metadata": {},
   "outputs": [],
   "source": [
    "class Car(object):\n",
    "    # Only when below decorator is used, method can have nill input\n",
    "    # 说实话，其实感觉这个也没什么用处。。。\n",
    "    @staticmethod\n",
    "    def make_car_sound():\n",
    "        print('VRooooommmm!')"
   ]
  },
  {
   "cell_type": "code",
   "execution_count": 21,
   "metadata": {},
   "outputs": [],
   "source": [
    "class Car2(object):\n",
    "    # 如果这里没有self就会报错\n",
    "    def make_car_sound(self):\n",
    "        print('VRooooommmm!')"
   ]
  },
  {
   "cell_type": "code",
   "execution_count": 22,
   "metadata": {},
   "outputs": [],
   "source": [
    "a=Car()\n",
    "b=Car2()"
   ]
  },
  {
   "cell_type": "code",
   "execution_count": 23,
   "metadata": {},
   "outputs": [
    {
     "name": "stdout",
     "output_type": "stream",
     "text": [
      "VRooooommmm!\n"
     ]
    }
   ],
   "source": [
    "a.make_car_sound()"
   ]
  },
  {
   "cell_type": "code",
   "execution_count": 24,
   "metadata": {},
   "outputs": [
    {
     "name": "stdout",
     "output_type": "stream",
     "text": [
      "VRooooommmm!\n"
     ]
    }
   ],
   "source": [
    "b.make_car_sound()"
   ]
  },
  {
   "cell_type": "markdown",
   "metadata": {},
   "source": [
    "- **@classmethod** must have a reference to a class object as the first parameter\n",
    "<br>**cls** is an object that holds class itself, not an instance of the class. It's pretty cool because if we inherit our Date class, all children will have from_string defined also."
   ]
  },
  {
   "cell_type": "code",
   "execution_count": 139,
   "metadata": {},
   "outputs": [
    {
     "name": "stdout",
     "output_type": "stream",
     "text": [
      "11\n",
      "True\n"
     ]
    }
   ],
   "source": [
    "class Date(object):\n",
    "\n",
    "    def __init__(self, day, month, year):\n",
    "        self.day = day\n",
    "        self.month = month\n",
    "        self.year = year\n",
    "    \n",
    "    @classmethod # must add @classmethod, otherwise it would be deemed as self.\n",
    "    def from_string(cls, date_as_string):\n",
    "        day, month, year = map(int, date_as_string.split('-'))\n",
    "        date1 = cls(day, month, year)\n",
    "        return date1 # date1 is a class not returning any thing\n",
    "\n",
    "    @staticmethod\n",
    "    def is_date_valid(date_as_string):\n",
    "        day, month, year = map(int, date_as_string.split('-'))\n",
    "        return day <= 31 and month <= 12 and year <= 3999\n",
    "\n",
    "\n",
    "date2 = Date.from_string('11-09-2012')\n",
    "\n",
    "is_date = Date.is_date_valid('11-09-2012')\n",
    "print(is_date)"
   ]
  },
  {
   "cell_type": "code",
   "execution_count": 144,
   "metadata": {},
   "outputs": [
    {
     "name": "stdout",
     "output_type": "stream",
     "text": [
      "date:  11 9 2012\n"
     ]
    }
   ],
   "source": [
    "a='11-09-2012'\n",
    "c,d,f=map(int,a.split('-'))\n",
    "print('date: ',c,d,f)\n"
   ]
  },
  {
   "cell_type": "markdown",
   "metadata": {},
   "source": [
    "cls is an object that holds class itself, not an instance of the class. It's pretty cool because if we inherit our Date class, all children will have from_string defined also."
   ]
  },
  {
   "cell_type": "markdown",
   "metadata": {},
   "source": [
    "## Example"
   ]
  },
  {
   "cell_type": "code",
   "execution_count": 20,
   "metadata": {},
   "outputs": [],
   "source": [
    "class Dog(object):\n",
    "\n",
    "    tricks = 0             # mistaken use of a class variable\n",
    "\n",
    "    def __init__(self, name):\n",
    "        self.name = name\n",
    "\n",
    "    def add_trick(self, trick):\n",
    "        return self.tricks+trick"
   ]
  },
  {
   "cell_type": "code",
   "execution_count": 21,
   "metadata": {},
   "outputs": [],
   "source": [
    "d = Dog('Fido')\n",
    "e = Dog('Buddy')\n",
    "tmp1=d.add_trick(1)\n",
    "tmp2=e.add_trick(2) "
   ]
  },
  {
   "cell_type": "code",
   "execution_count": 22,
   "metadata": {},
   "outputs": [
    {
     "data": {
      "text/plain": [
       "1"
      ]
     },
     "execution_count": 22,
     "metadata": {},
     "output_type": "execute_result"
    }
   ],
   "source": [
    "tmp1"
   ]
  },
  {
   "cell_type": "code",
   "execution_count": 23,
   "metadata": {},
   "outputs": [
    {
     "data": {
      "text/plain": [
       "2"
      ]
     },
     "execution_count": 23,
     "metadata": {},
     "output_type": "execute_result"
    }
   ],
   "source": [
    "tmp2"
   ]
  },
  {
   "cell_type": "markdown",
   "metadata": {},
   "source": [
    "## \\__slots__\n",
    "- \\__slots__用来限制实例的属性.\n",
    "- 使用\\__slots__要注意, \\__slots__定义的属性仅对当前类实例起作用,对继承的子类是不起作用的.\n",
    "- 除非在子类中也定义\\__slots__, 子类实例允许定义的属性就是自身的\\__slots__加上父类的\\__slots__."
   ]
  },
  {
   "cell_type": "code",
   "execution_count": 25,
   "metadata": {},
   "outputs": [],
   "source": [
    "class Student(object):\n",
    "    # 限定Student的attribute只能是下面两个\n",
    "    __slots__=('name','age')\n",
    "    pass"
   ]
  },
  {
   "cell_type": "code",
   "execution_count": 26,
   "metadata": {},
   "outputs": [],
   "source": [
    "s=Student()"
   ]
  },
  {
   "cell_type": "code",
   "execution_count": 27,
   "metadata": {},
   "outputs": [],
   "source": [
    "# 给 Student class 绑定属性(Attribute)\n",
    "s.name=10\n",
    "s.age=25"
   ]
  },
  {
   "cell_type": "code",
   "execution_count": 28,
   "metadata": {},
   "outputs": [
    {
     "ename": "AttributeError",
     "evalue": "'Student' object has no attribute 'score'",
     "output_type": "error",
     "traceback": [
      "\u001b[0;31m---------------------------------------------------------------------------\u001b[0m",
      "\u001b[0;31mAttributeError\u001b[0m                            Traceback (most recent call last)",
      "\u001b[0;32m<ipython-input-28-30fe9374d14a>\u001b[0m in \u001b[0;36m<module>\u001b[0;34m()\u001b[0m\n\u001b[1;32m      1\u001b[0m \u001b[0;31m# score属性不能被绑定，因为__slots__被限定了\u001b[0m\u001b[0;34m\u001b[0m\u001b[0;34m\u001b[0m\u001b[0m\n\u001b[0;32m----> 2\u001b[0;31m \u001b[0ms\u001b[0m\u001b[0;34m.\u001b[0m\u001b[0mscore\u001b[0m\u001b[0;34m=\u001b[0m\u001b[0;36m100\u001b[0m\u001b[0;34m\u001b[0m\u001b[0m\n\u001b[0m",
      "\u001b[0;31mAttributeError\u001b[0m: 'Student' object has no attribute 'score'"
     ]
    }
   ],
   "source": [
    "# score属性不能被绑定，因为__slots__被限定了\n",
    "s.score=100"
   ]
  },
  {
   "cell_type": "markdown",
   "metadata": {
    "collapsed": true
   },
   "source": [
    "# Inheritance\n",
    "\n",
    "- Super可以用来调用上层的method. 非多重继承的时候可以理解为调用父类的method.\n",
    "- 方法解析顺序(Method Resolution Order, MRO), 代表了类继承的顺序:\n",
    "    - 子类永远在父类前面\n",
    "    - 如果有多个父类，会根据它们在列表中的顺序被检查\n",
    "    - 如果对下一个类存在两个合法的选择，选择第一个父类\n",
    "- Super的用法详解: http://funhacks.net/explore-python/Class/super.html."
   ]
  },
  {
   "cell_type": "code",
   "execution_count": null,
   "metadata": {},
   "outputs": [],
   "source": [
    "'''This is the Parent Class (Also called as Super Class/ Base Class)'''\n",
    "class Animal(object):\n",
    "# continued\n",
    "    # below is a constructor to initialze an object, assigning values.\n",
    "    def __init__(self, name, height, weight, sound):\n",
    "        self.__name = name\n",
    "        self.__height = height\n",
    "        self.__weight = weight\n",
    "        self.__sound = sound\n",
    "        # above are privite variables cannot be accessed from  \n",
    "        self.test01 = 1 \n",
    "        self._test02 = 2\n",
    "        \n",
    "    # assigning values-----------\n",
    "    # below block is used for updating variables if needed later\n",
    "    def set_name(self, name):\n",
    "        self.__name = name\n",
    "\n",
    "    def set_height(self, height):\n",
    "        self.__height = height\n",
    "\n",
    "    def set_weight(self, weight):\n",
    "        self.__weight = weight\n",
    "\n",
    "    def set_sound(self, sound):\n",
    "        self.__sound = sound\n",
    "    \n",
    "    # get values-----------------\n",
    "    def get_name(self):\n",
    "        return self.__name\n",
    "\n",
    "    def get_height(self):\n",
    "        return str(self.__height)\n",
    "\n",
    "    def get_weight(self):\n",
    "        return str(self.__weight)\n",
    "\n",
    "    def get_sound(self):\n",
    "        return self.__sound\n",
    "\n",
    "    def get_type(self):\n",
    "        print(\"Animal\")\n",
    "        \n",
    "    def get_healthScore(self):\n",
    "        self.score = self.__height -self.__weight\n",
    "        return self.score\n",
    "    \n",
    "    # make it a string-----------\n",
    "    def toString(self):\n",
    "        return \"{} is {} cm tall and {} kilograms and says {}\".format(self.__name, self.__height, \\\n",
    "                                                                      self.__weight, self.__sound)"
   ]
  },
  {
   "cell_type": "code",
   "execution_count": 41,
   "metadata": {},
   "outputs": [
    {
     "name": "stdout",
     "output_type": "stream",
     "text": [
      "Spot is 53 cm tall and 27 kilograms and says Ruff. His owner is Derek\n",
      "Animal\n",
      "Dog\n",
      "RuffRuffRuffRuff\n"
     ]
    }
   ],
   "source": [
    "# You can inherit all of the variables and methods from another class\n",
    "\n",
    "class Dog(Animal):\n",
    "    __owner = None # 这行没用。。。\n",
    "\n",
    "    def __init__(self, name, height, weight, sound, owner):\n",
    "        self.__owner = owner\n",
    "        self.__animal_type = None\n",
    "\n",
    "        # Call the super class constructor \n",
    "        # 调用父类的init method, 上面的__init__, 只定义了两个attribute, 剩余的从Super Class继承(这个得用MRO排序.)\n",
    "        super(Dog, self).__init__(name, height, weight, sound)\n",
    "\n",
    "    def set_owner(self, owner):\n",
    "        self.__owner = owner\n",
    "\n",
    "    def get_owner(self):\n",
    "        return self.__owner\n",
    "\n",
    "    def get_type(self):\n",
    "        print (\"Dog\")\n",
    "\n",
    "    # We can overwrite functions in the super class\n",
    "    def toString(self):\n",
    "        return \"{} is {} cm tall and {} kilograms and says {}. His owner is {}\".format(self.get_name(), \\\n",
    "                                 self.get_height(), self.get_weight(), self.get_sound(), self.__owner)\n",
    "\n",
    "    # You don't have to require attributes to be sent\n",
    "    # This allows for method overloading\n",
    "    def multiple_sounds(self, how_many=None):\n",
    "        if how_many is None:\n",
    "            print(self.get_sound)\n",
    "        else:\n",
    "            print(self.get_sound() * how_many)\n",
    "\n",
    "spot = Dog(\"Spot\", 53, 27, \"Ruff\", \"Derek\")\n",
    "\n",
    "print(spot.toString())\n",
    "\n",
    "# Polymorphism allows use to refer to objects as their super class\n",
    "# and the correct functions are called automatically\n",
    "\n",
    "class AnimalTesting(object):\n",
    "    def get_type(self, animal):\n",
    "        animal.get_type()\n",
    "\n",
    "test_animals = AnimalTesting()\n",
    "\n",
    "test_animals.get_type(cat)\n",
    "test_animals.get_type(spot)\n",
    "\n",
    "spot.multiple_sounds(4)"
   ]
  },
  {
   "cell_type": "code",
   "execution_count": 92,
   "metadata": {},
   "outputs": [],
   "source": [
    "'''A simple example of Super'''\n",
    "class man:\n",
    "    def __init__(self, a):\n",
    "        print('a:',a)\n",
    "        print('negative a:',a*-1)\n",
    "\n",
    "class boy(man):\n",
    "    def __init__(self, a, b): \n",
    "        super().__init__(a)\n",
    "        if b:\n",
    "            print('boy')"
   ]
  },
  {
   "cell_type": "code",
   "execution_count": 95,
   "metadata": {},
   "outputs": [
    {
     "name": "stdout",
     "output_type": "stream",
     "text": [
      "a: 1\n",
      "negative a: -1\n",
      "boy\n"
     ]
    }
   ],
   "source": [
    "tmp=boy(1, 2)"
   ]
  },
  {
   "cell_type": "markdown",
   "metadata": {},
   "source": [
    "## Example\n",
    "https://jeffknupp.com/blog/2014/06/18/improve-your-python-python-classes-and-object-oriented-programming/\n",
    "https://docs.python.org/3/tutorial/classes.html#class-objects"
   ]
  },
  {
   "cell_type": "code",
   "execution_count": 35,
   "metadata": {
    "collapsed": true
   },
   "outputs": [],
   "source": [
    "from abc import ABCMeta, abstractmethod\n",
    "class Vehicle(object):\n",
    "    \"\"\"A vehicle for sale by Jeffco Car Dealership.\n",
    "\n",
    "\n",
    "    Attributes:\n",
    "        wheels: An integer representing the number of wheels the vehicle has.\n",
    "        miles: The integral number of miles driven on the vehicle.\n",
    "        make: The make of the vehicle as a string.\n",
    "        model: The model of the vehicle as a string.\n",
    "        year: The integral year the vehicle was built.\n",
    "        sold_on: The date the vehicle was sold.\n",
    "    \"\"\"\n",
    "\n",
    "    __metaclass__ = ABCMeta\n",
    "\n",
    "    base_sale_price = 0\n",
    "    wheels = 0\n",
    "\n",
    "    def __init__(self, miles, make, model, year, sold_on):\n",
    "        self.miles = miles\n",
    "        self.make = make\n",
    "        self.model = model\n",
    "        self.year = year\n",
    "        self.sold_on = sold_on\n",
    "\n",
    "    def sale_price(self):\n",
    "        \"\"\"Return the sale price for this vehicle as a float amount.\"\"\"\n",
    "        if self.sold_on is not None:\n",
    "            return 0.0  # Already sold\n",
    "        return 5000.0 * self.wheels\n",
    "\n",
    "    def purchase_price(self):\n",
    "        \"\"\"Return the price for which we would pay to purchase the vehicle.\"\"\"\n",
    "        if self.sold_on is None:\n",
    "            return 0.0  # Not yet sold\n",
    "        return self.base_sale_price - (.10 * self.miles)\n",
    "\n",
    "#     @abstractmethod\n",
    "#     def vehicle_type(self):\n",
    "#         \"\"\"\"Return a string representing the type of vehicle this is.\"\"\"\n",
    "#         pass\n",
    "\n",
    "class Car(Vehicle):\n",
    "    \"\"\"A car for sale by Jeffco Car Dealership.\"\"\"\n",
    "\n",
    "    base_sale_price = 8000\n",
    "    wheels = 4\n",
    "\n",
    "    def vehicle_type(self):\n",
    "        \"\"\"\"Return a string representing the type of vehicle this is.\"\"\"\n",
    "        return 'car'\n",
    "\n",
    "class Truck(Vehicle):\n",
    "    \"\"\"A truck for sale by Jeffco Car Dealership.\"\"\"\n",
    "\n",
    "    base_sale_price = 10000\n",
    "    wheels = 4\n",
    "\n",
    "    def vehicle_type(self):\n",
    "        \"\"\"\"Return a string representing the type of vehicle this is.\"\"\"\n",
    "        return 'truck'"
   ]
  },
  {
   "cell_type": "code",
   "execution_count": 36,
   "metadata": {
    "collapsed": true
   },
   "outputs": [],
   "source": [
    "x = Vehicle(100, 'haha', 'farari', 1993, 50000)\n",
    "y = Car(100, 'haha', 'farari', 1993, 50000)"
   ]
  },
  {
   "cell_type": "code",
   "execution_count": 37,
   "metadata": {},
   "outputs": [
    {
     "data": {
      "text/plain": [
       "7990.0"
      ]
     },
     "execution_count": 37,
     "metadata": {},
     "output_type": "execute_result"
    }
   ],
   "source": [
    "y.purchase_price()"
   ]
  },
  {
   "cell_type": "code",
   "execution_count": 38,
   "metadata": {},
   "outputs": [
    {
     "data": {
      "text/plain": [
       "'car'"
      ]
     },
     "execution_count": 38,
     "metadata": {},
     "output_type": "execute_result"
    }
   ],
   "source": [
    "y.vehicle_type()"
   ]
  },
  {
   "cell_type": "markdown",
   "metadata": {
    "collapsed": true
   },
   "source": [
    "# Terminal"
   ]
  },
  {
   "cell_type": "markdown",
   "metadata": {},
   "source": [
    "In this case, the top-level code is an if block.  __name__ is a built-in variable which evaluates to the name of the current module. However, if a module is being run directly (as in myscript.py above), then __name__ instead is set to the string \"__main__\". Thus, you can test whether your script is being run directly or being imported by something else by testing"
   ]
  },
  {
   "cell_type": "code",
   "execution_count": null,
   "metadata": {
    "collapsed": true
   },
   "outputs": [],
   "source": [
    "# avoid the script to be run if it is imported.\n",
    "if __name__ == \"__main__\":"
   ]
  },
  {
   "cell_type": "markdown",
   "metadata": {},
   "source": [
    "This will open this file and enter python environment:"
   ]
  },
  {
   "cell_type": "code",
   "execution_count": null,
   "metadata": {
    "collapsed": true
   },
   "outputs": [],
   "source": [
    "python3 -i file.py"
   ]
  }
 ],
 "metadata": {
  "kernelspec": {
   "display_name": "Python 3",
   "language": "python",
   "name": "python3"
  },
  "language_info": {
   "codemirror_mode": {
    "name": "ipython",
    "version": 3
   },
   "file_extension": ".py",
   "mimetype": "text/x-python",
   "name": "python",
   "nbconvert_exporter": "python",
   "pygments_lexer": "ipython3",
   "version": "3.6.5"
  },
  "toc": {
   "base_numbering": 1,
   "nav_menu": {
    "height": "396px",
    "width": "195px"
   },
   "number_sections": true,
   "sideBar": true,
   "skip_h1_title": false,
   "title_cell": "Table of Contents",
   "title_sidebar": "Contents",
   "toc_cell": true,
   "toc_position": {
    "height": "850px",
    "left": "0px",
    "right": "1458px",
    "top": "111px",
    "width": "296px"
   },
   "toc_section_display": "block",
   "toc_window_display": true
  }
 },
 "nbformat": 4,
 "nbformat_minor": 2
}
