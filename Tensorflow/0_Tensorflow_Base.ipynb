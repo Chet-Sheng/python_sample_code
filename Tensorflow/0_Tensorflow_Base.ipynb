{
 "cells": [
  {
   "cell_type": "code",
   "execution_count": 1,
   "metadata": {},
   "outputs": [
    {
     "name": "stderr",
     "output_type": "stream",
     "text": [
      "/usr/lib/python3.6/site-packages/h5py/__init__.py:36: FutureWarning: Conversion of the second argument of issubdtype from `float` to `np.floating` is deprecated. In future, it will be treated as `np.float64 == np.dtype(float).type`.\n",
      "  from ._conv import register_converters as _register_converters\n"
     ]
    }
   ],
   "source": [
    "import tensorflow as tf\n",
    "import numpy as np"
   ]
  },
  {
   "cell_type": "markdown",
   "metadata": {},
   "source": [
    "# Multiplication"
   ]
  },
  {
   "cell_type": "code",
   "execution_count": 2,
   "metadata": {},
   "outputs": [],
   "source": [
    "# Basic Operations with variable as graph input\n",
    "# The value returned by the constructor represents the output\n",
    "# of the Variable op. (define as input when running session)\n",
    "# tf Graph input\n",
    "a = tf.placeholder(tf.int16)\n",
    "b = tf.placeholder(tf.int16)"
   ]
  },
  {
   "cell_type": "code",
   "execution_count": 3,
   "metadata": {},
   "outputs": [],
   "source": [
    "# Define some operations\n",
    "add = tf.add(a, b)\n",
    "mul = tf.multiply(a, b)"
   ]
  },
  {
   "cell_type": "code",
   "execution_count": 4,
   "metadata": {},
   "outputs": [
    {
     "name": "stdout",
     "output_type": "stream",
     "text": [
      "Addition with variables: 5\n",
      "Multiplication with variables: 6\n"
     ]
    }
   ],
   "source": [
    "# Launch the default graph.\n",
    "with tf.Session() as sess:\n",
    "    # Run every operation with variable input\n",
    "    print (\"Addition with variables: %i\" % sess.run(add, feed_dict={a: 2, b: 3}))\n",
    "    print (\"Multiplication with variables: %i\" % sess.run(mul, feed_dict={a: 2, b: 3}))"
   ]
  },
  {
   "cell_type": "markdown",
   "metadata": {
    "collapsed": true
   },
   "source": [
    "# Transpose, reshape, split"
   ]
  },
  {
   "cell_type": "code",
   "execution_count": 5,
   "metadata": {},
   "outputs": [],
   "source": [
    "norm = tf.random_normal([2, 3], mean=-1, stddev=4)"
   ]
  },
  {
   "cell_type": "code",
   "execution_count": 6,
   "metadata": {},
   "outputs": [
    {
     "name": "stdout",
     "output_type": "stream",
     "text": [
      "norm:\n",
      " [[[-4.4324436  -1.7864919  -0.4441982  -5.885107  ]\n",
      "  [-2.6136513  -5.5816164   1.5592961  -7.3064475 ]\n",
      "  [-5.1040425   1.5140333  -4.312895    0.38670862]]\n",
      "\n",
      " [[ 4.5946374   3.2871914   3.8917308  -1.2915606 ]\n",
      "  [ 0.66414404  1.3910279   1.5351808   0.6709045 ]\n",
      "  [ 2.3049917  -5.645281    2.3798478  -4.5707197 ]]]\n",
      "\n",
      "transpose:\n",
      " [[[-4.4324436  -1.7864919  -0.4441982  -5.885107  ]\n",
      "  [-2.6136513  -5.5816164   1.5592961  -7.3064475 ]\n",
      "  [-5.1040425   1.5140333  -4.312895    0.38670862]]\n",
      "\n",
      " [[ 4.5946374   3.2871914   3.8917308  -1.2915606 ]\n",
      "  [ 0.66414404  1.3910279   1.5351808   0.6709045 ]\n",
      "  [ 2.3049917  -5.645281    2.3798478  -4.5707197 ]]]\n"
     ]
    }
   ],
   "source": [
    "sess = tf.InteractiveSession()\n",
    "norm = tf.random_normal([2, 3, 4], mean=-1, stddev=4, seed=2)\n",
    "B=tf.transpose(norm, [0,1,2])\n",
    "#如果这两个不一起run的话，取值会不一样\n",
    "a,b = sess.run((norm, B))\n",
    "print('norm:\\n',a)\n",
    "print('\\ntranspose:\\n',b)"
   ]
  },
  {
   "cell_type": "code",
   "execution_count": 7,
   "metadata": {},
   "outputs": [
    {
     "name": "stdout",
     "output_type": "stream",
     "text": [
      "X_norm:\n",
      " [[[-4.4324436  -1.7864919  -0.4441982  -5.885107  ]\n",
      "  [-2.6136513  -5.5816164   1.5592961  -7.3064475 ]\n",
      "  [-5.1040425   1.5140333  -4.312895    0.38670862]]\n",
      "\n",
      " [[ 4.5946374   3.2871914   3.8917308  -1.2915606 ]\n",
      "  [ 0.66414404  1.3910279   1.5351808   0.6709045 ]\n",
      "  [ 2.3049917  -5.645281    2.3798478  -4.5707197 ]]]\n",
      "\n",
      "X_transpose:\n",
      " [[[-4.4324436  -2.6136513  -5.1040425 ]\n",
      "  [-1.7864919  -5.5816164   1.5140333 ]\n",
      "  [-0.4441982   1.5592961  -4.312895  ]\n",
      "  [-5.885107   -7.3064475   0.38670862]]\n",
      "\n",
      " [[ 4.5946374   0.66414404  2.3049917 ]\n",
      "  [ 3.2871914   1.3910279  -5.645281  ]\n",
      "  [ 3.8917308   1.5351808   2.3798478 ]\n",
      "  [-1.2915606   0.6709045  -4.5707197 ]]]\n",
      "\n",
      "shape of b:\n",
      " (2, 4, 3)\n",
      "\n",
      "X_split:\n",
      " [array([[[-4.4324436 , -2.6136513 , -5.1040425 ],\n",
      "        [-1.7864919 , -5.5816164 ,  1.5140333 ],\n",
      "        [-0.4441982 ,  1.5592961 , -4.312895  ],\n",
      "        [-5.885107  , -7.3064475 ,  0.38670862]]], dtype=float32), array([[[ 4.5946374 ,  0.66414404,  2.3049917 ],\n",
      "        [ 3.2871914 ,  1.3910279 , -5.645281  ],\n",
      "        [ 3.8917308 ,  1.5351808 ,  2.3798478 ],\n",
      "        [-1.2915606 ,  0.6709045 , -4.5707197 ]]], dtype=float32)]\n"
     ]
    }
   ],
   "source": [
    "X = tf.random_normal([2, 3, 4], mean=-1, stddev=4, seed=2)\n",
    "XT = tf.transpose(X, perm=[0,2,1])\n",
    "X_split = tf.split(XT, 2, axis=0)\n",
    "\n",
    "#如果这两个不一起run的话，取值会不一样\n",
    "a,b,c = sess.run((X, XT, X_split))\n",
    "print('X_norm:\\n',a)\n",
    "print('\\nX_transpose:\\n',b)\n",
    "print('\\nshape of b:\\n', np.shape(b))\n",
    "print('\\nX_split:\\n', c)"
   ]
  },
  {
   "cell_type": "code",
   "execution_count": 8,
   "metadata": {},
   "outputs": [
    {
     "data": {
      "text/plain": [
       "array([[[-4.4324436 , -2.6136513 , -5.1040425 ],\n",
       "        [-1.7864919 , -5.5816164 ,  1.5140333 ],\n",
       "        [-0.4441982 ,  1.5592961 , -4.312895  ],\n",
       "        [-5.885107  , -7.3064475 ,  0.38670862]],\n",
       "\n",
       "       [[ 4.5946374 ,  0.66414404,  2.3049917 ],\n",
       "        [ 3.2871914 ,  1.3910279 , -5.645281  ],\n",
       "        [ 3.8917308 ,  1.5351808 ,  2.3798478 ],\n",
       "        [-1.2915606 ,  0.6709045 , -4.5707197 ]]], dtype=float32)"
      ]
     },
     "execution_count": 8,
     "metadata": {},
     "output_type": "execute_result"
    }
   ],
   "source": [
    "b"
   ]
  },
  {
   "cell_type": "code",
   "execution_count": 9,
   "metadata": {},
   "outputs": [
    {
     "data": {
      "text/plain": [
       "array([[[-4.4324436 , -2.6136513 , -5.1040425 ],\n",
       "        [-1.7864919 , -5.5816164 ,  1.5140333 ],\n",
       "        [-0.4441982 ,  1.5592961 , -4.312895  ],\n",
       "        [-5.885107  , -7.3064475 ,  0.38670862]]], dtype=float32)"
      ]
     },
     "execution_count": 9,
     "metadata": {},
     "output_type": "execute_result"
    }
   ],
   "source": [
    "c[0]"
   ]
  },
  {
   "cell_type": "markdown",
   "metadata": {},
   "source": [
    "# Tensor Indexing"
   ]
  },
  {
   "cell_type": "markdown",
   "metadata": {},
   "source": [
    "## tf.slice\n",
    "- input: Tensor\n",
    "- begin: starting location for each dimension of input\n",
    "- size: number of elements for each dimension of input, **using -1 includes all remaining elements**"
   ]
  },
  {
   "cell_type": "code",
   "execution_count": 190,
   "metadata": {},
   "outputs": [
    {
     "name": "stdout",
     "output_type": "stream",
     "text": [
      "A:\n",
      " [[[1 1]\n",
      "  [2 2]\n",
      "  [3 3]]\n",
      "\n",
      " [[4 4]\n",
      "  [5 5]\n",
      "  [6 6]]]\n",
      "\n",
      "B:\n",
      " [[[1 1]\n",
      "  [2 2]]\n",
      "\n",
      " [[4 4]\n",
      "  [5 5]]]\n"
     ]
    }
   ],
   "source": [
    "# sess=tf.InteractiveSession()\n",
    "A=tf.constant([[[1,1],[2,2],[3,3]],[[4,4],[5,5],[6,6]]])\n",
    "'''\n",
    "tf.slice:\n",
    "-----------\n",
    "input: Tensor\n",
    "begin: starting location for each dimension of input\n",
    "size: number of elements for each dimension of input, using -1 includes all remaining elements\n",
    "'''\n",
    "B=tf.slice(A, begin=[0,0,0], size=[2, 2, 2])\n",
    "print('A:\\n',sess.run(A))\n",
    "print('\\nB:\\n',sess.run(B))"
   ]
  },
  {
   "cell_type": "code",
   "execution_count": 178,
   "metadata": {},
   "outputs": [],
   "source": [
    "t = tf.constant([[[1, 1, 1], [2, 2, 2]],\n",
    "                 [[3, 3, 3], [4, 4, 4]],\n",
    "                 [[5, 5, 5], [6, 6, 6]]])\n",
    "tmp1=tf.slice(t, [1, 0, 0], [1, 1, 3])  # [[[3, 3, 3]]]\n",
    "tmp2=tf.slice(t, [1, 0, 0], [1, 2, 3])  # [[[3, 3, 3], [4, 4, 4]]]\n",
    "tmp3=tf.slice(t, [1, 0, 0], [2, 1, 3]) "
   ]
  },
  {
   "cell_type": "code",
   "execution_count": 179,
   "metadata": {},
   "outputs": [
    {
     "data": {
      "text/plain": [
       "array([[[3, 3, 3]]], dtype=int32)"
      ]
     },
     "execution_count": 179,
     "metadata": {},
     "output_type": "execute_result"
    }
   ],
   "source": [
    "sess.run(tmp1)"
   ]
  },
  {
   "cell_type": "code",
   "execution_count": 180,
   "metadata": {},
   "outputs": [
    {
     "data": {
      "text/plain": [
       "array([[[3, 3, 3],\n",
       "        [4, 4, 4]]], dtype=int32)"
      ]
     },
     "execution_count": 180,
     "metadata": {},
     "output_type": "execute_result"
    }
   ],
   "source": [
    "sess.run(tmp2)"
   ]
  },
  {
   "cell_type": "code",
   "execution_count": 181,
   "metadata": {},
   "outputs": [
    {
     "data": {
      "text/plain": [
       "array([[[3, 3, 3]],\n",
       "\n",
       "       [[5, 5, 5]]], dtype=int32)"
      ]
     },
     "execution_count": 181,
     "metadata": {},
     "output_type": "execute_result"
    }
   ],
   "source": [
    "sess.run(tmp3)"
   ]
  },
  {
   "cell_type": "markdown",
   "metadata": {},
   "source": [
    "# tf.gather & tf.gather_nd\n",
    "- https://www.tensorflow.org/api_docs/python/tf/gather_nd\n",
    "- https://www.tensorflow.org/api_docs/python/tf/gather"
   ]
  },
  {
   "cell_type": "code",
   "execution_count": null,
   "metadata": {},
   "outputs": [],
   "source": []
  },
  {
   "cell_type": "code",
   "execution_count": null,
   "metadata": {},
   "outputs": [],
   "source": []
  },
  {
   "cell_type": "code",
   "execution_count": 46,
   "metadata": {},
   "outputs": [],
   "source": [
    "t1 = [[1, 2, 3], [4, 5, 6]]\n",
    "t2 = [[7, 8, 9], [10, 11, 12]]\n",
    "t3=[t1, t2]"
   ]
  },
  {
   "cell_type": "code",
   "execution_count": 48,
   "metadata": {},
   "outputs": [
    {
     "data": {
      "text/plain": [
       "(2, 2, 3)"
      ]
     },
     "execution_count": 48,
     "metadata": {},
     "output_type": "execute_result"
    }
   ],
   "source": [
    "np.shape(t3)"
   ]
  },
  {
   "cell_type": "code",
   "execution_count": 52,
   "metadata": {},
   "outputs": [
    {
     "data": {
      "text/plain": [
       "array([[[ 1,  2,  3],\n",
       "        [ 4,  5,  6]],\n",
       "\n",
       "       [[ 7,  8,  9],\n",
       "        [10, 11, 12]]])"
      ]
     },
     "execution_count": 52,
     "metadata": {},
     "output_type": "execute_result"
    }
   ],
   "source": [
    "np.array(t3)"
   ]
  },
  {
   "cell_type": "code",
   "execution_count": 50,
   "metadata": {},
   "outputs": [
    {
     "data": {
      "text/plain": [
       "array([[ 1,  2,  3],\n",
       "       [ 4,  5,  6],\n",
       "       [ 7,  8,  9],\n",
       "       [10, 11, 12]], dtype=int32)"
      ]
     },
     "execution_count": 50,
     "metadata": {},
     "output_type": "execute_result"
    }
   ],
   "source": [
    "sess.run(tf.concat(t3, axis=0))"
   ]
  },
  {
   "cell_type": "code",
   "execution_count": 44,
   "metadata": {},
   "outputs": [
    {
     "name": "stderr",
     "output_type": "stream",
     "text": [
      "/usr/lib/python3.6/site-packages/tensorflow/python/client/session.py:1711: UserWarning: An interactive session is already active. This can cause out-of-memory errors in some cases. You must explicitly call `InteractiveSession.close()` to release resources held by the other session(s).\n",
      "  warnings.warn('An interactive session is already active. This can '\n"
     ]
    },
    {
     "data": {
      "text/plain": [
       "array([[[-4.4324436 , -1.7864919 , -0.4441982 , -5.885107  ],\n",
       "        [-2.6136513 , -5.5816164 ,  1.5592961 , -7.3064475 ],\n",
       "        [-5.1040425 ,  1.5140333 , -4.312895  ,  0.38670862]],\n",
       "\n",
       "       [[ 4.5946374 ,  3.2871914 ,  3.8917308 , -1.2915606 ],\n",
       "        [ 0.66414404,  1.3910279 ,  1.5351808 ,  0.6709045 ],\n",
       "        [ 2.3049917 , -5.645281  ,  2.3798478 , -4.5707197 ]]],\n",
       "      dtype=float32)"
      ]
     },
     "execution_count": 44,
     "metadata": {},
     "output_type": "execute_result"
    }
   ],
   "source": [
    "sess = tf.InteractiveSession()\n",
    "norm = tf.random_normal([2, 3, 4], mean=-1, stddev=4, seed=2)\n",
    "sess.run(tf.concat(norm, axis=0))"
   ]
  },
  {
   "cell_type": "code",
   "execution_count": 34,
   "metadata": {},
   "outputs": [
    {
     "data": {
      "text/plain": [
       "array([[[ 1.8800287 , -2.551282  , -2.8095226 ,  2.8253038 ],\n",
       "        [-3.3386943 ,  4.448929  , -3.208882  ,  0.83451724],\n",
       "        [-7.983199  , -3.5477114 ,  1.3000367 , -0.14389127]],\n",
       "\n",
       "       [[-1.6816882 , -4.810048  , -4.3068886 , -1.4531379 ],\n",
       "        [ 3.9501557 , -5.481842  , -4.223766  , -6.3029575 ],\n",
       "        [-2.6366472 , -5.7130976 , -4.6283875 , -2.1138787 ]]],\n",
       "      dtype=float32)"
      ]
     },
     "execution_count": 34,
     "metadata": {},
     "output_type": "execute_result"
    }
   ],
   "source": [
    "sess.run(norm)"
   ]
  },
  {
   "cell_type": "code",
   "execution_count": 20,
   "metadata": {},
   "outputs": [
    {
     "ename": "TypeError",
     "evalue": "Using a `tf.Tensor` as a Python `bool` is not allowed. Use `if t is not None:` instead of `if t:` to test if a tensor is defined, and use TensorFlow ops such as tf.cond to execute subgraphs conditioned on the value of a tensor.",
     "output_type": "error",
     "traceback": [
      "\u001b[0;31m---------------------------------------------------------------------------\u001b[0m",
      "\u001b[0;31mTypeError\u001b[0m                                 Traceback (most recent call last)",
      "\u001b[0;32m<ipython-input-20-40922d6bb1eb>\u001b[0m in \u001b[0;36m<module>\u001b[0;34m()\u001b[0m\n\u001b[0;32m----> 1\u001b[0;31m \u001b[0ma\u001b[0m\u001b[0;34m,\u001b[0m\u001b[0mb\u001b[0m\u001b[0;34m=\u001b[0m\u001b[0msess\u001b[0m\u001b[0;34m.\u001b[0m\u001b[0mrun\u001b[0m\u001b[0;34m(\u001b[0m\u001b[0mnorm\u001b[0m\u001b[0;34m,\u001b[0m \u001b[0mtf\u001b[0m\u001b[0;34m.\u001b[0m\u001b[0mconcat\u001b[0m\u001b[0;34m(\u001b[0m\u001b[0mnorm\u001b[0m\u001b[0;34m,\u001b[0m \u001b[0maxis\u001b[0m\u001b[0;34m=\u001b[0m\u001b[0;36m1\u001b[0m\u001b[0;34m)\u001b[0m\u001b[0;34m)\u001b[0m\u001b[0;34m\u001b[0m\u001b[0m\n\u001b[0m",
      "\u001b[0;32m/usr/lib/python3.6/site-packages/tensorflow/python/client/session.py\u001b[0m in \u001b[0;36mrun\u001b[0;34m(self, fetches, feed_dict, options, run_metadata)\u001b[0m\n\u001b[1;32m    898\u001b[0m     \u001b[0;32mtry\u001b[0m\u001b[0;34m:\u001b[0m\u001b[0;34m\u001b[0m\u001b[0m\n\u001b[1;32m    899\u001b[0m       result = self._run(None, fetches, feed_dict, options_ptr,\n\u001b[0;32m--> 900\u001b[0;31m                          run_metadata_ptr)\n\u001b[0m\u001b[1;32m    901\u001b[0m       \u001b[0;32mif\u001b[0m \u001b[0mrun_metadata\u001b[0m\u001b[0;34m:\u001b[0m\u001b[0;34m\u001b[0m\u001b[0m\n\u001b[1;32m    902\u001b[0m         \u001b[0mproto_data\u001b[0m \u001b[0;34m=\u001b[0m \u001b[0mtf_session\u001b[0m\u001b[0;34m.\u001b[0m\u001b[0mTF_GetBuffer\u001b[0m\u001b[0;34m(\u001b[0m\u001b[0mrun_metadata_ptr\u001b[0m\u001b[0;34m)\u001b[0m\u001b[0;34m\u001b[0m\u001b[0m\n",
      "\u001b[0;32m/usr/lib/python3.6/site-packages/tensorflow/python/client/session.py\u001b[0m in \u001b[0;36m_run\u001b[0;34m(self, handle, fetches, feed_dict, options, run_metadata)\u001b[0m\n\u001b[1;32m   1067\u001b[0m     \u001b[0;31m# Validate and process feed_dict.\u001b[0m\u001b[0;34m\u001b[0m\u001b[0;34m\u001b[0m\u001b[0m\n\u001b[1;32m   1068\u001b[0m     \u001b[0mfeed_handles\u001b[0m \u001b[0;34m=\u001b[0m \u001b[0;34m{\u001b[0m\u001b[0;34m}\u001b[0m\u001b[0;34m\u001b[0m\u001b[0m\n\u001b[0;32m-> 1069\u001b[0;31m     \u001b[0;32mif\u001b[0m \u001b[0mfeed_dict\u001b[0m\u001b[0;34m:\u001b[0m\u001b[0;34m\u001b[0m\u001b[0m\n\u001b[0m\u001b[1;32m   1070\u001b[0m       \u001b[0mfeed_dict\u001b[0m \u001b[0;34m=\u001b[0m \u001b[0mnest\u001b[0m\u001b[0;34m.\u001b[0m\u001b[0mflatten_dict_items\u001b[0m\u001b[0;34m(\u001b[0m\u001b[0mfeed_dict\u001b[0m\u001b[0;34m)\u001b[0m\u001b[0;34m\u001b[0m\u001b[0m\n\u001b[1;32m   1071\u001b[0m       \u001b[0;32mfor\u001b[0m \u001b[0mfeed\u001b[0m\u001b[0;34m,\u001b[0m \u001b[0mfeed_val\u001b[0m \u001b[0;32min\u001b[0m \u001b[0mfeed_dict\u001b[0m\u001b[0;34m.\u001b[0m\u001b[0mitems\u001b[0m\u001b[0;34m(\u001b[0m\u001b[0;34m)\u001b[0m\u001b[0;34m:\u001b[0m\u001b[0;34m\u001b[0m\u001b[0m\n",
      "\u001b[0;32m/usr/lib/python3.6/site-packages/tensorflow/python/framework/ops.py\u001b[0m in \u001b[0;36m__bool__\u001b[0;34m(self)\u001b[0m\n\u001b[1;32m    666\u001b[0m       \u001b[0;31m`\u001b[0m\u001b[0mTypeError\u001b[0m\u001b[0;31m`\u001b[0m\u001b[0;34m.\u001b[0m\u001b[0;34m\u001b[0m\u001b[0m\n\u001b[1;32m    667\u001b[0m     \"\"\"\n\u001b[0;32m--> 668\u001b[0;31m     raise TypeError(\"Using a `tf.Tensor` as a Python `bool` is not allowed. \"\n\u001b[0m\u001b[1;32m    669\u001b[0m                     \u001b[0;34m\"Use `if t is not None:` instead of `if t:` to test if a \"\u001b[0m\u001b[0;34m\u001b[0m\u001b[0m\n\u001b[1;32m    670\u001b[0m                     \u001b[0;34m\"tensor is defined, and use TensorFlow ops such as \"\u001b[0m\u001b[0;34m\u001b[0m\u001b[0m\n",
      "\u001b[0;31mTypeError\u001b[0m: Using a `tf.Tensor` as a Python `bool` is not allowed. Use `if t is not None:` instead of `if t:` to test if a tensor is defined, and use TensorFlow ops such as tf.cond to execute subgraphs conditioned on the value of a tensor."
     ]
    }
   ],
   "source": [
    "a,b=sess.run(norm, tf.concat(norm, axis=1))"
   ]
  }
 ],
 "metadata": {
  "kernelspec": {
   "display_name": "Python 3",
   "language": "python",
   "name": "python3"
  },
  "language_info": {
   "codemirror_mode": {
    "name": "ipython",
    "version": 3
   },
   "file_extension": ".py",
   "mimetype": "text/x-python",
   "name": "python",
   "nbconvert_exporter": "python",
   "pygments_lexer": "ipython3",
   "version": "3.6.5"
  },
  "toc": {
   "base_numbering": 1,
   "nav_menu": {},
   "number_sections": true,
   "sideBar": true,
   "skip_h1_title": false,
   "title_cell": "Table of Contents",
   "title_sidebar": "Contents",
   "toc_cell": false,
   "toc_position": {},
   "toc_section_display": true,
   "toc_window_display": true
  }
 },
 "nbformat": 4,
 "nbformat_minor": 2
}
