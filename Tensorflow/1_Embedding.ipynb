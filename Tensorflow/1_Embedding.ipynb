{
 "cells": [
  {
   "cell_type": "code",
   "execution_count": 1,
   "metadata": {},
   "outputs": [
    {
     "name": "stderr",
     "output_type": "stream",
     "text": [
      "/usr/lib/python3.6/site-packages/h5py/__init__.py:36: FutureWarning: Conversion of the second argument of issubdtype from `float` to `np.floating` is deprecated. In future, it will be treated as `np.float64 == np.dtype(float).type`.\n",
      "  from ._conv import register_converters as _register_converters\n"
     ]
    }
   ],
   "source": [
    "import numpy as np\n",
    "import tensorflow as tf"
   ]
  },
  {
   "cell_type": "markdown",
   "metadata": {},
   "source": [
    "## Lookup a value from a vector"
   ]
  },
  {
   "cell_type": "code",
   "execution_count": 2,
   "metadata": {},
   "outputs": [],
   "source": [
    "sess=tf.InteractiveSession()"
   ]
  },
  {
   "cell_type": "code",
   "execution_count": 3,
   "metadata": {},
   "outputs": [
    {
     "name": "stdout",
     "output_type": "stream",
     "text": [
      "[10 20 30 40]\n"
     ]
    }
   ],
   "source": [
    "params = tf.constant([10,20,30,40])\n",
    "ids = tf.constant([0,1,2,3])\n",
    "\n",
    "print (tf.nn.embedding_lookup(params,ids).eval())"
   ]
  },
  {
   "cell_type": "markdown",
   "metadata": {},
   "source": [
    "## Lookup from a matrix"
   ]
  },
  {
   "cell_type": "code",
   "execution_count": 4,
   "metadata": {},
   "outputs": [
    {
     "name": "stdout",
     "output_type": "stream",
     "text": [
      "Parameter Matrix is:\n",
      " [[41  6 46]\n",
      " [27 39 45]\n",
      " [47 27 24]\n",
      " [26 39 13]]\n",
      "\n",
      "IDs is: \n",
      " Tensor(\"Const_2:0\", shape=(1,), dtype=int32)\n",
      "\n",
      "Embedding Lookup Result is:\n",
      " [[47 27 24]]\n"
     ]
    }
   ],
   "source": [
    "params = tf.random_uniform(shape=[4,3],minval=0, maxval=50,dtype=tf.int32,seed=2)\n",
    "ids = tf.constant([2])\n",
    "lookup = tf.nn.embedding_lookup(params, ids)\n",
    "\n",
    "Parameters, IDs, Lookup = sess.run([params, ids, lookup])\n",
    "print('Parameter Matrix is:\\n', Parameters)\n",
    "print('\\nIDs is: \\n', ids)\n",
    "print('\\nEmbedding Lookup Result is:\\n', Lookup)"
   ]
  },
  {
   "cell_type": "code",
   "execution_count": null,
   "metadata": {},
   "outputs": [],
   "source": []
  }
 ],
 "metadata": {
  "kernelspec": {
   "display_name": "Python 3",
   "language": "python",
   "name": "python3"
  },
  "language_info": {
   "codemirror_mode": {
    "name": "ipython",
    "version": 3
   },
   "file_extension": ".py",
   "mimetype": "text/x-python",
   "name": "python",
   "nbconvert_exporter": "python",
   "pygments_lexer": "ipython3",
   "version": "3.6.6"
  },
  "toc": {
   "base_numbering": 1,
   "nav_menu": {},
   "number_sections": true,
   "sideBar": true,
   "skip_h1_title": false,
   "title_cell": "Table of Contents",
   "title_sidebar": "Contents",
   "toc_cell": false,
   "toc_position": {},
   "toc_section_display": "block",
   "toc_window_display": false
  }
 },
 "nbformat": 4,
 "nbformat_minor": 2
}
