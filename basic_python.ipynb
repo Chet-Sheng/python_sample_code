{
  "nbformat": 4,
  "nbformat_minor": 0,
  "metadata": {
    "kernelspec": {
      "display_name": "Python 3",
      "language": "python",
      "name": "python3"
    },
    "language_info": {
      "codemirror_mode": {
        "name": "ipython",
        "version": 3
      },
      "file_extension": ".py",
      "mimetype": "text/x-python",
      "name": "python",
      "nbconvert_exporter": "python",
      "pygments_lexer": "ipython3",
      "version": "3.6.8"
    },
    "pycharm": {
      "stem_cell": {
        "cell_type": "raw",
        "metadata": {
          "collapsed": false
        },
        "source": []
      }
    },
    "toc": {
      "base_numbering": 1,
      "nav_menu": {
        "height": "396px",
        "width": "195px"
      },
      "number_sections": true,
      "sideBar": true,
      "skip_h1_title": false,
      "title_cell": "Table of Contents",
      "title_sidebar": "Contents",
      "toc_cell": true,
      "toc_position": {
        "height": "850px",
        "left": "0px",
        "right": "1458px",
        "top": "111px",
        "width": "296px"
      },
      "toc_section_display": "block",
      "toc_window_display": true
    },
    "toc-autonumbering": true,
    "toc-showcode": false,
    "toc-showmarkdowntxt": false,
    "toc-showtags": false,
    "colab": {
      "name": "basic_python.ipynb",
      "provenance": [],
      "collapsed_sections": [
        "IaNffKvz_fXs",
        "JVp_k3WU_fX-",
        "wQ5u4x7s_fYH",
        "eCfmMb9G_fYW",
        "3rEvchff_fYf",
        "8uhA1VhA_fYh",
        "ZfN4o1YK_fYm",
        "ZDi-QHld_fYt",
        "x_6Pe6Gg_fYv",
        "Sw9I1AeB_fY7",
        "GmalkcWG_fY_",
        "bpD0WV7i_fZC",
        "WcsrmmeD_fZF",
        "wrnbfcwA_fZK",
        "WzF8wOXr_fZR",
        "R47v9I2X_fZW",
        "075kaoWy_fZY",
        "bPmiaawS_fZZ",
        "zUFtY6Mm_fZu",
        "1Zzq6sPj_fZ_"
      ],
      "toc_visible": true,
      "include_colab_link": true
    }
  },
  "cells": [
    {
      "cell_type": "markdown",
      "metadata": {
        "id": "view-in-github",
        "colab_type": "text"
      },
      "source": [
        "<a href=\"https://colab.research.google.com/github/Chet-Sheng/python_sample_code/blob/master/basic_python.ipynb\" target=\"_parent\"><img src=\"https://colab.research.google.com/assets/colab-badge.svg\" alt=\"Open In Colab\"/></a>"
      ]
    },
    {
      "cell_type": "markdown",
      "metadata": {
        "id": "fbS3rOL3HbIW"
      },
      "source": [
        "# Links to other Notebooks\n",
        "- [Python Data Structure](https://colab.research.google.com/drive/1NII-_1t4H1gD-dI7CavJa-7VltibUyLp#scrollTo=zgIIuZ-97fLW)\n",
        "\n",
        "- [Collections Module](https://colab.research.google.com/drive/1F48ctQ05BFDvyj_pq9hqDz0wtK7TnULE#scrollTo=YRVFgtw0drhp)"
      ]
    },
    {
      "cell_type": "markdown",
      "metadata": {
        "id": "NrgR0Vta_fW8"
      },
      "source": [
        "# Shape in Python"
      ]
    },
    {
      "cell_type": "code",
      "metadata": {
        "id": "D5VLpfIO_fW9"
      },
      "source": [
        "import numpy as np"
      ],
      "execution_count": null,
      "outputs": []
    },
    {
      "cell_type": "code",
      "metadata": {
        "pycharm": {
          "is_executing": false
        },
        "id": "Hnq6EgUw_fXB",
        "outputId": "6e9fcab6-6362-49dd-d2b4-4e6073edcf63"
      },
      "source": [
        "matrix = np.ones([3,1])\n",
        "\n",
        "print('matrix:\\n',matrix)\n",
        "print('\\n注意下, 括号的层次和matrix shape的关系.')\n",
        "print('\\nshape of matrix:', np.shape(matrix))"
      ],
      "execution_count": null,
      "outputs": [
        {
          "output_type": "stream",
          "text": [
            "matrix:\n",
            " [[1.]\n",
            " [1.]\n",
            " [1.]]\n",
            "\n",
            "注意下, 括号的层次和matrix shape的关系.\n",
            "\n",
            "shape of matrix: (3, 1)\n"
          ],
          "name": "stdout"
        }
      ]
    },
    {
      "cell_type": "code",
      "metadata": {
        "id": "4UAmJ-YI_fXF",
        "outputId": "86611835-a190-4ff3-ed30-29375f668a01"
      },
      "source": [
        "matrix = np.ones([3,1,1])\n",
        "print('matrix:\\n',matrix)\n",
        "print('\\n注意下, 括号的层次和matrix shape的关系.')\n",
        "print('\\nshape of matrix:', np.shape(matrix))"
      ],
      "execution_count": null,
      "outputs": [
        {
          "output_type": "stream",
          "text": [
            "matrix:\n",
            " [[[1.]]\n",
            "\n",
            " [[1.]]\n",
            "\n",
            " [[1.]]]\n",
            "\n",
            "注意下, 括号的层次和matrix shape的关系.\n",
            "\n",
            "shape of matrix: (3, 1, 1)\n"
          ],
          "name": "stdout"
        }
      ]
    },
    {
      "cell_type": "markdown",
      "metadata": {
        "toc-hr-collapsed": true,
        "id": "lOP_pLkO_fXH"
      },
      "source": [
        "# List\n",
        "- A list allows you to create a list of values and manipulate them\n",
        "- Each value has an index with the first one starting at 0"
      ]
    },
    {
      "cell_type": "code",
      "metadata": {
        "id": "xXhqmMXi_fXI",
        "outputId": "f8079acd-d560-423c-954e-3faf38cb59bb"
      },
      "source": [
        "# LISTS -----------------------------------------------------------\n",
        "\n",
        "grocery_list = ['Juice', 'Tomatoes', 'Potatoes', 'Bananas']\n",
        "print('The first item is', grocery_list[1])\n",
        "\n",
        "# You can change the value stored in a list box\n",
        "grocery_list[0] = \"Green Juice\"\n",
        "print(grocery_list)"
      ],
      "execution_count": null,
      "outputs": [
        {
          "output_type": "stream",
          "text": [
            "The first item is Tomatoes\n",
            "['Green Juice', 'Tomatoes', 'Potatoes', 'Bananas']\n"
          ],
          "name": "stdout"
        }
      ]
    },
    {
      "cell_type": "code",
      "metadata": {
        "id": "T1QbIgCw_fXL",
        "outputId": "02f237ca-8884-4c07-ff3c-273b32df0581"
      },
      "source": [
        "# You can get a subset of the list with [min:up to but not including max]\n",
        "\n",
        "print(grocery_list[1:3])\n",
        "\n",
        "# You can put any data type in a a list including a list\n",
        "other_events = ['Wash Car', 'Pick up Kids', 'Cash Check']\n",
        "to_do_list = [other_events, grocery_list]\n",
        "\n",
        "print(to_do_list)\n",
        "\n",
        "# Get the second item in the second list (Boxes inside of boxes)\n",
        "print(to_do_list[1][1])\n",
        "\n",
        "# You add values using append\n",
        "grocery_list.append('onions')\n",
        "print(to_do_list)\n",
        "\n",
        "# Insert item at given index\n",
        "grocery_list.insert(1, \"Pickle\")\n",
        "\n",
        "# Remove item from list\n",
        "grocery_list.remove(\"Pickle\")\n",
        "\n",
        "# Sorts items in list\n",
        "grocery_list.sort()\n",
        "\n",
        "# Reverse sort items in list\n",
        "grocery_list.reverse()\n",
        "\n",
        "# del deletes an item at specified index\n",
        "del grocery_list[4]\n",
        "print(to_do_list)\n",
        "\n",
        "# We can combine lists with a +\n",
        "to_do_list = other_events + grocery_list\n",
        "print(to_do_list)\n",
        "\n",
        "# Get length of list\n",
        "print(len(to_do_list))\n",
        "\n",
        "# Get the max item in list\n",
        "print(max(to_do_list))\n",
        "\n",
        "# Get the minimum item in list\n",
        "print(min(to_do_list))"
      ],
      "execution_count": null,
      "outputs": [
        {
          "output_type": "stream",
          "text": [
            "['Tomatoes', 'Potatoes']\n",
            "[['Wash Car', 'Pick up Kids', 'Cash Check'], ['Green Juice', 'Tomatoes', 'Potatoes', 'Bananas']]\n",
            "Tomatoes\n",
            "[['Wash Car', 'Pick up Kids', 'Cash Check'], ['Green Juice', 'Tomatoes', 'Potatoes', 'Bananas', 'onions']]\n",
            "[['Wash Car', 'Pick up Kids', 'Cash Check'], ['onions', 'Tomatoes', 'Potatoes', 'Green Juice']]\n",
            "['Wash Car', 'Pick up Kids', 'Cash Check', 'onions', 'Tomatoes', 'Potatoes', 'Green Juice']\n",
            "7\n",
            "onions\n",
            "Cash Check\n"
          ],
          "name": "stdout"
        }
      ]
    },
    {
      "cell_type": "markdown",
      "metadata": {
        "id": "-vGrjfmRt0c-"
      },
      "source": [
        "## List Slicing\n",
        "```slice(start:stop[:step])```\n",
        "- `start` (inclusive): default to 0\n",
        "- `stop` (exclusive): if missing, then slicing to the end\n",
        "- `step`:  default to 1"
      ]
    },
    {
      "cell_type": "code",
      "metadata": {
        "colab": {
          "base_uri": "https://localhost:8080/"
        },
        "id": "pEOwtxr5qV_S",
        "outputId": "c8150b36-93ba-451e-f944-39f780b2498a"
      },
      "source": [
        "a = [0, 1, 2, 3, 4, 5, 6, 7, 8]\n",
        "print(a[:5])    # prints [0, 1, 2, 3, 4]\n",
        "print(a[2:])    # prints [2, 3, 4, 5, 6, 7, 8]\n",
        "print(a[2:5])    # prints [2, 3, 4]\n",
        "print(a[2:7:2])    # prints [2, 4, 6]"
      ],
      "execution_count": null,
      "outputs": [
        {
          "output_type": "stream",
          "text": [
            "[0, 1, 2, 3, 4]\n",
            "[2, 3, 4, 5, 6, 7, 8]\n",
            "[2, 3, 4]\n",
            "[2, 4, 6]\n"
          ],
          "name": "stdout"
        }
      ]
    },
    {
      "cell_type": "code",
      "metadata": {
        "colab": {
          "base_uri": "https://localhost:8080/"
        },
        "id": "vgMalGd7uN0V",
        "outputId": "0bb7d211-80dc-4346-b307-42de3d69683f"
      },
      "source": [
        "a = [1, 2, 3, 4, 5, 6]\n",
        "print(a[-1])    # prints 6\n",
        "print(a[2:-1])    # prints [3, 4, 5]"
      ],
      "execution_count": null,
      "outputs": [
        {
          "output_type": "stream",
          "text": [
            "6\n",
            "[3, 4, 5]\n"
          ],
          "name": "stdout"
        }
      ]
    },
    {
      "cell_type": "code",
      "metadata": {
        "colab": {
          "base_uri": "https://localhost:8080/"
        },
        "id": "wrB9KGcRwZ7s",
        "outputId": "bb23df95-1de2-459b-9374-1e4717ca7482"
      },
      "source": [
        "print(a[::2])  # prints [1, 3, 5]\n",
        "print(a[1::2]) # prints [2, 4, 6]\n",
        "print(a[::-1]) # prints [6, 5, 4, 3, 2, 1]\n",
        "print(a[100:]) # this won't give you error"
      ],
      "execution_count": null,
      "outputs": [
        {
          "output_type": "stream",
          "text": [
            "[1, 3, 5]\n",
            "[2, 4, 6]\n",
            "[6, 5, 4, 3, 2, 1]\n",
            "[]\n"
          ],
          "name": "stdout"
        }
      ]
    },
    {
      "cell_type": "code",
      "metadata": {
        "colab": {
          "base_uri": "https://localhost:8080/",
          "height": 164
        },
        "id": "l-t0no1rs-ak",
        "outputId": "2c5ad5e3-09ff-49d8-8ab2-c1298033b535"
      },
      "source": [
        "a[100]  # IndexError: list index out of range"
      ],
      "execution_count": null,
      "outputs": [
        {
          "output_type": "error",
          "ename": "IndexError",
          "evalue": "ignored",
          "traceback": [
            "\u001b[0;31m---------------------------------------------------------------------------\u001b[0m",
            "\u001b[0;31mIndexError\u001b[0m                                Traceback (most recent call last)",
            "\u001b[0;32m<ipython-input-6-cd7724b6c85f>\u001b[0m in \u001b[0;36m<module>\u001b[0;34m()\u001b[0m\n\u001b[0;32m----> 1\u001b[0;31m \u001b[0ma\u001b[0m\u001b[0;34m[\u001b[0m\u001b[0;36m100\u001b[0m\u001b[0;34m]\u001b[0m\u001b[0;34m\u001b[0m\u001b[0;34m\u001b[0m\u001b[0m\n\u001b[0m",
            "\u001b[0;31mIndexError\u001b[0m: list index out of range"
          ]
        }
      ]
    },
    {
      "cell_type": "markdown",
      "metadata": {
        "id": "IEyCxiEP_fXN"
      },
      "source": [
        "## List Conprehension"
      ]
    },
    {
      "cell_type": "code",
      "metadata": {
        "id": "t9CfJS4k_fXO"
      },
      "source": [
        "import numpy as np"
      ],
      "execution_count": null,
      "outputs": []
    },
    {
      "cell_type": "code",
      "metadata": {
        "id": "KWoeJVJc_fXQ",
        "outputId": "a13b46b5-2e51-4a9b-ad49-602218685704"
      },
      "source": [
        "tmp = [list(range(3)), list(np.array(range(3))*2+1)]\n",
        "tmp"
      ],
      "execution_count": null,
      "outputs": [
        {
          "output_type": "execute_result",
          "data": {
            "text/plain": [
              "[[0, 1, 2], [1, 3, 5]]"
            ]
          },
          "metadata": {
            "tags": []
          },
          "execution_count": 7
        }
      ]
    },
    {
      "cell_type": "code",
      "metadata": {
        "id": "eUVR3VNc_fXT",
        "outputId": "1d1c8a7e-28b1-4162-a39f-e18d41a0e978"
      },
      "source": [
        "# sequencial condition from left to right must have all variables defined\n",
        "[item for transactions in tmp for item in transactions]"
      ],
      "execution_count": null,
      "outputs": [
        {
          "output_type": "execute_result",
          "data": {
            "text/plain": [
              "[0, 1, 2, 1, 3, 5]"
            ]
          },
          "metadata": {
            "tags": []
          },
          "execution_count": 8
        }
      ]
    },
    {
      "cell_type": "code",
      "metadata": {
        "id": "Fal20LK4_fXV",
        "outputId": "1a3fd0d6-b707-4dff-e1f1-7aa1054b3158"
      },
      "source": [
        "# computation sequence: from outer list to inner list\n",
        "[[item for item in transactions] for transactions in tmp]"
      ],
      "execution_count": null,
      "outputs": [
        {
          "output_type": "execute_result",
          "data": {
            "text/plain": [
              "[[0, 1, 2], [1, 3, 5]]"
            ]
          },
          "metadata": {
            "tags": []
          },
          "execution_count": 9
        }
      ]
    },
    {
      "cell_type": "markdown",
      "metadata": {
        "id": "wKTXICn0_fXY"
      },
      "source": [
        "# Tuples\n",
        "Value in a tuple can't change like lists. Kind of store only?"
      ]
    },
    {
      "cell_type": "code",
      "metadata": {
        "id": "Pw7qDrrx_fXY",
        "outputId": "f82d6d23-c71f-4dd9-f893-6561fa4129d6"
      },
      "source": [
        "# TUPLES -------------\n",
        "# Values in a tuple can't change like lists\n",
        "\n",
        "pi_tuple = (3, 1, 4, 1, 5, 9)\n",
        "print(pi_tuple)\n",
        "\n",
        "# Convert tuple into a list\n",
        "new_tuple = list(pi_tuple)\n",
        "print(new_tuple)\n",
        "\n",
        "# Convert a list into a tuple\n",
        "new_list = tuple(grocery_list)\n",
        "print(new_list)\n",
        "\n",
        "# tuples also have len(tuple), min(tuple) and max(tuple)\n",
        "print('len(tuple):',len(pi_tuple))\n",
        "print('min(tuple):',min(pi_tuple))\n",
        "print('max(tuple):',max(pi_tuple))"
      ],
      "execution_count": null,
      "outputs": [
        {
          "output_type": "stream",
          "text": [
            "(3, 1, 4, 1, 5, 9)\n",
            "[3, 1, 4, 1, 5, 9]\n",
            "('onions', 'Tomatoes', 'Potatoes', 'Green Juice')\n",
            "len(tuple): 6\n",
            "min(tuple): 1\n",
            "max(tuple): 9\n"
          ],
          "name": "stdout"
        }
      ]
    },
    {
      "cell_type": "code",
      "metadata": {
        "jupyter": {
          "outputs_hidden": true
        },
        "id": "UW0EqLv__fXb"
      },
      "source": [
        "arrays = [['bar', 'bar', 'baz', 'baz', 'foo', 'foo', 'qux', 'qux'],\\\n",
        "          ['one', 'two', 'one', 'two', 'one', 'two', 'one', 'two']]"
      ],
      "execution_count": null,
      "outputs": []
    },
    {
      "cell_type": "code",
      "metadata": {
        "id": "1n0sU8mk_fXe",
        "outputId": "6fa4935c-0230-452f-9a01-da0d5416e5fa"
      },
      "source": [
        "list(zip(arrays))"
      ],
      "execution_count": null,
      "outputs": [
        {
          "output_type": "execute_result",
          "data": {
            "text/plain": [
              "[(['bar', 'bar', 'baz', 'baz', 'foo', 'foo', 'qux', 'qux'],),\n",
              " (['one', 'two', 'one', 'two', 'one', 'two', 'one', 'two'],)]"
            ]
          },
          "metadata": {
            "tags": []
          },
          "execution_count": 12
        }
      ]
    },
    {
      "cell_type": "code",
      "metadata": {
        "id": "3H_f1zKe_fXh",
        "outputId": "fd10bedb-293d-4b74-ee3e-4b4b6114cbea"
      },
      "source": [
        "list(zip(*arrays))"
      ],
      "execution_count": null,
      "outputs": [
        {
          "output_type": "execute_result",
          "data": {
            "text/plain": [
              "[('bar', 'one'),\n",
              " ('bar', 'two'),\n",
              " ('baz', 'one'),\n",
              " ('baz', 'two'),\n",
              " ('foo', 'one'),\n",
              " ('foo', 'two'),\n",
              " ('qux', 'one'),\n",
              " ('qux', 'two')]"
            ]
          },
          "metadata": {
            "tags": []
          },
          "execution_count": 13
        }
      ]
    },
    {
      "cell_type": "markdown",
      "metadata": {
        "id": "XJ7rD8_p_fXj"
      },
      "source": [
        "# Dictionary / MAP\n",
        "- Made up of values with a unique key for each value\n",
        "- Similar to lists, but you can't join dicts with a +\n",
        "\n",
        "Items **before colon** is the key (referer); Items **after colon** is the result (value)."
      ]
    },
    {
      "cell_type": "code",
      "metadata": {
        "id": "8lMYXRy5_fXk",
        "outputId": "a698ce12-e6ba-44c4-a104-7616a42148ae"
      },
      "source": [
        "# DICTIONARY or MAP -------------\n",
        "\n",
        "super_villains = {'Fiddler' : 'Isaac Bowin',\n",
        "                  'Captain Cold' : 'Leonard Snart',\n",
        "                  'Weather Wizard' : 'Mark Mardon',\n",
        "                  'Mirror Master' : 'Sam Scudder',\n",
        "                  'Pied Piper' : 'Thomas Peterson'}\n",
        "\n",
        "print(super_villains['Captain Cold'])\n",
        "\n",
        "# Delete an entry\n",
        "del super_villains['Fiddler']\n",
        "print(super_villains)\n",
        "\n",
        "# Replace a value\n",
        "super_villains['Pied Piper'] = 'Hartley Rathaway'\n",
        "\n",
        "# Print the number of items in the dictionary\n",
        "print(len(super_villains))"
      ],
      "execution_count": null,
      "outputs": [
        {
          "output_type": "stream",
          "text": [
            "Leonard Snart\n",
            "{'Captain Cold': 'Leonard Snart', 'Weather Wizard': 'Mark Mardon', 'Mirror Master': 'Sam Scudder', 'Pied Piper': 'Thomas Peterson'}\n",
            "4\n"
          ],
          "name": "stdout"
        }
      ]
    },
    {
      "cell_type": "markdown",
      "metadata": {
        "id": "2d51ea7V_fXm"
      },
      "source": [
        "**Call Values:**"
      ]
    },
    {
      "cell_type": "code",
      "metadata": {
        "id": "9Ckux8vy_fXn",
        "outputId": "3b3b7360-1d44-4c83-e2e0-302d23648755"
      },
      "source": [
        "# Get the value for the passed key\n",
        "print(super_villains.get('Pied Piper'))\n",
        "# or \n",
        "print(super_villains['Pied Piper'])\n",
        "\n",
        "# Get a list of dictionary keys\n",
        "print(super_villains.keys())\n",
        "\n",
        "# Get a list of dictionary values\n",
        "print(super_villains.values())"
      ],
      "execution_count": null,
      "outputs": [
        {
          "output_type": "stream",
          "text": [
            "Hartley Rathaway\n",
            "Hartley Rathaway\n",
            "dict_keys(['Captain Cold', 'Weather Wizard', 'Mirror Master', 'Pied Piper'])\n",
            "dict_values(['Leonard Snart', 'Mark Mardon', 'Sam Scudder', 'Hartley Rathaway'])\n"
          ],
          "name": "stdout"
        }
      ]
    },
    {
      "cell_type": "code",
      "metadata": {
        "id": "GuRHxxIO_fXp",
        "outputId": "fc0a11fa-8d6f-4483-c114-9943649dc026"
      },
      "source": [
        "a = dict()\n",
        "a[0,0]=1\n",
        "a[0,1]=2\n",
        "a[1,0]=3\n",
        "a[1,1]=4\n",
        "a"
      ],
      "execution_count": null,
      "outputs": [
        {
          "output_type": "execute_result",
          "data": {
            "text/plain": [
              "{(0, 0): 1, (0, 1): 2, (1, 0): 3, (1, 1): 4}"
            ]
          },
          "metadata": {
            "tags": []
          },
          "execution_count": 16
        }
      ]
    },
    {
      "cell_type": "markdown",
      "metadata": {
        "id": "02DxH1iqh4pQ"
      },
      "source": [
        "## Dictionary Orders\n",
        "https://docs.python.org/3/library/stdtypes.html#mapping-types-dict\n",
        "\n",
        "Dictionaries compare equal if and only if they have the same (key, value) pairs (regardless of ordering). Order comparisons (‘<’, ‘<=’, ‘>=’, ‘>’) raise `TypeError`.\n",
        "\n",
        "Dictionaries __preserve insertion order__. Note that updating a key does not affect the order. Keys added after deletion are inserted at the end.\n",
        "\n",
        "Changed in version `3.7`: Dictionary order is guaranteed to be insertion order. This behavior was an implementation detail of CPython from `3.6`.\n",
        "\n",
        "> I expect that using OrderedDict to communicate intent to other developers and third-party libraries will remain a best practice for several years. ref: https://gandenberger.org/2018/03/10/ordered-dicts-vs-ordereddict/\n",
        "\n",
        "\n"
      ]
    },
    {
      "cell_type": "code",
      "metadata": {
        "id": "VAnGxPhkhQcY"
      },
      "source": [
        "mylist = [u'nowplaying', u'PBS', u'PBS', u'nowplaying', u'job', u'debate', u'thenandnow']\n",
        "unique = list(dict.fromkeys(mylist))"
      ],
      "execution_count": null,
      "outputs": []
    },
    {
      "cell_type": "markdown",
      "metadata": {
        "id": "PTYNNKCE_fXs"
      },
      "source": [
        "## Defaultdict\n",
        "- A `defaultdict` works exactly like a normal `dict`;\n",
        "- But it is initialized with a function (“default factory”) that takes no arguments and provides the default value for a nonexistent key.\n",
        "- 所以defaultdict的好处就是可以给dict设置value的初始默认值\n",
        "- 要保证defaultdict()括号里面的是callable的"
      ]
    },
    {
      "cell_type": "markdown",
      "metadata": {
        "id": "IaNffKvz_fXs"
      },
      "source": [
        "### defaultdict for refering\n",
        "定义默认值后, 没有key也可以call, 不会报错."
      ]
    },
    {
      "cell_type": "code",
      "metadata": {
        "collapsed": true,
        "jupyter": {
          "outputs_hidden": true
        },
        "id": "vs_mZeKY_fXt"
      },
      "source": [
        "from collections import defaultdict"
      ],
      "execution_count": null,
      "outputs": []
    },
    {
      "cell_type": "code",
      "metadata": {
        "id": "R7ILCT9Z_fXw",
        "outputId": "ea500b36-0622-4eff-b5d6-42eec3d20be0"
      },
      "source": [
        "# assign values to non-available keys:\n",
        "ice_cream = defaultdict(lambda: 'Vanilla') # anonymous functions always return 'Vanilla'\n",
        "\n",
        "ice_cream['Sarah'] = 'Chunky Monkey'\n",
        "ice_cream['Abdul'] = 'Butter Pecan'\n",
        "print(ice_cream['Sarah'])"
      ],
      "execution_count": null,
      "outputs": [
        {
          "output_type": "stream",
          "text": [
            "Chunky Monkey\n"
          ],
          "name": "stdout"
        }
      ]
    },
    {
      "cell_type": "code",
      "metadata": {
        "id": "8MveN7Ic_fX0",
        "outputId": "0f1cbff6-0133-4676-ddf0-3c563c9c1a78"
      },
      "source": [
        "# in this case, any non-available keys would have value 'Vanilla'\n",
        "ice_cream['Any Non-available Keys']"
      ],
      "execution_count": null,
      "outputs": [
        {
          "output_type": "execute_result",
          "data": {
            "text/plain": [
              "'Vanilla'"
            ]
          },
          "metadata": {
            "tags": []
          },
          "execution_count": 19
        }
      ]
    },
    {
      "cell_type": "code",
      "metadata": {
        "id": "_t1F3MME_fX3",
        "outputId": "835332c9-5320-404d-98a4-1e397bb843f0"
      },
      "source": [
        "test_2=defaultdict(1)\n",
        "test_2['2']\n",
        "\n",
        "# Errors. Therefore, we need the argument to be callable."
      ],
      "execution_count": null,
      "outputs": [
        {
          "output_type": "error",
          "ename": "TypeError",
          "evalue": "first argument must be callable or None",
          "traceback": [
            "\u001b[0;31m---------------------------------------------------------------------------\u001b[0m",
            "\u001b[0;31mTypeError\u001b[0m                                 Traceback (most recent call last)",
            "\u001b[0;32m<ipython-input-20-814c6b658167>\u001b[0m in \u001b[0;36m<module>\u001b[0;34m\u001b[0m\n\u001b[0;32m----> 1\u001b[0;31m \u001b[0mtest_2\u001b[0m\u001b[0;34m=\u001b[0m\u001b[0mdefaultdict\u001b[0m\u001b[0;34m(\u001b[0m\u001b[0;36m1\u001b[0m\u001b[0;34m)\u001b[0m\u001b[0;34m\u001b[0m\u001b[0;34m\u001b[0m\u001b[0m\n\u001b[0m\u001b[1;32m      2\u001b[0m \u001b[0mtest_2\u001b[0m\u001b[0;34m[\u001b[0m\u001b[0;34m'2'\u001b[0m\u001b[0;34m]\u001b[0m\u001b[0;34m\u001b[0m\u001b[0;34m\u001b[0m\u001b[0m\n\u001b[1;32m      3\u001b[0m \u001b[0;34m\u001b[0m\u001b[0m\n\u001b[1;32m      4\u001b[0m \u001b[0;31m# Errors. Therefore, we need the argument to be callable.\u001b[0m\u001b[0;34m\u001b[0m\u001b[0;34m\u001b[0m\u001b[0;34m\u001b[0m\u001b[0m\n",
            "\u001b[0;31mTypeError\u001b[0m: first argument must be callable or None"
          ]
        }
      ]
    },
    {
      "cell_type": "code",
      "metadata": {
        "id": "_kOPiXLc_fX5",
        "outputId": "dab829f1-671e-497a-e4d6-989f094d365a"
      },
      "source": [
        "# int is callable\n",
        "callable(int)"
      ],
      "execution_count": null,
      "outputs": [
        {
          "output_type": "execute_result",
          "data": {
            "text/plain": [
              "True"
            ]
          },
          "metadata": {
            "tags": []
          },
          "execution_count": 21
        }
      ]
    },
    {
      "cell_type": "code",
      "metadata": {
        "id": "obXfjwjX_fX7",
        "outputId": "a7c732e7-293b-49cf-dcea-195e8b9aabba"
      },
      "source": [
        "# int itself is a function\n",
        "int()"
      ],
      "execution_count": null,
      "outputs": [
        {
          "output_type": "execute_result",
          "data": {
            "text/plain": [
              "0"
            ]
          },
          "metadata": {
            "tags": []
          },
          "execution_count": 22
        }
      ]
    },
    {
      "cell_type": "markdown",
      "metadata": {
        "id": "JVp_k3WU_fX-"
      },
      "source": [
        "### defaultdict for counting\n",
        "**用来数数**\n",
        "\n",
        "**In the following example, a defaultdict is used for counting. **\n",
        "- The default factory is int, which in turn has a default value of zero. (Note: “lambda: 0″ would also work in this situation). \n",
        "- For each food in the list, the value is incremented by one where the key is the food. \n",
        "- We do not need to make sure the food is already a key – it will use the default value of zero."
      ]
    },
    {
      "cell_type": "code",
      "metadata": {
        "id": "RWAOFY2q_fX_",
        "outputId": "4db2ccba-6a6d-420d-fd06-d279407a4889"
      },
      "source": [
        "food_list = 'spam spam spam spam spam spam eggs spam'.split()\n",
        "food_list"
      ],
      "execution_count": null,
      "outputs": [
        {
          "output_type": "execute_result",
          "data": {
            "text/plain": [
              "['spam', 'spam', 'spam', 'spam', 'spam', 'spam', 'eggs', 'spam']"
            ]
          },
          "metadata": {
            "tags": []
          },
          "execution_count": 23
        }
      ]
    },
    {
      "cell_type": "code",
      "metadata": {
        "id": "y8s3fXta_fYB",
        "outputId": "30331c93-ef66-4961-e6c3-32935ad1a569"
      },
      "source": [
        "food_count = defaultdict(int) # default value of int is 0\n",
        "food_count"
      ],
      "execution_count": null,
      "outputs": [
        {
          "output_type": "execute_result",
          "data": {
            "text/plain": [
              "defaultdict(int, {})"
            ]
          },
          "metadata": {
            "tags": []
          },
          "execution_count": 24
        }
      ]
    },
    {
      "cell_type": "code",
      "metadata": {
        "collapsed": true,
        "jupyter": {
          "outputs_hidden": true
        },
        "id": "_zQiQJmJ_fYD"
      },
      "source": [
        "for food in food_list:\n",
        "    food_count[food] += 1 # increment element's value by 1"
      ],
      "execution_count": null,
      "outputs": []
    },
    {
      "cell_type": "code",
      "metadata": {
        "id": "TfCqd3z2_fYF",
        "outputId": "018762ae-53fe-42c3-f624-25ed19b61dfb"
      },
      "source": [
        "food_count"
      ],
      "execution_count": null,
      "outputs": [
        {
          "output_type": "execute_result",
          "data": {
            "text/plain": [
              "defaultdict(int, {'spam': 7, 'eggs': 1})"
            ]
          },
          "metadata": {
            "tags": []
          },
          "execution_count": 26
        }
      ]
    },
    {
      "cell_type": "markdown",
      "metadata": {
        "id": "wQ5u4x7s_fYH"
      },
      "source": [
        "### defaultdict for listing\n",
        "**算是用来分类吧**\n",
        "\n",
        "**In the next example, we start with a list of states and cities.**\n",
        "- We want to build a dictionary where the keys are the state abbreviations and the values are lists of all cities for that state. \n",
        "- To build this dictionary of lists, we use a defaultdict with a default factory of list. \n",
        "- A new list is created for each new key."
      ]
    },
    {
      "cell_type": "code",
      "metadata": {
        "id": "qvYUzrnG_fYI",
        "outputId": "c55104bc-5741-461e-9868-670985806c2b"
      },
      "source": [
        "city_list = [('TX','Austin'), ('TX','Houston'), ('NY','Albany'), ('NY', 'Syracuse'), ('NY', 'Buffalo'), \n",
        "        ('NY', 'Rochester'), ('TX', 'Dallas'), ('CA','Sacramento'), ('CA', 'Palo Alto'), ('GA', 'Atlanta')]\n",
        "city_list"
      ],
      "execution_count": null,
      "outputs": [
        {
          "output_type": "execute_result",
          "data": {
            "text/plain": [
              "[('TX', 'Austin'),\n",
              " ('TX', 'Houston'),\n",
              " ('NY', 'Albany'),\n",
              " ('NY', 'Syracuse'),\n",
              " ('NY', 'Buffalo'),\n",
              " ('NY', 'Rochester'),\n",
              " ('TX', 'Dallas'),\n",
              " ('CA', 'Sacramento'),\n",
              " ('CA', 'Palo Alto'),\n",
              " ('GA', 'Atlanta')]"
            ]
          },
          "metadata": {
            "tags": []
          },
          "execution_count": 27
        }
      ]
    },
    {
      "cell_type": "code",
      "metadata": {
        "id": "i7tUOvqZ_fYL",
        "outputId": "6c0e700c-da04-47df-9a3d-2fe04dd95320"
      },
      "source": [
        "# list is callable\n",
        "callable(list)"
      ],
      "execution_count": null,
      "outputs": [
        {
          "output_type": "execute_result",
          "data": {
            "text/plain": [
              "True"
            ]
          },
          "metadata": {
            "tags": []
          },
          "execution_count": 28
        }
      ]
    },
    {
      "cell_type": "code",
      "metadata": {
        "id": "95RNTT_Z_fYN",
        "outputId": "8b216c5c-5bb2-47ad-ba3b-b336a3d45a95"
      },
      "source": [
        "# list itself is a function\n",
        "list()"
      ],
      "execution_count": null,
      "outputs": [
        {
          "output_type": "execute_result",
          "data": {
            "text/plain": [
              "[]"
            ]
          },
          "metadata": {
            "tags": []
          },
          "execution_count": 29
        }
      ]
    },
    {
      "cell_type": "code",
      "metadata": {
        "collapsed": true,
        "jupyter": {
          "outputs_hidden": true
        },
        "id": "l2M7Lnnk_fYQ"
      },
      "source": [
        "cities_by_state = defaultdict(list)"
      ],
      "execution_count": null,
      "outputs": []
    },
    {
      "cell_type": "code",
      "metadata": {
        "collapsed": true,
        "jupyter": {
          "outputs_hidden": true
        },
        "id": "nMG6I12C_fYS"
      },
      "source": [
        "for state, city in city_list:\n",
        "    cities_by_state[state].append(city)"
      ],
      "execution_count": null,
      "outputs": []
    },
    {
      "cell_type": "code",
      "metadata": {
        "id": "DY9xczhf_fYU",
        "outputId": "ca4a8b77-0060-4986-c11a-7f368a31a6e2"
      },
      "source": [
        "cities_by_state"
      ],
      "execution_count": null,
      "outputs": [
        {
          "output_type": "execute_result",
          "data": {
            "text/plain": [
              "defaultdict(list,\n",
              "            {'TX': ['Austin', 'Houston', 'Dallas'],\n",
              "             'NY': ['Albany', 'Syracuse', 'Buffalo', 'Rochester'],\n",
              "             'CA': ['Sacramento', 'Palo Alto'],\n",
              "             'GA': ['Atlanta']})"
            ]
          },
          "metadata": {
            "tags": []
          },
          "execution_count": 32
        }
      ]
    },
    {
      "cell_type": "markdown",
      "metadata": {
        "id": "eCfmMb9G_fYW"
      },
      "source": [
        "# If else Statement"
      ]
    },
    {
      "cell_type": "markdown",
      "metadata": {
        "id": "m5oV3zSg_fYW"
      },
      "source": [
        "- The if, else and elif statements\n",
        "- Comparison Operators : ==, !=, >, <, >=, <="
      ]
    },
    {
      "cell_type": "code",
      "metadata": {
        "id": "ECff4K1I_fYX",
        "outputId": "8a155ae8-35c8-48f5-cd5f-43597df3bb41"
      },
      "source": [
        "# CONDITIONALS -------------\n",
        "\n",
        "# The if statement will execute code if a condition is met\n",
        "# White space is used to group blocks of code in Python\n",
        "# Use the same number of proceeding spaces for blocks of code\n",
        "\n",
        "age = 30\n",
        "if age > 16 :\n",
        "    print('You are old enough to drive')\n",
        "\n",
        "# Use an if statement if you want to execute different code regardless\n",
        "# of whether the condition ws met or not\n",
        "\n",
        "if age > 16 :\n",
        "    print('You are old enough to drive')\n",
        "else :\n",
        "    print('You are not old enough to drive')\n",
        "\n",
        "# If you want to check for multiple conditions use elif\n",
        "# If the first matches it won't check other conditions that follow\n",
        "\n",
        "if age >= 21 :\n",
        "    print('You are old enough to drive a tractor trailer')\n",
        "elif age >= 16:\n",
        "    print('You are old enough to drive a car')\n",
        "else :\n",
        "    print('You are not old enough to drive')\n",
        "\n",
        "# You can combine conditions with logical operators\n",
        "# Logical Operators : and, or, not\n",
        "\n",
        "if ((age >= 1) and (age <= 18)):\n",
        "    print(\"You get a birthday party\")\n",
        "elif (age == 21) or (age >= 65):\n",
        "    print(\"You get a birthday party\")\n",
        "elif not(age == 30):\n",
        "    print(\"You don't get a birthday party\")\n",
        "else:\n",
        "    print(\"You get a birthday party yeah\")"
      ],
      "execution_count": null,
      "outputs": [
        {
          "output_type": "stream",
          "text": [
            "You are old enough to drive\n",
            "You are old enough to drive\n",
            "You are old enough to drive a tractor trailer\n",
            "You get a birthday party yeah\n"
          ],
          "name": "stdout"
        }
      ]
    },
    {
      "cell_type": "markdown",
      "metadata": {
        "id": "w8xg3JAN_fYc"
      },
      "source": [
        "**if else loop in same line**"
      ]
    },
    {
      "cell_type": "code",
      "metadata": {
        "id": "dMzqUqKY_fYd",
        "outputId": "5c1bf122-6f8c-406e-d74b-ba249873819a"
      },
      "source": [
        "a=1\n",
        "count = 'wow!' if a == 1 else a\n",
        "print(count)"
      ],
      "execution_count": null,
      "outputs": [
        {
          "output_type": "stream",
          "text": [
            "wow!\n"
          ],
          "name": "stdout"
        }
      ]
    },
    {
      "cell_type": "markdown",
      "metadata": {
        "id": "3rEvchff_fYf"
      },
      "source": [
        "# For Loops\n",
        "- Allows you to perform an action a set number of times\n",
        "- range(0, 10) performs the action 10 times 0 - 9 (right bound was not included as usual)"
      ]
    },
    {
      "cell_type": "code",
      "metadata": {
        "id": "ocmCv5U3_fYf",
        "outputId": "861d6664-66b6-4f76-bc23-262c1f04497c"
      },
      "source": [
        "# For Loops -------------\n",
        "for x in range(0, 10):\n",
        "    print(x , ' ', end=\"\")\n",
        "\n",
        "print('\\n-------------------')\n",
        "\n",
        "# You can use for loops to cycle through a list\n",
        "grocery_list = ['Juice', 'Tomatoes', 'Potatoes', 'Bananas']\n",
        "\n",
        "for y in grocery_list:\n",
        "    print(y)\n",
        "print('-------------------')\n",
        "# You can also define a list of numbers to cycle through\n",
        "for x in [2,4,6,8,10]:\n",
        "    print(x)\n",
        "print('-------------------')\n",
        "# You can double up for loops to cycle through lists\n",
        "num_list =[[1,2,3],[10,20,30],[100,200,300]];\n",
        "\n",
        "for x in range(0,3):\n",
        "    for y in range(0,3):\n",
        "        print(num_list[x][y])\n",
        "    print('\\n')"
      ],
      "execution_count": null,
      "outputs": [
        {
          "output_type": "stream",
          "text": [
            "0  1  2  3  4  5  6  7  8  9  \n",
            "-------------------\n",
            "Juice\n",
            "Tomatoes\n",
            "Potatoes\n",
            "Bananas\n",
            "-------------------\n",
            "2\n",
            "4\n",
            "6\n",
            "8\n",
            "10\n",
            "-------------------\n",
            "1\n",
            "2\n",
            "3\n",
            "\n",
            "\n",
            "10\n",
            "20\n",
            "30\n",
            "\n",
            "\n",
            "100\n",
            "200\n",
            "300\n",
            "\n",
            "\n"
          ],
          "name": "stdout"
        }
      ]
    },
    {
      "cell_type": "markdown",
      "metadata": {
        "id": "8uhA1VhA_fYh"
      },
      "source": [
        "## tqdm in For Loop"
      ]
    },
    {
      "cell_type": "code",
      "metadata": {
        "collapsed": true,
        "jupyter": {
          "outputs_hidden": true
        },
        "id": "wktUJ0oY_fYi",
        "outputId": "baabbec6-d25f-4f22-9d32-f5bd81346428"
      },
      "source": [
        "from tqdm import tqdm, trange, tqdm_pandas\n",
        "\n",
        "tqdm.pandas(desc=\"Progress Bar\")\n",
        "Page_URL = df_url.progress_apply(lambda x: urllib.parse.unquote(x))"
      ],
      "execution_count": null,
      "outputs": [
        {
          "output_type": "error",
          "ename": "NameError",
          "evalue": "name 'df_url' is not defined",
          "traceback": [
            "\u001b[0;31m---------------------------------------------------------------------------\u001b[0m",
            "\u001b[0;31mNameError\u001b[0m                                 Traceback (most recent call last)",
            "\u001b[0;32m<ipython-input-37-5c9ed295ce53>\u001b[0m in \u001b[0;36m<module>\u001b[0;34m\u001b[0m\n\u001b[1;32m      2\u001b[0m \u001b[0;34m\u001b[0m\u001b[0m\n\u001b[1;32m      3\u001b[0m \u001b[0mtqdm\u001b[0m\u001b[0;34m.\u001b[0m\u001b[0mpandas\u001b[0m\u001b[0;34m(\u001b[0m\u001b[0mdesc\u001b[0m\u001b[0;34m=\u001b[0m\u001b[0;34m\"Progress Bar\"\u001b[0m\u001b[0;34m)\u001b[0m\u001b[0;34m\u001b[0m\u001b[0;34m\u001b[0m\u001b[0m\n\u001b[0;32m----> 4\u001b[0;31m \u001b[0mPage_URL\u001b[0m \u001b[0;34m=\u001b[0m \u001b[0mdf_url\u001b[0m\u001b[0;34m.\u001b[0m\u001b[0mprogress_apply\u001b[0m\u001b[0;34m(\u001b[0m\u001b[0;32mlambda\u001b[0m \u001b[0mx\u001b[0m\u001b[0;34m:\u001b[0m \u001b[0murllib\u001b[0m\u001b[0;34m.\u001b[0m\u001b[0mparse\u001b[0m\u001b[0;34m.\u001b[0m\u001b[0munquote\u001b[0m\u001b[0;34m(\u001b[0m\u001b[0mx\u001b[0m\u001b[0;34m)\u001b[0m\u001b[0;34m)\u001b[0m\u001b[0;34m\u001b[0m\u001b[0;34m\u001b[0m\u001b[0m\n\u001b[0m",
            "\u001b[0;31mNameError\u001b[0m: name 'df_url' is not defined"
          ]
        }
      ]
    },
    {
      "cell_type": "code",
      "metadata": {
        "collapsed": true,
        "jupyter": {
          "outputs_hidden": true
        },
        "id": "x245iRMo_fYk",
        "outputId": "20490f8b-3f52-4308-952d-767d7a404c5c"
      },
      "source": [
        "For i in tqdm.tqdm(range(10)):"
      ],
      "execution_count": null,
      "outputs": [
        {
          "output_type": "error",
          "ename": "SyntaxError",
          "evalue": "invalid syntax (<ipython-input-38-b94cc46c1067>, line 1)",
          "traceback": [
            "\u001b[0;36m  File \u001b[0;32m\"<ipython-input-38-b94cc46c1067>\"\u001b[0;36m, line \u001b[0;32m1\u001b[0m\n\u001b[0;31m    For i in tqdm.tqdm(range(10)):\u001b[0m\n\u001b[0m        ^\u001b[0m\n\u001b[0;31mSyntaxError\u001b[0m\u001b[0;31m:\u001b[0m invalid syntax\n"
          ]
        }
      ]
    },
    {
      "cell_type": "markdown",
      "metadata": {
        "id": "ZfN4o1YK_fYm"
      },
      "source": [
        "## Enumerate"
      ]
    },
    {
      "cell_type": "code",
      "metadata": {
        "id": "wKfcmy2Q_fYn",
        "outputId": "d9ef0a39-c342-4b87-93f3-d242078ee93f"
      },
      "source": [
        "my_list = ['apple', 'banana', 'grapes', 'pear']\n",
        "for c, value in enumerate(my_list,1):\n",
        "    print(c, value)"
      ],
      "execution_count": null,
      "outputs": [
        {
          "output_type": "stream",
          "text": [
            "1 apple\n",
            "2 banana\n",
            "3 grapes\n",
            "4 pear\n"
          ],
          "name": "stdout"
        }
      ]
    },
    {
      "cell_type": "code",
      "metadata": {
        "id": "8mOhV70a_fYq",
        "outputId": "b3319672-d156-4bcc-cd12-6036ffc81117"
      },
      "source": [
        "my_list = ['apple', 'banana', 'grapes', 'pear']\n",
        "for c, value in enumerate(my_list):\n",
        "    print(c, value)"
      ],
      "execution_count": null,
      "outputs": [
        {
          "output_type": "stream",
          "text": [
            "0 apple\n",
            "1 banana\n",
            "2 grapes\n",
            "3 pear\n"
          ],
          "name": "stdout"
        }
      ]
    },
    {
      "cell_type": "markdown",
      "metadata": {
        "id": "ZDi-QHld_fYt"
      },
      "source": [
        "# While Loops\n",
        "While loops are used when you don't know ahead of time how many times you'll have to loop."
      ]
    },
    {
      "cell_type": "code",
      "metadata": {
        "scrolled": true,
        "id": "Vj9eNFKP_fYt",
        "outputId": "2964241c-5e42-4a9f-b0e3-56bcd0eb28cc"
      },
      "source": [
        "# While Loops -------------\n",
        "# times you'll have to loop\n",
        "import random\n",
        "random_num = random.randrange(0,10)\n",
        "\n",
        "# while (random_num != 5):\n",
        "#     print(random_num)\n",
        "#     random_num = random.randrange(0,100)\n",
        "\n",
        "# An iterator for a while loop is defined before the loop\n",
        "i = 0;\n",
        "while (i <= 5):\n",
        "    if(i%2 == 0):\n",
        "        print(i)\n",
        "    elif(i == 3):\n",
        "        # Forces the loop to end all together\n",
        "        break\n",
        "    else:\n",
        "        # Shorthand for i = i + 1\n",
        "        i += 1\n",
        "        # Skips to the next iteration of the loop\n",
        "        continue\n",
        "\n",
        "    i += 1"
      ],
      "execution_count": null,
      "outputs": [
        {
          "output_type": "stream",
          "text": [
            "0\n",
            "2\n"
          ],
          "name": "stdout"
        }
      ]
    },
    {
      "cell_type": "markdown",
      "metadata": {
        "id": "x_6Pe6Gg_fYv"
      },
      "source": [
        "#  Functions\n",
        "- Functions allow you to reuse and write readable code\n",
        "- Type def (define), function name and parameters it receives\n",
        "- return is used to return something to the caller of the function"
      ]
    },
    {
      "cell_type": "code",
      "metadata": {
        "id": "TL3IKJ02_fYw",
        "outputId": "4c0e2fdb-2c58-4b71-e147-7de1dc2ffb03"
      },
      "source": [
        "# Functions -------------\n",
        "def addNumbers(fNum, sNum):\n",
        "    sumNum = fNum + sNum\n",
        "    return sumNum\n",
        "\n",
        "print(addNumbers(1, 4))\n",
        "\n",
        "# Can't get the value of rNum because it was created in a function\n",
        "# It is said to be out of scope\n",
        "# print(sumNum)\n",
        "\n",
        "# If you define a variable outside of the function it works every place\n",
        "newNum = 0;\n",
        "def subNumbers(fNum, sNum):\n",
        "    newNum = fNum - sNum\n",
        "    return newNum\n",
        "\n",
        "print(subNumbers(1, 4))"
      ],
      "execution_count": null,
      "outputs": [
        {
          "output_type": "stream",
          "text": [
            "5\n",
            "-3\n"
          ],
          "name": "stdout"
        }
      ]
    },
    {
      "cell_type": "markdown",
      "metadata": {
        "id": "VOOUNvaD_fYy"
      },
      "source": [
        "# User Input"
      ]
    },
    {
      "cell_type": "code",
      "metadata": {
        "id": "oQFTJP0c_fYy",
        "outputId": "343e49dd-3699-49d9-cbd8-e2ca8eae0358"
      },
      "source": [
        "# USER INPUT -------------\n",
        "import sys\n",
        "print('What is your name?')\n",
        "\n",
        "# Stores everything typed up until ENTER\n",
        "name = sys.stdin.readline()\n",
        "# Above seems to be wrong. Not working in Spyder.\n",
        "\n",
        "print('Hello', name)"
      ],
      "execution_count": null,
      "outputs": [
        {
          "output_type": "stream",
          "text": [
            "What is your name?\n",
            "Hello \n"
          ],
          "name": "stdout"
        }
      ]
    },
    {
      "cell_type": "markdown",
      "metadata": {
        "id": "1PAjOjin_fY4"
      },
      "source": [
        "# Strings"
      ]
    },
    {
      "cell_type": "code",
      "metadata": {
        "id": "usmFUC4a_fY4",
        "outputId": "db7ebad6-0120-46d5-cca3-b19d8649070e"
      },
      "source": [
        "# STRINGS -------------\n",
        "# A string is a series of characters surrounded by ' or \"\n",
        "long_string = \"I'll catch you if you fall - The Floor\"\n",
        "\n",
        "# Retrieve the first 4 characters\n",
        "print(long_string[0:4])\n",
        "\n",
        "# Get the last 5 characters\n",
        "print(long_string[-5:])\n",
        "\n",
        "# Everything up to the last 5 characters\n",
        "print(long_string[:-5])\n",
        "\n",
        "# Concatenate part of a string to another\n",
        "print(long_string[:4] + \" be there\")"
      ],
      "execution_count": null,
      "outputs": [
        {
          "output_type": "stream",
          "text": [
            "I'll\n",
            "Floor\n",
            "I'll catch you if you fall - The \n",
            "I'll be there\n"
          ],
          "name": "stdout"
        }
      ]
    },
    {
      "cell_type": "markdown",
      "metadata": {
        "id": "Sw9I1AeB_fY7"
      },
      "source": [
        "## String Formatting"
      ]
    },
    {
      "cell_type": "code",
      "metadata": {
        "id": "AhwjTqxP_fY8",
        "outputId": "d490a978-a774-4f5d-cab6-6df6baf7f6b2"
      },
      "source": [
        "# String formatting\n",
        "print(\"%c is my %s letter and my number %d number is %.5f\" % ('X', 'favorite', 1, .14))\n",
        "# below by order\n",
        "# c: Character\n",
        "# s: String\n",
        "# d: Decimal Integer\n",
        "# f: Floating Number"
      ],
      "execution_count": null,
      "outputs": [
        {
          "output_type": "stream",
          "text": [
            "X is my favorite letter and my number 1 number is 0.14000\n"
          ],
          "name": "stdout"
        }
      ]
    },
    {
      "cell_type": "markdown",
      "metadata": {
        "id": "GmalkcWG_fY_"
      },
      "source": [
        "## String Attribute\n",
        "More attributes here (search 'String Methods'):\n",
        "https://docs.python.org/3/library/stdtypes.html"
      ]
    },
    {
      "cell_type": "code",
      "metadata": {
        "id": "23uBuKEv_fY_",
        "outputId": "101462c6-4416-48f6-abc7-3702a4c53828"
      },
      "source": [
        "# Base string\n",
        "print('Ex1:',long_string)\n",
        "\n",
        "# Capitalizes the first letter\n",
        "print('Ex2:',long_string.capitalize())\n",
        "\n",
        "# Returns the index of the start of the string\n",
        "# case sensitive\n",
        "print('Ex3:',long_string.find(\"Floor\"))\n",
        "\n",
        "# Returns true if all characters are alphabetic characters(letter) only\n",
        "print('Ex4:',long_string.isalpha())\n",
        "\n",
        "# Returns true if all characters are numbers\n",
        "print('Ex5:',long_string.isalnum())\n",
        "\n",
        "# Returns the string length\n",
        "print('Ex6:',len(long_string))\n",
        "\n",
        "# Replace the first word with the second (Add a number to replace more)\n",
        "print('Ex7:',long_string.replace(\"Floor\", \"Ground\"))\n",
        "\n",
        "# Remove white space from front and end\n",
        "print('Ex8:',long_string.strip())\n",
        "\n",
        "# Remove letters 'I' & 'r' from front and end. Capital or not also matters\n",
        "print('Ex9:',long_string.strip('Ir'))\n",
        "\n",
        "# Split a string into a list based on the delimiter you provide\n",
        "quote_list = long_string.split(\" \")\n",
        "print('Ex10:',quote_list)"
      ],
      "execution_count": null,
      "outputs": [
        {
          "output_type": "stream",
          "text": [
            "Ex1: I'll catch you if you fall - The Floor\n",
            "Ex2: I'll catch you if you fall - the floor\n",
            "Ex3: 33\n",
            "Ex4: False\n",
            "Ex5: False\n",
            "Ex6: 38\n",
            "Ex7: I'll catch you if you fall - The Ground\n",
            "Ex8: I'll catch you if you fall - The Floor\n",
            "Ex9: 'll catch you if you fall - The Floo\n",
            "Ex10: [\"I'll\", 'catch', 'you', 'if', 'you', 'fall', '-', 'The', 'Floor']\n"
          ],
          "name": "stdout"
        }
      ]
    },
    {
      "cell_type": "markdown",
      "metadata": {
        "id": "bpD0WV7i_fZC"
      },
      "source": [
        "## Examples\n",
        "### Naming File"
      ]
    },
    {
      "cell_type": "code",
      "metadata": {
        "id": "ith0vaYF_fZD",
        "outputId": "6943b1d2-a6fa-4c7e-a6f9-694d6fdf73b3"
      },
      "source": [
        "i=1\n",
        "tmp1=\"file_\" + str(i) + \".dat\"\n",
        "tmp2=\"file_%s.dat\" % i\n",
        "tmp3=\"file_{}.dat\".format(i)\n",
        "# c: Character\n",
        "# s: String\n",
        "# d: Decimal Integer\n",
        "# f: Floating Number\n",
        "print(tmp1)\n",
        "print(tmp2)\n",
        "print(tmp3)"
      ],
      "execution_count": null,
      "outputs": [
        {
          "output_type": "stream",
          "text": [
            "file_1.dat\n",
            "file_1.dat\n",
            "file_1.dat\n"
          ],
          "name": "stdout"
        }
      ]
    },
    {
      "cell_type": "markdown",
      "metadata": {
        "id": "WcsrmmeD_fZF"
      },
      "source": [
        "### Print out"
      ]
    },
    {
      "cell_type": "code",
      "metadata": {
        "id": "Nb4bLUIu_fZF",
        "outputId": "283c51e0-36cf-4abf-affd-bb08937b9a6f"
      },
      "source": [
        "for id in range(1,5):\n",
        "    print('%03d.json' %id)\n",
        "    # This Wildcard can be used globally even for loop value assignment.\n",
        "\n",
        "print('--------')\n",
        "\n",
        "for id in range(1,5):\n",
        "    print('%d.json' %id)"
      ],
      "execution_count": null,
      "outputs": [
        {
          "output_type": "stream",
          "text": [
            "001.json\n",
            "002.json\n",
            "003.json\n",
            "004.json\n",
            "--------\n",
            "1.json\n",
            "2.json\n",
            "3.json\n",
            "4.json\n"
          ],
          "name": "stdout"
        }
      ]
    },
    {
      "cell_type": "markdown",
      "metadata": {
        "id": "Ab_fLQM4_fZI"
      },
      "source": [
        "# File I/O"
      ]
    },
    {
      "cell_type": "markdown",
      "metadata": {
        "id": "irWnmbDtFLZf"
      },
      "source": [
        "###File Handling"
      ]
    },
    {
      "cell_type": "code",
      "metadata": {
        "id": "wy12mad1E_cI"
      },
      "source": [
        "import sys\n",
        "\n",
        "f = open('text.txt', 'w')\n",
        "for i in range(10):\n",
        "     f.write(\"This is line %d\\r\\n\" % (i+1))"
      ],
      "execution_count": null,
      "outputs": []
    },
    {
      "cell_type": "code",
      "metadata": {
        "id": "83oAvAdaFJqf",
        "colab": {
          "base_uri": "https://localhost:8080/",
          "height": 34
        },
        "outputId": "e3c9ae11-001e-4cce-ccbd-c5356e988899"
      },
      "source": [
        "# get variable reference count:\n",
        "sys.getrefcount(f)"
      ],
      "execution_count": null,
      "outputs": [
        {
          "output_type": "execute_result",
          "data": {
            "text/plain": [
              "2"
            ]
          },
          "metadata": {
            "tags": []
          },
          "execution_count": 16
        }
      ]
    },
    {
      "cell_type": "code",
      "metadata": {
        "id": "rX3EcY__Jh43",
        "colab": {
          "base_uri": "https://localhost:8080/",
          "height": 34
        },
        "outputId": "c3de9d88-8436-4eca-fb1d-5cbe4456678b"
      },
      "source": [
        "# return size of object (pointer + garbage collection overhead) in bytes (object)\n",
        "sys.getsizeof(f)"
      ],
      "execution_count": null,
      "outputs": [
        {
          "output_type": "execute_result",
          "data": {
            "text/plain": [
              "216"
            ]
          },
          "metadata": {
            "tags": []
          },
          "execution_count": 17
        }
      ]
    },
    {
      "cell_type": "code",
      "metadata": {
        "id": "ovn-7-80J9al"
      },
      "source": [
        "f.close()"
      ],
      "execution_count": null,
      "outputs": []
    },
    {
      "cell_type": "markdown",
      "metadata": {
        "id": "N6wEDLMpFQV-"
      },
      "source": [
        "Examples"
      ]
    },
    {
      "cell_type": "code",
      "metadata": {
        "collapsed": true,
        "jupyter": {
          "outputs_hidden": true
        },
        "id": "vhdwR_zh_fZI",
        "outputId": "ea2166ba-35ee-46e1-a69a-45a6babee17f"
      },
      "source": [
        "import os\n",
        "\n",
        "# Overwrite or create a file for writing\n",
        "test_file = open(\"test.txt\", \"wb\")\n",
        "\n",
        "# Get the file mode used\n",
        "print(test_file.mode)\n",
        "\n",
        "# Get the files name\n",
        "print(test_file.name)\n",
        "\n",
        "# Write text to a file with a newline\n",
        "test_file.write(bytes(\"Write me to the file\\n\", 'UTF-8'))\n",
        "\n",
        "# Close the file\n",
        "test_file.close()\n",
        "\n",
        "# Opens a file for reading and writing\n",
        "test_file = open(\"test.txt\", \"r+\")\n",
        "\n",
        "# Read text from the file\n",
        "text_in_file = test_file.read()\n",
        "\n",
        "print(text_in_file)\n",
        "\n",
        "# Delete the file\n",
        "os.remove(\"test.txt\")"
      ],
      "execution_count": null,
      "outputs": [
        {
          "output_type": "stream",
          "text": [
            "wb\n",
            "test.txt\n",
            "Write me to the file\n",
            "\n"
          ],
          "name": "stdout"
        }
      ]
    },
    {
      "cell_type": "markdown",
      "metadata": {
        "id": "wrnbfcwA_fZK"
      },
      "source": [
        "## Path \n",
        "- Default path depends on where the python kernal is. \n",
        "- Python的默认文件夹(dir)在哪里, 默认的location就在哪里\n",
        "- More about os:\\ https://docs.python.org/3/library/os.path.html"
      ]
    },
    {
      "cell_type": "code",
      "metadata": {
        "id": "pkJDh6hI_fZK",
        "outputId": "3bcac8b3-4405-4c6f-b503-3d09e4a4c1fc"
      },
      "source": [
        "# show existing files in current folder\n",
        "!ls"
      ],
      "execution_count": null,
      "outputs": [
        {
          "output_type": "stream",
          "text": [
            "argparse_test.py  pipenv_jupyter.sh  Python_Numpy.ipynb   Unit_Test\n",
            "Coursera\t  Pipfile\t     Python_Pandas.ipynb  Untitled.ipynb\n",
            "Data\t\t  Pipfile.lock\t     README.md\n",
            "Dockerfile\t  Python_Base.ipynb  run_argparse.sh\n",
            "Dockerfile01\t  Python_JSON.py     Tensorflow\n"
          ],
          "name": "stdout"
        }
      ]
    },
    {
      "cell_type": "code",
      "metadata": {
        "id": "7eqE7q9s_fZM",
        "outputId": "c6aa5ca1-29f3-4f21-9d73-192b3916028a"
      },
      "source": [
        "# show current path\n",
        "!pwd"
      ],
      "execution_count": null,
      "outputs": [
        {
          "output_type": "stream",
          "text": [
            "/home/huafeng/Desktop/Python_Code\n"
          ],
          "name": "stdout"
        }
      ]
    },
    {
      "cell_type": "code",
      "metadata": {
        "id": "CRmFwOax_fZN",
        "outputId": "3edfc898-c288-49b6-fb9b-2f9a23ef2578"
      },
      "source": [
        "import os\n",
        "import numpy as np\n",
        "import glob\n",
        "\n",
        "print('A good way to get path of a file based on current dictionary:')\n",
        "\n",
        "# os.path.dirname: Return the directory name of pathname path\n",
        "print('1st Print:',os.path.dirname('__file__'))\n",
        "print('2nd Print:',os.path.abspath(os.path.dirname('__file__')))\n",
        "print('3rd Print:',os.path.join(os.path.abspath(os.path.dirname('__file__')), '..', 'lib'))\n",
        "lib_path = os.path.realpath(os.path.join(os.path.abspath(os.path.dirname('__file__')), '..', 'lib'))\n",
        "print('4th Print:',lib_path)"
      ],
      "execution_count": null,
      "outputs": [
        {
          "output_type": "stream",
          "text": [
            "A good way to get path of a file based on current dictionary:\n",
            "1st Print: \n",
            "2nd Print: /home/huafeng/Desktop/Python_Code\n",
            "3rd Print: /home/huafeng/Desktop/Python_Code/../lib\n",
            "4th Print: /home/huafeng/Desktop/lib\n"
          ],
          "name": "stdout"
        }
      ]
    },
    {
      "cell_type": "code",
      "metadata": {
        "id": "Wy1vN_Ha_fZP",
        "outputId": "2a34db89-53ee-43e1-ca4a-975f5b3c243f"
      },
      "source": [
        "lib_path"
      ],
      "execution_count": null,
      "outputs": [
        {
          "output_type": "execute_result",
          "data": {
            "text/plain": [
              "'/home/huafeng/Desktop/lib'"
            ]
          },
          "metadata": {
            "tags": []
          },
          "execution_count": 56
        }
      ]
    },
    {
      "cell_type": "markdown",
      "metadata": {
        "id": "WzF8wOXr_fZR"
      },
      "source": [
        "## Multiple Files"
      ]
    },
    {
      "cell_type": "code",
      "metadata": {
        "id": "0QU009z-_fZT",
        "outputId": "e7ea04b4-1bd0-4ecb-c642-e392b919a3b2"
      },
      "source": [
        "path_json=os.path.realpath(os.path.join(os.path.abspath(os.path.dirname('__file__')),'Data','ProductData','*'))\n",
        "path_json"
      ],
      "execution_count": null,
      "outputs": [
        {
          "output_type": "execute_result",
          "data": {
            "text/plain": [
              "'/home/huafeng/Desktop/Python_Code/Data/ProductData/*'"
            ]
          },
          "metadata": {
            "tags": []
          },
          "execution_count": 57
        }
      ]
    },
    {
      "cell_type": "code",
      "metadata": {
        "id": "87TstWUr_fZV",
        "outputId": "0d7f5c55-2733-4212-ae30-2b34d265fb18"
      },
      "source": [
        "print('glob.glob would give multiple files in a list:')\n",
        "display(glob.glob(path_json))\n",
        "print('Sorted data:\\n',np.sort(glob.glob(path_json)))"
      ],
      "execution_count": null,
      "outputs": [
        {
          "output_type": "stream",
          "text": [
            "glob.glob would give multiple files in a list:\n"
          ],
          "name": "stdout"
        },
        {
          "output_type": "display_data",
          "data": {
            "text/plain": [
              "[]"
            ]
          },
          "metadata": {
            "tags": []
          }
        },
        {
          "output_type": "stream",
          "text": [
            "Sorted data:\n",
            " []\n"
          ],
          "name": "stdout"
        }
      ]
    },
    {
      "cell_type": "markdown",
      "metadata": {
        "id": "R47v9I2X_fZW"
      },
      "source": [
        "## Pickle Save & Load"
      ]
    },
    {
      "cell_type": "code",
      "metadata": {
        "collapsed": true,
        "jupyter": {
          "outputs_hidden": true
        },
        "id": "90KA7dP4_fZX",
        "outputId": "de29ea5b-eb23-4bde-a4d3-14551fa5758e"
      },
      "source": [
        "import pickle\n",
        "\n",
        "# Pickle Save \n",
        "with open( \"Data/df.p\", \"wb\" )  as f:\n",
        "    pickle.dump(df, f)\n",
        "\n",
        "#Pickle Load\n",
        "with open( \"Data/df.p\", \"rb\" ) as f:\n",
        "    data0=pickle.load(f)"
      ],
      "execution_count": null,
      "outputs": [
        {
          "output_type": "error",
          "ename": "NameError",
          "evalue": "name 'df' is not defined",
          "traceback": [
            "\u001b[0;31m---------------------------------------------------------------------------\u001b[0m",
            "\u001b[0;31mNameError\u001b[0m                                 Traceback (most recent call last)",
            "\u001b[0;32m<ipython-input-63-f5adfd585c41>\u001b[0m in \u001b[0;36m<module>\u001b[0;34m\u001b[0m\n\u001b[1;32m      3\u001b[0m \u001b[0;31m# Pickle Save\u001b[0m\u001b[0;34m\u001b[0m\u001b[0;34m\u001b[0m\u001b[0;34m\u001b[0m\u001b[0m\n\u001b[1;32m      4\u001b[0m \u001b[0;32mwith\u001b[0m \u001b[0mopen\u001b[0m\u001b[0;34m(\u001b[0m \u001b[0;34m\"Data/df.p\"\u001b[0m\u001b[0;34m,\u001b[0m \u001b[0;34m\"wb\"\u001b[0m \u001b[0;34m)\u001b[0m  \u001b[0;32mas\u001b[0m \u001b[0mf\u001b[0m\u001b[0;34m:\u001b[0m\u001b[0;34m\u001b[0m\u001b[0;34m\u001b[0m\u001b[0m\n\u001b[0;32m----> 5\u001b[0;31m     \u001b[0mpickle\u001b[0m\u001b[0;34m.\u001b[0m\u001b[0mdump\u001b[0m\u001b[0;34m(\u001b[0m\u001b[0mdf\u001b[0m\u001b[0;34m,\u001b[0m \u001b[0mf\u001b[0m\u001b[0;34m)\u001b[0m\u001b[0;34m\u001b[0m\u001b[0;34m\u001b[0m\u001b[0m\n\u001b[0m\u001b[1;32m      6\u001b[0m \u001b[0;34m\u001b[0m\u001b[0m\n\u001b[1;32m      7\u001b[0m \u001b[0;31m#Pickle Load\u001b[0m\u001b[0;34m\u001b[0m\u001b[0;34m\u001b[0m\u001b[0;34m\u001b[0m\u001b[0m\n",
            "\u001b[0;31mNameError\u001b[0m: name 'df' is not defined"
          ]
        }
      ]
    },
    {
      "cell_type": "markdown",
      "metadata": {
        "toc-hr-collapsed": true,
        "id": "075kaoWy_fZY"
      },
      "source": [
        "# Functional Programming\n",
        "https://www.liaoxuefeng.com/wiki/0014316089557264a6b348958f449949df42a6d3a2e542c000/0014317848428125ae6aa24068b4c50a7e71501ab275d52000"
      ]
    },
    {
      "cell_type": "markdown",
      "metadata": {
        "id": "bPmiaawS_fZZ"
      },
      "source": [
        "## Decorator\n",
        "- https://zhuanlan.zhihu.com/p/39983849\n",
        "- 提供了一个语法糖 @，在每个被装饰的函数上方使用这个语法糖就可以省掉这一句代码 name = status(name)"
      ]
    },
    {
      "cell_type": "code",
      "metadata": {
        "id": "f61aAEkq_fZZ"
      },
      "source": [
        "'''\n",
        "装饰器作用就是：german_team = guess_win(german_team)\n",
        "'''\n",
        "\n",
        "def guess_win(func):\n",
        "    def rooftop_status(*args, **kwargs):\n",
        "        result = func(*args, **kwargs)\n",
        "        print('天台已满，请排队！')\n",
        "        return result\n",
        "    return rooftop_status\n",
        "\n",
        "@guess_win\n",
        "def german_team(arg):\n",
        "    print('{}必胜！'.format(arg))\n",
        "    return '赢了会所嫩模！输了下海干活！'"
      ],
      "execution_count": null,
      "outputs": []
    },
    {
      "cell_type": "code",
      "metadata": {
        "id": "BTwhYSLM_fZb",
        "outputId": "5d516716-b5b9-4703-ccb8-754f703ca21e"
      },
      "source": [
        "x = german_team('德国')\n",
        "y = german_team('西班牙')"
      ],
      "execution_count": null,
      "outputs": [
        {
          "output_type": "stream",
          "text": [
            "德国必胜！\n",
            "天台已满，请排队！\n",
            "西班牙必胜！\n",
            "天台已满，请排队！\n"
          ],
          "name": "stdout"
        }
      ]
    },
    {
      "cell_type": "code",
      "metadata": {
        "id": "ye_Wu7GO_fZc",
        "outputId": "29376a79-068b-4a09-8b8d-5302646b03af"
      },
      "source": [
        "print(x)"
      ],
      "execution_count": null,
      "outputs": [
        {
          "output_type": "stream",
          "text": [
            "赢了会所嫩模！输了下海干活！\n"
          ],
          "name": "stdout"
        }
      ]
    },
    {
      "cell_type": "markdown",
      "metadata": {
        "id": "f927wrCX_fZg"
      },
      "source": [
        "# Classes and Objects \n",
        "- The concept of OOP (object-oriened programming) allows us to model real world things using code\n",
        "- Every object has attributes (color, height, weight) which are object variables\n",
        "- Every object has abilities (walk, talk, eat) which are object functions\n",
        "\n",
        "You can make a variable private by starting it with a leading single underscore: `_`   (eg. `_privite_func`)\n",
        "\n",
        "*or double underscores(dunders): `__` for python name mangling (avoid name conflict in subclass)\n",
        "\n",
        "Must Read Reference: \n",
        "1. [Instance, Class, and Static Methods demysified](https://realpython.com/instance-class-and-static-methods-demystified/)\n",
        "2. [underscores in Python](https://dbader.org/blog/meaning-of-underscores-in-python)"
      ]
    },
    {
      "cell_type": "code",
      "metadata": {
        "colab": {
          "base_uri": "https://localhost:8080/",
          "height": 35
        },
        "id": "RTu5HU1LORXU",
        "outputId": "915106dc-ddf9-4543-b0f2-5a9d88753edd"
      },
      "source": [
        "class LeetCode:\n",
        "  def food(self, food_name):\n",
        "    return f\"!{str(food_name)}!\"\n",
        "\n",
        "  def drink(self, drink_name):\n",
        "    return f\"!{str(drink_name)}!\"\n",
        "\n",
        "  def meal(self, food_name, drink_name):\n",
        "    my_meal = self.food(food_naame) + self.drink(drink_name)\n",
        "    return my_meal\n",
        "\n",
        "obj = LeetCode()\n",
        "obj.meal(food_name=\"chicken\", drink_name=\"wine\")"
      ],
      "execution_count": null,
      "outputs": [
        {
          "output_type": "execute_result",
          "data": {
            "application/vnd.google.colaboratory.intrinsic+json": {
              "type": "string"
            },
            "text/plain": [
              "'!chicken!!wine!'"
            ]
          },
          "metadata": {
            "tags": []
          },
          "execution_count": 2
        }
      ]
    },
    {
      "cell_type": "code",
      "metadata": {
        "id": "lOMR4_YU_fZh"
      },
      "source": [
        "class MyClass:\n",
        "    def method(self):  # self represents instance\n",
        "        return 'instance method called', self\n",
        "\n",
        "    @classmethod\n",
        "    def classmethod(cls):  # cls represents class itself\n",
        "        return 'class method called', cls\n",
        "\n",
        "    @staticmethod\n",
        "    def staticmethod():\n",
        "        return 'static method called'\n",
        "\n",
        "obj = MyClass()"
      ],
      "execution_count": null,
      "outputs": []
    },
    {
      "cell_type": "markdown",
      "metadata": {
        "id": "g8VMGErH_fZj"
      },
      "source": [
        "When the `method` is called, Python replaces the `self` argument with the instance object, `obj`. "
      ]
    },
    {
      "cell_type": "code",
      "metadata": {
        "id": "f7Bo7f1n_fZj",
        "outputId": "dcdf2745-97e5-45f0-f578-20a15bbe6560"
      },
      "source": [
        "print(obj.method())\n",
        "print(MyClass.method(obj))  # pass obj instance to method directly"
      ],
      "execution_count": null,
      "outputs": [
        {
          "output_type": "stream",
          "text": [
            "('instance method called', <__main__.MyClass object at 0x7f5140b5ee10>)\n",
            "('instance method called', <__main__.MyClass object at 0x7f5140b5ee10>)\n"
          ],
          "name": "stdout"
        }
      ]
    },
    {
      "cell_type": "markdown",
      "metadata": {
        "id": "I1hs0Ald_fZl"
      },
      "source": [
        "Calling `classmethod()` showed us it doesn’t have access to the `<MyClass instance>` object, but only to the `<class MyClass>` object"
      ]
    },
    {
      "cell_type": "code",
      "metadata": {
        "id": "bVpCMVlh_fZl",
        "outputId": "a8e73ffd-495b-480a-f746-236cd13217fb"
      },
      "source": [
        "obj.classmethod()"
      ],
      "execution_count": null,
      "outputs": [
        {
          "output_type": "execute_result",
          "data": {
            "text/plain": [
              "('class method called', __main__.MyClass)"
            ]
          },
          "metadata": {
            "tags": []
          },
          "execution_count": 121
        }
      ]
    },
    {
      "cell_type": "code",
      "metadata": {
        "id": "iYQH41qh_fZn",
        "outputId": "0a6c77fe-c6fb-4c28-d91a-ec1b69e64f2d"
      },
      "source": [
        "obj.staticmethod()"
      ],
      "execution_count": null,
      "outputs": [
        {
          "output_type": "execute_result",
          "data": {
            "text/plain": [
              "'static method called'"
            ]
          },
          "metadata": {
            "tags": []
          },
          "execution_count": 122
        }
      ]
    },
    {
      "cell_type": "markdown",
      "metadata": {
        "id": "-wypICLD_fZp"
      },
      "source": [
        "## Scopes and Namespaces Example\n",
        "- Global Variable\n",
        "- Non-Local Variable\n",
        "- Local Variable."
      ]
    },
    {
      "cell_type": "code",
      "metadata": {
        "collapsed": true,
        "jupyter": {
          "outputs_hidden": true
        },
        "id": "grBj3jlq_fZp"
      },
      "source": [
        "def scope_test():\n",
        "    def do_local():\n",
        "        spam = \"local spam\"\n",
        "\n",
        "    def do_nonlocal():\n",
        "        nonlocal spam\n",
        "        spam = \"nonlocal spam\"\n",
        "\n",
        "    def do_global():\n",
        "        global spam\n",
        "        spam = \"global spam\"\n",
        "\n",
        "    spam = \"test spam\"\n",
        "    do_local()\n",
        "    print(\"After local assignment:\", spam)\n",
        "    do_nonlocal()\n",
        "    print(\"After nonlocal assignment:\", spam)\n",
        "    do_global()\n",
        "    print(\"After global assignment:\", spam)    "
      ],
      "execution_count": null,
      "outputs": []
    },
    {
      "cell_type": "code",
      "metadata": {
        "id": "nV51Kl3q_fZr",
        "outputId": "189c53da-6e44-4206-c8f1-dc20cccdaee9"
      },
      "source": [
        "scope_test()\n",
        "print(\"In global scope:\", spam)"
      ],
      "execution_count": null,
      "outputs": [
        {
          "output_type": "stream",
          "text": [
            "After local assignment: test spam\n",
            "After nonlocal assignment: nonlocal spam\n",
            "After global assignment: nonlocal spam\n",
            "In global scope: global spam\n"
          ],
          "name": "stdout"
        }
      ]
    },
    {
      "cell_type": "markdown",
      "metadata": {
        "id": "wbntHl7R_fZu"
      },
      "source": [
        "- The local assignment (which is default) didn’t change scope_test’s binding of spam\n",
        "- The nonlocal assignment changed scope_test’s binding of spam\n",
        "- The global assignment changed the module-level binding"
      ]
    },
    {
      "cell_type": "markdown",
      "metadata": {
        "id": "zUFtY6Mm_fZu"
      },
      "source": [
        "## Constructor\n",
        "- A class constructor is a special member function of a class that is executed whenever whe create new objects of that class.\n",
        "- A constructor will have **exact same name** as the class and it does not have any return type at all, not even void (for C++).\n",
        "- Constructors can be very usefull for **setting initial values** for certain member variables.\n",
        "\n",
        "The **Constructor** is called to set up or **initialize** an object.\n",
        "<br>**'self'** allows an object to refer to itself inside of the class."
      ]
    },
    {
      "cell_type": "code",
      "metadata": {
        "id": "_TawVplk_fZv"
      },
      "source": [
        "class Animal:\n",
        "# continued\n",
        "    # below is a constructor to initialze an object, assigning values.\n",
        "    def __init__(self, name, height, weight, sound):\n",
        "        self._name = name\n",
        "        self.__name = name\n",
        "        self.__height = height\n",
        "        self.__weight = weight\n",
        "        self.__sound = sound\n",
        "        self.test01 = 1 \n",
        "        self._test02 = 2\n",
        "        \n",
        "    # assigning values-----------\n",
        "    # below block is used for updating variables if needed later\n",
        "    def set_name(self, name):\n",
        "        self.__name = name\n",
        "\n",
        "    def set_height(self, height):\n",
        "        self.__height = height\n",
        "\n",
        "    def set_weight(self, weight):\n",
        "        self.__weight = weight\n",
        "\n",
        "    def set_sound(self, sound):\n",
        "        self.__sound = sound\n",
        "    \n",
        "    # get values-----------------\n",
        "    def get_name(self):\n",
        "        return self.__name\n",
        "\n",
        "    def get_height(self):\n",
        "        return str(self.__height)\n",
        "\n",
        "    def get_weight(self):\n",
        "        return str(self.__weight)\n",
        "\n",
        "    def get_sound(self):\n",
        "        return self.__sound\n",
        "\n",
        "    def get_type(self):\n",
        "        print(\"Animal\")\n",
        "        \n",
        "    def get_healthScore(self):\n",
        "        self.score = self.__height -self.__weight\n",
        "        return self.score\n",
        "    \n",
        "    # make it a string-----------\n",
        "    def toString(self):\n",
        "        return \"{} is {} cm tall and {} kilograms and says {}\".format(self.__name, self.__height, \\\n",
        "                                                                      self.__weight, self.__sound)"
      ],
      "execution_count": null,
      "outputs": []
    },
    {
      "cell_type": "code",
      "metadata": {
        "id": "tupjn7mQ_fZw",
        "outputId": "eece5b31-3bdd-4e72-f53a-1a435c695e85"
      },
      "source": [
        "# How to create a Animal object\n",
        "cat = Animal('Whiskers', 33, 10, 'Meow')\n",
        "score=cat.get_healthScore()\n",
        "print('health score is :', score)\n",
        "print(cat.toString())\n",
        "\n",
        "# You can't access this value directly because it is private\n",
        "# print(cat.__name)"
      ],
      "execution_count": null,
      "outputs": [
        {
          "output_type": "stream",
          "text": [
            "health score is : 23\n",
            "Whiskers is 33 cm tall and 10 kilograms and says Meow\n"
          ],
          "name": "stdout"
        }
      ]
    },
    {
      "cell_type": "code",
      "metadata": {
        "id": "BI9Ik2Oo_fZy",
        "outputId": "5dbc56c7-0fb4-4b83-9a7c-9e773eba18f0"
      },
      "source": [
        "# dir(object): return a list of valid attributes for that object.\n",
        "dir(cat)"
      ],
      "execution_count": null,
      "outputs": [
        {
          "output_type": "execute_result",
          "data": {
            "text/plain": [
              "['_Animal__height',\n",
              " '_Animal__name',\n",
              " '_Animal__sound',\n",
              " '_Animal__weight',\n",
              " '__class__',\n",
              " '__delattr__',\n",
              " '__dict__',\n",
              " '__dir__',\n",
              " '__doc__',\n",
              " '__eq__',\n",
              " '__format__',\n",
              " '__ge__',\n",
              " '__getattribute__',\n",
              " '__gt__',\n",
              " '__hash__',\n",
              " '__init__',\n",
              " '__init_subclass__',\n",
              " '__le__',\n",
              " '__lt__',\n",
              " '__module__',\n",
              " '__ne__',\n",
              " '__new__',\n",
              " '__reduce__',\n",
              " '__reduce_ex__',\n",
              " '__repr__',\n",
              " '__setattr__',\n",
              " '__sizeof__',\n",
              " '__str__',\n",
              " '__subclasshook__',\n",
              " '__weakref__',\n",
              " '_name',\n",
              " '_test02',\n",
              " 'get_healthScore',\n",
              " 'get_height',\n",
              " 'get_name',\n",
              " 'get_sound',\n",
              " 'get_type',\n",
              " 'get_weight',\n",
              " 'score',\n",
              " 'set_height',\n",
              " 'set_name',\n",
              " 'set_sound',\n",
              " 'set_weight',\n",
              " 'test01',\n",
              " 'toString']"
            ]
          },
          "metadata": {
            "tags": []
          },
          "execution_count": 71
        }
      ]
    },
    {
      "cell_type": "code",
      "metadata": {
        "id": "NCzUx0eJ_fZ0",
        "outputId": "027717ef-5971-45de-a40d-1fa25cef52ff"
      },
      "source": [
        "# access to private attribute is not forbbiden in python\n",
        "cat._name"
      ],
      "execution_count": null,
      "outputs": [
        {
          "output_type": "execute_result",
          "data": {
            "text/plain": [
              "'Whiskers'"
            ]
          },
          "metadata": {
            "tags": []
          },
          "execution_count": 72
        }
      ]
    },
    {
      "cell_type": "code",
      "metadata": {
        "id": "gL3T7l0L_fZ1",
        "outputId": "65b4a19c-ee9e-40a7-fd80-2e02b3a38788"
      },
      "source": [
        "# AttributeError: this is because of python's name mangling! \n",
        "cat.__name"
      ],
      "execution_count": null,
      "outputs": [
        {
          "output_type": "error",
          "ename": "AttributeError",
          "evalue": "'Animal' object has no attribute '__name'",
          "traceback": [
            "\u001b[0;31m---------------------------------------------------------------------------\u001b[0m",
            "\u001b[0;31mAttributeError\u001b[0m                            Traceback (most recent call last)",
            "\u001b[0;32m<ipython-input-73-a770e80f4bb3>\u001b[0m in \u001b[0;36m<module>\u001b[0;34m\u001b[0m\n\u001b[1;32m      1\u001b[0m \u001b[0;31m# AttributeError: this is because of python's name mangling!\u001b[0m\u001b[0;34m\u001b[0m\u001b[0;34m\u001b[0m\u001b[0;34m\u001b[0m\u001b[0m\n\u001b[0;32m----> 2\u001b[0;31m \u001b[0mcat\u001b[0m\u001b[0;34m.\u001b[0m\u001b[0m__name\u001b[0m\u001b[0;34m\u001b[0m\u001b[0;34m\u001b[0m\u001b[0m\n\u001b[0m",
            "\u001b[0;31mAttributeError\u001b[0m: 'Animal' object has no attribute '__name'"
          ]
        }
      ]
    },
    {
      "cell_type": "markdown",
      "metadata": {
        "id": "KC4HWWPS_fZ4"
      },
      "source": [
        "Reference: [underscores in Python](https://dbader.org/blog/meaning-of-underscores-in-python)"
      ]
    },
    {
      "cell_type": "code",
      "metadata": {
        "id": "68lx8bLi_fZ4",
        "outputId": "b3003ac8-88f1-4434-eb68-c7e160306df5"
      },
      "source": [
        "# dunders(double underscores) got __name turned into _Animal__name to prevent accidental modification\n",
        "# it protects the variable from getting overridden in subclasses\n",
        "cat._Animal__name"
      ],
      "execution_count": null,
      "outputs": [
        {
          "output_type": "execute_result",
          "data": {
            "text/plain": [
              "'Whiskers'"
            ]
          },
          "metadata": {
            "tags": []
          },
          "execution_count": 74
        }
      ]
    },
    {
      "cell_type": "code",
      "metadata": {
        "id": "fjBGLFJl_fZ7",
        "outputId": "bb1738b3-ab45-4283-e095-01a3712a9e3e"
      },
      "source": [
        "cat.test01"
      ],
      "execution_count": null,
      "outputs": [
        {
          "output_type": "execute_result",
          "data": {
            "text/plain": [
              "1"
            ]
          },
          "metadata": {
            "tags": []
          },
          "execution_count": 75
        }
      ]
    },
    {
      "cell_type": "code",
      "metadata": {
        "id": "cveIAwWv_fZ9",
        "outputId": "d8769010-6c1d-4cd5-9d19-976c2e7fc3f2"
      },
      "source": [
        "# _test02 is deemed as private but still can be access. When seeing it, need to treat with caution.\n",
        "# ._test02 do not appear in auto fill suggestion, when pressing tab\n",
        "cat._test02"
      ],
      "execution_count": null,
      "outputs": [
        {
          "output_type": "execute_result",
          "data": {
            "text/plain": [
              "2"
            ]
          },
          "metadata": {
            "tags": []
          },
          "execution_count": 76
        }
      ]
    },
    {
      "cell_type": "markdown",
      "metadata": {
        "id": "1Zzq6sPj_fZ_"
      },
      "source": [
        "## Explanation\n",
        "- The jeff object, known as an **instance**, is the realized version of the Customer **Class**\n",
        "- Functions in class are called as **methods**\n",
        "- self is the **instance** of the Customer that withdraw is being called on.\n",
        "\n",
        "eg.\n",
        "def withdraw(self, amount)<br>\n",
        "self here is just equal to the instance jeff.<br>\n",
        "**jeff.withdraw(100.0)**  is just shorthand for **Customer.withdraw(jeff, 100.0)**"
      ]
    },
    {
      "cell_type": "markdown",
      "metadata": {
        "id": "nmtdnl4Q_fZ_"
      },
      "source": [
        "<font size=3>how to work on this question</font>"
      ]
    },
    {
      "cell_type": "code",
      "metadata": {
        "id": "qaYppZGI_fZ_",
        "outputId": "fd7807d7-8921-4b7d-a360-7b4efa66a430"
      },
      "source": [
        "class Customer(object):\n",
        "    \"\"\"A customer of ABC Bank with a checking account. Customers have the\n",
        "    following properties:\n",
        "\n",
        "    Attributes:\n",
        "        name: A string representing the customer's name.\n",
        "        balance: A float tracking the current balance of the customer's account.\n",
        "    \"\"\"\n",
        "\n",
        "    def __init__(self, name):\n",
        "        \"\"\"Return a Customer object whose name is *name*.\"\"\" \n",
        "        self.name = name\n",
        "\n",
        "    def set_balance(self, balance=0.0):\n",
        "        \"\"\"Set the customer's starting balance.\"\"\"\n",
        "        self.balance = balance\n",
        "\n",
        "    def withdraw(self, amount):\n",
        "        \"\"\"Return the balance remaining after withdrawing *amount*\n",
        "        dollars.\"\"\"\n",
        "        if amount > self.balance:\n",
        "            raise RuntimeError('Amount greater than available balance.')\n",
        "        self.balance -= amount\n",
        "        return self.balance\n",
        "\n",
        "    def deposit(self, amount):\n",
        "        \"\"\"Return the balance remaining after depositing *amount*\n",
        "        dollars.\"\"\"\n",
        "        self.balance += amount\n",
        "        return self.balance\n",
        "\n",
        "jeff = Customer('Jeff Knupp')\n",
        "jeff.set_balance()\n",
        "jeff.deposit(1000)\n",
        "jeff.withdraw(100.0)\n"
      ],
      "execution_count": null,
      "outputs": [
        {
          "output_type": "execute_result",
          "data": {
            "text/plain": [
              "900.0"
            ]
          },
          "metadata": {
            "tags": []
          },
          "execution_count": 77
        }
      ]
    },
    {
      "cell_type": "markdown",
      "metadata": {
        "toc-hr-collapsed": true,
        "id": "EnIfXWHp_faB"
      },
      "source": [
        "## Class and Instance Variables"
      ]
    },
    {
      "cell_type": "code",
      "metadata": {
        "id": "FmvzSNGo_faB",
        "colab": {
          "base_uri": "https://localhost:8080/"
        },
        "outputId": "4941d1ca-c967-4cdc-d50b-5c8b1da31a89"
      },
      "source": [
        "value = 11\n",
        "class ClassName(object):\n",
        "    class_variable = value          # value shared across all class instances\n",
        "    \n",
        "    def __init__(self, value):\n",
        "        self.instance_variable = value  # value specific to instance\n",
        "\n",
        "\n",
        "#accessing instance variable\n",
        "class_instance = ClassName(value)\n",
        "print(\"instance variable: \\t\", class_instance.instance_variable)\n",
        "\n",
        "#accessing class variable\n",
        "print(\"class variable: \\t\", ClassName.class_variable)\n",
        "\n",
        "print(\"instance accesses class variable:\", class_instance.class_variable)"
      ],
      "execution_count": null,
      "outputs": [
        {
          "output_type": "stream",
          "text": [
            "instance variable: \t 11\n",
            "instance accesses class variable: 11\n",
            "class variable: \t 11\n"
          ],
          "name": "stdout"
        }
      ]
    },
    {
      "cell_type": "markdown",
      "metadata": {
        "id": "Yh8qTumc_faC"
      },
      "source": [
        "### Example"
      ]
    },
    {
      "cell_type": "code",
      "metadata": {
        "id": "-2FQ6k-m_faD",
        "outputId": "e80a9c07-8b5b-4684-ccb1-333d0c0668c5"
      },
      "source": [
        "class Car:\n",
        "    wheels = 4\n",
        "\n",
        "    def __init__(self, make):\n",
        "        self.make = make\n",
        "\n",
        "newCar = Car(\"Honda\")\n",
        "print (\"My new car is a {}\".format(newCar.make))\n",
        "print (\"My car, like all cars, has {} wheels\".format(Car.wheels))"
      ],
      "execution_count": null,
      "outputs": [
        {
          "output_type": "stream",
          "text": [
            "My new car is a Honda\n",
            "My car, like all cars, has 4 wheels\n"
          ],
          "name": "stdout"
        }
      ]
    },
    {
      "cell_type": "markdown",
      "metadata": {
        "toc-hr-collapsed": false,
        "id": "4GPIWmSm_faF"
      },
      "source": [
        "## Decorator"
      ]
    },
    {
      "cell_type": "markdown",
      "metadata": {
        "id": "DOurKAxH_faG"
      },
      "source": [
        "### @staticmethod\n",
        "A **static method** can be called either on the class (such as `C.f()`) or on an instance (such as `C().f()`).\n",
        "\n",
        "**static methods** can’t access class or instance state because they don’t take a `cls` or `self` argument. \n",
        "\n",
        "They work like **regular functions** but belong to the **class’s namespace**.\n",
        "\n",
        "Because the **static** `circle_area()` **method** is completely independent from the rest of the class it’s much easier to test."
      ]
    },
    {
      "cell_type": "markdown",
      "metadata": {
        "id": "iO3rGotg_faG"
      },
      "source": [
        "**Example 1:**"
      ]
    },
    {
      "cell_type": "code",
      "metadata": {
        "id": "t8OLF4on_faG"
      },
      "source": [
        "import math\n",
        "\n",
        "class Pizza:\n",
        "    def __init__(self, radius, ingredients):\n",
        "        self.radius = radius\n",
        "        self.ingredients = ingredients\n",
        "\n",
        "    def __repr__(self):\n",
        "        return (f'Pizza({self.radius!r}, '\n",
        "                f'{self.ingredients!r})')\n",
        "\n",
        "    def area(self):\n",
        "        return self.circle_area(self.radius)\n",
        "\n",
        "    @staticmethod\n",
        "    def circle_area(r):  # circle_area() can’t modify the class or the class instance in any way.\n",
        "        return r ** 2 * math.pi"
      ],
      "execution_count": null,
      "outputs": []
    },
    {
      "cell_type": "code",
      "metadata": {
        "id": "_KsdWVWw_faI"
      },
      "source": [
        "p = Pizza(4, ['mozzarella', 'tomatoes'])"
      ],
      "execution_count": null,
      "outputs": []
    },
    {
      "cell_type": "code",
      "metadata": {
        "id": "mRizWA4o_faL",
        "outputId": "afa33507-6f37-4541-ef86-45ef887d7559"
      },
      "source": [
        "p"
      ],
      "execution_count": null,
      "outputs": [
        {
          "output_type": "execute_result",
          "data": {
            "text/plain": [
              "Pizza(4, ['mozzarella', 'tomatoes'])"
            ]
          },
          "metadata": {
            "tags": []
          },
          "execution_count": 86
        }
      ]
    },
    {
      "cell_type": "code",
      "metadata": {
        "id": "Wmmv5UyF_faN",
        "outputId": "0fb143b8-ac69-4240-9985-6032981f4894"
      },
      "source": [
        "p.area()"
      ],
      "execution_count": null,
      "outputs": [
        {
          "output_type": "execute_result",
          "data": {
            "text/plain": [
              "50.26548245743669"
            ]
          },
          "metadata": {
            "tags": []
          },
          "execution_count": 87
        }
      ]
    },
    {
      "cell_type": "code",
      "metadata": {
        "id": "eethFx35_faP",
        "outputId": "17d386ce-284b-448c-b6b3-8dbc6c057234"
      },
      "source": [
        "Pizza.circle_area(4)"
      ],
      "execution_count": null,
      "outputs": [
        {
          "output_type": "execute_result",
          "data": {
            "text/plain": [
              "50.26548245743669"
            ]
          },
          "metadata": {
            "tags": []
          },
          "execution_count": 88
        }
      ]
    },
    {
      "cell_type": "markdown",
      "metadata": {
        "id": "PmdTCoJq_faQ"
      },
      "source": [
        "**Example 2:**\n",
        "- **@staticmethod** can have no parameters at all."
      ]
    },
    {
      "cell_type": "code",
      "metadata": {
        "id": "Cq7BcsCY_faS"
      },
      "source": [
        "class Car(object):\n",
        "    # Only when below decorator is used, method can have nill input\n",
        "    @staticmethod\n",
        "    def make_car_sound():\n",
        "        print('VRooooommmm!')"
      ],
      "execution_count": null,
      "outputs": []
    },
    {
      "cell_type": "code",
      "metadata": {
        "id": "SgkHA2in_faT"
      },
      "source": [
        "class Car2(object):\n",
        "    # 如果这里没有self就会报错\n",
        "    def make_car_sound(self):  # method of instance\n",
        "        print('VRooooommmm!')"
      ],
      "execution_count": null,
      "outputs": []
    },
    {
      "cell_type": "code",
      "metadata": {
        "id": "J4fHCj3p_faU",
        "outputId": "eb19960e-931a-4615-9965-a1d0baae2364"
      },
      "source": [
        "# See here, you dont need to initialise the class as an instance. \n",
        "# ie. no need to do this: c = Car() \n",
        "Car.make_car_sound()"
      ],
      "execution_count": null,
      "outputs": [
        {
          "output_type": "stream",
          "text": [
            "VRooooommmm!\n"
          ],
          "name": "stdout"
        }
      ]
    },
    {
      "cell_type": "code",
      "metadata": {
        "jupyter": {
          "outputs_hidden": true
        },
        "id": "UgSonm-s_faV"
      },
      "source": [
        "a=Car()\n",
        "b=Car2()"
      ],
      "execution_count": null,
      "outputs": []
    },
    {
      "cell_type": "code",
      "metadata": {
        "id": "CFRMP8mz_faW",
        "outputId": "5c6d2d56-3152-42e4-b587-c4d4e43c33ce"
      },
      "source": [
        "a.make_car_sound()"
      ],
      "execution_count": null,
      "outputs": [
        {
          "output_type": "stream",
          "text": [
            "VRooooommmm!\n"
          ],
          "name": "stdout"
        }
      ]
    },
    {
      "cell_type": "code",
      "metadata": {
        "id": "MzVo3GN1_faX",
        "outputId": "a0acd9e8-cc4c-43a4-d439-e4d13da2c85d"
      },
      "source": [
        "b.make_car_sound()"
      ],
      "execution_count": null,
      "outputs": [
        {
          "output_type": "stream",
          "text": [
            "VRooooommmm!\n"
          ],
          "name": "stdout"
        }
      ]
    },
    {
      "cell_type": "markdown",
      "metadata": {
        "id": "opyjMt_h_faY"
      },
      "source": [
        "### @classmethod\n",
        "- **@classmethod** must have a reference to a class object as the first parameter\n",
        "\n",
        "`cls` is an object that holds class itself, not an instance of the class. It's pretty cool because if we inherit our Date class, all children will have `from_string` defined also."
      ]
    },
    {
      "cell_type": "code",
      "metadata": {
        "pycharm": {
          "is_executing": false
        },
        "id": "QjtvPsbM_faY",
        "outputId": "3fe11a30-53c5-4fba-aee6-95e9e5beed57"
      },
      "source": [
        "class Date(object):\n",
        "\n",
        "    def __init__(self, day, month, year):\n",
        "        self.day = day\n",
        "        self.month = month\n",
        "        self.year = year\n",
        "    \n",
        "    @classmethod  # must add @classmethod, otherwise it would be deemed as self.\n",
        "    def from_string(cls, date_as_string):\n",
        "        day, month, year = map(int, date_as_string.split('-'))\n",
        "        date1 = cls(day, month, year)\n",
        "        return date1  # date1 is a class not returning any thing\n",
        "\n",
        "    @staticmethod\n",
        "    def is_date_valid(date_as_string):\n",
        "        day, month, year = map(int, date_as_string.split('-'))\n",
        "        return day <= 31 and month <= 12 and year <= 3999\n",
        "\n",
        "\n",
        "date2 = Date.from_string('11-09-2012')\n",
        "print(\"data2 is a class: {}\".format(date2))\n",
        "print(\"date2.day: {}\".format(date2.day))\n",
        "is_date = Date.is_date_valid('11-09-2012')\n",
        "print(is_date)"
      ],
      "execution_count": null,
      "outputs": [
        {
          "output_type": "stream",
          "text": [
            "data2 is a class: <__main__.Date object at 0x7fcd78ab6250>\n",
            "date2.day: 11\n",
            "True\n"
          ],
          "name": "stdout"
        }
      ]
    },
    {
      "cell_type": "code",
      "metadata": {
        "id": "zOYxx9DD_faZ",
        "outputId": "a8efda7f-df3a-499e-aeb8-9a471b911cf2"
      },
      "source": [
        "a='11-09-2012'\n",
        "c,d,f=map(int,a.split('-'))\n",
        "print('date: ',c,d,f)\n"
      ],
      "execution_count": null,
      "outputs": [
        {
          "output_type": "stream",
          "text": [
            "date:  11 9 2012\n"
          ],
          "name": "stdout"
        }
      ]
    },
    {
      "cell_type": "markdown",
      "metadata": {
        "id": "0Vw9JGSd_fab"
      },
      "source": [
        "cls is an object that holds class itself, not an instance of the class. It's pretty cool because if we inherit our Date class, all children will have from_string defined also."
      ]
    },
    {
      "cell_type": "markdown",
      "metadata": {
        "id": "jOqbru1kHvne"
      },
      "source": [
        "### @property\n",
        "- 全: [廖雪峰Python](https://www.liaoxuefeng.com/wiki/1016959663602400/1017502538658208) (@property, setter, getter)\n",
        "- 速: [知乎Example](https://zhuanlan.zhihu.com/p/64487092)"
      ]
    },
    {
      "cell_type": "markdown",
      "metadata": {
        "id": "joXNAX8gJRgS"
      },
      "source": [
        "Simple Example:"
      ]
    },
    {
      "cell_type": "code",
      "metadata": {
        "id": "JakMb7gVIdW2",
        "colab": {
          "base_uri": "https://localhost:8080/",
          "height": 34
        },
        "outputId": "1fcb6473-2c0f-4ce7-81e9-30b571cacc4c"
      },
      "source": [
        "class DataSet(object):\n",
        "    def __init__(self):\n",
        "        self._images = 1\n",
        "        self._labels = 2 #定义属性的名称\n",
        "    \n",
        "    @property  # read-only\n",
        "    def images(self): #方法加入@property后，这个方法相当于一个属性，这个属性可以让用户进行使用，而且用户有没办法随意修改。\n",
        "        return self._images \n",
        "    \n",
        "    @property\n",
        "    def labels(self):\n",
        "        return self._labels\n",
        "l = DataSet()\n",
        "\n",
        "#用户进行属性调用的时候，直接调用images即可，而不用知道属性名_images，因此用户无法更改属性，从而保护了类的属性。\n",
        "l.images # 加了@property后，可以用调用属性的形式来调用方法,后面不需要加（）。\n"
      ],
      "execution_count": null,
      "outputs": [
        {
          "output_type": "stream",
          "text": [
            "1\n"
          ],
          "name": "stdout"
        }
      ]
    },
    {
      "cell_type": "code",
      "metadata": {
        "id": "MidRh2K2IfLf",
        "colab": {
          "base_uri": "https://localhost:8080/",
          "height": 164
        },
        "outputId": "dec2ee40-3cd7-455f-82aa-aed1bc9ca1db"
      },
      "source": [
        "l.images=100"
      ],
      "execution_count": null,
      "outputs": [
        {
          "output_type": "error",
          "ename": "AttributeError",
          "evalue": "ignored",
          "traceback": [
            "\u001b[0;31m---------------------------------------------------------------------------\u001b[0m",
            "\u001b[0;31mAttributeError\u001b[0m                            Traceback (most recent call last)",
            "\u001b[0;32m<ipython-input-3-e44d76545029>\u001b[0m in \u001b[0;36m<module>\u001b[0;34m()\u001b[0m\n\u001b[0;32m----> 1\u001b[0;31m \u001b[0ml\u001b[0m\u001b[0;34m.\u001b[0m\u001b[0mimages\u001b[0m\u001b[0;34m=\u001b[0m\u001b[0;36m100\u001b[0m\u001b[0;34m\u001b[0m\u001b[0;34m\u001b[0m\u001b[0m\n\u001b[0m",
            "\u001b[0;31mAttributeError\u001b[0m: can't set attribute"
          ]
        }
      ]
    },
    {
      "cell_type": "markdown",
      "metadata": {
        "id": "RaraQbSXJXP4"
      },
      "source": [
        "Complete Example:"
      ]
    },
    {
      "cell_type": "code",
      "metadata": {
        "id": "hmrrgFGvJayp"
      },
      "source": [
        "class Student(object):\n",
        "\n",
        "    @property\n",
        "    def score(self):\n",
        "        return self._score\n",
        "\n",
        "    @score.setter\n",
        "    def score(self, value):\n",
        "        if not isinstance(value, int):\n",
        "            raise ValueError('score must be an integer!')\n",
        "        if value < 0 or value > 100:\n",
        "            raise ValueError('score must between 0 ~ 100!')\n",
        "        self._score = value"
      ],
      "execution_count": null,
      "outputs": []
    },
    {
      "cell_type": "code",
      "metadata": {
        "id": "zrrGXBpKJcvZ"
      },
      "source": [
        "s = Student()\n",
        "s.score=60"
      ],
      "execution_count": null,
      "outputs": []
    },
    {
      "cell_type": "markdown",
      "metadata": {
        "id": "-Qy4ZYd_HuQ7"
      },
      "source": [
        "## Dunder Methods"
      ]
    },
    {
      "cell_type": "markdown",
      "metadata": {
        "id": "w5nZmau8Hy9p"
      },
      "source": [
        "### \\_\\_str\\__ & \\_\\_repr__\n",
        "- **\\_\\_repr__**: The “official” string representation of an object. This is how you would make an object of the class. The goal of \\_\\_repr__ is to be unambiguous.\n",
        "- **\\_\\_str__**: The “informal” or nicely printable string representation of an object. This is for the enduser.\n"
      ]
    },
    {
      "cell_type": "code",
      "metadata": {
        "id": "uCAuTS2OH2kb"
      },
      "source": [
        "class Account:\n",
        "    \"\"\"A simple account class\"\"\"\n",
        "\n",
        "    def __init__(self, owner, amount=0):\n",
        "        \"\"\"\n",
        "        This is the constructor that lets us create\n",
        "        objects from this class\n",
        "        \"\"\"\n",
        "        self.owner = owner\n",
        "        self.amount = amount\n",
        "        self._transactions = []\n",
        "\n",
        "    def __repr__(self):\n",
        "      return f\"Account({self.owner}, {self.amount})\"\n",
        "\n",
        "    # def __str__(self):\n",
        "    #   return f\"Account of {self.owner} with starting amount {self.amount}\"\n",
        "\n",
        "acc1 = Account(\"chet\", 100_000)"
      ],
      "execution_count": null,
      "outputs": []
    },
    {
      "cell_type": "code",
      "metadata": {
        "colab": {
          "base_uri": "https://localhost:8080/"
        },
        "id": "0UmhVjxRIzs4",
        "outputId": "5f635676-fdff-43e7-e5f0-e63187c17185"
      },
      "source": [
        "acc1"
      ],
      "execution_count": null,
      "outputs": [
        {
          "output_type": "execute_result",
          "data": {
            "text/plain": [
              "Account(chet, 100000)"
            ]
          },
          "metadata": {
            "tags": []
          },
          "execution_count": 22
        }
      ]
    },
    {
      "cell_type": "code",
      "metadata": {
        "colab": {
          "base_uri": "https://localhost:8080/",
          "height": 35
        },
        "id": "FiBfRefEJox2",
        "outputId": "f7fc2f4c-7977-4773-fcf5-b6226ab06e6d"
      },
      "source": [
        "repr(acc1)"
      ],
      "execution_count": null,
      "outputs": [
        {
          "output_type": "execute_result",
          "data": {
            "application/vnd.google.colaboratory.intrinsic+json": {
              "type": "string"
            },
            "text/plain": [
              "'Account(chet, 100000)'"
            ]
          },
          "metadata": {
            "tags": []
          },
          "execution_count": 23
        }
      ]
    },
    {
      "cell_type": "code",
      "metadata": {
        "colab": {
          "base_uri": "https://localhost:8080/"
        },
        "id": "08ItWGXPI7hT",
        "outputId": "b69c5da3-127e-4d5a-91b2-744d114f6c1c"
      },
      "source": [
        "print(acc1)"
      ],
      "execution_count": null,
      "outputs": [
        {
          "output_type": "stream",
          "text": [
            "Account(chet, 100000)\n"
          ],
          "name": "stdout"
        }
      ]
    },
    {
      "cell_type": "code",
      "metadata": {
        "colab": {
          "base_uri": "https://localhost:8080/",
          "height": 35
        },
        "id": "BEkSSkxxJqs1",
        "outputId": "096072e8-2e0f-4909-9bf0-644fd4267462"
      },
      "source": [
        "str(acc1)"
      ],
      "execution_count": null,
      "outputs": [
        {
          "output_type": "execute_result",
          "data": {
            "application/vnd.google.colaboratory.intrinsic+json": {
              "type": "string"
            },
            "text/plain": [
              "'Account(chet, 100000)'"
            ]
          },
          "metadata": {
            "tags": []
          },
          "execution_count": 25
        }
      ]
    },
    {
      "cell_type": "code",
      "metadata": {
        "id": "fwIhLjY6KFwA"
      },
      "source": [
        "class Account:\n",
        "    \"\"\"A simple account class\"\"\"\n",
        "\n",
        "    def __init__(self, owner, amount=0):\n",
        "        \"\"\"\n",
        "        This is the constructor that lets us create\n",
        "        objects from this class\n",
        "        \"\"\"\n",
        "        self.owner = owner\n",
        "        self.amount = amount\n",
        "        self._transactions = []\n",
        "\n",
        "    def __str__(self):\n",
        "      return f\"Account of {self.owner} with starting amount {self.amount}\"\n",
        "\n",
        "acc2 = Account(\"chet\", 100_000)"
      ],
      "execution_count": null,
      "outputs": []
    },
    {
      "cell_type": "code",
      "metadata": {
        "colab": {
          "base_uri": "https://localhost:8080/"
        },
        "id": "e5pOSeJ1KPxN",
        "outputId": "11f56460-f6c1-41a2-c6bc-064aa35a38f1"
      },
      "source": [
        "acc2"
      ],
      "execution_count": null,
      "outputs": [
        {
          "output_type": "execute_result",
          "data": {
            "text/plain": [
              "<__main__.Account at 0x7f8b6813c250>"
            ]
          },
          "metadata": {
            "tags": []
          },
          "execution_count": 29
        }
      ]
    },
    {
      "cell_type": "code",
      "metadata": {
        "colab": {
          "base_uri": "https://localhost:8080/",
          "height": 35
        },
        "id": "sbJesjijKP_E",
        "outputId": "2bbc37f5-d659-43d6-f069-197a5b785901"
      },
      "source": [
        "repr(acc2)"
      ],
      "execution_count": null,
      "outputs": [
        {
          "output_type": "execute_result",
          "data": {
            "application/vnd.google.colaboratory.intrinsic+json": {
              "type": "string"
            },
            "text/plain": [
              "'<__main__.Account object at 0x7f8b6813c250>'"
            ]
          },
          "metadata": {
            "tags": []
          },
          "execution_count": 31
        }
      ]
    },
    {
      "cell_type": "code",
      "metadata": {
        "colab": {
          "base_uri": "https://localhost:8080/"
        },
        "id": "pcU1ZlSeKQJf",
        "outputId": "d2c2f0ca-8c79-42dc-f35d-4334910d9d00"
      },
      "source": [
        "print(acc2)"
      ],
      "execution_count": null,
      "outputs": [
        {
          "output_type": "stream",
          "text": [
            "Account of chet with starting amount 100000\n"
          ],
          "name": "stdout"
        }
      ]
    },
    {
      "cell_type": "code",
      "metadata": {
        "colab": {
          "base_uri": "https://localhost:8080/",
          "height": 35
        },
        "id": "BgkciCC4Kb9B",
        "outputId": "faa5b31d-4c1a-45cd-927c-32bd8ff126fd"
      },
      "source": [
        "str(acc2)"
      ],
      "execution_count": null,
      "outputs": [
        {
          "output_type": "execute_result",
          "data": {
            "application/vnd.google.colaboratory.intrinsic+json": {
              "type": "string"
            },
            "text/plain": [
              "'Account of chet with starting amount 100000'"
            ]
          },
          "metadata": {
            "tags": []
          },
          "execution_count": 33
        }
      ]
    },
    {
      "cell_type": "markdown",
      "metadata": {
        "id": "aCOYgzMw_fah"
      },
      "source": [
        "### \\_\\_slots__\n",
        "- \\__slots__用来限制实例的属性.\n",
        "- 使用\\__slots__要注意, \\__slots__定义的属性仅对当前类实例起作用,对继承的子类是不起作用的.\n",
        "- 除非在子类中也定义\\__slots__, 子类实例允许定义的属性就是自身的\\__slots__加上父类的\\__slots__."
      ]
    },
    {
      "cell_type": "code",
      "metadata": {
        "jupyter": {
          "outputs_hidden": true
        },
        "id": "fClxtsRm_fah"
      },
      "source": [
        "class Student(object):\n",
        "    # 限定Student的attribute只能是下面两个\n",
        "    __slots__=('name','age')\n",
        "    \n",
        "    def __init__(self):\n",
        "        pass"
      ],
      "execution_count": null,
      "outputs": []
    },
    {
      "cell_type": "code",
      "metadata": {
        "jupyter": {
          "outputs_hidden": true
        },
        "id": "RrDaXcHw_fai"
      },
      "source": [
        "s=Student()"
      ],
      "execution_count": null,
      "outputs": []
    },
    {
      "cell_type": "code",
      "metadata": {
        "jupyter": {
          "outputs_hidden": true
        },
        "id": "vUiS85NH_faj"
      },
      "source": [
        "# 给 Student class 绑定属性(Attribute)\n",
        "s.name=10\n",
        "s.age=25"
      ],
      "execution_count": null,
      "outputs": []
    },
    {
      "cell_type": "code",
      "metadata": {
        "id": "1ZkQBUbn_fak",
        "colab": {
          "base_uri": "https://localhost:8080/",
          "height": 181
        },
        "outputId": "900a0e86-0ecc-4b62-ccb1-b05556c3a987"
      },
      "source": [
        "# score属性不能被绑定，因为__slots__被限定了\n",
        "s.score=100"
      ],
      "execution_count": null,
      "outputs": [
        {
          "output_type": "error",
          "ename": "AttributeError",
          "evalue": "ignored",
          "traceback": [
            "\u001b[0;31m---------------------------------------------------------------------------\u001b[0m",
            "\u001b[0;31mAttributeError\u001b[0m                            Traceback (most recent call last)",
            "\u001b[0;32m<ipython-input-9-30fe9374d14a>\u001b[0m in \u001b[0;36m<module>\u001b[0;34m()\u001b[0m\n\u001b[1;32m      1\u001b[0m \u001b[0;31m# score属性不能被绑定，因为__slots__被限定了\u001b[0m\u001b[0;34m\u001b[0m\u001b[0;34m\u001b[0m\u001b[0;34m\u001b[0m\u001b[0m\n\u001b[0;32m----> 2\u001b[0;31m \u001b[0ms\u001b[0m\u001b[0;34m.\u001b[0m\u001b[0mscore\u001b[0m\u001b[0;34m=\u001b[0m\u001b[0;36m100\u001b[0m\u001b[0;34m\u001b[0m\u001b[0;34m\u001b[0m\u001b[0m\n\u001b[0m",
            "\u001b[0;31mAttributeError\u001b[0m: 'Student' object has no attribute 'score'"
          ]
        }
      ]
    },
    {
      "cell_type": "markdown",
      "metadata": {
        "toc-hr-collapsed": true,
        "id": "GSYt1gId_fam"
      },
      "source": [
        "# Inheritance\n",
        "\n",
        "- Super可以用来调用上层的method. 非多重继承的时候可以理解为调用父类的method.\n",
        "- 方法解析顺序(Method Resolution Order, MRO), 代表了类继承的顺序:\n",
        "    - 子类永远在父类前面\n",
        "    - 如果有多个父类，会根据它们在列表中的顺序被检查\n",
        "    - 如果对下一个类存在两个合法的选择，选择第一个父类\n",
        "- Super的用法详解: http://funhacks.net/explore-python/Class/super.html."
      ]
    },
    {
      "cell_type": "code",
      "metadata": {
        "jupyter": {
          "outputs_hidden": true
        },
        "id": "sT7ImJ0G_fam"
      },
      "source": [
        "'''This is the Parent Class (Also called as Super Class/ Base Class)'''\n",
        "class Animal(object):\n",
        "# continued\n",
        "    # below is a constructor to initialze an object, assigning values.\n",
        "    def __init__(self, name, height, weight, sound):\n",
        "        self.__name = name\n",
        "        self.__height = height\n",
        "        self.__weight = weight\n",
        "        self.__sound = sound\n",
        "        # above are privite variables cannot be accessed from  \n",
        "        self.test01 = 1 \n",
        "        self._test02 = 2\n",
        "        \n",
        "    # assigning values-----------\n",
        "    # below block is used for updating variables if needed later\n",
        "    def set_name(self, name):\n",
        "        self.__name = name\n",
        "\n",
        "    def set_height(self, height):\n",
        "        self.__height = height\n",
        "\n",
        "    def set_weight(self, weight):\n",
        "        self.__weight = weight\n",
        "\n",
        "    def set_sound(self, sound):\n",
        "        self.__sound = sound\n",
        "    \n",
        "    # get values-----------------\n",
        "    def get_name(self):\n",
        "        return self.__name\n",
        "\n",
        "    def get_height(self):\n",
        "        return str(self.__height)\n",
        "\n",
        "    def get_weight(self):\n",
        "        return str(self.__weight)\n",
        "\n",
        "    def get_sound(self):\n",
        "        return self.__sound\n",
        "\n",
        "    def get_type(self):\n",
        "        print(\"Animal\")\n",
        "        \n",
        "    def get_healthScore(self):\n",
        "        self.score = self.__height -self.__weight\n",
        "        return self.score\n",
        "    \n",
        "    # make it a string-----------\n",
        "    def toString(self):\n",
        "        return \"{} is {} cm tall and {} kilograms and says {}\".format(self.__name, self.__height, \\\n",
        "                                                                      self.__weight, self.__sound)"
      ],
      "execution_count": null,
      "outputs": []
    },
    {
      "cell_type": "code",
      "metadata": {
        "id": "aE42VJ7r_fan",
        "colab": {
          "base_uri": "https://localhost:8080/"
        },
        "outputId": "b12bbb83-6171-49ef-adb0-1a52d5aa0f36"
      },
      "source": [
        "# You can inherit all of the variables and methods from another class\n",
        "\n",
        "class Dog(Animal):\n",
        "    __owner = None # 这行没用。。。\n",
        "\n",
        "    def __init__(self, name, height, weight, sound, owner):\n",
        "        self.__owner = owner\n",
        "        self.__animal_type = None\n",
        "\n",
        "        # Call the super class constructor \n",
        "        # 调用父类的init method, 上面的__init__, 只定义了两个attribute, 剩余的从Super Class继承(这个得用MRO排序.)\n",
        "        super(Dog, self).__init__(name, height, weight, sound)\n",
        "\n",
        "    def set_owner(self, owner):\n",
        "        self.__owner = owner\n",
        "\n",
        "    def get_owner(self):\n",
        "        return self.__owner\n",
        "\n",
        "    def get_type(self):\n",
        "        print (\"Dog\")\n",
        "\n",
        "    # We can overwrite functions in the super class\n",
        "    def toString(self):\n",
        "        return \"{} is {} cm tall and {} kilograms and says {}. His owner is {}\".format(self.get_name(), \\\n",
        "                                 self.get_height(), self.get_weight(), self.get_sound(), self.__owner)\n",
        "\n",
        "    # You don't have to require attributes to be sent\n",
        "    # This allows for method overloading\n",
        "    def multiple_sounds(self, how_many=None):\n",
        "        if how_many is None:\n",
        "            print(self.get_sound)\n",
        "        else:\n",
        "            print(self.get_sound() * how_many)\n",
        "\n",
        "spot = Dog(\"Spot\", 53, 27, \"Ruff\", \"Derek\")\n",
        "\n",
        "print(spot.toString())\n",
        "\n",
        "# Polymorphism allows use to refer to objects as their super class\n",
        "# and the correct functions are called automatically\n",
        "\n",
        "class AnimalTesting(object):\n",
        "    def get_type(self, animal):\n",
        "        animal.get_type()\n",
        "\n",
        "test_animals = AnimalTesting()\n",
        "\n",
        "# test_animals.get_type(cat)\n",
        "test_animals.get_type(spot)\n",
        "\n",
        "spot.multiple_sounds(4)"
      ],
      "execution_count": null,
      "outputs": [
        {
          "output_type": "stream",
          "text": [
            "Spot is 53 cm tall and 27 kilograms and says Ruff. His owner is Derek\n",
            "Dog\n",
            "RuffRuffRuffRuff\n"
          ],
          "name": "stdout"
        }
      ]
    },
    {
      "cell_type": "code",
      "metadata": {
        "jupyter": {
          "outputs_hidden": true
        },
        "id": "L_kZrXBx_fap"
      },
      "source": [
        "'''A simple example of Super'''\n",
        "class man:\n",
        "    def __init__(self, a):\n",
        "        print('a:',a)\n",
        "        print('negative a:',a*-1)\n",
        "\n",
        "class boy(man):\n",
        "    def __init__(self, a, b): \n",
        "        super().__init__(a)\n",
        "        if b:\n",
        "            print('boy')"
      ],
      "execution_count": null,
      "outputs": []
    },
    {
      "cell_type": "code",
      "metadata": {
        "id": "m9Ik73GS_faq",
        "outputId": "1f657e0f-0052-4918-d00b-65cc923c8ec4"
      },
      "source": [
        "tmp=boy(1, 2)"
      ],
      "execution_count": null,
      "outputs": [
        {
          "output_type": "stream",
          "text": [
            "a: 1\n",
            "negative a: -1\n",
            "boy\n"
          ],
          "name": "stdout"
        }
      ]
    },
    {
      "cell_type": "markdown",
      "metadata": {
        "id": "2ECpsI79_far"
      },
      "source": [
        "## Abstract Classes\n",
        "https://jeffknupp.com/blog/2014/06/18/improve-your-python-python-classes-and-object-oriented-programming/\n",
        "https://docs.python.org/3/tutorial/classes.html#class-objects"
      ]
    },
    {
      "cell_type": "code",
      "metadata": {
        "id": "4z3Ch_f6_far"
      },
      "source": [
        "from abc import ABC, abstractmethod\n",
        "class Vehicle(ABC):\n",
        "    \"\"\"\n",
        "    A vehicle for sale by Jeffco Car Dealership.\n",
        "    - `Vehicle` is a abstract class, itself cannot be instantiated.\n",
        "    - `vehicle_type` method is decorated by `@abstractmethod`, therefore subclass must \n",
        "        have `vehicle_type` method implemented\n",
        "\n",
        "    Attributes:\n",
        "        wheels: An integer representing the number of wheels the vehicle has.\n",
        "        miles: The integral number of miles driven on the vehicle.\n",
        "        make: The make of the vehicle as a string.\n",
        "        model: The model of the vehicle as a string.\n",
        "        year: The integral year the vehicle was built.\n",
        "        sold_on: The date the vehicle was sold.\n",
        "    \"\"\"\n",
        "\n",
        "    base_sale_price = 0\n",
        "    wheels = 0\n",
        "\n",
        "    def __init__(self, miles, make, model, year, sold_on):\n",
        "        self.miles = miles\n",
        "        self.make = make\n",
        "        self.model = model\n",
        "        self.year = year\n",
        "        self.sold_on = sold_on\n",
        "\n",
        "    def sale_price(self):\n",
        "        \"\"\"Return the sale price for this vehicle as a float amount.\"\"\"\n",
        "        if self.sold_on is not None:\n",
        "            return 0.0  # Already sold\n",
        "        return 5000.0 * self.wheels\n",
        "\n",
        "    def purchase_price(self):\n",
        "        \"\"\"Return the price for which we would pay to purchase the vehicle.\"\"\"\n",
        "        if self.sold_on is None:\n",
        "            return 0.0  # Not yet sold\n",
        "        return self.base_sale_price - (.10 * self.miles)\n",
        "\n",
        "    @abstractmethod\n",
        "    def vehicle_type(self):\n",
        "        \"\"\"\"Return a string representing the type of vehicle this is.\"\"\"\n",
        "        pass\n",
        "\n",
        "class Car(Vehicle):\n",
        "    \"\"\"A car for sale by Jeffco Car Dealership.\"\"\"\n",
        "\n",
        "    base_sale_price = 8000\n",
        "    wheels = 4\n",
        "\n",
        "    def vehicle_type(self):\n",
        "        \"\"\"\"Return a string representing the type of vehicle this is.\"\"\"\n",
        "        return 'car'\n",
        "\n",
        "class Truck(Vehicle):\n",
        "    \"\"\"A truck for sale by Jeffco Car Dealership.\"\"\"\n",
        "\n",
        "    base_sale_price = 10000\n",
        "    wheels = 4\n",
        "\n",
        "    def vehicle_type(self):\n",
        "        \"\"\"\"Return a string representing the type of vehicle this is.\"\"\"\n",
        "        return 'truck'\n",
        "\n",
        "class Boat(Vehicle):\n",
        "    \"\"\"A boat class missing @abstractmethod `vehicle_type` on purpose.\"\"\"\n",
        "    def purchase_price(self):\n",
        "        return \"boommmm!\""
      ],
      "execution_count": 27,
      "outputs": []
    },
    {
      "cell_type": "code",
      "metadata": {
        "id": "K6xFc2he_fas",
        "colab": {
          "base_uri": "https://localhost:8080/",
          "height": 198
        },
        "outputId": "5716b7fa-14c5-4a0b-aba8-6e708c6bc49d"
      },
      "source": [
        "my_car = Car(100, 'haha', 'farari', 1993, 50000)\n",
        "\n",
        "# TypeError: Can't instantiate abstract class Vehicle with abstract methods vehicle_type\n",
        "vehicle_abc = Vehicle(100, 'haha', 'farari', 1993, 50000)"
      ],
      "execution_count": 28,
      "outputs": [
        {
          "output_type": "error",
          "ename": "TypeError",
          "evalue": "ignored",
          "traceback": [
            "\u001b[0;31m---------------------------------------------------------------------------\u001b[0m",
            "\u001b[0;31mTypeError\u001b[0m                                 Traceback (most recent call last)",
            "\u001b[0;32m<ipython-input-28-1b5cae79312e>\u001b[0m in \u001b[0;36m<module>\u001b[0;34m()\u001b[0m\n\u001b[1;32m      2\u001b[0m \u001b[0;34m\u001b[0m\u001b[0m\n\u001b[1;32m      3\u001b[0m \u001b[0;31m# TypeError: Can't instantiate abstract class Vehicle with abstract methods vehicle_type\u001b[0m\u001b[0;34m\u001b[0m\u001b[0;34m\u001b[0m\u001b[0;34m\u001b[0m\u001b[0m\n\u001b[0;32m----> 4\u001b[0;31m \u001b[0mvehicle_abc\u001b[0m \u001b[0;34m=\u001b[0m \u001b[0mVehicle\u001b[0m\u001b[0;34m(\u001b[0m\u001b[0;36m100\u001b[0m\u001b[0;34m,\u001b[0m \u001b[0;34m'haha'\u001b[0m\u001b[0;34m,\u001b[0m \u001b[0;34m'farari'\u001b[0m\u001b[0;34m,\u001b[0m \u001b[0;36m1993\u001b[0m\u001b[0;34m,\u001b[0m \u001b[0;36m50000\u001b[0m\u001b[0;34m)\u001b[0m\u001b[0;34m\u001b[0m\u001b[0;34m\u001b[0m\u001b[0m\n\u001b[0m",
            "\u001b[0;31mTypeError\u001b[0m: Can't instantiate abstract class Vehicle with abstract methods vehicle_type"
          ]
        }
      ]
    },
    {
      "cell_type": "code",
      "metadata": {
        "id": "EGBZ2bbp_fat",
        "colab": {
          "base_uri": "https://localhost:8080/"
        },
        "outputId": "dba270d8-dcac-4d65-cd06-2701e821ddbd"
      },
      "source": [
        "my_car.purchase_price()"
      ],
      "execution_count": 29,
      "outputs": [
        {
          "output_type": "execute_result",
          "data": {
            "text/plain": [
              "7990.0"
            ]
          },
          "metadata": {},
          "execution_count": 29
        }
      ]
    },
    {
      "cell_type": "code",
      "metadata": {
        "id": "xSN4t6NR_fau",
        "colab": {
          "base_uri": "https://localhost:8080/",
          "height": 35
        },
        "outputId": "8f57e8a8-214a-4b75-bc25-6cb3930d6de1"
      },
      "source": [
        "my_car.vehicle_type()"
      ],
      "execution_count": 30,
      "outputs": [
        {
          "output_type": "execute_result",
          "data": {
            "application/vnd.google.colaboratory.intrinsic+json": {
              "type": "string"
            },
            "text/plain": [
              "'car'"
            ]
          },
          "metadata": {},
          "execution_count": 30
        }
      ]
    },
    {
      "cell_type": "code",
      "metadata": {
        "colab": {
          "base_uri": "https://localhost:8080/",
          "height": 164
        },
        "id": "eIjBumVf_QnC",
        "outputId": "96e68844-d28a-4ac9-f3ea-eced93e82eaa"
      },
      "source": [
        "# TypeError: Can't instantiate abstract class Boat with abstract methods vehicle_type\n",
        "boat = Boat((100, 'haha', 'farari', 1993, 50000))"
      ],
      "execution_count": 31,
      "outputs": [
        {
          "output_type": "error",
          "ename": "TypeError",
          "evalue": "ignored",
          "traceback": [
            "\u001b[0;31m---------------------------------------------------------------------------\u001b[0m",
            "\u001b[0;31mTypeError\u001b[0m                                 Traceback (most recent call last)",
            "\u001b[0;32m<ipython-input-31-137394171575>\u001b[0m in \u001b[0;36m<module>\u001b[0;34m()\u001b[0m\n\u001b[0;32m----> 1\u001b[0;31m \u001b[0mboat\u001b[0m \u001b[0;34m=\u001b[0m \u001b[0mBoat\u001b[0m\u001b[0;34m(\u001b[0m\u001b[0;34m(\u001b[0m\u001b[0;36m100\u001b[0m\u001b[0;34m,\u001b[0m \u001b[0;34m'haha'\u001b[0m\u001b[0;34m,\u001b[0m \u001b[0;34m'farari'\u001b[0m\u001b[0;34m,\u001b[0m \u001b[0;36m1993\u001b[0m\u001b[0;34m,\u001b[0m \u001b[0;36m50000\u001b[0m\u001b[0;34m)\u001b[0m\u001b[0;34m)\u001b[0m\u001b[0;34m\u001b[0m\u001b[0;34m\u001b[0m\u001b[0m\n\u001b[0m",
            "\u001b[0;31mTypeError\u001b[0m: Can't instantiate abstract class Boat with abstract methods vehicle_type"
          ]
        }
      ]
    },
    {
      "cell_type": "markdown",
      "metadata": {
        "id": "TEtMfL-V_fav"
      },
      "source": [
        "# Terminal"
      ]
    },
    {
      "cell_type": "markdown",
      "metadata": {
        "id": "277mn8H-_fav"
      },
      "source": [
        "In this case, the top-level code is an if block.  __name__ is a built-in variable which evaluates to the name of the current module. However, if a module is being run directly (as in myscript.py above), then __name__ instead is set to the string \"__main__\". Thus, you can test whether your script is being run directly or being imported by something else by testing"
      ]
    },
    {
      "cell_type": "code",
      "metadata": {
        "jupyter": {
          "outputs_hidden": true
        },
        "id": "l7V_99tl_faw"
      },
      "source": [
        "# avoid the script to be run if it is imported.\n",
        "if __name__ == \"__main__\":\n",
        "  main()\n",
        "  "
      ],
      "execution_count": null,
      "outputs": []
    },
    {
      "cell_type": "markdown",
      "metadata": {
        "id": "WBZmTDoz_faw"
      },
      "source": [
        "This will open this file and enter python environment:"
      ]
    },
    {
      "cell_type": "code",
      "metadata": {
        "jupyter": {
          "outputs_hidden": true
        },
        "id": "6M8nkJAF_fax"
      },
      "source": [
        "python3 -i file.py"
      ],
      "execution_count": null,
      "outputs": []
    }
  ]
}