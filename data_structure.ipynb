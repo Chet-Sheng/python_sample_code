{
  "nbformat": 4,
  "nbformat_minor": 0,
  "metadata": {
    "colab": {
      "name": "data_structure",
      "provenance": [],
      "collapsed_sections": [],
      "toc_visible": true,
      "include_colab_link": true
    },
    "kernelspec": {
      "display_name": "Python 3",
      "name": "python3"
    }
  },
  "cells": [
    {
      "cell_type": "markdown",
      "metadata": {
        "id": "view-in-github",
        "colab_type": "text"
      },
      "source": [
        "<a href=\"https://colab.research.google.com/github/Chet-Sheng/python_sample_code/blob/master/data_structure.ipynb\" target=\"_parent\"><img src=\"https://colab.research.google.com/assets/colab-badge.svg\" alt=\"Open In Colab\"/></a>"
      ]
    },
    {
      "cell_type": "markdown",
      "metadata": {
        "id": "-6bx-CHu_JKg"
      },
      "source": [
        "# Python Basics: [Mutable vs Immutable Objects](https://towardsdatascience.com/https-towardsdatascience-com-python-basics-mutable-vs-immutable-objects-829a0cb1530a)\n",
        "\n",
        "All the data in a Python code is represented by `objects` or by `relations` between objects. Every object has an **`identity`**, a **`type`**, and a **`value`**.\n",
        "\n",
        "**`Identity`**:\n",
        "\n",
        "An object’s identity never changes once it has been created; you may think of it as the **object’s address in memory**. The is operator compares the identity of two objects; the `id()` function returns an integer representing its identity.\n",
        "\n",
        "**`Type`**:\n",
        "\n",
        "An object’s type defines the possible values and operations (e.g. “does it have a length?”) that type supports. The `type()` function returns the type of an object. An object type is **unchangeable** like the identity.\n",
        "\n",
        "**`Value`**:\n",
        "\n",
        "The value of some objects can change. Objects whose value can change are said to be `mutable`; objects whose value is unchangeable once they are created are called `immutable`.\n",
        "\n",
        "The mutability of an object is determined by its type.\n",
        "\n",
        "\n",
        "---\n",
        "**READING LIST:**\n",
        "\n",
        "- **[Common Python Data Structures Guide](https://realpython.com/python-data-structures/)**\n",
        "- 这边**fluent python**这本书讲得非常好\n"
      ]
    },
    {
      "cell_type": "markdown",
      "metadata": {
        "id": "DBSQNFOHTn9L"
      },
      "source": [
        "# Mutable Data Types\n",
        "- List\n",
        "- Dictionary\n",
        "- Set\n",
        "- User-Defined Classes\n"
      ]
    },
    {
      "cell_type": "markdown",
      "metadata": {
        "id": "Nx_eqSYroYfa"
      },
      "source": [
        "## List - Dynamic Array\n",
        "\n"
      ]
    },
    {
      "cell_type": "code",
      "metadata": {
        "id": "r_KRTvejoa7K"
      },
      "source": [
        "a = [1, 2, 3, 4, 5, 6]\n",
        "id_1 = id(a)"
      ],
      "execution_count": null,
      "outputs": []
    },
    {
      "cell_type": "code",
      "metadata": {
        "colab": {
          "base_uri": "https://localhost:8080/"
        },
        "id": "z7bWuE2nojz4",
        "outputId": "77f20bc7-956a-4e59-ed3c-d8815587a0e4"
      },
      "source": [
        "a[0] = 100\n",
        "print(a)\n",
        "id_2 = id(a)"
      ],
      "execution_count": null,
      "outputs": [
        {
          "output_type": "stream",
          "name": "stdout",
          "text": [
            "[100, 2, 3, 4, 5, 6]\n"
          ]
        }
      ]
    },
    {
      "cell_type": "code",
      "metadata": {
        "colab": {
          "base_uri": "https://localhost:8080/"
        },
        "id": "d-ofYNbwouOb",
        "outputId": "b64a8f73-b993-417d-9191-6bc5ffafffc7"
      },
      "source": [
        "# list is mutable, any changes on the value doesn't change object's identity\n",
        "id_1 == id_2"
      ],
      "execution_count": null,
      "outputs": [
        {
          "output_type": "execute_result",
          "data": {
            "text/plain": [
              "True"
            ]
          },
          "metadata": {},
          "execution_count": 4
        }
      ]
    },
    {
      "cell_type": "code",
      "metadata": {
        "colab": {
          "base_uri": "https://localhost:8080/"
        },
        "id": "TixGL5hD9HH-",
        "outputId": "e0eefb3c-6cf2-4556-c120-4848ce086763"
      },
      "source": [
        "a.append(10)\n",
        "id_3 = id(a)\n",
        "a"
      ],
      "execution_count": null,
      "outputs": [
        {
          "output_type": "execute_result",
          "data": {
            "text/plain": [
              "[100, 2, 3, 4, 5, 6, 10]"
            ]
          },
          "metadata": {},
          "execution_count": 5
        }
      ]
    },
    {
      "cell_type": "code",
      "metadata": {
        "colab": {
          "base_uri": "https://localhost:8080/"
        },
        "id": "bjLD1uz59PMr",
        "outputId": "6d3e3f44-b5f9-4428-b77e-5239e9b75806"
      },
      "source": [
        "id_3 == id_1"
      ],
      "execution_count": null,
      "outputs": [
        {
          "output_type": "execute_result",
          "data": {
            "text/plain": [
              "True"
            ]
          },
          "metadata": {},
          "execution_count": 6
        }
      ]
    },
    {
      "cell_type": "code",
      "metadata": {
        "colab": {
          "base_uri": "https://localhost:8080/"
        },
        "id": "gx_ECP039TLY",
        "outputId": "3e5ffee3-ef4e-4500-d2b8-655e9e082ab4"
      },
      "source": [
        "id(a + [11, 12]) == id_1  # list `+` will create a new object"
      ],
      "execution_count": null,
      "outputs": [
        {
          "output_type": "execute_result",
          "data": {
            "text/plain": [
              "False"
            ]
          },
          "metadata": {},
          "execution_count": 7
        }
      ]
    },
    {
      "cell_type": "markdown",
      "metadata": {
        "id": "JvQmkEY1Fqmn"
      },
      "source": [
        "`slice` operation returns a shallow copy of the list"
      ]
    },
    {
      "cell_type": "code",
      "metadata": {
        "colab": {
          "base_uri": "https://localhost:8080/"
        },
        "id": "qqAcC0IXDuqN",
        "outputId": "3fa94321-6df3-4d46-8e8f-d55a5ac9b01e"
      },
      "source": [
        "# All slice operations return a new list containing the requested elements. \n",
        "# This means that the following slice returns a shallow copy of the list:\n",
        "b = a[:2]\n",
        "b"
      ],
      "execution_count": null,
      "outputs": [
        {
          "output_type": "execute_result",
          "data": {
            "text/plain": [
              "[100, 2]"
            ]
          },
          "metadata": {},
          "execution_count": 45
        }
      ]
    },
    {
      "cell_type": "code",
      "metadata": {
        "colab": {
          "base_uri": "https://localhost:8080/"
        },
        "id": "BjBZeSdnD7IO",
        "outputId": "a779dfa9-54db-4659-93b8-786aff1cbc20"
      },
      "source": [
        "b[1] = 110\n",
        "b"
      ],
      "execution_count": null,
      "outputs": [
        {
          "output_type": "execute_result",
          "data": {
            "text/plain": [
              "[100, 110]"
            ]
          },
          "metadata": {},
          "execution_count": 46
        }
      ]
    },
    {
      "cell_type": "code",
      "metadata": {
        "colab": {
          "base_uri": "https://localhost:8080/"
        },
        "id": "3RbAwNQFEga8",
        "outputId": "ac1870b2-16f2-48ad-8dba-44706d0cce4f"
      },
      "source": [
        "# updating b doesn't update a\n",
        "a"
      ],
      "execution_count": null,
      "outputs": [
        {
          "output_type": "execute_result",
          "data": {
            "text/plain": [
              "[100, 2, 3, 4, 5, 6]"
            ]
          },
          "metadata": {},
          "execution_count": 47
        }
      ]
    },
    {
      "cell_type": "markdown",
      "metadata": {
        "id": "Lfc-SK2CGFXm"
      },
      "source": [
        "Assignment to `slices`\n",
        "- slices在`=`左边是in-place updates\n",
        "- slices在`=`右边是shallow copy"
      ]
    },
    {
      "cell_type": "code",
      "metadata": {
        "id": "wb-a35YoF65v"
      },
      "source": [
        "a = [1, 2, 3, 4, 5, 6]\n",
        "c = a  # c is just a new reference to a\n",
        "d = a[:]  # this is copy"
      ],
      "execution_count": null,
      "outputs": []
    },
    {
      "cell_type": "code",
      "metadata": {
        "id": "8Axbk3TUHKvJ"
      },
      "source": [
        "a[2:4] = [20, 30, 40]  # slicing assignment, 在等号左边会inplace改变a\n",
        "b = a[4:]"
      ],
      "execution_count": null,
      "outputs": []
    },
    {
      "cell_type": "code",
      "metadata": {
        "colab": {
          "base_uri": "https://localhost:8080/"
        },
        "id": "JYmy6JAaHOfz",
        "outputId": "0fae576c-1845-42c3-8d49-4d76cc2ad236"
      },
      "source": [
        "a"
      ],
      "execution_count": null,
      "outputs": [
        {
          "output_type": "execute_result",
          "data": {
            "text/plain": [
              "[1, 2, 20, 30, 40, 5, 6]"
            ]
          },
          "metadata": {},
          "execution_count": 79
        }
      ]
    },
    {
      "cell_type": "code",
      "metadata": {
        "colab": {
          "base_uri": "https://localhost:8080/"
        },
        "id": "H8GLJGvJHZ-V",
        "outputId": "77f437b4-589c-4f8f-d994-8f3ce67b5ee9"
      },
      "source": [
        "b[1] = 50\n",
        "d[-1] = -1\n",
        "\n",
        "print(f\"a: {a}\")\n",
        "print(f\"b: {b}\")\n",
        "print(f\"c: {c}\")\n",
        "print(f\"d: {d}\")"
      ],
      "execution_count": null,
      "outputs": [
        {
          "output_type": "stream",
          "name": "stdout",
          "text": [
            "a: [1, 2, 20, 30, 40, 5, 6]\n",
            "b: [40, 50, 6]\n",
            "c: [1, 2, 20, 30, 40, 5, 6]\n",
            "d: [1, 2, 3, 4, 5, -1]\n"
          ]
        }
      ]
    },
    {
      "cell_type": "markdown",
      "metadata": {
        "id": "lZ10_IPfrWE6"
      },
      "source": [
        "## Dictionary\n",
        "> **Simple Version:** <br>\n",
        "Python `dict` 's keys need to be **immutable** (exception: `User Defined Class instance`)\n",
        "ref: [https://stackoverflow.com/a/19371472](https://stackoverflow.com/a/19371472)\n",
        "\n",
        ">**Long Version:** <br>\n",
        "A dictionary’s keys are almost arbitrary values. Values that are not hashable, that is, values containing `lists`, `dictionaries` or other `mutable` types (that are compared by value rather than by object identity) may not be used as keys.\n",
        "- [https://docs.python.org/3/library/stdtypes.html#mapping-types-dict](https://docs.python.org/3/library/stdtypes.html#mapping-types-dict)\n",
        "\n",
        ">`hashable`: [https://docs.python.org/3/glossary.html#term-hashable](https://docs.python.org/3/glossary.html#term-hashable) <br>\n",
        "Most of Python’s `immutable` built-in objects are `hashable`; `mutable` containers (such as `lists` or `dictionaries`) are not; \n",
        "`immutable` containers (such as `tuples` and `frozensets`) are only `hashable` if their elements are `hashable`. \n",
        "Objects which are instances of user-defined classes are `hashable` by default. They all compare unequal (except with themselves), and their hash value is derived from their `id()`.\n",
        ">"
      ]
    },
    {
      "cell_type": "code",
      "metadata": {
        "id": "6lhmuF7SrYkq",
        "colab": {
          "base_uri": "https://localhost:8080/",
          "height": 201
        },
        "outputId": "63c343d8-73bf-432e-8bf1-d3c1d9151679"
      },
      "source": [
        "# Error: use list a python dictionary key\n",
        "hash_map = dict()\n",
        "key = [1, 2, 3]\n",
        "hash_map[key] = \"test_value\""
      ],
      "execution_count": null,
      "outputs": [
        {
          "output_type": "error",
          "ename": "TypeError",
          "evalue": "ignored",
          "traceback": [
            "\u001b[0;31m---------------------------------------------------------------------------\u001b[0m",
            "\u001b[0;31mTypeError\u001b[0m                                 Traceback (most recent call last)",
            "\u001b[0;32m<ipython-input-5-20c35a6706a7>\u001b[0m in \u001b[0;36m<module>\u001b[0;34m()\u001b[0m\n\u001b[1;32m      2\u001b[0m \u001b[0mhash_map\u001b[0m \u001b[0;34m=\u001b[0m \u001b[0mdict\u001b[0m\u001b[0;34m(\u001b[0m\u001b[0;34m)\u001b[0m\u001b[0;34m\u001b[0m\u001b[0;34m\u001b[0m\u001b[0m\n\u001b[1;32m      3\u001b[0m \u001b[0mkey\u001b[0m \u001b[0;34m=\u001b[0m \u001b[0;34m[\u001b[0m\u001b[0;36m1\u001b[0m\u001b[0;34m,\u001b[0m \u001b[0;36m2\u001b[0m\u001b[0;34m,\u001b[0m \u001b[0;36m3\u001b[0m\u001b[0;34m]\u001b[0m\u001b[0;34m\u001b[0m\u001b[0;34m\u001b[0m\u001b[0m\n\u001b[0;32m----> 4\u001b[0;31m \u001b[0mhash_map\u001b[0m\u001b[0;34m[\u001b[0m\u001b[0mkey\u001b[0m\u001b[0;34m]\u001b[0m \u001b[0;34m=\u001b[0m \u001b[0;34m\"test_value\"\u001b[0m\u001b[0;34m\u001b[0m\u001b[0;34m\u001b[0m\u001b[0m\n\u001b[0m",
            "\u001b[0;31mTypeError\u001b[0m: unhashable type: 'list'"
          ]
        }
      ]
    },
    {
      "cell_type": "markdown",
      "metadata": {
        "id": "luqGaiwKtrot"
      },
      "source": [
        "### Instances of user-defined classes as dict key"
      ]
    },
    {
      "cell_type": "code",
      "metadata": {
        "id": "l8XfUprGrYSL"
      },
      "source": [
        "# instances of user-defined classes are hashable by default. \n",
        "# They all compare unequal (except with themselves), \n",
        "# and their hash value is derived from their `id()`.\n",
        "\n",
        "class Node:\n",
        "    def __init__(self, val=-1, neighbour=[]):\n",
        "        self.val = val\n",
        "        self.neighbour = neighbour\n",
        "    \n",
        "    def __repr__(self):\n",
        "        \"\"\"return instance id\"\"\"\n",
        "        return f\"root{self.val}_{id(self)}\"\n",
        "\n",
        "root = Node(val=0)\n",
        "hash_map = {}\n",
        "hash_map[root] = \"root_node\""
      ],
      "execution_count": null,
      "outputs": []
    },
    {
      "cell_type": "code",
      "metadata": {
        "colab": {
          "base_uri": "https://localhost:8080/"
        },
        "id": "3scTygu5tEvZ",
        "outputId": "03c61459-9fda-436a-beca-95e46fec2b24"
      },
      "source": [
        "hash_map.keys()"
      ],
      "execution_count": null,
      "outputs": [
        {
          "output_type": "execute_result",
          "data": {
            "text/plain": [
              "dict_keys([root0_140001097892752])"
            ]
          },
          "metadata": {},
          "execution_count": 29
        }
      ]
    },
    {
      "cell_type": "code",
      "metadata": {
        "colab": {
          "base_uri": "https://localhost:8080/"
        },
        "id": "t73-RovEtp2l",
        "outputId": "121f43a9-ec02-4f5c-c14d-ab3739bd2140"
      },
      "source": [
        "root_dup = Node(val=0)\n",
        "hash_map[root_dup] = \"root_node_dup\"\n",
        "hash_map"
      ],
      "execution_count": null,
      "outputs": [
        {
          "output_type": "execute_result",
          "data": {
            "text/plain": [
              "{root0_140000967021136: 'root_node_dup', root0_140001097892752: 'root_node'}"
            ]
          },
          "metadata": {},
          "execution_count": 30
        }
      ]
    },
    {
      "cell_type": "markdown",
      "metadata": {
        "id": "KDu-OwExvMfL"
      },
      "source": [
        "### function as `dict` key"
      ]
    },
    {
      "cell_type": "code",
      "metadata": {
        "colab": {
          "base_uri": "https://localhost:8080/"
        },
        "id": "AVGmTXT_vSTi",
        "outputId": "90c63689-c345-4ebf-e6b3-8420738b638e"
      },
      "source": [
        "hash_map = {}\n",
        "hash_map[abs] = \"abs\"\n",
        "hash_map"
      ],
      "execution_count": null,
      "outputs": [
        {
          "output_type": "execute_result",
          "data": {
            "text/plain": [
              "{<function abs>: 'abs'}"
            ]
          },
          "metadata": {},
          "execution_count": 31
        }
      ]
    },
    {
      "cell_type": "markdown",
      "metadata": {
        "id": "I_2n2MoQ5tu1"
      },
      "source": [
        "## Linked list (User-Defined Classes)\n",
        "这个class是mutable的，所以 any reference 的改变，都会对原data structure造成改变"
      ]
    },
    {
      "cell_type": "code",
      "metadata": {
        "id": "lIYdn1woOS1n"
      },
      "source": [
        "class Node:\n",
        "  \"\"\"construct a singly linked list\"\"\"\n",
        "  def __init__(self, val, next_node=None):\n",
        "    self.val = val\n",
        "    self.next = next_node"
      ],
      "execution_count": null,
      "outputs": []
    },
    {
      "cell_type": "code",
      "metadata": {
        "id": "jxc-NXv43WgS"
      },
      "source": [
        "# ┌─┐\n",
        "# │a│\n",
        "# └┬┘\n",
        "# ┌▽┐\n",
        "# │b│\n",
        "# └┬┘\n",
        "# ┌▽┐\n",
        "# │c│\n",
        "# └┬┘\n",
        "# ┌▽┐\n",
        "# │d│\n",
        "# └─┘\n",
        "\n",
        "a = Node(1)\n",
        "b = Node(2)\n",
        "c = Node(3)\n",
        "d = Node(4)\n",
        "\n",
        "a.next = b\n",
        "b.next = c\n",
        "c.next = d"
      ],
      "execution_count": null,
      "outputs": []
    },
    {
      "cell_type": "code",
      "metadata": {
        "id": "SNZX0D8E3kNi",
        "colab": {
          "base_uri": "https://localhost:8080/"
        },
        "outputId": "dfdf6286-8f34-465c-e8be-56b7b8610818"
      },
      "source": [
        "# Copy object by reference\n",
        "b_new = b\n",
        "id(b_new) == id(b)"
      ],
      "execution_count": null,
      "outputs": [
        {
          "output_type": "execute_result",
          "data": {
            "text/plain": [
              "True"
            ]
          },
          "metadata": {
            "tags": []
          },
          "execution_count": 3
        }
      ]
    },
    {
      "cell_type": "code",
      "metadata": {
        "id": "yuB3UBFM4ObE",
        "colab": {
          "base_uri": "https://localhost:8080/"
        },
        "outputId": "0f428a0d-9da9-4046-a6c8-b06ce17c6fc0"
      },
      "source": [
        "a.next is b_new"
      ],
      "execution_count": null,
      "outputs": [
        {
          "output_type": "execute_result",
          "data": {
            "text/plain": [
              "True"
            ]
          },
          "metadata": {
            "tags": []
          },
          "execution_count": 4
        }
      ]
    },
    {
      "cell_type": "markdown",
      "metadata": {
        "id": "hhC04xQr2sN7"
      },
      "source": [
        "### Define a proper Linked List Object"
      ]
    },
    {
      "cell_type": "code",
      "metadata": {
        "id": "0DqtNKBE2y5h"
      },
      "source": [
        "# V1:\n",
        "\n",
        "class UniqueLinkedList:\n",
        "  def __init__(self):\n",
        "    self.head = Node(val=-1)\n",
        "  \n",
        "  def search(self, key):\n",
        "    curr_node = self.head\n",
        "    while curr_node.next is not None:\n",
        "      if curr_node.next.val == key:\n",
        "        return True\n",
        "      curr_node = curr_node.next\n",
        "    return False\n",
        "      \n",
        "  def insert(self, key):\n",
        "    if self.search(key):\n",
        "      print(f\"key {key} already exists\")\n",
        "      return None\n",
        "    self.head.next = Node(key, self.head.next)\n",
        "    print(f\"intert key {key} successfully\")\n",
        "\n",
        "  def remove(self, key):\n",
        "    curr_node = self.head\n",
        "    while curr_node.next is not None:\n",
        "      if curr_node.next.val == key:\n",
        "        curr_node.next = curr_node.next.next\n",
        "        print(f\"remove key {key} successfully\")\n",
        "        return None\n",
        "      curr_node = curr_node.next\n",
        "  \n",
        "  def show(self):\n",
        "    res = []\n",
        "    curr_node = self.head\n",
        "    while curr_node.next:\n",
        "      res.append(curr_node.next.val)\n",
        "      curr_node = curr_node.next\n",
        "    \n",
        "    return res"
      ],
      "execution_count": null,
      "outputs": []
    },
    {
      "cell_type": "code",
      "metadata": {
        "id": "BwUYJq4i6RV2"
      },
      "source": [
        "obj = UniqueLinkedList()"
      ],
      "execution_count": null,
      "outputs": []
    },
    {
      "cell_type": "code",
      "metadata": {
        "colab": {
          "base_uri": "https://localhost:8080/"
        },
        "id": "uv_U7I5y6ZQq",
        "outputId": "036075ba-cadb-49af-c7e9-cce1fcc28025"
      },
      "source": [
        "for i in range(5):\n",
        "  obj.insert(i)\n",
        "\n",
        "obj.show()"
      ],
      "execution_count": null,
      "outputs": [
        {
          "output_type": "stream",
          "text": [
            "intert key 0 successfully\n",
            "intert key 1 successfully\n",
            "intert key 2 successfully\n",
            "intert key 3 successfully\n",
            "intert key 4 successfully\n"
          ],
          "name": "stdout"
        },
        {
          "output_type": "execute_result",
          "data": {
            "text/plain": [
              "[4, 3, 2, 1, 0]"
            ]
          },
          "metadata": {
            "tags": []
          },
          "execution_count": 31
        }
      ]
    },
    {
      "cell_type": "code",
      "metadata": {
        "colab": {
          "base_uri": "https://localhost:8080/"
        },
        "id": "7nQhgzez6iRZ",
        "outputId": "305c130b-4950-40f1-a843-b103b7e2fc92"
      },
      "source": [
        "obj.remove(1)\n",
        "obj.show()"
      ],
      "execution_count": null,
      "outputs": [
        {
          "output_type": "stream",
          "text": [
            "remove key 1 successfully\n"
          ],
          "name": "stdout"
        },
        {
          "output_type": "execute_result",
          "data": {
            "text/plain": [
              "[4, 3, 2, 0]"
            ]
          },
          "metadata": {
            "tags": []
          },
          "execution_count": 32
        }
      ]
    },
    {
      "cell_type": "markdown",
      "metadata": {
        "id": "0sKIG8Qm9ekE"
      },
      "source": [
        "### A circular singly Linked List\n",
        "下面所有block都是要先跑着一个block\n",
        "\n"
      ]
    },
    {
      "cell_type": "code",
      "metadata": {
        "id": "c3_s_D622U5C"
      },
      "source": [
        "# ┌─────┐  \n",
        "# │node1│  \n",
        "# └△─┬──┘  \n",
        "#  │┌▽────┐\n",
        "#  ││node2│\n",
        "#  │└┬────┘\n",
        "# ┌┴─▽──┐  \n",
        "# │node3│  \n",
        "# └─────┘  \n",
        "\n",
        "\n",
        "# build circular linked list\n",
        "node1 = Node(1, None)\n",
        "node2 = Node(2, None)\n",
        "node3 = Node(3, None)\n",
        "\n",
        "node1.next = node2\n",
        "node2.next = node3\n",
        "node3.next = node1\n",
        "\n",
        "# define 2 orphan node:\n",
        "node_test1 = Node(4, None)\n",
        "node_test2 = Node(4, None)\n",
        "\n",
        "# get object identity\n",
        "id1 = id(node1)\n",
        "id2 = id(node2)\n",
        "id3 = id(node3)\n",
        "id_t1 = id(node_test1)\n",
        "id_t2 = id(node_test2)"
      ],
      "execution_count": null,
      "outputs": []
    },
    {
      "cell_type": "code",
      "metadata": {
        "id": "pas29cmT2k5B",
        "colab": {
          "base_uri": "https://localhost:8080/"
        },
        "outputId": "a8e16dd3-9343-46c8-f15c-25c50f8e296e"
      },
      "source": [
        "print(f\"node1 -> {node1.next.val}\")\n",
        "print(f\"node2 -> {node2.next.val}\")\n",
        "print(f\"node3 -> {node3.next.val}\")"
      ],
      "execution_count": null,
      "outputs": [
        {
          "output_type": "stream",
          "text": [
            "node1 -> 2\n",
            "node2 -> 3\n",
            "node3 -> 1\n"
          ],
          "name": "stdout"
        }
      ]
    },
    {
      "cell_type": "code",
      "metadata": {
        "colab": {
          "base_uri": "https://localhost:8080/"
        },
        "id": "XM7IcnF5-FyV",
        "outputId": "227d4d4e-2d72-4ade-f00a-e0c325078410"
      },
      "source": [
        "# 同一个class的不同instance是两个不同的object\n",
        "print(id_t1)\n",
        "print(id_t2)\n",
        "print(node_test1 == node_test2)  # 不同的instance不是同一个object"
      ],
      "execution_count": null,
      "outputs": [
        {
          "output_type": "stream",
          "text": [
            "140587172830992\n",
            "140587172830288\n",
            "False\n"
          ],
          "name": "stdout"
        }
      ]
    },
    {
      "cell_type": "code",
      "metadata": {
        "colab": {
          "base_uri": "https://localhost:8080/"
        },
        "id": "Idvf8AZs-P82",
        "outputId": "abe0211f-1760-4bfb-9fc8-638937a7b377"
      },
      "source": [
        "# 改变instance的attribute，并不会改变object(instance)的identity\n",
        "node_test1.next = node_test2\n",
        "print(id(node_test1)==id_t1)\n",
        "print(id(node_test2)==id_t2)"
      ],
      "execution_count": null,
      "outputs": [
        {
          "output_type": "stream",
          "text": [
            "True\n",
            "True\n"
          ],
          "name": "stdout"
        }
      ]
    },
    {
      "cell_type": "markdown",
      "metadata": {
        "id": "thCyzK7p3TQm"
      },
      "source": [
        "### Add a new node"
      ]
    },
    {
      "cell_type": "code",
      "metadata": {
        "id": "FsBaQjzO9ltc"
      },
      "source": [
        "\"\"\"\n",
        "Add a new node\n",
        "\"\"\"\n",
        "\n",
        "# ┌───────┐    \n",
        "# │ node1 │    \n",
        "# └△─────┬┘    \n",
        "#  │    ┌▽────┐\n",
        "#  │    │node2│\n",
        "#  │    └┬────┘\n",
        "# ┌┴────┐│     \n",
        "# │node4││     \n",
        "# └△────┘│     \n",
        "# ┌┴─────▽─┐   \n",
        "# │ node3  │   \n",
        "# └────────┘\n",
        "\n",
        "node4 = Node(4, node1)\n",
        "node3.next = node4  # TODO: node3.next 本来是 node1，这个操作是否相当于 node1=node4？这个算是reassignment么？是的！\n",
        "\n",
        "id4 = id(node4)"
      ],
      "execution_count": null,
      "outputs": []
    },
    {
      "cell_type": "code",
      "metadata": {
        "colab": {
          "base_uri": "https://localhost:8080/"
        },
        "id": "_UJxjq5E9r48",
        "outputId": "f82a16cd-33ab-4abd-fca9-7e73f8b6185a"
      },
      "source": [
        "# 仅仅是obj的attribute改变\n",
        "id3 == id(node3)\n",
        "id1 == id(node1)"
      ],
      "execution_count": null,
      "outputs": [
        {
          "output_type": "execute_result",
          "data": {
            "text/plain": [
              "True"
            ]
          },
          "metadata": {
            "tags": []
          },
          "execution_count": 14
        }
      ]
    },
    {
      "cell_type": "code",
      "metadata": {
        "colab": {
          "base_uri": "https://localhost:8080/"
        },
        "id": "QaOKrcinAksM",
        "outputId": "4692c9dc-16ae-4bfd-f082-ed81403566e9"
      },
      "source": [
        "print(f\"node1 -> {node1.next.val}\")\n",
        "print(f\"node2 -> {node2.next.val}\")\n",
        "print(f\"node3 -> {node3.next.val}\")\n",
        "print(f\"node4 -> {node4.next.val}\")\n",
        "print(\"----------\")\n",
        "print(f\"node1 -> {node4.next.next.val}\")"
      ],
      "execution_count": null,
      "outputs": [
        {
          "output_type": "stream",
          "text": [
            "node1 -> 2\n",
            "node2 -> 3\n",
            "node3 -> 4\n",
            "node4 -> 1\n",
            "----------\n",
            "node1 -> 2\n"
          ],
          "name": "stdout"
        }
      ]
    },
    {
      "cell_type": "markdown",
      "metadata": {
        "id": "IYzN63elQbRx"
      },
      "source": [
        "### Delete a node"
      ]
    },
    {
      "cell_type": "code",
      "metadata": {
        "id": "yPMiWyEdQ7Go",
        "colab": {
          "base_uri": "https://localhost:8080/"
        },
        "outputId": "26f64bd3-6f4b-466d-b52a-b683413cc405"
      },
      "source": [
        "# ┌─────┐  \n",
        "# │node1│  \n",
        "# └△─┬──┘  \n",
        "#  │┌▽────┐\n",
        "#  ││node2│\n",
        "#  │└┬────┘\n",
        "# ┌┴─▽──┐  \n",
        "# │node3│  \n",
        "# └─────┘ \n",
        "\n",
        "node4 = node3  # 不work, 因为 id(node4) == id(node3), 新的node4变成了alias, 原来的node4变成了nameless obj\n",
        "print(id(node4) == id(node3))  # True; reassignment of node4"
      ],
      "execution_count": null,
      "outputs": [
        {
          "output_type": "stream",
          "text": [
            "True\n"
          ],
          "name": "stdout"
        }
      ]
    },
    {
      "cell_type": "code",
      "metadata": {
        "colab": {
          "base_uri": "https://localhost:8080/"
        },
        "id": "mtZKQRD3wXCy",
        "outputId": "882148af-0ee7-4128-c0de-0b41d96486c5"
      },
      "source": [
        "id4 == id(node3.next)"
      ],
      "execution_count": null,
      "outputs": [
        {
          "output_type": "execute_result",
          "data": {
            "text/plain": [
              "True"
            ]
          },
          "metadata": {
            "tags": []
          },
          "execution_count": 21
        }
      ]
    },
    {
      "cell_type": "code",
      "metadata": {
        "id": "0MGCvyLDwsdr"
      },
      "source": [
        "node3.next = node1"
      ],
      "execution_count": null,
      "outputs": []
    },
    {
      "cell_type": "code",
      "metadata": {
        "colab": {
          "base_uri": "https://localhost:8080/"
        },
        "id": "mU8lEG05ttP4",
        "outputId": "cf9ca500-0127-4ebf-b2d2-ebc71ceecc5f"
      },
      "source": [
        "print(f\"node1 -> {node1.next.val}\")\n",
        "print(f\"node2 -> {node2.next.val}\")\n",
        "print(f\"node3 -> {node3.next.val}\")"
      ],
      "execution_count": null,
      "outputs": [
        {
          "output_type": "stream",
          "text": [
            "node1 -> 2\n",
            "node2 -> 3\n",
            "node3 -> 4\n"
          ],
          "name": "stdout"
        }
      ]
    },
    {
      "cell_type": "markdown",
      "metadata": {
        "id": "fS6jiH2gOlxV"
      },
      "source": [
        "### Replace a Node\n",
        "目标: 把图里面的`node3`换成`node4`"
      ]
    },
    {
      "cell_type": "code",
      "metadata": {
        "id": "EioKxhd_Y4MG"
      },
      "source": [
        "# 即:\n",
        "# ┌─────┐  \n",
        "# │node1│  \n",
        "# └△─┬──┘  \n",
        "#  │┌▽────┐\n",
        "#  ││node2│\n",
        "#  │└┬────┘\n",
        "# ┌┴─▽──┐  \n",
        "# │node3│  \n",
        "# └─────┘ \n",
        "# 变成==>\n",
        "# ┌─────┐  \n",
        "# │node1│  \n",
        "# └△─┬──┘  \n",
        "#  │┌▽────┐\n",
        "#  ││node2│\n",
        "#  │└┬────┘\n",
        "# ┌┴─▽──┐  \n",
        "# │node4│  \n",
        "# └─────┘ "
      ],
      "execution_count": null,
      "outputs": []
    },
    {
      "cell_type": "markdown",
      "metadata": {
        "id": "0hw3iVdFV8UZ"
      },
      "source": [
        "Wrong Implementation:"
      ]
    },
    {
      "cell_type": "code",
      "metadata": {
        "colab": {
          "base_uri": "https://localhost:8080/"
        },
        "id": "Mpqh-n2UObm3",
        "outputId": "67bb8452-2220-4820-96db-2157fa802046"
      },
      "source": [
        "print(\"id3_old:\", id3)\n",
        "\n",
        "node4 = Node(4, node1)\n",
        "node3 = node4  # node3是一个新的obj的reference了，旧的obj没有了reference但是还存在的(依然是node2.next)\n",
        "\n",
        "print(id(node3) == id(node4))\n",
        "print(\"id3_new:\", id(node3))  #不一样"
      ],
      "execution_count": null,
      "outputs": [
        {
          "output_type": "stream",
          "text": [
            "id3_old: 139631081064720\n",
            "True\n",
            "id3_new: 139631081215760\n"
          ],
          "name": "stdout"
        }
      ]
    },
    {
      "cell_type": "code",
      "metadata": {
        "colab": {
          "base_uri": "https://localhost:8080/"
        },
        "id": "_sfmbjg7Osq2",
        "outputId": "4f5eebed-1c56-41ea-d670-6f622171c154"
      },
      "source": [
        "# 还是下图不变\n",
        "# ┌─────┐                  \n",
        "# │node1│                  \n",
        "# └△─┬──┘                  \n",
        "#  │┌▽────┐                \n",
        "#  ││node2│                \n",
        "#  │└┬────┘                \n",
        "# ┌┴─▽────────────────────┐\n",
        "# │node3_without_reference│\n",
        "# └───────────────────────┘\n",
        "\n",
        "\n",
        "print(f\"node1: {node1.val} -> node2: {node1.next.val}\")\n",
        "print(f\"node2: {node2.val} -> node2.next: {node2.next.val}\")\n",
        "print(f\"node2.next: {node2.next.val} -> node2.next.next: {node2.next.next.val}\")\n",
        "print(\"---------------------\")\n",
        "print(f\"node3: {node3.val} -> node1: {node3.next.val}\")"
      ],
      "execution_count": null,
      "outputs": [
        {
          "output_type": "stream",
          "text": [
            "node1: 1 -> node2: 2\n",
            "node2: 2 -> node2.next: 3\n",
            "node2.next: 3 -> node2.next.next: 1\n",
            "---------------------\n",
            "node3: 4 -> node1: 1\n"
          ],
          "name": "stdout"
        }
      ]
    },
    {
      "cell_type": "markdown",
      "metadata": {
        "id": "LSZX2mA5V_ZI"
      },
      "source": [
        "Correct Version:"
      ]
    },
    {
      "cell_type": "code",
      "metadata": {
        "colab": {
          "base_uri": "https://localhost:8080/"
        },
        "id": "MJLFPjs_WBSS",
        "outputId": "7abdc690-ab8b-4b51-95c5-deb336417227"
      },
      "source": [
        "print(\"id3_old:\", id3)\n",
        "\n",
        "node4 = Node(4, node1)\n",
        "node2.next = node4  # update the linkage\n",
        "\n",
        "print(id(node2.next) == id(node4))\n",
        "print(\"id4:\", id(node2.next))  # 不一样"
      ],
      "execution_count": null,
      "outputs": [
        {
          "output_type": "stream",
          "text": [
            "id3_old: 139631080552464\n",
            "True\n",
            "id4: 139631080897872\n"
          ],
          "name": "stdout"
        }
      ]
    },
    {
      "cell_type": "code",
      "metadata": {
        "colab": {
          "base_uri": "https://localhost:8080/"
        },
        "id": "V1kFaPTXWeAC",
        "outputId": "9751362b-872b-4d17-bad3-272a426a073c"
      },
      "source": [
        "# ┌─────┐  \n",
        "# │node1│  \n",
        "# └△─┬──┘  \n",
        "#  │┌▽────┐\n",
        "#  ││node2│\n",
        "#  │└┬────┘\n",
        "# ┌┴─▽──┐  \n",
        "# │node4│  \n",
        "# └─────┘ \n",
        "\n",
        "print(f\"node1: {node1.val} -> node2: {node1.next.val}\")\n",
        "print(f\"node2: {node2.val} -> node2.next: {node2.next.val}\")\n",
        "print(f\"node2.next: {node2.next.val} -> node2.next.next (node1): {node2.next.next.val}\")"
      ],
      "execution_count": null,
      "outputs": [
        {
          "output_type": "stream",
          "text": [
            "node1: 1 -> node2: 2\n",
            "node2: 2 -> node2.next: 4\n",
            "node2.next: 4 -> node2.next.next (node1): 1\n"
          ],
          "name": "stdout"
        }
      ]
    },
    {
      "cell_type": "code",
      "metadata": {
        "id": "JLLAIK-AcNFh"
      },
      "source": [
        ""
      ],
      "execution_count": null,
      "outputs": []
    },
    {
      "cell_type": "markdown",
      "metadata": {
        "id": "WqbhTibsc82v"
      },
      "source": [
        "## Heap\n"
      ]
    },
    {
      "cell_type": "markdown",
      "metadata": {
        "id": "fJ4QNz4njAcD"
      },
      "source": [
        "### Min Heap"
      ]
    },
    {
      "cell_type": "code",
      "metadata": {
        "id": "Sib9EhoAdBVr"
      },
      "source": [
        "import heapq"
      ],
      "execution_count": null,
      "outputs": []
    },
    {
      "cell_type": "code",
      "metadata": {
        "colab": {
          "base_uri": "https://localhost:8080/"
        },
        "id": "gEdLLm_ddQZ_",
        "outputId": "5c096d16-13a9-485e-ee7e-3af339a96308"
      },
      "source": [
        "print(\"create a heap:\")\n",
        "h = [5, 7, 9, 1, 3]  # create a list\n",
        "id_1 = id(h)\n",
        "\n",
        "heapq.heapify(h)  # make list h a min heap\n",
        "id_2 = id(h)\n",
        "print(h)"
      ],
      "execution_count": null,
      "outputs": [
        {
          "output_type": "stream",
          "name": "stdout",
          "text": [
            "create a heap:\n",
            "[1, 3, 9, 7, 5]\n"
          ]
        }
      ]
    },
    {
      "cell_type": "code",
      "metadata": {
        "colab": {
          "base_uri": "https://localhost:8080/"
        },
        "id": "kMnK59GPGasa",
        "outputId": "439774f6-fac7-4525-e038-19fdf484c334"
      },
      "source": [
        "type(h)  # 依旧是list，只是叫heap而已"
      ],
      "execution_count": null,
      "outputs": [
        {
          "output_type": "execute_result",
          "data": {
            "text/plain": [
              "list"
            ]
          },
          "metadata": {},
          "execution_count": 19
        }
      ]
    },
    {
      "cell_type": "code",
      "metadata": {
        "colab": {
          "base_uri": "https://localhost:8080/"
        },
        "id": "01LKFGSlDF6H",
        "outputId": "1bd06f2b-acf7-484d-ce1d-06cff205d217"
      },
      "source": [
        "id_1 == id_2"
      ],
      "execution_count": null,
      "outputs": [
        {
          "output_type": "execute_result",
          "data": {
            "text/plain": [
              "True"
            ]
          },
          "metadata": {},
          "execution_count": 20
        }
      ]
    },
    {
      "cell_type": "code",
      "metadata": {
        "colab": {
          "base_uri": "https://localhost:8080/"
        },
        "id": "XfsDSG9fdmK2",
        "outputId": "65fce23a-d445-410e-83a7-e4d8823af4d7"
      },
      "source": [
        "# push values to heap\n",
        "print(\"\\npush values to heap:\")\n",
        "heapq.heappush(h, 10)\n",
        "print(h)\n",
        "heapq.heappush(h, -1)\n",
        "print(h)"
      ],
      "execution_count": null,
      "outputs": [
        {
          "output_type": "stream",
          "name": "stdout",
          "text": [
            "\n",
            "push values to heap:\n",
            "[1, 3, 9, 7, 5, 10]\n",
            "[-1, 3, 1, 7, 5, 10, 9]\n"
          ]
        }
      ]
    },
    {
      "cell_type": "code",
      "metadata": {
        "colab": {
          "base_uri": "https://localhost:8080/"
        },
        "id": "KMLC2TZalJtT",
        "outputId": "e64c5b3a-f4ca-4c89-baa3-e5bf008eb07f"
      },
      "source": [
        "# inspect min value in min heap (top element)\n",
        "peek_val = h[0]\n",
        "print(f\"\\ninspect min/top value in min heap:\\n {peek_val}\")"
      ],
      "execution_count": null,
      "outputs": [
        {
          "output_type": "stream",
          "name": "stdout",
          "text": [
            "\n",
            "inspect min/top value in min heap:\n",
            " -1\n"
          ]
        }
      ]
    },
    {
      "cell_type": "code",
      "metadata": {
        "colab": {
          "base_uri": "https://localhost:8080/"
        },
        "id": "koi5IraflJ-E",
        "outputId": "d2f278a7-0739-40ef-a2d5-338c7d52f9bc"
      },
      "source": [
        "print(\"\\npop top values from min heap:\")\n",
        "heapq.heappop(h)"
      ],
      "execution_count": null,
      "outputs": [
        {
          "output_type": "stream",
          "name": "stdout",
          "text": [
            "\n",
            "pop top values from min heap:\n"
          ]
        },
        {
          "output_type": "execute_result",
          "data": {
            "text/plain": [
              "-1"
            ]
          },
          "metadata": {},
          "execution_count": 23
        }
      ]
    },
    {
      "cell_type": "code",
      "metadata": {
        "colab": {
          "base_uri": "https://localhost:8080/"
        },
        "id": "yQBlcH09lKIM",
        "outputId": "03fa495b-132b-4757-e4db-e03091052c8f"
      },
      "source": [
        "# inspect min value in min heap (top element)\n",
        "peek_val = h[0]\n",
        "print(f\"\\ninspect min/top value in min heap:\\n {peek_val}\")\n",
        "print(h)"
      ],
      "execution_count": null,
      "outputs": [
        {
          "output_type": "stream",
          "name": "stdout",
          "text": [
            "\n",
            "inspect min/top value in min heap:\n",
            " 1\n",
            "[1, 3, 9, 7, 5, 10]\n"
          ]
        }
      ]
    },
    {
      "cell_type": "code",
      "metadata": {
        "colab": {
          "base_uri": "https://localhost:8080/"
        },
        "id": "aqfKDkHRlcD6",
        "outputId": "120e7aeb-4bf1-453c-af1a-26bda75ae26d"
      },
      "source": [
        "# get size of heap:\n",
        "len(h)"
      ],
      "execution_count": null,
      "outputs": [
        {
          "output_type": "execute_result",
          "data": {
            "text/plain": [
              "6"
            ]
          },
          "metadata": {},
          "execution_count": 25
        }
      ]
    },
    {
      "cell_type": "code",
      "metadata": {
        "colab": {
          "base_uri": "https://localhost:8080/"
        },
        "id": "J0o6NBiReUz6",
        "outputId": "465d8036-3323-44ce-905e-ba4c50d2650f"
      },
      "source": [
        "h"
      ],
      "execution_count": null,
      "outputs": [
        {
          "output_type": "execute_result",
          "data": {
            "text/plain": [
              "[1, 3, 9, 7, 5, 10]"
            ]
          },
          "metadata": {},
          "execution_count": 26
        }
      ]
    },
    {
      "cell_type": "code",
      "metadata": {
        "colab": {
          "base_uri": "https://localhost:8080/"
        },
        "id": "EIUQgmjaeHsi",
        "outputId": "444c5cf9-75b4-4426-db55-a8d979eb5280"
      },
      "source": [
        "# get n smallest of heap\n",
        "heapq.nsmallest(3, h)"
      ],
      "execution_count": null,
      "outputs": [
        {
          "output_type": "execute_result",
          "data": {
            "text/plain": [
              "[1, 3, 5]"
            ]
          },
          "metadata": {},
          "execution_count": 92
        }
      ]
    },
    {
      "cell_type": "code",
      "metadata": {
        "colab": {
          "base_uri": "https://localhost:8080/"
        },
        "id": "4NdsWhJGeScP",
        "outputId": "2a7601ce-955a-4311-c1e1-c526b8240a54"
      },
      "source": [
        "# get n largest of heap\n",
        "heapq.nlargest(3, h)"
      ],
      "execution_count": null,
      "outputs": [
        {
          "output_type": "execute_result",
          "data": {
            "text/plain": [
              "[10, 9, 7]"
            ]
          },
          "metadata": {},
          "execution_count": 93
        }
      ]
    },
    {
      "cell_type": "markdown",
      "metadata": {
        "id": "12ii3K7qlcNT"
      },
      "source": [
        "### Max Heap\n",
        "`heapq`没有max heap, 取`负数`实现"
      ]
    },
    {
      "cell_type": "code",
      "metadata": {
        "colab": {
          "base_uri": "https://localhost:8080/"
        },
        "id": "s-dC3_exlcWs",
        "outputId": "f2c00d31-7446-4f26-d891-3c6749f704fa"
      },
      "source": [
        "maxHeap = []\n",
        "# 将列表堆化，此时的堆是最小堆，我们需要将元素取反技巧，将最小堆转换为最大堆\n",
        "heapq.heapify(maxHeap)\n",
        "# 分别往堆中添加1，3，2，注意此时添加的是-1，-3，-2，原因是需要将元素取反，最后将最小堆转换为最大堆\n",
        "heapq.heappush(maxHeap, 1*-1)\n",
        "heapq.heappush(maxHeap, 3*-1)\n",
        "heapq.heappush(maxHeap, 2*-1)\n",
        "# 查看堆中所有元素：[-3, -1, -2]\n",
        "\n",
        "print(\"maxHeap: \",maxHeap)\n",
        "# 查看堆中的最大元素，即当前堆中最小值*-1\n",
        "peekNum = maxHeap[0]\n",
        "# 结果为：3\n",
        "print(\"peek number: \", peekNum*-1)\n",
        "\n",
        "# 删除堆中最大元素，即当前堆中最小值\n",
        "popNum = heapq.heappop(maxHeap)\n",
        "# 结果为：3\n",
        "print(\"pop number: \", popNum*-1)\n",
        "# 查看删除3后堆中最大值， 结果为：2\n",
        "print(\"peek number: \", maxHeap[0]*-1)\n",
        "\n",
        "# 查看堆中所有元素，结果为：[-2,-1]\n",
        "print(\"maxHeap: \",maxHeap)\n",
        "# 查看堆的元素个数，即堆的大小\n",
        "size = len(maxHeap)\n",
        "# 结果为：2\n",
        "print(\"maxHeap size: \", size)\n"
      ],
      "execution_count": null,
      "outputs": [
        {
          "output_type": "stream",
          "name": "stdout",
          "text": [
            "maxHeap:  [-3, -1, -2]\n",
            "peek number:  3\n",
            "pop number:  3\n",
            "peek number:  2\n",
            "maxHeap:  [-2, -1]\n",
            "maxHeap size:  2\n"
          ]
        }
      ]
    },
    {
      "cell_type": "markdown",
      "metadata": {
        "id": "32xm56G09asx"
      },
      "source": [
        "### HeapSort"
      ]
    },
    {
      "cell_type": "code",
      "metadata": {
        "id": "73yLxSBc9dNi"
      },
      "source": [
        "import heapq\n",
        "from typing import Iterable\n",
        "\n",
        "def heap_sort(x: Iterable):\n",
        "    \"\"\"min -> max\"\"\"\n",
        "    heapq.heapify(x)\n",
        "    sorted_x = []\n",
        "    \n",
        "    while x:\n",
        "        sorted_x.append(heapq.heappop(x))\n",
        "\n",
        "    return sorted_x\n",
        "\n",
        "\n",
        "def heap_sort_inverse(x: Iterable):\n",
        "    \"\"\"max -> min\"\"\"\n",
        "    x = [-1 * i for i in x]\n",
        "    heapq.heapify(x)\n",
        "    sorted_x = []\n",
        "    \n",
        "    while x:\n",
        "        sorted_x.append(heapq.heappop(x)*-1)\n",
        "\n",
        "    return sorted_x"
      ],
      "execution_count": null,
      "outputs": []
    },
    {
      "cell_type": "code",
      "metadata": {
        "colab": {
          "base_uri": "https://localhost:8080/"
        },
        "id": "KVlwHkTI-QmB",
        "outputId": "93a33ca0-ec56-4711-d121-b4e52c655fe6"
      },
      "source": [
        "import random\n",
        "\n",
        "x = [random.randint(1, 20) for i in range(10)]\n",
        "x"
      ],
      "execution_count": null,
      "outputs": [
        {
          "output_type": "execute_result",
          "data": {
            "text/plain": [
              "[5, 11, 10, 12, 14, 1, 14, 15, 18, 7]"
            ]
          },
          "metadata": {},
          "execution_count": 80
        }
      ]
    },
    {
      "cell_type": "code",
      "metadata": {
        "colab": {
          "base_uri": "https://localhost:8080/"
        },
        "id": "mQlQYmGW-U8X",
        "outputId": "f483264a-1947-4449-900a-4513f9eeb447"
      },
      "source": [
        "heap_sort(x)"
      ],
      "execution_count": null,
      "outputs": [
        {
          "output_type": "execute_result",
          "data": {
            "text/plain": [
              "[1, 5, 7, 10, 11, 12, 14, 14, 15, 18]"
            ]
          },
          "metadata": {},
          "execution_count": 81
        }
      ]
    },
    {
      "cell_type": "code",
      "metadata": {
        "colab": {
          "base_uri": "https://localhost:8080/"
        },
        "id": "vlrxsGTI_Nty",
        "outputId": "85ee9861-b79a-481e-84d2-f5a2cf6cbb2f"
      },
      "source": [
        "x = [random.randint(1, 20) for i in range(10)]\n",
        "\n",
        "heap_sort_inverse(x)"
      ],
      "execution_count": null,
      "outputs": [
        {
          "output_type": "execute_result",
          "data": {
            "text/plain": [
              "[19, 15, 15, 15, 14, 9, 8, 8, 4, 1]"
            ]
          },
          "metadata": {},
          "execution_count": 84
        }
      ]
    },
    {
      "cell_type": "markdown",
      "metadata": {
        "id": "ELS3FzJlC3oL"
      },
      "source": [
        "### List/ Tuple/ Class as Heap elements"
      ]
    },
    {
      "cell_type": "code",
      "metadata": {
        "id": "c80qe3uAC-EZ"
      },
      "source": [
        "import heapq\n",
        "\n",
        "# eg. get the lest frequent word:\n",
        "nums = [[3, \"a\"], [4, \"b\"], [1, \"c\"]]\n",
        "heapq.heapify(nums)"
      ],
      "execution_count": null,
      "outputs": []
    },
    {
      "cell_type": "code",
      "metadata": {
        "colab": {
          "base_uri": "https://localhost:8080/"
        },
        "id": "A_Lx6DqWDwUy",
        "outputId": "2f11de3f-5ef8-4ab9-a484-4b1543efe8af"
      },
      "source": [
        "nums[0]"
      ],
      "execution_count": null,
      "outputs": [
        {
          "output_type": "execute_result",
          "data": {
            "text/plain": [
              "[1, 'c']"
            ]
          },
          "metadata": {},
          "execution_count": 2
        }
      ]
    },
    {
      "cell_type": "code",
      "metadata": {
        "id": "5gxbbsMZ7BQl"
      },
      "source": [
        "hash_table = {\"chet\": 150, \"zoe\": 100, \"shen\": \"20\" }"
      ],
      "execution_count": null,
      "outputs": []
    },
    {
      "cell_type": "code",
      "metadata": {
        "colab": {
          "base_uri": "https://localhost:8080/",
          "height": 300
        },
        "id": "r8GTpjOZ7Ocl",
        "outputId": "05e6182b-0fc1-4ced-f1d5-7e9333ca970c"
      },
      "source": [
        "import heapq\n",
        "# 这个不行... Counter却可以\n",
        "heapq.nlargest(2, hash_table.keys(), key=hash_table.get)"
      ],
      "execution_count": null,
      "outputs": [
        {
          "output_type": "error",
          "ename": "TypeError",
          "evalue": "ignored",
          "traceback": [
            "\u001b[0;31m---------------------------------------------------------------------------\u001b[0m",
            "\u001b[0;31mTypeError\u001b[0m                                 Traceback (most recent call last)",
            "\u001b[0;32m<ipython-input-4-a70e775d1611>\u001b[0m in \u001b[0;36m<module>\u001b[0;34m()\u001b[0m\n\u001b[1;32m      1\u001b[0m \u001b[0;32mimport\u001b[0m \u001b[0mheapq\u001b[0m\u001b[0;34m\u001b[0m\u001b[0;34m\u001b[0m\u001b[0m\n\u001b[0;32m----> 2\u001b[0;31m \u001b[0mheapq\u001b[0m\u001b[0;34m.\u001b[0m\u001b[0mnlargest\u001b[0m\u001b[0;34m(\u001b[0m\u001b[0;36m2\u001b[0m\u001b[0;34m,\u001b[0m \u001b[0mhash_table\u001b[0m\u001b[0;34m.\u001b[0m\u001b[0mkeys\u001b[0m\u001b[0;34m(\u001b[0m\u001b[0;34m)\u001b[0m\u001b[0;34m,\u001b[0m \u001b[0mkey\u001b[0m\u001b[0;34m=\u001b[0m\u001b[0mhash_table\u001b[0m\u001b[0;34m.\u001b[0m\u001b[0mget\u001b[0m\u001b[0;34m)\u001b[0m\u001b[0;34m\u001b[0m\u001b[0;34m\u001b[0m\u001b[0m\n\u001b[0m",
            "\u001b[0;32m/usr/lib/python3.7/heapq.py\u001b[0m in \u001b[0;36mnlargest\u001b[0;34m(n, iterable, key)\u001b[0m\n\u001b[1;32m    576\u001b[0m     \u001b[0;32mfor\u001b[0m \u001b[0melem\u001b[0m \u001b[0;32min\u001b[0m \u001b[0mit\u001b[0m\u001b[0;34m:\u001b[0m\u001b[0;34m\u001b[0m\u001b[0;34m\u001b[0m\u001b[0m\n\u001b[1;32m    577\u001b[0m         \u001b[0mk\u001b[0m \u001b[0;34m=\u001b[0m \u001b[0mkey\u001b[0m\u001b[0;34m(\u001b[0m\u001b[0melem\u001b[0m\u001b[0;34m)\u001b[0m\u001b[0;34m\u001b[0m\u001b[0;34m\u001b[0m\u001b[0m\n\u001b[0;32m--> 578\u001b[0;31m         \u001b[0;32mif\u001b[0m \u001b[0mtop\u001b[0m \u001b[0;34m<\u001b[0m \u001b[0mk\u001b[0m\u001b[0;34m:\u001b[0m\u001b[0;34m\u001b[0m\u001b[0;34m\u001b[0m\u001b[0m\n\u001b[0m\u001b[1;32m    579\u001b[0m             \u001b[0m_heapreplace\u001b[0m\u001b[0;34m(\u001b[0m\u001b[0mresult\u001b[0m\u001b[0;34m,\u001b[0m \u001b[0;34m(\u001b[0m\u001b[0mk\u001b[0m\u001b[0;34m,\u001b[0m \u001b[0morder\u001b[0m\u001b[0;34m,\u001b[0m \u001b[0melem\u001b[0m\u001b[0;34m)\u001b[0m\u001b[0;34m)\u001b[0m\u001b[0;34m\u001b[0m\u001b[0;34m\u001b[0m\u001b[0m\n\u001b[1;32m    580\u001b[0m             \u001b[0mtop\u001b[0m\u001b[0;34m,\u001b[0m \u001b[0m_order\u001b[0m\u001b[0;34m,\u001b[0m \u001b[0m_elem\u001b[0m \u001b[0;34m=\u001b[0m \u001b[0mresult\u001b[0m\u001b[0;34m[\u001b[0m\u001b[0;36m0\u001b[0m\u001b[0;34m]\u001b[0m\u001b[0;34m\u001b[0m\u001b[0;34m\u001b[0m\u001b[0m\n",
            "\u001b[0;31mTypeError\u001b[0m: '<' not supported between instances of 'int' and 'str'"
          ]
        }
      ]
    },
    {
      "cell_type": "code",
      "metadata": {
        "colab": {
          "base_uri": "https://localhost:8080/"
        },
        "id": "lU5pqNJm7OQ6",
        "outputId": "b895f728-4b1c-4b57-82c0-e72b2f276923"
      },
      "source": [
        "hash_table.keys()"
      ],
      "execution_count": null,
      "outputs": [
        {
          "output_type": "execute_result",
          "data": {
            "text/plain": [
              "dict_keys(['chet', 'zoe', 'shen'])"
            ]
          },
          "metadata": {},
          "execution_count": 5
        }
      ]
    },
    {
      "cell_type": "code",
      "metadata": {
        "colab": {
          "base_uri": "https://localhost:8080/"
        },
        "id": "Hk-S2Ra9s4ro",
        "outputId": "7f483f1f-6df5-486a-f33d-20eeecf4ef40"
      },
      "source": [
        "from collections import Counter\n",
        "\n",
        "# counter = Counter([1,1,1,2,2,3])\n",
        "counter = Counter([\"1\",\"1\",\"1\",\"2\",\"2\",\"3\"])\n",
        "counter"
      ],
      "execution_count": null,
      "outputs": [
        {
          "output_type": "execute_result",
          "data": {
            "text/plain": [
              "Counter({'1': 3, '2': 2, '3': 1})"
            ]
          },
          "metadata": {},
          "execution_count": 9
        }
      ]
    },
    {
      "cell_type": "code",
      "metadata": {
        "colab": {
          "base_uri": "https://localhost:8080/"
        },
        "id": "i1jvX24QtIuq",
        "outputId": "b8ba9a12-61fa-45de-81d4-988071affdb4"
      },
      "source": [
        "counter.keys()"
      ],
      "execution_count": null,
      "outputs": [
        {
          "output_type": "execute_result",
          "data": {
            "text/plain": [
              "dict_keys(['1', '2', '3'])"
            ]
          },
          "metadata": {},
          "execution_count": 10
        }
      ]
    },
    {
      "cell_type": "code",
      "metadata": {
        "colab": {
          "base_uri": "https://localhost:8080/"
        },
        "id": "uifRF9crtAVJ",
        "outputId": "935718e7-79a3-4447-a3d0-d0f793b2df19"
      },
      "source": [
        "k = 2\n",
        "heapq.nlargest(k, counter.keys(), key=counter.get)"
      ],
      "execution_count": null,
      "outputs": [
        {
          "output_type": "execute_result",
          "data": {
            "text/plain": [
              "['1', '2']"
            ]
          },
          "metadata": {},
          "execution_count": 11
        }
      ]
    },
    {
      "cell_type": "code",
      "metadata": {
        "id": "011PE8UxtAFB"
      },
      "source": [
        ""
      ],
      "execution_count": null,
      "outputs": []
    },
    {
      "cell_type": "markdown",
      "metadata": {
        "id": "vgchz8zCVS6q"
      },
      "source": [
        "# Immutable Data Types\n",
        "- int\n",
        "- float\n",
        "- decimal\n",
        "- bool\n",
        "- string\n",
        "- tuple \n",
        "- range\n",
        "\n",
        "核心就是不能变动，但凡变了(eg. tuple expand)，就是一个新的object."
      ]
    },
    {
      "cell_type": "markdown",
      "metadata": {
        "id": "pjfAtUJ_VYCz"
      },
      "source": [
        "## Tuple"
      ]
    },
    {
      "cell_type": "code",
      "metadata": {
        "id": "qgQ9nE63XEz6"
      },
      "source": [
        "list_val = [1, 2, 3]  # list\n",
        "tuple_val = (10, 20, 30)  # tuple "
      ],
      "execution_count": null,
      "outputs": []
    },
    {
      "cell_type": "code",
      "metadata": {
        "colab": {
          "base_uri": "https://localhost:8080/",
          "height": 249
        },
        "id": "nCHuyUHXfY9-",
        "outputId": "70fa9306-ea59-41da-e2a4-fcc945a48ec2"
      },
      "source": [
        "print(\"list_val[0]:\\t\\t\", list_val[0])\n",
        "list_val[0] = 100\n",
        "print(\"list_val (updated):\\t\", list_val)\n",
        "\n",
        "print(\"tuple_val[0]:\\t\\t\", tuple_val[0])\n",
        "tuple_val[0] = 100  # tuple doesn't allow item assignment"
      ],
      "execution_count": null,
      "outputs": [
        {
          "output_type": "stream",
          "text": [
            "list_val[0]:\t\t 1\n",
            "list_val (updated):\t [100, 2, 3]\n",
            "tuple_val[0]:\t\t 10\n"
          ],
          "name": "stdout"
        },
        {
          "output_type": "error",
          "ename": "TypeError",
          "evalue": "ignored",
          "traceback": [
            "\u001b[0;31m---------------------------------------------------------------------------\u001b[0m",
            "\u001b[0;31mTypeError\u001b[0m                                 Traceback (most recent call last)",
            "\u001b[0;32m<ipython-input-7-4742a005ab83>\u001b[0m in \u001b[0;36m<module>\u001b[0;34m()\u001b[0m\n\u001b[1;32m      4\u001b[0m \u001b[0;34m\u001b[0m\u001b[0m\n\u001b[1;32m      5\u001b[0m \u001b[0mprint\u001b[0m\u001b[0;34m(\u001b[0m\u001b[0;34m\"tuple_val[0]:\\t\\t\"\u001b[0m\u001b[0;34m,\u001b[0m \u001b[0mtuple_val\u001b[0m\u001b[0;34m[\u001b[0m\u001b[0;36m0\u001b[0m\u001b[0;34m]\u001b[0m\u001b[0;34m)\u001b[0m\u001b[0;34m\u001b[0m\u001b[0;34m\u001b[0m\u001b[0m\n\u001b[0;32m----> 6\u001b[0;31m \u001b[0mtuple_val\u001b[0m\u001b[0;34m[\u001b[0m\u001b[0;36m0\u001b[0m\u001b[0;34m]\u001b[0m \u001b[0;34m=\u001b[0m \u001b[0;36m100\u001b[0m  \u001b[0;31m# tuple doesn't allow item assignment\u001b[0m\u001b[0;34m\u001b[0m\u001b[0;34m\u001b[0m\u001b[0m\n\u001b[0m",
            "\u001b[0;31mTypeError\u001b[0m: 'tuple' object does not support item assignment"
          ]
        }
      ]
    },
    {
      "cell_type": "code",
      "metadata": {
        "colab": {
          "base_uri": "https://localhost:8080/"
        },
        "id": "SsdiXr85fz9E",
        "outputId": "2b1de691-a99b-4531-bca1-8b3a26b18535"
      },
      "source": [
        "list_values = [1, 2, 3]\n",
        "print(f\"Old list_values (id): {id(list_values)}\")\n",
        "list_values += [4, 5, 6]\n",
        "print(f\"New list_values (id): {id(list_values)}\")\n",
        "\n",
        "print()\n",
        "\n",
        "tuple_values = (1, 2, 3)\n",
        "print(f\"Old tuple_values (id): {id(tuple_values)}\")\n",
        "tuple_values += (4, 5, 6)  # this will be a new object\n",
        "print(f\"New tuple_values (id): {id(tuple_values)}\")\n"
      ],
      "execution_count": null,
      "outputs": [
        {
          "output_type": "stream",
          "text": [
            "Old list_values (id): 139631149472256\n",
            "New list_values (id): 139631149472256\n",
            "\n",
            "Old tuple_values (id): 139631177220656\n",
            "New tuple_values (id): 139631177099760\n"
          ],
          "name": "stdout"
        }
      ]
    },
    {
      "cell_type": "markdown",
      "metadata": {
        "id": "fOcBNQUn5l1x"
      },
      "source": [
        "## Int/ String"
      ]
    },
    {
      "cell_type": "code",
      "metadata": {
        "colab": {
          "base_uri": "https://localhost:8080/"
        },
        "id": "FnCx0ZT75o2C",
        "outputId": "cae8e1f0-3d0e-4d07-e405-516b1e72de7c"
      },
      "source": [
        "number = 42\n",
        "print(id(number))\n",
        "\n",
        "number += 1\n",
        "print(id(number))"
      ],
      "execution_count": null,
      "outputs": [
        {
          "output_type": "stream",
          "text": [
            "94336872832800\n",
            "94336872832832\n"
          ],
          "name": "stdout"
        }
      ]
    },
    {
      "cell_type": "code",
      "metadata": {
        "colab": {
          "base_uri": "https://localhost:8080/"
        },
        "id": "RqMUb5Ke5vEz",
        "outputId": "eb175f0b-19af-4efc-aada-53aa8ce1eb74"
      },
      "source": [
        "text = \"Data Science\"\n",
        "print(id(text))\n",
        "\n",
        "text += \" with Python\"\n",
        "print(id(text))"
      ],
      "execution_count": null,
      "outputs": [
        {
          "output_type": "stream",
          "text": [
            "139631149045872\n",
            "139631149067200\n"
          ],
          "name": "stdout"
        }
      ]
    },
    {
      "cell_type": "markdown",
      "metadata": {
        "id": "AZruihcD7CGV"
      },
      "source": [
        "# Copy Objects"
      ]
    },
    {
      "cell_type": "markdown",
      "metadata": {
        "id": "A__a3Lje7IYc"
      },
      "source": [
        "## Copying Mutable Objects by Reference"
      ]
    },
    {
      "cell_type": "code",
      "metadata": {
        "colab": {
          "base_uri": "https://localhost:8080/"
        },
        "id": "wCkET94l7EyF",
        "outputId": "7cf8d99b-334f-497d-cbbd-d21dccadf680"
      },
      "source": [
        "values1 = [4, 5, 6]\n",
        "values2 = values1\n",
        "print(\"id(values1)==id(values2):\", id(values1)==id(values2))"
      ],
      "execution_count": null,
      "outputs": [
        {
          "output_type": "stream",
          "text": [
            "id(values1)==id(values2): True\n"
          ],
          "name": "stdout"
        }
      ]
    },
    {
      "cell_type": "code",
      "metadata": {
        "colab": {
          "base_uri": "https://localhost:8080/"
        },
        "id": "z29W1lIL7G-Y",
        "outputId": "4bce2987-83ec-481f-cc12-c5a1ede86f81"
      },
      "source": [
        "# append value to the original list, referenced obj will also be updated\n",
        "values1.append(7)\n",
        "print('\\n====== values1.append(7) ======')\n",
        "print(\"values1 is values2:\", values1 is values2)  # ie. print(id(values1)==id(values2))\n",
        "print(\"values1:\", values1)\n",
        "print(\"values2:\", values2)"
      ],
      "execution_count": null,
      "outputs": [
        {
          "output_type": "stream",
          "text": [
            "\n",
            "====== values1.append(7) ======\n",
            "values1 is values2: True\n",
            "values1: [4, 5, 6, 7]\n",
            "values2: [4, 5, 6, 7]\n"
          ],
          "name": "stdout"
        }
      ]
    },
    {
      "cell_type": "code",
      "metadata": {
        "colab": {
          "base_uri": "https://localhost:8080/"
        },
        "id": "BiNatyMz7KyE",
        "outputId": "d37f0ec8-0096-4ff5-f60a-7ce1c5d01816"
      },
      "source": [
        "values2.append(10)\n",
        "print('\\n====== values2.append(10) ======')\n",
        "print(\"values1 is values2:\", values1 is values2)  # ie. print(id(values1)==id(values2))\n",
        "print(\"values1:\", values1)\n",
        "print(\"values2:\", values2)"
      ],
      "execution_count": null,
      "outputs": [
        {
          "output_type": "stream",
          "text": [
            "\n",
            "====== values2.append(10) ======\n",
            "values1 is values2: True\n",
            "values1: [4, 5, 6, 7, 10]\n",
            "values2: [4, 5, 6, 7, 10]\n"
          ],
          "name": "stdout"
        }
      ]
    },
    {
      "cell_type": "markdown",
      "metadata": {
        "id": "AabdLTb9-t0R"
      },
      "source": [
        "## Copying Immutable Objects\n",
        "Every time when we try to update the value of an `immutable` object, a new object is created instead"
      ]
    },
    {
      "cell_type": "code",
      "metadata": {
        "colab": {
          "base_uri": "https://localhost:8080/"
        },
        "id": "NIj0BQN3-30N",
        "outputId": "d4ff5ba2-0635-41ad-c04e-57fd7af15d76"
      },
      "source": [
        "text1 = \"Python\"\n",
        "text2 = text1\n",
        "print(\"id(text1) == id(text2):\\t\", id(text1) == id(text2))"
      ],
      "execution_count": null,
      "outputs": [
        {
          "output_type": "stream",
          "text": [
            "id(text1) == id(text2):\t True\n"
          ],
          "name": "stdout"
        }
      ]
    },
    {
      "cell_type": "code",
      "metadata": {
        "colab": {
          "base_uri": "https://localhost:8080/"
        },
        "id": "1NQgO1Y2_B9Y",
        "outputId": "d9384cf8-807d-4ff9-8271-9797ad95ce53"
      },
      "source": [
        "text1 += \" is awesome\"\n",
        "print(\"text1 is text2:\\t\\t\", text1 is text2)\n",
        "\n",
        "print(\"text1:\", text1)\n",
        "print(\"text2:\", text2)"
      ],
      "execution_count": null,
      "outputs": [
        {
          "output_type": "stream",
          "text": [
            "text1 is text2:\t\t False\n",
            "text1: Python is awesome\n",
            "text2: Python\n"
          ],
          "name": "stdout"
        }
      ]
    },
    {
      "cell_type": "markdown",
      "metadata": {
        "id": "a0i9gagwAHji"
      },
      "source": [
        "## Mutable object inside an immutable container"
      ]
    },
    {
      "cell_type": "code",
      "metadata": {
        "colab": {
          "base_uri": "https://localhost:8080/"
        },
        "id": "s9UHdLm6AeTB",
        "outputId": "7082f018-8416-4f47-9ef5-1121938f30a1"
      },
      "source": [
        "skills = [\"Programming\", \"Machine Learning\", \"Statistics\"]\n",
        "person1 = (129392130, skills)\n",
        "person2 = person1\n",
        "\n",
        "print(type(person1))\n",
        "print(person1)"
      ],
      "execution_count": null,
      "outputs": [
        {
          "output_type": "stream",
          "text": [
            "<class 'tuple'>\n",
            "(129392130, ['Programming', 'Machine Learning', 'Statistics'])\n"
          ],
          "name": "stdout"
        }
      ]
    },
    {
      "cell_type": "code",
      "metadata": {
        "colab": {
          "base_uri": "https://localhost:8080/",
          "height": 86
        },
        "id": "2uxTFE12Aenc",
        "outputId": "f252b064-b01b-4f9e-f536-4b95849d6450"
      },
      "source": [
        "skills[2] = \"Maths\"\n",
        "print(person1)\n",
        "print(person2)\n",
        "print()\n",
        "\n",
        "\"The object is still considered immutable because when we talk about the mutability of a container only the identities of the contained objects are implied.\"\n"
      ],
      "execution_count": null,
      "outputs": [
        {
          "output_type": "stream",
          "text": [
            "(129392130, ['Programming', 'Machine Learning', 'Maths'])\n",
            "(129392130, ['Programming', 'Machine Learning', 'Maths'])\n",
            "\n"
          ],
          "name": "stdout"
        },
        {
          "output_type": "execute_result",
          "data": {
            "application/vnd.google.colaboratory.intrinsic+json": {
              "type": "string"
            },
            "text/plain": [
              "'The object is still considered immutable because when we talk about the mutability of a container only the identities of the contained objects are implied.'"
            ]
          },
          "metadata": {
            "tags": []
          },
          "execution_count": 25
        }
      ]
    },
    {
      "cell_type": "code",
      "metadata": {
        "colab": {
          "base_uri": "https://localhost:8080/"
        },
        "id": "qMhEt8G5AgAz",
        "outputId": "97475919-2a1c-482b-d537-0b3d9b5f0f55"
      },
      "source": [
        "person1 is person2"
      ],
      "execution_count": null,
      "outputs": [
        {
          "output_type": "execute_result",
          "data": {
            "text/plain": [
              "True"
            ]
          },
          "metadata": {
            "tags": []
          },
          "execution_count": 26
        }
      ]
    },
    {
      "cell_type": "code",
      "metadata": {
        "colab": {
          "base_uri": "https://localhost:8080/"
        },
        "id": "SxUWBQRWCPP2",
        "outputId": "96dd3ab4-45c5-4866-bc1b-5c8ee24b384f"
      },
      "source": [
        "person2 += (2,)\n",
        "person2"
      ],
      "execution_count": null,
      "outputs": [
        {
          "output_type": "execute_result",
          "data": {
            "text/plain": [
              "(129392130, ['Programming', 'Machine Learning', 'Maths'], 2)"
            ]
          },
          "metadata": {
            "tags": []
          },
          "execution_count": 27
        }
      ]
    },
    {
      "cell_type": "code",
      "metadata": {
        "colab": {
          "base_uri": "https://localhost:8080/"
        },
        "id": "UASjP-kyC_X2",
        "outputId": "b5000298-3285-45f7-bb09-f276d9f60450"
      },
      "source": [
        "unique_identifier = 42\n",
        "age = 24\n",
        "skills = (\"Python\", \"pandas\", \"scikit-learn\")\n",
        "\n",
        "info = (unique_identifier, age, skills)\n",
        "\n",
        "print(id(unique_identifier))\n",
        "print(id(age))\n",
        "print(info)"
      ],
      "execution_count": null,
      "outputs": [
        {
          "output_type": "stream",
          "text": [
            "94336872832800\n",
            "94336872832224\n",
            "(42, 24, ('Python', 'pandas', 'scikit-learn'))\n"
          ],
          "name": "stdout"
        }
      ]
    },
    {
      "cell_type": "code",
      "metadata": {
        "colab": {
          "base_uri": "https://localhost:8080/"
        },
        "id": "HbmzyLGHC_yN",
        "outputId": "ed8e57d7-ad49-4fef-d0b7-07c68a6cbf3b"
      },
      "source": [
        "unique_identifier = 50\n",
        "age += 1\n",
        "skills += (\"machine learning\", \"deep learning\")\n",
        "\n",
        "print(id(unique_identifier))\n",
        "print(id(age))\n",
        "print(info)"
      ],
      "execution_count": null,
      "outputs": [
        {
          "output_type": "stream",
          "text": [
            "94336872833056\n",
            "94336872832256\n",
            "(42, 24, ('Python', 'pandas', 'scikit-learn'))\n"
          ],
          "name": "stdout"
        }
      ]
    },
    {
      "cell_type": "code",
      "metadata": {
        "id": "6jKDkyBpDBl1",
        "colab": {
          "base_uri": "https://localhost:8080/"
        },
        "outputId": "3d52853e-67cc-422f-bfe4-33c57e67cd8d"
      },
      "source": [
        "age = 27\n",
        "print(f\"id(age): {id(age)}\")\n",
        "\n",
        "age = age + 1\n",
        "print(f\"id(age=age+1): {id(age)}\")\n",
        "\n",
        "age += 1\n",
        "print(f\"id(age += 1): {id(age)}\")"
      ],
      "execution_count": null,
      "outputs": [
        {
          "output_type": "stream",
          "text": [
            "id(age): 94336872832320\n",
            "id(age=age+1): 94336872832352\n",
            "id(age += 1): 94336872832384\n"
          ],
          "name": "stdout"
        }
      ]
    },
    {
      "cell_type": "markdown",
      "metadata": {
        "id": "VoVWp6Gp7rzh"
      },
      "source": [
        "## `a += 1` vs `a = a + 1`\n",
        "- `+=` calls the `__iadd__` [method](https://docs.python.org/3.8/reference/datamodel.html#object.__iadd__) (if it exists -- falling back on `__add__` if it doesn't exist) \n",
        "- whereas `+` calls the `__add__` [method](https://docs.python.org/3.8/reference/datamodel.html#object.__add__) or the `__radd__` [method](https://docs.python.org/3.8/reference/datamodel.html#object.__radd__) in a few cases.\n",
        "\n",
        "From an API perspective, \n",
        "1. for mutable objects:\n",
        "  - `__iadd__` is supposed to be used for modifying `mutable` objects in place (returning the object which was mutated) \n",
        "  - whereas `__add__` should return a new instance of something. \n",
        "2. For `immutable` objects: both methods return a new instance, \n",
        "  - but `__iadd__` will put the new instance in the current namespace with the same name that the old instance had."
      ]
    },
    {
      "cell_type": "code",
      "metadata": {
        "colab": {
          "base_uri": "https://localhost:8080/"
        },
        "id": "Jfa3u2kw7eo7",
        "outputId": "4955485d-f54c-430a-df04-e6588c4730f9"
      },
      "source": [
        "a = [1, 2, 3]\n",
        "b = a\n",
        "b += [1, 2, 3]  # += inplace modification\n",
        "print (a)  #[1, 2, 3, 1, 2, 3]\n",
        "print (b)  #[1, 2, 3, 1, 2, 3]"
      ],
      "execution_count": null,
      "outputs": [
        {
          "output_type": "stream",
          "text": [
            "[1, 2, 3, 1, 2, 3]\n",
            "[1, 2, 3, 1, 2, 3]\n"
          ],
          "name": "stdout"
        }
      ]
    },
    {
      "cell_type": "code",
      "metadata": {
        "colab": {
          "base_uri": "https://localhost:8080/"
        },
        "id": "zgIIuZ-97fLW",
        "outputId": "034739a7-f52f-4df0-d604-99f08d4533b8"
      },
      "source": [
        "a = [1, 2, 3]\n",
        "b = a\n",
        "b = b + [1, 2, 3]  # new objects\n",
        "print (a)  #[1, 2, 3] \n",
        "print (b)  #[1, 2, 3, 1, 2, 3]"
      ],
      "execution_count": null,
      "outputs": [
        {
          "output_type": "stream",
          "text": [
            "[1, 2, 3]\n",
            "[1, 2, 3, 1, 2, 3]\n"
          ],
          "name": "stdout"
        }
      ]
    },
    {
      "cell_type": "code",
      "metadata": {
        "id": "uNGTdooo7i-E"
      },
      "source": [
        ""
      ],
      "execution_count": null,
      "outputs": []
    }
  ]
}