{
 "cells": [
  {
   "cell_type": "code",
   "execution_count": 1,
   "metadata": {},
   "outputs": [],
   "source": [
    "import tensorflow as tf"
   ]
  },
  {
   "cell_type": "code",
   "execution_count": 8,
   "metadata": {},
   "outputs": [
    {
     "name": "stdout",
     "output_type": "stream",
     "text": [
      "/home/chet/Desktop/Alfred/Python_Code/Tensorflow\n"
     ]
    }
   ],
   "source": [
    "!pwd"
   ]
  },
  {
   "cell_type": "code",
   "execution_count": 21,
   "metadata": {},
   "outputs": [],
   "source": [
    "cwd = \"./logs\"\n",
    "\n",
    "W1 = tf.Variable(tf.random_normal([1000, 3], stddev=1.0))\n",
    "W2 = tf.Variable(tf.random_normal([3, 1], stddev=0.13))\n",
    "\n",
    "w1_hist = tf.summary.histogram(\"weights-stdev_1.0\", W1)\n",
    "w2_hist = tf.summary.histogram(\"weights-stdev_0.13\", W2)\n",
    "\n",
    "summary_op = tf.summary.merge_all()\n",
    "\n",
    "\n",
    "init = tf.initialize_all_variables()\n",
    "sess = tf.Session()\n",
    "\n",
    "writer = tf.summary.FileWriter(cwd)\n",
    "\n",
    "sess.run(init)\n",
    "\n",
    "for i in range(2):\n",
    "    writer.add_summary(sess.run(summary_op),i)\n",
    "\n",
    "writer.flush()\n",
    "writer.close()\n",
    "sess.close()"
   ]
  },
  {
   "cell_type": "code",
   "execution_count": null,
   "metadata": {},
   "outputs": [],
   "source": []
  }
 ],
 "metadata": {
  "kernelspec": {
   "display_name": "Python_Code-ckxiZQVL",
   "language": "python",
   "name": "python_code-ckxizqvl"
  },
  "language_info": {
   "codemirror_mode": {
    "name": "ipython",
    "version": 3
   },
   "file_extension": ".py",
   "mimetype": "text/x-python",
   "name": "python",
   "nbconvert_exporter": "python",
   "pygments_lexer": "ipython3",
   "version": "3.7.2"
  }
 },
 "nbformat": 4,
 "nbformat_minor": 2
}
