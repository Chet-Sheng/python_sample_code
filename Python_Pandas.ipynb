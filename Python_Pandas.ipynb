{
 "cells": [
  {
   "cell_type": "markdown",
   "metadata": {
    "toc": true
   },
   "source": [
    "<h1>Table of Contents<span class=\"tocSkip\"></span></h1>\n",
    "<div class=\"toc\" style=\"margin-top: 1em;\"><ul class=\"toc-item\"><li><span><a href=\"#Common-Setting\" data-toc-modified-id=\"Common-Setting-1\"><span class=\"toc-item-num\">1&nbsp;&nbsp;</span>Common Setting</a></span></li><li><span><a href=\"#indexing\" data-toc-modified-id=\"indexing-2\"><span class=\"toc-item-num\">2&nbsp;&nbsp;</span>indexing</a></span><ul class=\"toc-item\"><li><span><a href=\"#.loc-and-.iloc-indexing\" data-toc-modified-id=\".loc-and-.iloc-indexing-2.1\"><span class=\"toc-item-num\">2.1&nbsp;&nbsp;</span>.loc and .iloc indexing</a></span><ul class=\"toc-item\"><li><span><a href=\"#Example01:\" data-toc-modified-id=\"Example01:-2.1.1\"><span class=\"toc-item-num\">2.1.1&nbsp;&nbsp;</span>Example01:</a></span></li><li><span><a href=\"#Example02:\" data-toc-modified-id=\"Example02:-2.1.2\"><span class=\"toc-item-num\">2.1.2&nbsp;&nbsp;</span>Example02:</a></span></li><li><span><a href=\"#Example03:\" data-toc-modified-id=\"Example03:-2.1.3\"><span class=\"toc-item-num\">2.1.3&nbsp;&nbsp;</span>Example03:</a></span></li></ul></li><li><span><a href=\"#Reset-index\" data-toc-modified-id=\"Reset-index-2.2\"><span class=\"toc-item-num\">2.2&nbsp;&nbsp;</span>Reset index</a></span></li></ul></li><li><span><a href=\"#Multi-indexing\" data-toc-modified-id=\"Multi-indexing-3\"><span class=\"toc-item-num\">3&nbsp;&nbsp;</span>Multi-indexing</a></span><ul class=\"toc-item\"><li><span><a href=\"#Index\" data-toc-modified-id=\"Index-3.1\"><span class=\"toc-item-num\">3.1&nbsp;&nbsp;</span>Index</a></span></li><li><span><a href=\"#Columns\" data-toc-modified-id=\"Columns-3.2\"><span class=\"toc-item-num\">3.2&nbsp;&nbsp;</span>Columns</a></span></li></ul></li><li><span><a href=\"#Parse-URL\" data-toc-modified-id=\"Parse-URL-4\"><span class=\"toc-item-num\">4&nbsp;&nbsp;</span>Parse URL</a></span></li><li><span><a href=\"#Merge\" data-toc-modified-id=\"Merge-5\"><span class=\"toc-item-num\">5&nbsp;&nbsp;</span>Merge</a></span><ul class=\"toc-item\"><li><span><a href=\"#Array-Intersection-&amp;-Complement\" data-toc-modified-id=\"Array-Intersection-&amp;-Complement-5.1\"><span class=\"toc-item-num\">5.1&nbsp;&nbsp;</span>Array Intersection &amp; Complement</a></span></li></ul></li></ul></div>"
   ]
  },
  {
   "cell_type": "markdown",
   "metadata": {},
   "source": [
    "# Common Setting"
   ]
  },
  {
   "cell_type": "code",
   "execution_count": 1,
   "metadata": {},
   "outputs": [],
   "source": [
    "import numpy as np\n",
    "import pandas as pd\n",
    "from sklearn import preprocessing\n",
    "import os\n",
    "import re\n",
    "import itertools\n",
    "import pickle\n",
    "\n",
    "# import json\n",
    "\n",
    "# from sklearn.cluster import DBSCAN\n",
    "# from sklearn.feature_extraction import DictVectorizer\n",
    "\n",
    "pd.set_option('display.max_columns', 1000)"
   ]
  },
  {
   "cell_type": "markdown",
   "metadata": {},
   "source": [
    "# indexing"
   ]
  },
  {
   "cell_type": "markdown",
   "metadata": {},
   "source": [
    "## .loc and .iloc indexing"
   ]
  },
  {
   "cell_type": "code",
   "execution_count": 3,
   "metadata": {},
   "outputs": [
    {
     "name": "stdout",
     "output_type": "stream",
     "text": [
      "df:\n"
     ]
    },
    {
     "data": {
      "text/html": [
       "<div>\n",
       "<style scoped>\n",
       "    .dataframe tbody tr th:only-of-type {\n",
       "        vertical-align: middle;\n",
       "    }\n",
       "\n",
       "    .dataframe tbody tr th {\n",
       "        vertical-align: top;\n",
       "    }\n",
       "\n",
       "    .dataframe thead th {\n",
       "        text-align: right;\n",
       "    }\n",
       "</style>\n",
       "<table border=\"1\" class=\"dataframe\">\n",
       "  <thead>\n",
       "    <tr style=\"text-align: right;\">\n",
       "      <th></th>\n",
       "      <th>x</th>\n",
       "    </tr>\n",
       "  </thead>\n",
       "  <tbody>\n",
       "    <tr>\n",
       "      <th>0</th>\n",
       "      <td>1</td>\n",
       "    </tr>\n",
       "    <tr>\n",
       "      <th>1</th>\n",
       "      <td>2</td>\n",
       "    </tr>\n",
       "  </tbody>\n",
       "</table>\n",
       "</div>"
      ],
      "text/plain": [
       "   x\n",
       "0  1\n",
       "1  2"
      ]
     },
     "metadata": {},
     "output_type": "display_data"
    },
    {
     "name": "stdout",
     "output_type": "stream",
     "text": [
      "-------------\n",
      "\n",
      "df_sub:\n"
     ]
    },
    {
     "data": {
      "text/html": [
       "<div>\n",
       "<style scoped>\n",
       "    .dataframe tbody tr th:only-of-type {\n",
       "        vertical-align: middle;\n",
       "    }\n",
       "\n",
       "    .dataframe tbody tr th {\n",
       "        vertical-align: top;\n",
       "    }\n",
       "\n",
       "    .dataframe thead th {\n",
       "        text-align: right;\n",
       "    }\n",
       "</style>\n",
       "<table border=\"1\" class=\"dataframe\">\n",
       "  <thead>\n",
       "    <tr style=\"text-align: right;\">\n",
       "      <th></th>\n",
       "      <th>x</th>\n",
       "    </tr>\n",
       "  </thead>\n",
       "  <tbody>\n",
       "    <tr>\n",
       "      <th>0</th>\n",
       "      <td>1</td>\n",
       "    </tr>\n",
       "  </tbody>\n",
       "</table>\n",
       "</div>"
      ],
      "text/plain": [
       "   x\n",
       "0  1"
      ]
     },
     "metadata": {},
     "output_type": "display_data"
    },
    {
     "name": "stdout",
     "output_type": "stream",
     "text": [
      "-------------\n",
      "\n",
      "df_sub:\n"
     ]
    },
    {
     "data": {
      "text/html": [
       "<div>\n",
       "<style scoped>\n",
       "    .dataframe tbody tr th:only-of-type {\n",
       "        vertical-align: middle;\n",
       "    }\n",
       "\n",
       "    .dataframe tbody tr th {\n",
       "        vertical-align: top;\n",
       "    }\n",
       "\n",
       "    .dataframe thead th {\n",
       "        text-align: right;\n",
       "    }\n",
       "</style>\n",
       "<table border=\"1\" class=\"dataframe\">\n",
       "  <thead>\n",
       "    <tr style=\"text-align: right;\">\n",
       "      <th></th>\n",
       "      <th>x</th>\n",
       "    </tr>\n",
       "  </thead>\n",
       "  <tbody>\n",
       "    <tr>\n",
       "      <th>0</th>\n",
       "      <td>1</td>\n",
       "    </tr>\n",
       "    <tr>\n",
       "      <th>x</th>\n",
       "      <td>-1</td>\n",
       "    </tr>\n",
       "  </tbody>\n",
       "</table>\n",
       "</div>"
      ],
      "text/plain": [
       "   x\n",
       "0  1\n",
       "x -1"
      ]
     },
     "metadata": {},
     "output_type": "display_data"
    },
    {
     "name": "stdout",
     "output_type": "stream",
     "text": [
      "\n",
      "df:\n"
     ]
    },
    {
     "data": {
      "text/html": [
       "<div>\n",
       "<style scoped>\n",
       "    .dataframe tbody tr th:only-of-type {\n",
       "        vertical-align: middle;\n",
       "    }\n",
       "\n",
       "    .dataframe tbody tr th {\n",
       "        vertical-align: top;\n",
       "    }\n",
       "\n",
       "    .dataframe thead th {\n",
       "        text-align: right;\n",
       "    }\n",
       "</style>\n",
       "<table border=\"1\" class=\"dataframe\">\n",
       "  <thead>\n",
       "    <tr style=\"text-align: right;\">\n",
       "      <th></th>\n",
       "      <th>x</th>\n",
       "    </tr>\n",
       "  </thead>\n",
       "  <tbody>\n",
       "    <tr>\n",
       "      <th>0</th>\n",
       "      <td>1</td>\n",
       "    </tr>\n",
       "    <tr>\n",
       "      <th>1</th>\n",
       "      <td>2</td>\n",
       "    </tr>\n",
       "  </tbody>\n",
       "</table>\n",
       "</div>"
      ],
      "text/plain": [
       "   x\n",
       "0  1\n",
       "1  2"
      ]
     },
     "metadata": {},
     "output_type": "display_data"
    }
   ],
   "source": [
    "df = pd.DataFrame({'x': [1,2]})\n",
    "print('df:')\n",
    "display(df)\n",
    "print('-------------')\n",
    "\n",
    "# df_sub is indexing from df\n",
    "df_sub = df[0:1]\n",
    "print('\\ndf_sub:')\n",
    "display(df_sub)\n",
    "print('-------------')\n",
    "\n",
    "# assign value to df_sub\n",
    "df_sub.loc['x'] = -1\n",
    "print('\\ndf_sub:')\n",
    "display(df_sub)\n",
    "print('\\ndf:')\n",
    "display(df)"
   ]
  },
  {
   "cell_type": "markdown",
   "metadata": {},
   "source": [
    "###  Example01:\n",
    "In case of having [...] indexing: Doesn't affact original.\n",
    "<br>Just pandas not sure about the result just avoid [...] indexing."
   ]
  },
  {
   "cell_type": "code",
   "execution_count": 4,
   "metadata": {},
   "outputs": [
    {
     "data": {
      "text/html": [
       "<div>\n",
       "<style scoped>\n",
       "    .dataframe tbody tr th:only-of-type {\n",
       "        vertical-align: middle;\n",
       "    }\n",
       "\n",
       "    .dataframe tbody tr th {\n",
       "        vertical-align: top;\n",
       "    }\n",
       "\n",
       "    .dataframe thead th {\n",
       "        text-align: right;\n",
       "    }\n",
       "</style>\n",
       "<table border=\"1\" class=\"dataframe\">\n",
       "  <thead>\n",
       "    <tr style=\"text-align: right;\">\n",
       "      <th></th>\n",
       "      <th>A</th>\n",
       "      <th>B</th>\n",
       "      <th>C</th>\n",
       "      <th>D</th>\n",
       "    </tr>\n",
       "  </thead>\n",
       "  <tbody>\n",
       "    <tr>\n",
       "      <th>0</th>\n",
       "      <td>0.878303</td>\n",
       "      <td>0.425508</td>\n",
       "      <td>0.271213</td>\n",
       "      <td>0.633477</td>\n",
       "    </tr>\n",
       "    <tr>\n",
       "      <th>1</th>\n",
       "      <td>0.379914</td>\n",
       "      <td>1.280137</td>\n",
       "      <td>-1.959084</td>\n",
       "      <td>1.589108</td>\n",
       "    </tr>\n",
       "    <tr>\n",
       "      <th>2</th>\n",
       "      <td>0.184431</td>\n",
       "      <td>0.996371</td>\n",
       "      <td>0.606424</td>\n",
       "      <td>-2.024249</td>\n",
       "    </tr>\n",
       "    <tr>\n",
       "      <th>3</th>\n",
       "      <td>-0.404713</td>\n",
       "      <td>0.077122</td>\n",
       "      <td>0.625306</td>\n",
       "      <td>1.122763</td>\n",
       "    </tr>\n",
       "    <tr>\n",
       "      <th>4</th>\n",
       "      <td>0.845650</td>\n",
       "      <td>-0.515670</td>\n",
       "      <td>0.411784</td>\n",
       "      <td>1.251060</td>\n",
       "    </tr>\n",
       "    <tr>\n",
       "      <th>5</th>\n",
       "      <td>0.516170</td>\n",
       "      <td>-1.567600</td>\n",
       "      <td>0.830165</td>\n",
       "      <td>0.956443</td>\n",
       "    </tr>\n",
       "    <tr>\n",
       "      <th>6</th>\n",
       "      <td>0.602523</td>\n",
       "      <td>0.459030</td>\n",
       "      <td>0.736938</td>\n",
       "      <td>0.238888</td>\n",
       "    </tr>\n",
       "    <tr>\n",
       "      <th>7</th>\n",
       "      <td>-0.560412</td>\n",
       "      <td>0.192859</td>\n",
       "      <td>-0.126534</td>\n",
       "      <td>-0.850789</td>\n",
       "    </tr>\n",
       "  </tbody>\n",
       "</table>\n",
       "</div>"
      ],
      "text/plain": [
       "          A         B         C         D\n",
       "0  0.878303  0.425508  0.271213  0.633477\n",
       "1  0.379914  1.280137 -1.959084  1.589108\n",
       "2  0.184431  0.996371  0.606424 -2.024249\n",
       "3 -0.404713  0.077122  0.625306  1.122763\n",
       "4  0.845650 -0.515670  0.411784  1.251060\n",
       "5  0.516170 -1.567600  0.830165  0.956443\n",
       "6  0.602523  0.459030  0.736938  0.238888\n",
       "7 -0.560412  0.192859 -0.126534 -0.850789"
      ]
     },
     "execution_count": 4,
     "metadata": {},
     "output_type": "execute_result"
    }
   ],
   "source": [
    "dates = range(8)\n",
    "a = pd.DataFrame(np.random.randn(8, 4), index=dates, columns=['A','B','C','D'])\n",
    "a"
   ]
  },
  {
   "cell_type": "code",
   "execution_count": 5,
   "metadata": {},
   "outputs": [
    {
     "name": "stdout",
     "output_type": "stream",
     "text": [
      "<class 'pandas.core.frame.DataFrame'>\n"
     ]
    },
    {
     "data": {
      "text/html": [
       "<div>\n",
       "<style scoped>\n",
       "    .dataframe tbody tr th:only-of-type {\n",
       "        vertical-align: middle;\n",
       "    }\n",
       "\n",
       "    .dataframe tbody tr th {\n",
       "        vertical-align: top;\n",
       "    }\n",
       "\n",
       "    .dataframe thead th {\n",
       "        text-align: right;\n",
       "    }\n",
       "</style>\n",
       "<table border=\"1\" class=\"dataframe\">\n",
       "  <thead>\n",
       "    <tr style=\"text-align: right;\">\n",
       "      <th></th>\n",
       "      <th>B</th>\n",
       "      <th>C</th>\n",
       "    </tr>\n",
       "  </thead>\n",
       "  <tbody>\n",
       "    <tr>\n",
       "      <th>1</th>\n",
       "      <td>1.280137</td>\n",
       "      <td>-1.959084</td>\n",
       "    </tr>\n",
       "    <tr>\n",
       "      <th>2</th>\n",
       "      <td>0.996371</td>\n",
       "      <td>0.606424</td>\n",
       "    </tr>\n",
       "  </tbody>\n",
       "</table>\n",
       "</div>"
      ],
      "text/plain": [
       "          B         C\n",
       "1  1.280137 -1.959084\n",
       "2  0.996371  0.606424"
      ]
     },
     "execution_count": 5,
     "metadata": {},
     "output_type": "execute_result"
    }
   ],
   "source": [
    "# This is the key part!!!!!:\n",
    "b = a[1:3][['B','C']]\n",
    "print(type(b))\n",
    "b"
   ]
  },
  {
   "cell_type": "code",
   "execution_count": 6,
   "metadata": {},
   "outputs": [
    {
     "data": {
      "text/html": [
       "<div>\n",
       "<style scoped>\n",
       "    .dataframe tbody tr th:only-of-type {\n",
       "        vertical-align: middle;\n",
       "    }\n",
       "\n",
       "    .dataframe tbody tr th {\n",
       "        vertical-align: top;\n",
       "    }\n",
       "\n",
       "    .dataframe thead th {\n",
       "        text-align: right;\n",
       "    }\n",
       "</style>\n",
       "<table border=\"1\" class=\"dataframe\">\n",
       "  <thead>\n",
       "    <tr style=\"text-align: right;\">\n",
       "      <th></th>\n",
       "      <th>B</th>\n",
       "      <th>C</th>\n",
       "    </tr>\n",
       "  </thead>\n",
       "  <tbody>\n",
       "    <tr>\n",
       "      <th>1</th>\n",
       "      <td>100.0</td>\n",
       "      <td>-1.959084</td>\n",
       "    </tr>\n",
       "    <tr>\n",
       "      <th>2</th>\n",
       "      <td>100.0</td>\n",
       "      <td>0.606424</td>\n",
       "    </tr>\n",
       "  </tbody>\n",
       "</table>\n",
       "</div>"
      ],
      "text/plain": [
       "       B         C\n",
       "1  100.0 -1.959084\n",
       "2  100.0  0.606424"
      ]
     },
     "metadata": {},
     "output_type": "display_data"
    },
    {
     "data": {
      "text/html": [
       "<div>\n",
       "<style scoped>\n",
       "    .dataframe tbody tr th:only-of-type {\n",
       "        vertical-align: middle;\n",
       "    }\n",
       "\n",
       "    .dataframe tbody tr th {\n",
       "        vertical-align: top;\n",
       "    }\n",
       "\n",
       "    .dataframe thead th {\n",
       "        text-align: right;\n",
       "    }\n",
       "</style>\n",
       "<table border=\"1\" class=\"dataframe\">\n",
       "  <thead>\n",
       "    <tr style=\"text-align: right;\">\n",
       "      <th></th>\n",
       "      <th>A</th>\n",
       "      <th>B</th>\n",
       "      <th>C</th>\n",
       "      <th>D</th>\n",
       "    </tr>\n",
       "  </thead>\n",
       "  <tbody>\n",
       "    <tr>\n",
       "      <th>0</th>\n",
       "      <td>0.878303</td>\n",
       "      <td>0.425508</td>\n",
       "      <td>0.271213</td>\n",
       "      <td>0.633477</td>\n",
       "    </tr>\n",
       "    <tr>\n",
       "      <th>1</th>\n",
       "      <td>0.379914</td>\n",
       "      <td>1.280137</td>\n",
       "      <td>-1.959084</td>\n",
       "      <td>1.589108</td>\n",
       "    </tr>\n",
       "    <tr>\n",
       "      <th>2</th>\n",
       "      <td>0.184431</td>\n",
       "      <td>0.996371</td>\n",
       "      <td>0.606424</td>\n",
       "      <td>-2.024249</td>\n",
       "    </tr>\n",
       "    <tr>\n",
       "      <th>3</th>\n",
       "      <td>-0.404713</td>\n",
       "      <td>0.077122</td>\n",
       "      <td>0.625306</td>\n",
       "      <td>1.122763</td>\n",
       "    </tr>\n",
       "    <tr>\n",
       "      <th>4</th>\n",
       "      <td>0.845650</td>\n",
       "      <td>-0.515670</td>\n",
       "      <td>0.411784</td>\n",
       "      <td>1.251060</td>\n",
       "    </tr>\n",
       "    <tr>\n",
       "      <th>5</th>\n",
       "      <td>0.516170</td>\n",
       "      <td>-1.567600</td>\n",
       "      <td>0.830165</td>\n",
       "      <td>0.956443</td>\n",
       "    </tr>\n",
       "    <tr>\n",
       "      <th>6</th>\n",
       "      <td>0.602523</td>\n",
       "      <td>0.459030</td>\n",
       "      <td>0.736938</td>\n",
       "      <td>0.238888</td>\n",
       "    </tr>\n",
       "    <tr>\n",
       "      <th>7</th>\n",
       "      <td>-0.560412</td>\n",
       "      <td>0.192859</td>\n",
       "      <td>-0.126534</td>\n",
       "      <td>-0.850789</td>\n",
       "    </tr>\n",
       "  </tbody>\n",
       "</table>\n",
       "</div>"
      ],
      "text/plain": [
       "          A         B         C         D\n",
       "0  0.878303  0.425508  0.271213  0.633477\n",
       "1  0.379914  1.280137 -1.959084  1.589108\n",
       "2  0.184431  0.996371  0.606424 -2.024249\n",
       "3 -0.404713  0.077122  0.625306  1.122763\n",
       "4  0.845650 -0.515670  0.411784  1.251060\n",
       "5  0.516170 -1.567600  0.830165  0.956443\n",
       "6  0.602523  0.459030  0.736938  0.238888\n",
       "7 -0.560412  0.192859 -0.126534 -0.850789"
      ]
     },
     "metadata": {},
     "output_type": "display_data"
    },
    {
     "name": "stdout",
     "output_type": "stream",
     "text": [
      "\n",
      "In this case (indexing multiple index by []), a was not re-assigned\n"
     ]
    }
   ],
   "source": [
    "b.B=pd.DataFrame(100*np.ones([3,1]))\n",
    "display(b)\n",
    "display(a)\n",
    "print('\\nIn this case (indexing multiple index by []), a was not re-assigned')"
   ]
  },
  {
   "cell_type": "markdown",
   "metadata": {},
   "source": [
    "###  Example02:\n",
    "In case of having [.] indexing: Does affact original."
   ]
  },
  {
   "cell_type": "code",
   "execution_count": 7,
   "metadata": {},
   "outputs": [
    {
     "data": {
      "text/html": [
       "<div>\n",
       "<style scoped>\n",
       "    .dataframe tbody tr th:only-of-type {\n",
       "        vertical-align: middle;\n",
       "    }\n",
       "\n",
       "    .dataframe tbody tr th {\n",
       "        vertical-align: top;\n",
       "    }\n",
       "\n",
       "    .dataframe thead th {\n",
       "        text-align: right;\n",
       "    }\n",
       "</style>\n",
       "<table border=\"1\" class=\"dataframe\">\n",
       "  <thead>\n",
       "    <tr style=\"text-align: right;\">\n",
       "      <th></th>\n",
       "      <th>A</th>\n",
       "      <th>B</th>\n",
       "      <th>C</th>\n",
       "      <th>D</th>\n",
       "    </tr>\n",
       "  </thead>\n",
       "  <tbody>\n",
       "    <tr>\n",
       "      <th>0</th>\n",
       "      <td>-0.197387</td>\n",
       "      <td>-0.972177</td>\n",
       "      <td>-2.447318</td>\n",
       "      <td>0.052101</td>\n",
       "    </tr>\n",
       "    <tr>\n",
       "      <th>1</th>\n",
       "      <td>0.105575</td>\n",
       "      <td>0.191226</td>\n",
       "      <td>-0.884398</td>\n",
       "      <td>-1.011443</td>\n",
       "    </tr>\n",
       "    <tr>\n",
       "      <th>2</th>\n",
       "      <td>-0.950118</td>\n",
       "      <td>1.623702</td>\n",
       "      <td>2.042223</td>\n",
       "      <td>0.225227</td>\n",
       "    </tr>\n",
       "    <tr>\n",
       "      <th>3</th>\n",
       "      <td>2.170974</td>\n",
       "      <td>-1.541838</td>\n",
       "      <td>0.095549</td>\n",
       "      <td>0.945138</td>\n",
       "    </tr>\n",
       "    <tr>\n",
       "      <th>4</th>\n",
       "      <td>0.746738</td>\n",
       "      <td>0.254991</td>\n",
       "      <td>-0.430770</td>\n",
       "      <td>0.518200</td>\n",
       "    </tr>\n",
       "    <tr>\n",
       "      <th>5</th>\n",
       "      <td>1.731016</td>\n",
       "      <td>0.679456</td>\n",
       "      <td>-1.024973</td>\n",
       "      <td>-0.006610</td>\n",
       "    </tr>\n",
       "    <tr>\n",
       "      <th>6</th>\n",
       "      <td>0.503179</td>\n",
       "      <td>0.444636</td>\n",
       "      <td>-0.078549</td>\n",
       "      <td>0.938570</td>\n",
       "    </tr>\n",
       "    <tr>\n",
       "      <th>7</th>\n",
       "      <td>-0.265996</td>\n",
       "      <td>-1.829817</td>\n",
       "      <td>0.299908</td>\n",
       "      <td>-0.373651</td>\n",
       "    </tr>\n",
       "  </tbody>\n",
       "</table>\n",
       "</div>"
      ],
      "text/plain": [
       "          A         B         C         D\n",
       "0 -0.197387 -0.972177 -2.447318  0.052101\n",
       "1  0.105575  0.191226 -0.884398 -1.011443\n",
       "2 -0.950118  1.623702  2.042223  0.225227\n",
       "3  2.170974 -1.541838  0.095549  0.945138\n",
       "4  0.746738  0.254991 -0.430770  0.518200\n",
       "5  1.731016  0.679456 -1.024973 -0.006610\n",
       "6  0.503179  0.444636 -0.078549  0.938570\n",
       "7 -0.265996 -1.829817  0.299908 -0.373651"
      ]
     },
     "execution_count": 7,
     "metadata": {},
     "output_type": "execute_result"
    }
   ],
   "source": [
    "dates = range(8)\n",
    "a = pd.DataFrame(np.random.randn(8, 4), index=dates, columns=['A','B','C','D'])\n",
    "a"
   ]
  },
  {
   "cell_type": "code",
   "execution_count": 8,
   "metadata": {},
   "outputs": [
    {
     "name": "stdout",
     "output_type": "stream",
     "text": [
      "<class 'pandas.core.frame.DataFrame'>\n"
     ]
    },
    {
     "data": {
      "text/html": [
       "<div>\n",
       "<style scoped>\n",
       "    .dataframe tbody tr th:only-of-type {\n",
       "        vertical-align: middle;\n",
       "    }\n",
       "\n",
       "    .dataframe tbody tr th {\n",
       "        vertical-align: top;\n",
       "    }\n",
       "\n",
       "    .dataframe thead th {\n",
       "        text-align: right;\n",
       "    }\n",
       "</style>\n",
       "<table border=\"1\" class=\"dataframe\">\n",
       "  <thead>\n",
       "    <tr style=\"text-align: right;\">\n",
       "      <th></th>\n",
       "      <th>A</th>\n",
       "      <th>B</th>\n",
       "      <th>C</th>\n",
       "      <th>D</th>\n",
       "    </tr>\n",
       "  </thead>\n",
       "  <tbody>\n",
       "    <tr>\n",
       "      <th>1</th>\n",
       "      <td>0.105575</td>\n",
       "      <td>0.191226</td>\n",
       "      <td>-0.884398</td>\n",
       "      <td>-1.011443</td>\n",
       "    </tr>\n",
       "    <tr>\n",
       "      <th>2</th>\n",
       "      <td>-0.950118</td>\n",
       "      <td>1.623702</td>\n",
       "      <td>2.042223</td>\n",
       "      <td>0.225227</td>\n",
       "    </tr>\n",
       "  </tbody>\n",
       "</table>\n",
       "</div>"
      ],
      "text/plain": [
       "          A         B         C         D\n",
       "1  0.105575  0.191226 -0.884398 -1.011443\n",
       "2 -0.950118  1.623702  2.042223  0.225227"
      ]
     },
     "execution_count": 8,
     "metadata": {},
     "output_type": "execute_result"
    }
   ],
   "source": [
    "# This is the key part!!!!!:\n",
    "b = a[1:3]\n",
    "print(type(b))\n",
    "b"
   ]
  },
  {
   "cell_type": "code",
   "execution_count": 9,
   "metadata": {},
   "outputs": [
    {
     "name": "stderr",
     "output_type": "stream",
     "text": [
      "/usr/local/lib/python3.5/dist-packages/pandas/core/generic.py:3643: SettingWithCopyWarning: \n",
      "A value is trying to be set on a copy of a slice from a DataFrame.\n",
      "Try using .loc[row_indexer,col_indexer] = value instead\n",
      "\n",
      "See the caveats in the documentation: http://pandas.pydata.org/pandas-docs/stable/indexing.html#indexing-view-versus-copy\n",
      "  self[name] = value\n"
     ]
    },
    {
     "data": {
      "text/html": [
       "<div>\n",
       "<style scoped>\n",
       "    .dataframe tbody tr th:only-of-type {\n",
       "        vertical-align: middle;\n",
       "    }\n",
       "\n",
       "    .dataframe tbody tr th {\n",
       "        vertical-align: top;\n",
       "    }\n",
       "\n",
       "    .dataframe thead th {\n",
       "        text-align: right;\n",
       "    }\n",
       "</style>\n",
       "<table border=\"1\" class=\"dataframe\">\n",
       "  <thead>\n",
       "    <tr style=\"text-align: right;\">\n",
       "      <th></th>\n",
       "      <th>A</th>\n",
       "      <th>B</th>\n",
       "      <th>C</th>\n",
       "      <th>D</th>\n",
       "    </tr>\n",
       "  </thead>\n",
       "  <tbody>\n",
       "    <tr>\n",
       "      <th>1</th>\n",
       "      <td>0.105575</td>\n",
       "      <td>100.0</td>\n",
       "      <td>-0.884398</td>\n",
       "      <td>-1.011443</td>\n",
       "    </tr>\n",
       "    <tr>\n",
       "      <th>2</th>\n",
       "      <td>-0.950118</td>\n",
       "      <td>100.0</td>\n",
       "      <td>2.042223</td>\n",
       "      <td>0.225227</td>\n",
       "    </tr>\n",
       "  </tbody>\n",
       "</table>\n",
       "</div>"
      ],
      "text/plain": [
       "          A      B         C         D\n",
       "1  0.105575  100.0 -0.884398 -1.011443\n",
       "2 -0.950118  100.0  2.042223  0.225227"
      ]
     },
     "metadata": {},
     "output_type": "display_data"
    },
    {
     "data": {
      "text/html": [
       "<div>\n",
       "<style scoped>\n",
       "    .dataframe tbody tr th:only-of-type {\n",
       "        vertical-align: middle;\n",
       "    }\n",
       "\n",
       "    .dataframe tbody tr th {\n",
       "        vertical-align: top;\n",
       "    }\n",
       "\n",
       "    .dataframe thead th {\n",
       "        text-align: right;\n",
       "    }\n",
       "</style>\n",
       "<table border=\"1\" class=\"dataframe\">\n",
       "  <thead>\n",
       "    <tr style=\"text-align: right;\">\n",
       "      <th></th>\n",
       "      <th>A</th>\n",
       "      <th>B</th>\n",
       "      <th>C</th>\n",
       "      <th>D</th>\n",
       "    </tr>\n",
       "  </thead>\n",
       "  <tbody>\n",
       "    <tr>\n",
       "      <th>0</th>\n",
       "      <td>-0.197387</td>\n",
       "      <td>-0.972177</td>\n",
       "      <td>-2.447318</td>\n",
       "      <td>0.052101</td>\n",
       "    </tr>\n",
       "    <tr>\n",
       "      <th>1</th>\n",
       "      <td>0.105575</td>\n",
       "      <td>100.000000</td>\n",
       "      <td>-0.884398</td>\n",
       "      <td>-1.011443</td>\n",
       "    </tr>\n",
       "    <tr>\n",
       "      <th>2</th>\n",
       "      <td>-0.950118</td>\n",
       "      <td>100.000000</td>\n",
       "      <td>2.042223</td>\n",
       "      <td>0.225227</td>\n",
       "    </tr>\n",
       "    <tr>\n",
       "      <th>3</th>\n",
       "      <td>2.170974</td>\n",
       "      <td>-1.541838</td>\n",
       "      <td>0.095549</td>\n",
       "      <td>0.945138</td>\n",
       "    </tr>\n",
       "    <tr>\n",
       "      <th>4</th>\n",
       "      <td>0.746738</td>\n",
       "      <td>0.254991</td>\n",
       "      <td>-0.430770</td>\n",
       "      <td>0.518200</td>\n",
       "    </tr>\n",
       "    <tr>\n",
       "      <th>5</th>\n",
       "      <td>1.731016</td>\n",
       "      <td>0.679456</td>\n",
       "      <td>-1.024973</td>\n",
       "      <td>-0.006610</td>\n",
       "    </tr>\n",
       "    <tr>\n",
       "      <th>6</th>\n",
       "      <td>0.503179</td>\n",
       "      <td>0.444636</td>\n",
       "      <td>-0.078549</td>\n",
       "      <td>0.938570</td>\n",
       "    </tr>\n",
       "    <tr>\n",
       "      <th>7</th>\n",
       "      <td>-0.265996</td>\n",
       "      <td>-1.829817</td>\n",
       "      <td>0.299908</td>\n",
       "      <td>-0.373651</td>\n",
       "    </tr>\n",
       "  </tbody>\n",
       "</table>\n",
       "</div>"
      ],
      "text/plain": [
       "          A           B         C         D\n",
       "0 -0.197387   -0.972177 -2.447318  0.052101\n",
       "1  0.105575  100.000000 -0.884398 -1.011443\n",
       "2 -0.950118  100.000000  2.042223  0.225227\n",
       "3  2.170974   -1.541838  0.095549  0.945138\n",
       "4  0.746738    0.254991 -0.430770  0.518200\n",
       "5  1.731016    0.679456 -1.024973 -0.006610\n",
       "6  0.503179    0.444636 -0.078549  0.938570\n",
       "7 -0.265996   -1.829817  0.299908 -0.373651"
      ]
     },
     "metadata": {},
     "output_type": "display_data"
    },
    {
     "name": "stdout",
     "output_type": "stream",
     "text": [
      "\n",
      "In this case (indexing single index by []), a was re-assigned\n"
     ]
    }
   ],
   "source": [
    "b.B=pd.DataFrame(100*np.ones([3,1]))\n",
    "display(b)\n",
    "display(a)\n",
    "print('\\nIn this case (indexing single index by []), a was re-assigned')\n",
    "# not a copy at all.\n",
    "# while using .loc would never need to worry about this."
   ]
  },
  {
   "cell_type": "markdown",
   "metadata": {},
   "source": [
    "### Example03:\n",
    "Mind the single indexing. Even the single indexing in ,loc would result in value change."
   ]
  },
  {
   "cell_type": "code",
   "execution_count": 140,
   "metadata": {},
   "outputs": [
    {
     "data": {
      "text/html": [
       "<div>\n",
       "<style scoped>\n",
       "    .dataframe tbody tr th:only-of-type {\n",
       "        vertical-align: middle;\n",
       "    }\n",
       "\n",
       "    .dataframe tbody tr th {\n",
       "        vertical-align: top;\n",
       "    }\n",
       "\n",
       "    .dataframe thead th {\n",
       "        text-align: right;\n",
       "    }\n",
       "</style>\n",
       "<table border=\"1\" class=\"dataframe\">\n",
       "  <thead>\n",
       "    <tr style=\"text-align: right;\">\n",
       "      <th></th>\n",
       "      <th>A</th>\n",
       "      <th>B</th>\n",
       "      <th>C</th>\n",
       "      <th>D</th>\n",
       "    </tr>\n",
       "  </thead>\n",
       "  <tbody>\n",
       "    <tr>\n",
       "      <th>0</th>\n",
       "      <td>-0.236662</td>\n",
       "      <td>-0.708238</td>\n",
       "      <td>-0.354506</td>\n",
       "      <td>1.192155</td>\n",
       "    </tr>\n",
       "    <tr>\n",
       "      <th>1</th>\n",
       "      <td>-0.683871</td>\n",
       "      <td>0.268845</td>\n",
       "      <td>0.007645</td>\n",
       "      <td>-0.227292</td>\n",
       "    </tr>\n",
       "    <tr>\n",
       "      <th>2</th>\n",
       "      <td>0.351881</td>\n",
       "      <td>0.038323</td>\n",
       "      <td>-1.470705</td>\n",
       "      <td>-2.367162</td>\n",
       "    </tr>\n",
       "    <tr>\n",
       "      <th>3</th>\n",
       "      <td>-1.318242</td>\n",
       "      <td>0.846568</td>\n",
       "      <td>-1.183613</td>\n",
       "      <td>0.105871</td>\n",
       "    </tr>\n",
       "    <tr>\n",
       "      <th>4</th>\n",
       "      <td>0.716728</td>\n",
       "      <td>-0.273229</td>\n",
       "      <td>-1.092767</td>\n",
       "      <td>0.895343</td>\n",
       "    </tr>\n",
       "    <tr>\n",
       "      <th>5</th>\n",
       "      <td>-0.195302</td>\n",
       "      <td>-0.746973</td>\n",
       "      <td>-0.553784</td>\n",
       "      <td>0.897603</td>\n",
       "    </tr>\n",
       "    <tr>\n",
       "      <th>6</th>\n",
       "      <td>0.107835</td>\n",
       "      <td>0.001818</td>\n",
       "      <td>-1.000445</td>\n",
       "      <td>1.049765</td>\n",
       "    </tr>\n",
       "    <tr>\n",
       "      <th>7</th>\n",
       "      <td>-0.350980</td>\n",
       "      <td>1.693922</td>\n",
       "      <td>0.121410</td>\n",
       "      <td>0.588823</td>\n",
       "    </tr>\n",
       "  </tbody>\n",
       "</table>\n",
       "</div>"
      ],
      "text/plain": [
       "          A         B         C         D\n",
       "0 -0.236662 -0.708238 -0.354506  1.192155\n",
       "1 -0.683871  0.268845  0.007645 -0.227292\n",
       "2  0.351881  0.038323 -1.470705 -2.367162\n",
       "3 -1.318242  0.846568 -1.183613  0.105871\n",
       "4  0.716728 -0.273229 -1.092767  0.895343\n",
       "5 -0.195302 -0.746973 -0.553784  0.897603\n",
       "6  0.107835  0.001818 -1.000445  1.049765\n",
       "7 -0.350980  1.693922  0.121410  0.588823"
      ]
     },
     "execution_count": 140,
     "metadata": {},
     "output_type": "execute_result"
    }
   ],
   "source": [
    "dates = range(8)\n",
    "a = pd.DataFrame(np.random.randn(8, 4), index=dates, columns=['A','B','C','D'])\n",
    "a"
   ]
  },
  {
   "cell_type": "code",
   "execution_count": 141,
   "metadata": {},
   "outputs": [
    {
     "name": "stdout",
     "output_type": "stream",
     "text": [
      "<class 'pandas.core.frame.DataFrame'>\n"
     ]
    },
    {
     "data": {
      "text/html": [
       "<div>\n",
       "<style scoped>\n",
       "    .dataframe tbody tr th:only-of-type {\n",
       "        vertical-align: middle;\n",
       "    }\n",
       "\n",
       "    .dataframe tbody tr th {\n",
       "        vertical-align: top;\n",
       "    }\n",
       "\n",
       "    .dataframe thead th {\n",
       "        text-align: right;\n",
       "    }\n",
       "</style>\n",
       "<table border=\"1\" class=\"dataframe\">\n",
       "  <thead>\n",
       "    <tr style=\"text-align: right;\">\n",
       "      <th></th>\n",
       "      <th>A</th>\n",
       "      <th>B</th>\n",
       "      <th>C</th>\n",
       "    </tr>\n",
       "  </thead>\n",
       "  <tbody>\n",
       "    <tr>\n",
       "      <th>0</th>\n",
       "      <td>-0.236662</td>\n",
       "      <td>-0.708238</td>\n",
       "      <td>-0.354506</td>\n",
       "    </tr>\n",
       "    <tr>\n",
       "      <th>1</th>\n",
       "      <td>-0.683871</td>\n",
       "      <td>0.268845</td>\n",
       "      <td>0.007645</td>\n",
       "    </tr>\n",
       "    <tr>\n",
       "      <th>2</th>\n",
       "      <td>0.351881</td>\n",
       "      <td>0.038323</td>\n",
       "      <td>-1.470705</td>\n",
       "    </tr>\n",
       "    <tr>\n",
       "      <th>3</th>\n",
       "      <td>-1.318242</td>\n",
       "      <td>0.846568</td>\n",
       "      <td>-1.183613</td>\n",
       "    </tr>\n",
       "    <tr>\n",
       "      <th>4</th>\n",
       "      <td>0.716728</td>\n",
       "      <td>-0.273229</td>\n",
       "      <td>-1.092767</td>\n",
       "    </tr>\n",
       "    <tr>\n",
       "      <th>5</th>\n",
       "      <td>-0.195302</td>\n",
       "      <td>-0.746973</td>\n",
       "      <td>-0.553784</td>\n",
       "    </tr>\n",
       "    <tr>\n",
       "      <th>6</th>\n",
       "      <td>0.107835</td>\n",
       "      <td>0.001818</td>\n",
       "      <td>-1.000445</td>\n",
       "    </tr>\n",
       "    <tr>\n",
       "      <th>7</th>\n",
       "      <td>-0.350980</td>\n",
       "      <td>1.693922</td>\n",
       "      <td>0.121410</td>\n",
       "    </tr>\n",
       "  </tbody>\n",
       "</table>\n",
       "</div>"
      ],
      "text/plain": [
       "          A         B         C\n",
       "0 -0.236662 -0.708238 -0.354506\n",
       "1 -0.683871  0.268845  0.007645\n",
       "2  0.351881  0.038323 -1.470705\n",
       "3 -1.318242  0.846568 -1.183613\n",
       "4  0.716728 -0.273229 -1.092767\n",
       "5 -0.195302 -0.746973 -0.553784\n",
       "6  0.107835  0.001818 -1.000445\n",
       "7 -0.350980  1.693922  0.121410"
      ]
     },
     "execution_count": 141,
     "metadata": {},
     "output_type": "execute_result"
    }
   ],
   "source": [
    "# This is the key part!!!!!:\n",
    "option = 2\n",
    "if option == 1:\n",
    "    b = a.loc[:]\n",
    "else:\n",
    "    b = a.loc[:,['A','B','C']]\n",
    "    http://localhost:8888/notebooks/InfoExtraction_from_MetaData.ipynb#Extract-all-offer-related-Info\n",
    "print(type(b))\n",
    "b\n"
   ]
  },
  {
   "cell_type": "code",
   "execution_count": 142,
   "metadata": {},
   "outputs": [
    {
     "data": {
      "text/html": [
       "<div>\n",
       "<style scoped>\n",
       "    .dataframe tbody tr th:only-of-type {\n",
       "        vertical-align: middle;\n",
       "    }\n",
       "\n",
       "    .dataframe tbody tr th {\n",
       "        vertical-align: top;\n",
       "    }\n",
       "\n",
       "    .dataframe thead th {\n",
       "        text-align: right;\n",
       "    }\n",
       "</style>\n",
       "<table border=\"1\" class=\"dataframe\">\n",
       "  <thead>\n",
       "    <tr style=\"text-align: right;\">\n",
       "      <th></th>\n",
       "      <th>A</th>\n",
       "      <th>B</th>\n",
       "      <th>C</th>\n",
       "    </tr>\n",
       "  </thead>\n",
       "  <tbody>\n",
       "    <tr>\n",
       "      <th>0</th>\n",
       "      <td>100.0</td>\n",
       "      <td>-0.708238</td>\n",
       "      <td>-0.354506</td>\n",
       "    </tr>\n",
       "    <tr>\n",
       "      <th>1</th>\n",
       "      <td>100.0</td>\n",
       "      <td>0.268845</td>\n",
       "      <td>0.007645</td>\n",
       "    </tr>\n",
       "    <tr>\n",
       "      <th>2</th>\n",
       "      <td>100.0</td>\n",
       "      <td>0.038323</td>\n",
       "      <td>-1.470705</td>\n",
       "    </tr>\n",
       "    <tr>\n",
       "      <th>3</th>\n",
       "      <td>100.0</td>\n",
       "      <td>0.846568</td>\n",
       "      <td>-1.183613</td>\n",
       "    </tr>\n",
       "    <tr>\n",
       "      <th>4</th>\n",
       "      <td>100.0</td>\n",
       "      <td>-0.273229</td>\n",
       "      <td>-1.092767</td>\n",
       "    </tr>\n",
       "    <tr>\n",
       "      <th>5</th>\n",
       "      <td>100.0</td>\n",
       "      <td>-0.746973</td>\n",
       "      <td>-0.553784</td>\n",
       "    </tr>\n",
       "    <tr>\n",
       "      <th>6</th>\n",
       "      <td>100.0</td>\n",
       "      <td>0.001818</td>\n",
       "      <td>-1.000445</td>\n",
       "    </tr>\n",
       "    <tr>\n",
       "      <th>7</th>\n",
       "      <td>100.0</td>\n",
       "      <td>1.693922</td>\n",
       "      <td>0.121410</td>\n",
       "    </tr>\n",
       "  </tbody>\n",
       "</table>\n",
       "</div>"
      ],
      "text/plain": [
       "       A         B         C\n",
       "0  100.0 -0.708238 -0.354506\n",
       "1  100.0  0.268845  0.007645\n",
       "2  100.0  0.038323 -1.470705\n",
       "3  100.0  0.846568 -1.183613\n",
       "4  100.0 -0.273229 -1.092767\n",
       "5  100.0 -0.746973 -0.553784\n",
       "6  100.0  0.001818 -1.000445\n",
       "7  100.0  1.693922  0.121410"
      ]
     },
     "metadata": {},
     "output_type": "display_data"
    },
    {
     "data": {
      "text/html": [
       "<div>\n",
       "<style scoped>\n",
       "    .dataframe tbody tr th:only-of-type {\n",
       "        vertical-align: middle;\n",
       "    }\n",
       "\n",
       "    .dataframe tbody tr th {\n",
       "        vertical-align: top;\n",
       "    }\n",
       "\n",
       "    .dataframe thead th {\n",
       "        text-align: right;\n",
       "    }\n",
       "</style>\n",
       "<table border=\"1\" class=\"dataframe\">\n",
       "  <thead>\n",
       "    <tr style=\"text-align: right;\">\n",
       "      <th></th>\n",
       "      <th>A</th>\n",
       "      <th>B</th>\n",
       "      <th>C</th>\n",
       "      <th>D</th>\n",
       "    </tr>\n",
       "  </thead>\n",
       "  <tbody>\n",
       "    <tr>\n",
       "      <th>0</th>\n",
       "      <td>-0.236662</td>\n",
       "      <td>-0.708238</td>\n",
       "      <td>-0.354506</td>\n",
       "      <td>1.192155</td>\n",
       "    </tr>\n",
       "    <tr>\n",
       "      <th>1</th>\n",
       "      <td>-0.683871</td>\n",
       "      <td>0.268845</td>\n",
       "      <td>0.007645</td>\n",
       "      <td>-0.227292</td>\n",
       "    </tr>\n",
       "    <tr>\n",
       "      <th>2</th>\n",
       "      <td>0.351881</td>\n",
       "      <td>0.038323</td>\n",
       "      <td>-1.470705</td>\n",
       "      <td>-2.367162</td>\n",
       "    </tr>\n",
       "    <tr>\n",
       "      <th>3</th>\n",
       "      <td>-1.318242</td>\n",
       "      <td>0.846568</td>\n",
       "      <td>-1.183613</td>\n",
       "      <td>0.105871</td>\n",
       "    </tr>\n",
       "    <tr>\n",
       "      <th>4</th>\n",
       "      <td>0.716728</td>\n",
       "      <td>-0.273229</td>\n",
       "      <td>-1.092767</td>\n",
       "      <td>0.895343</td>\n",
       "    </tr>\n",
       "    <tr>\n",
       "      <th>5</th>\n",
       "      <td>-0.195302</td>\n",
       "      <td>-0.746973</td>\n",
       "      <td>-0.553784</td>\n",
       "      <td>0.897603</td>\n",
       "    </tr>\n",
       "    <tr>\n",
       "      <th>6</th>\n",
       "      <td>0.107835</td>\n",
       "      <td>0.001818</td>\n",
       "      <td>-1.000445</td>\n",
       "      <td>1.049765</td>\n",
       "    </tr>\n",
       "    <tr>\n",
       "      <th>7</th>\n",
       "      <td>-0.350980</td>\n",
       "      <td>1.693922</td>\n",
       "      <td>0.121410</td>\n",
       "      <td>0.588823</td>\n",
       "    </tr>\n",
       "  </tbody>\n",
       "</table>\n",
       "</div>"
      ],
      "text/plain": [
       "          A         B         C         D\n",
       "0 -0.236662 -0.708238 -0.354506  1.192155\n",
       "1 -0.683871  0.268845  0.007645 -0.227292\n",
       "2  0.351881  0.038323 -1.470705 -2.367162\n",
       "3 -1.318242  0.846568 -1.183613  0.105871\n",
       "4  0.716728 -0.273229 -1.092767  0.895343\n",
       "5 -0.195302 -0.746973 -0.553784  0.897603\n",
       "6  0.107835  0.001818 -1.000445  1.049765\n",
       "7 -0.350980  1.693922  0.121410  0.588823"
      ]
     },
     "metadata": {},
     "output_type": "display_data"
    },
    {
     "name": "stdout",
     "output_type": "stream",
     "text": [
      "\n",
      "In this case (indexing single index by []), a was re-assigned\n"
     ]
    }
   ],
   "source": [
    "b.loc[:,['A']]=100\n",
    "display(b)\n",
    "display(a)\n",
    "print('\\nIn this case (indexing single index by []), a was re-assigned')\n",
    "# not a copy at all.\n",
    "# while using .loc would never need to worry about this."
   ]
  },
  {
   "cell_type": "markdown",
   "metadata": {},
   "source": [
    "## Reset index"
   ]
  },
  {
   "cell_type": "code",
   "execution_count": 22,
   "metadata": {},
   "outputs": [
    {
     "name": "stdout",
     "output_type": "stream",
     "text": [
      "Sample data frame df:\n"
     ]
    },
    {
     "data": {
      "text/html": [
       "<div>\n",
       "<style>\n",
       "    .dataframe thead tr:only-child th {\n",
       "        text-align: right;\n",
       "    }\n",
       "\n",
       "    .dataframe thead th {\n",
       "        text-align: left;\n",
       "    }\n",
       "\n",
       "    .dataframe tbody tr th {\n",
       "        vertical-align: top;\n",
       "    }\n",
       "</style>\n",
       "<table border=\"1\" class=\"dataframe\">\n",
       "  <thead>\n",
       "    <tr style=\"text-align: right;\">\n",
       "      <th></th>\n",
       "      <th>one</th>\n",
       "      <th>two</th>\n",
       "      <th>three</th>\n",
       "      <th>four</th>\n",
       "      <th>five</th>\n",
       "    </tr>\n",
       "  </thead>\n",
       "  <tbody>\n",
       "    <tr>\n",
       "      <th>a</th>\n",
       "      <td>-0.853258</td>\n",
       "      <td>-0.801535</td>\n",
       "      <td>0.167673</td>\n",
       "      <td>bar</td>\n",
       "      <td>False</td>\n",
       "    </tr>\n",
       "    <tr>\n",
       "      <th>c</th>\n",
       "      <td>1.071389</td>\n",
       "      <td>-1.089491</td>\n",
       "      <td>-1.632686</td>\n",
       "      <td>bar</td>\n",
       "      <td>True</td>\n",
       "    </tr>\n",
       "    <tr>\n",
       "      <th>e</th>\n",
       "      <td>-2.191377</td>\n",
       "      <td>-0.464278</td>\n",
       "      <td>1.591949</td>\n",
       "      <td>bar</td>\n",
       "      <td>False</td>\n",
       "    </tr>\n",
       "    <tr>\n",
       "      <th>f</th>\n",
       "      <td>-1.425386</td>\n",
       "      <td>-0.284192</td>\n",
       "      <td>-2.245392</td>\n",
       "      <td>bar</td>\n",
       "      <td>False</td>\n",
       "    </tr>\n",
       "    <tr>\n",
       "      <th>h</th>\n",
       "      <td>-0.684550</td>\n",
       "      <td>1.893911</td>\n",
       "      <td>-0.155780</td>\n",
       "      <td>bar</td>\n",
       "      <td>False</td>\n",
       "    </tr>\n",
       "  </tbody>\n",
       "</table>\n",
       "</div>"
      ],
      "text/plain": [
       "        one       two     three four   five\n",
       "a -0.853258 -0.801535  0.167673  bar  False\n",
       "c  1.071389 -1.089491 -1.632686  bar   True\n",
       "e -2.191377 -0.464278  1.591949  bar  False\n",
       "f -1.425386 -0.284192 -2.245392  bar  False\n",
       "h -0.684550  1.893911 -0.155780  bar  False"
      ]
     },
     "metadata": {},
     "output_type": "display_data"
    },
    {
     "name": "stdout",
     "output_type": "stream",
     "text": [
      "\n",
      "-----------------------------------------\n",
      "\n",
      "Sample data frame with missing value df2:\n"
     ]
    },
    {
     "data": {
      "text/html": [
       "<div>\n",
       "<style>\n",
       "    .dataframe thead tr:only-child th {\n",
       "        text-align: right;\n",
       "    }\n",
       "\n",
       "    .dataframe thead th {\n",
       "        text-align: left;\n",
       "    }\n",
       "\n",
       "    .dataframe tbody tr th {\n",
       "        vertical-align: top;\n",
       "    }\n",
       "</style>\n",
       "<table border=\"1\" class=\"dataframe\">\n",
       "  <thead>\n",
       "    <tr style=\"text-align: right;\">\n",
       "      <th></th>\n",
       "      <th>one</th>\n",
       "      <th>two</th>\n",
       "      <th>three</th>\n",
       "      <th>four</th>\n",
       "      <th>five</th>\n",
       "    </tr>\n",
       "  </thead>\n",
       "  <tbody>\n",
       "    <tr>\n",
       "      <th>a</th>\n",
       "      <td>-0.853258</td>\n",
       "      <td>-0.801535</td>\n",
       "      <td>0.167673</td>\n",
       "      <td>bar</td>\n",
       "      <td>False</td>\n",
       "    </tr>\n",
       "    <tr>\n",
       "      <th>b</th>\n",
       "      <td>NaN</td>\n",
       "      <td>NaN</td>\n",
       "      <td>NaN</td>\n",
       "      <td>NaN</td>\n",
       "      <td>NaN</td>\n",
       "    </tr>\n",
       "    <tr>\n",
       "      <th>c</th>\n",
       "      <td>1.071389</td>\n",
       "      <td>-1.089491</td>\n",
       "      <td>-1.632686</td>\n",
       "      <td>bar</td>\n",
       "      <td>True</td>\n",
       "    </tr>\n",
       "    <tr>\n",
       "      <th>d</th>\n",
       "      <td>NaN</td>\n",
       "      <td>NaN</td>\n",
       "      <td>NaN</td>\n",
       "      <td>NaN</td>\n",
       "      <td>NaN</td>\n",
       "    </tr>\n",
       "    <tr>\n",
       "      <th>e</th>\n",
       "      <td>-2.191377</td>\n",
       "      <td>-0.464278</td>\n",
       "      <td>1.591949</td>\n",
       "      <td>bar</td>\n",
       "      <td>False</td>\n",
       "    </tr>\n",
       "    <tr>\n",
       "      <th>f</th>\n",
       "      <td>-1.425386</td>\n",
       "      <td>-0.284192</td>\n",
       "      <td>-2.245392</td>\n",
       "      <td>bar</td>\n",
       "      <td>False</td>\n",
       "    </tr>\n",
       "    <tr>\n",
       "      <th>g</th>\n",
       "      <td>NaN</td>\n",
       "      <td>NaN</td>\n",
       "      <td>NaN</td>\n",
       "      <td>NaN</td>\n",
       "      <td>NaN</td>\n",
       "    </tr>\n",
       "    <tr>\n",
       "      <th>h</th>\n",
       "      <td>-0.684550</td>\n",
       "      <td>1.893911</td>\n",
       "      <td>-0.155780</td>\n",
       "      <td>bar</td>\n",
       "      <td>False</td>\n",
       "    </tr>\n",
       "    <tr>\n",
       "      <th>fffff</th>\n",
       "      <td>NaN</td>\n",
       "      <td>NaN</td>\n",
       "      <td>NaN</td>\n",
       "      <td>NaN</td>\n",
       "      <td>NaN</td>\n",
       "    </tr>\n",
       "  </tbody>\n",
       "</table>\n",
       "</div>"
      ],
      "text/plain": [
       "            one       two     three four   five\n",
       "a     -0.853258 -0.801535  0.167673  bar  False\n",
       "b           NaN       NaN       NaN  NaN    NaN\n",
       "c      1.071389 -1.089491 -1.632686  bar   True\n",
       "d           NaN       NaN       NaN  NaN    NaN\n",
       "e     -2.191377 -0.464278  1.591949  bar  False\n",
       "f     -1.425386 -0.284192 -2.245392  bar  False\n",
       "g           NaN       NaN       NaN  NaN    NaN\n",
       "h     -0.684550  1.893911 -0.155780  bar  False\n",
       "fffff       NaN       NaN       NaN  NaN    NaN"
      ]
     },
     "metadata": {},
     "output_type": "display_data"
    }
   ],
   "source": [
    "# generate sample data\n",
    "df = pd.DataFrame(np.random.randn(5, 3), index=['a', 'c', 'e', 'f', 'h'], columns=['one', 'two', 'three'])\n",
    "df['four'] = 'bar'\n",
    "df['five'] = df['one'] > 0\n",
    "print('Sample data frame df:')\n",
    "display(df)\n",
    "\n",
    "print('\\n-----------------------------------------')\n",
    "print('\\nSample data frame with missing value df2:')\n",
    "df2 = df.reindex(['a', 'b', 'c', 'd', 'e', 'f', 'g', 'h','fffff'])\n",
    "display(df2)"
   ]
  },
  {
   "cell_type": "code",
   "execution_count": 24,
   "metadata": {},
   "outputs": [
    {
     "data": {
      "text/html": [
       "<div>\n",
       "<style>\n",
       "    .dataframe thead tr:only-child th {\n",
       "        text-align: right;\n",
       "    }\n",
       "\n",
       "    .dataframe thead th {\n",
       "        text-align: left;\n",
       "    }\n",
       "\n",
       "    .dataframe tbody tr th {\n",
       "        vertical-align: top;\n",
       "    }\n",
       "</style>\n",
       "<table border=\"1\" class=\"dataframe\">\n",
       "  <thead>\n",
       "    <tr style=\"text-align: right;\">\n",
       "      <th></th>\n",
       "      <th>index</th>\n",
       "      <th>one</th>\n",
       "      <th>two</th>\n",
       "      <th>three</th>\n",
       "      <th>four</th>\n",
       "      <th>five</th>\n",
       "    </tr>\n",
       "  </thead>\n",
       "  <tbody>\n",
       "    <tr>\n",
       "      <th>0</th>\n",
       "      <td>a</td>\n",
       "      <td>-0.853258</td>\n",
       "      <td>-0.801535</td>\n",
       "      <td>0.167673</td>\n",
       "      <td>bar</td>\n",
       "      <td>False</td>\n",
       "    </tr>\n",
       "    <tr>\n",
       "      <th>1</th>\n",
       "      <td>b</td>\n",
       "      <td>NaN</td>\n",
       "      <td>NaN</td>\n",
       "      <td>NaN</td>\n",
       "      <td>NaN</td>\n",
       "      <td>NaN</td>\n",
       "    </tr>\n",
       "    <tr>\n",
       "      <th>2</th>\n",
       "      <td>c</td>\n",
       "      <td>1.071389</td>\n",
       "      <td>-1.089491</td>\n",
       "      <td>-1.632686</td>\n",
       "      <td>bar</td>\n",
       "      <td>True</td>\n",
       "    </tr>\n",
       "    <tr>\n",
       "      <th>3</th>\n",
       "      <td>d</td>\n",
       "      <td>NaN</td>\n",
       "      <td>NaN</td>\n",
       "      <td>NaN</td>\n",
       "      <td>NaN</td>\n",
       "      <td>NaN</td>\n",
       "    </tr>\n",
       "    <tr>\n",
       "      <th>4</th>\n",
       "      <td>e</td>\n",
       "      <td>-2.191377</td>\n",
       "      <td>-0.464278</td>\n",
       "      <td>1.591949</td>\n",
       "      <td>bar</td>\n",
       "      <td>False</td>\n",
       "    </tr>\n",
       "    <tr>\n",
       "      <th>5</th>\n",
       "      <td>f</td>\n",
       "      <td>-1.425386</td>\n",
       "      <td>-0.284192</td>\n",
       "      <td>-2.245392</td>\n",
       "      <td>bar</td>\n",
       "      <td>False</td>\n",
       "    </tr>\n",
       "    <tr>\n",
       "      <th>6</th>\n",
       "      <td>g</td>\n",
       "      <td>NaN</td>\n",
       "      <td>NaN</td>\n",
       "      <td>NaN</td>\n",
       "      <td>NaN</td>\n",
       "      <td>NaN</td>\n",
       "    </tr>\n",
       "    <tr>\n",
       "      <th>7</th>\n",
       "      <td>h</td>\n",
       "      <td>-0.684550</td>\n",
       "      <td>1.893911</td>\n",
       "      <td>-0.155780</td>\n",
       "      <td>bar</td>\n",
       "      <td>False</td>\n",
       "    </tr>\n",
       "    <tr>\n",
       "      <th>8</th>\n",
       "      <td>fffff</td>\n",
       "      <td>NaN</td>\n",
       "      <td>NaN</td>\n",
       "      <td>NaN</td>\n",
       "      <td>NaN</td>\n",
       "      <td>NaN</td>\n",
       "    </tr>\n",
       "  </tbody>\n",
       "</table>\n",
       "</div>"
      ],
      "text/plain": [
       "   index       one       two     three four   five\n",
       "0      a -0.853258 -0.801535  0.167673  bar  False\n",
       "1      b       NaN       NaN       NaN  NaN    NaN\n",
       "2      c  1.071389 -1.089491 -1.632686  bar   True\n",
       "3      d       NaN       NaN       NaN  NaN    NaN\n",
       "4      e -2.191377 -0.464278  1.591949  bar  False\n",
       "5      f -1.425386 -0.284192 -2.245392  bar  False\n",
       "6      g       NaN       NaN       NaN  NaN    NaN\n",
       "7      h -0.684550  1.893911 -0.155780  bar  False\n",
       "8  fffff       NaN       NaN       NaN  NaN    NaN"
      ]
     },
     "execution_count": 24,
     "metadata": {},
     "output_type": "execute_result"
    }
   ],
   "source": [
    "# reset index of a dataframe and add the current index as a column into current dataframe\n",
    "df3 = df2.reset_index().copy()\n",
    "df3"
   ]
  },
  {
   "cell_type": "markdown",
   "metadata": {},
   "source": [
    "# Multi-indexing"
   ]
  },
  {
   "cell_type": "markdown",
   "metadata": {},
   "source": [
    "## Index"
   ]
  },
  {
   "cell_type": "code",
   "execution_count": 24,
   "metadata": {},
   "outputs": [
    {
     "data": {
      "text/html": [
       "<div>\n",
       "<style scoped>\n",
       "    .dataframe tbody tr th:only-of-type {\n",
       "        vertical-align: middle;\n",
       "    }\n",
       "\n",
       "    .dataframe tbody tr th {\n",
       "        vertical-align: top;\n",
       "    }\n",
       "\n",
       "    .dataframe thead th {\n",
       "        text-align: right;\n",
       "    }\n",
       "</style>\n",
       "<table border=\"1\" class=\"dataframe\">\n",
       "  <thead>\n",
       "    <tr style=\"text-align: right;\">\n",
       "      <th></th>\n",
       "      <th></th>\n",
       "      <th>0</th>\n",
       "      <th>1</th>\n",
       "      <th>2</th>\n",
       "      <th>3</th>\n",
       "    </tr>\n",
       "  </thead>\n",
       "  <tbody>\n",
       "    <tr>\n",
       "      <th rowspan=\"2\" valign=\"top\">bar</th>\n",
       "      <th>one</th>\n",
       "      <td>-0.715945</td>\n",
       "      <td>0.151583</td>\n",
       "      <td>1.317375</td>\n",
       "      <td>0.499748</td>\n",
       "    </tr>\n",
       "    <tr>\n",
       "      <th>two</th>\n",
       "      <td>0.938546</td>\n",
       "      <td>-1.618732</td>\n",
       "      <td>-1.473079</td>\n",
       "      <td>2.662088</td>\n",
       "    </tr>\n",
       "    <tr>\n",
       "      <th rowspan=\"2\" valign=\"top\">baz</th>\n",
       "      <th>one</th>\n",
       "      <td>-0.126611</td>\n",
       "      <td>-0.620895</td>\n",
       "      <td>2.065830</td>\n",
       "      <td>-1.410391</td>\n",
       "    </tr>\n",
       "    <tr>\n",
       "      <th>two</th>\n",
       "      <td>-0.354215</td>\n",
       "      <td>-1.301836</td>\n",
       "      <td>1.716957</td>\n",
       "      <td>0.459275</td>\n",
       "    </tr>\n",
       "    <tr>\n",
       "      <th rowspan=\"2\" valign=\"top\">foo</th>\n",
       "      <th>one</th>\n",
       "      <td>0.279751</td>\n",
       "      <td>-0.682826</td>\n",
       "      <td>-1.194367</td>\n",
       "      <td>0.652896</td>\n",
       "    </tr>\n",
       "    <tr>\n",
       "      <th>two</th>\n",
       "      <td>0.280177</td>\n",
       "      <td>-1.305885</td>\n",
       "      <td>0.958773</td>\n",
       "      <td>0.975372</td>\n",
       "    </tr>\n",
       "    <tr>\n",
       "      <th rowspan=\"2\" valign=\"top\">qux</th>\n",
       "      <th>one</th>\n",
       "      <td>-0.809793</td>\n",
       "      <td>-0.512066</td>\n",
       "      <td>0.177547</td>\n",
       "      <td>1.674731</td>\n",
       "    </tr>\n",
       "    <tr>\n",
       "      <th>two</th>\n",
       "      <td>-0.635881</td>\n",
       "      <td>-0.215780</td>\n",
       "      <td>0.213772</td>\n",
       "      <td>0.103271</td>\n",
       "    </tr>\n",
       "  </tbody>\n",
       "</table>\n",
       "</div>"
      ],
      "text/plain": [
       "                0         1         2         3\n",
       "bar one -0.715945  0.151583  1.317375  0.499748\n",
       "    two  0.938546 -1.618732 -1.473079  2.662088\n",
       "baz one -0.126611 -0.620895  2.065830 -1.410391\n",
       "    two -0.354215 -1.301836  1.716957  0.459275\n",
       "foo one  0.279751 -0.682826 -1.194367  0.652896\n",
       "    two  0.280177 -1.305885  0.958773  0.975372\n",
       "qux one -0.809793 -0.512066  0.177547  1.674731\n",
       "    two -0.635881 -0.215780  0.213772  0.103271"
      ]
     },
     "execution_count": 24,
     "metadata": {},
     "output_type": "execute_result"
    }
   ],
   "source": [
    "arrays = [['bar', 'bar', 'baz', 'baz', 'foo', 'foo', 'qux', 'qux'],\n",
    "        ['one', 'two', 'one', 'two', 'one', 'two', 'one', 'two']]\n",
    "df = pd.DataFrame(np.random.randn(8, 4), index=arrays)\n",
    "df"
   ]
  },
  {
   "cell_type": "code",
   "execution_count": 25,
   "metadata": {},
   "outputs": [
    {
     "data": {
      "text/plain": [
       "MultiIndex(levels=[['bar', 'baz', 'foo', 'qux'], ['one', 'two']],\n",
       "           labels=[[0, 0, 1, 1, 2, 2, 3, 3], [0, 1, 0, 1, 0, 1, 0, 1]])"
      ]
     },
     "execution_count": 25,
     "metadata": {},
     "output_type": "execute_result"
    }
   ],
   "source": [
    "df.index"
   ]
  },
  {
   "cell_type": "code",
   "execution_count": 27,
   "metadata": {},
   "outputs": [
    {
     "data": {
      "text/plain": [
       "FrozenList([['bar', 'baz', 'foo', 'qux'], ['one', 'two']])"
      ]
     },
     "execution_count": 27,
     "metadata": {},
     "output_type": "execute_result"
    }
   ],
   "source": [
    "df.index.levels"
   ]
  },
  {
   "cell_type": "code",
   "execution_count": 28,
   "metadata": {},
   "outputs": [
    {
     "data": {
      "text/plain": [
       "Index(['bar', 'baz', 'foo', 'qux'], dtype='object')"
      ]
     },
     "execution_count": 28,
     "metadata": {},
     "output_type": "execute_result"
    }
   ],
   "source": [
    "df.index.levels[0]"
   ]
  },
  {
   "cell_type": "markdown",
   "metadata": {},
   "source": [
    "## Columns"
   ]
  },
  {
   "cell_type": "code",
   "execution_count": 29,
   "metadata": {},
   "outputs": [
    {
     "data": {
      "text/html": [
       "<div>\n",
       "<style scoped>\n",
       "    .dataframe tbody tr th:only-of-type {\n",
       "        vertical-align: middle;\n",
       "    }\n",
       "\n",
       "    .dataframe tbody tr th {\n",
       "        vertical-align: top;\n",
       "    }\n",
       "\n",
       "    .dataframe thead tr th {\n",
       "        text-align: left;\n",
       "    }\n",
       "</style>\n",
       "<table border=\"1\" class=\"dataframe\">\n",
       "  <thead>\n",
       "    <tr>\n",
       "      <th></th>\n",
       "      <th colspan=\"2\" halign=\"left\">bar</th>\n",
       "      <th colspan=\"2\" halign=\"left\">baz</th>\n",
       "      <th colspan=\"2\" halign=\"left\">foo</th>\n",
       "      <th colspan=\"2\" halign=\"left\">qux</th>\n",
       "    </tr>\n",
       "    <tr>\n",
       "      <th></th>\n",
       "      <th>one</th>\n",
       "      <th>two</th>\n",
       "      <th>one</th>\n",
       "      <th>two</th>\n",
       "      <th>one</th>\n",
       "      <th>two</th>\n",
       "      <th>one</th>\n",
       "      <th>two</th>\n",
       "    </tr>\n",
       "  </thead>\n",
       "  <tbody>\n",
       "    <tr>\n",
       "      <th>0</th>\n",
       "      <td>-0.715945</td>\n",
       "      <td>0.938546</td>\n",
       "      <td>-0.126611</td>\n",
       "      <td>-0.354215</td>\n",
       "      <td>0.279751</td>\n",
       "      <td>0.280177</td>\n",
       "      <td>-0.809793</td>\n",
       "      <td>-0.635881</td>\n",
       "    </tr>\n",
       "    <tr>\n",
       "      <th>1</th>\n",
       "      <td>0.151583</td>\n",
       "      <td>-1.618732</td>\n",
       "      <td>-0.620895</td>\n",
       "      <td>-1.301836</td>\n",
       "      <td>-0.682826</td>\n",
       "      <td>-1.305885</td>\n",
       "      <td>-0.512066</td>\n",
       "      <td>-0.215780</td>\n",
       "    </tr>\n",
       "    <tr>\n",
       "      <th>2</th>\n",
       "      <td>1.317375</td>\n",
       "      <td>-1.473079</td>\n",
       "      <td>2.065830</td>\n",
       "      <td>1.716957</td>\n",
       "      <td>-1.194367</td>\n",
       "      <td>0.958773</td>\n",
       "      <td>0.177547</td>\n",
       "      <td>0.213772</td>\n",
       "    </tr>\n",
       "    <tr>\n",
       "      <th>3</th>\n",
       "      <td>0.499748</td>\n",
       "      <td>2.662088</td>\n",
       "      <td>-1.410391</td>\n",
       "      <td>0.459275</td>\n",
       "      <td>0.652896</td>\n",
       "      <td>0.975372</td>\n",
       "      <td>1.674731</td>\n",
       "      <td>0.103271</td>\n",
       "    </tr>\n",
       "  </tbody>\n",
       "</table>\n",
       "</div>"
      ],
      "text/plain": [
       "        bar                 baz                 foo                 qux  \\\n",
       "        one       two       one       two       one       two       one   \n",
       "0 -0.715945  0.938546 -0.126611 -0.354215  0.279751  0.280177 -0.809793   \n",
       "1  0.151583 -1.618732 -0.620895 -1.301836 -0.682826 -1.305885 -0.512066   \n",
       "2  1.317375 -1.473079  2.065830  1.716957 -1.194367  0.958773  0.177547   \n",
       "3  0.499748  2.662088 -1.410391  0.459275  0.652896  0.975372  1.674731   \n",
       "\n",
       "             \n",
       "        two  \n",
       "0 -0.635881  \n",
       "1 -0.215780  \n",
       "2  0.213772  \n",
       "3  0.103271  "
      ]
     },
     "execution_count": 29,
     "metadata": {},
     "output_type": "execute_result"
    }
   ],
   "source": [
    "df1=df.T\n",
    "df1"
   ]
  },
  {
   "cell_type": "code",
   "execution_count": 32,
   "metadata": {},
   "outputs": [
    {
     "data": {
      "text/plain": [
       "FrozenList([['bar', 'baz', 'foo', 'qux'], ['one', 'two']])"
      ]
     },
     "execution_count": 32,
     "metadata": {},
     "output_type": "execute_result"
    }
   ],
   "source": [
    "# indexing columns\n",
    "df1.columns.levels"
   ]
  },
  {
   "cell_type": "code",
   "execution_count": 34,
   "metadata": {},
   "outputs": [
    {
     "data": {
      "text/plain": [
       "MultiIndex(levels=[['bar', 'baz', 'foo', 'qux'], ['one', 'two']],\n",
       "           labels=[[0, 0, 1, 1, 2, 2, 3, 3], [0, 1, 0, 1, 0, 1, 0, 1]])"
      ]
     },
     "execution_count": 34,
     "metadata": {},
     "output_type": "execute_result"
    }
   ],
   "source": [
    "# indexing rows\n",
    "df.index"
   ]
  },
  {
   "cell_type": "code",
   "execution_count": 38,
   "metadata": {},
   "outputs": [
    {
     "data": {
      "text/plain": [
       "-0.71594453025073468"
      ]
     },
     "execution_count": 38,
     "metadata": {},
     "output_type": "execute_result"
    }
   ],
   "source": [
    "# Overall indexing\n",
    "df1.loc[0,('bar','one')]"
   ]
  },
  {
   "cell_type": "markdown",
   "metadata": {},
   "source": [
    "# Parse URL"
   ]
  },
  {
   "cell_type": "code",
   "execution_count": null,
   "metadata": {
    "collapsed": true
   },
   "outputs": [],
   "source": [
    "\n",
    "# url parse to make url readable\n",
    "tqdm.pandas(desc=\"Progress Bar\")\n",
    "Page_URL = df_url.progress_apply(lambda x: urllib.parse.unquote(x))\n",
    "\n"
   ]
  },
  {
   "cell_type": "markdown",
   "metadata": {},
   "source": [
    "# Merge"
   ]
  },
  {
   "cell_type": "code",
   "execution_count": null,
   "metadata": {
    "collapsed": true
   },
   "outputs": [],
   "source": [
    "df_base = pd.merge(df_tmp[['index','product_viewed','cart_started','basket_paid']],Page_URL_index,\\\n",
    "                   how='inner',on=['index'])"
   ]
  },
  {
   "cell_type": "markdown",
   "metadata": {
    "collapsed": true
   },
   "source": [
    "## Array Intersection & Complement"
   ]
  },
  {
   "cell_type": "code",
   "execution_count": 3,
   "metadata": {},
   "outputs": [
    {
     "name": "stdout",
     "output_type": "stream",
     "text": [
      "a:  [1 2 3 4 5 6]\n",
      "b:  [3 4 5 6 7 8 9]\n",
      "\n",
      "Intersection:  [3 4 5 6]\n",
      "Complement:    [1 2]\n"
     ]
    }
   ],
   "source": [
    "# Array Intersection and Complement\n",
    "a=np.array(range(1,7))\n",
    "b=np.array(range(3,10))\n",
    "print('a: ',a)\n",
    "print('b: ',b)\n",
    "\n",
    "Intersection = np.intersect1d(a,b)\n",
    "Complement = np.setdiff1d(a,Intersection)\n",
    "\n",
    "print('\\nIntersection: ', Intersection)\n",
    "print('Complement:   ', Complement)"
   ]
  },
  {
   "cell_type": "code",
   "execution_count": 4,
   "metadata": {},
   "outputs": [
    {
     "name": "stdout",
     "output_type": "stream",
     "text": [
      "a:  [1 2 3 4 5 6]\n",
      "b:  [3 4 5 6]\n",
      "\n",
      "Intersection:  [3 4 5 6]\n",
      "Complement:    []\n"
     ]
    }
   ],
   "source": [
    "# Array Intersection and Complement\n",
    "a=np.array(range(1,7))\n",
    "b=np.array(range(3,7))\n",
    "print('a: ',a)\n",
    "print('b: ',b)\n",
    "\n",
    "Intersection = np.intersect1d(a,b)\n",
    "Complement = np.setdiff1d(b,Intersection)\n",
    "\n",
    "print('\\nIntersection: ', Intersection)\n",
    "print('Complement:   ', Complement)"
   ]
  },
  {
   "cell_type": "code",
   "execution_count": null,
   "metadata": {
    "collapsed": true
   },
   "outputs": [],
   "source": []
  }
 ],
 "metadata": {
  "kernelspec": {
   "display_name": "Python 3",
   "language": "python",
   "name": "python3"
  },
  "language_info": {
   "codemirror_mode": {
    "name": "ipython",
    "version": 3
   },
   "file_extension": ".py",
   "mimetype": "text/x-python",
   "name": "python",
   "nbconvert_exporter": "python",
   "pygments_lexer": "ipython3",
   "version": "3.5.2"
  },
  "toc": {
   "nav_menu": {},
   "number_sections": true,
   "sideBar": true,
   "skip_h1_title": false,
   "toc_cell": true,
   "toc_position": {
    "height": "850px",
    "left": "0px",
    "right": "2275px",
    "top": "111px",
    "width": "285px"
   },
   "toc_section_display": "block",
   "toc_window_display": true
  }
 },
 "nbformat": 4,
 "nbformat_minor": 2
}
