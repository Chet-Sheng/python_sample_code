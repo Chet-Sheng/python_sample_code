{
 "cells": [
  {
   "cell_type": "code",
   "execution_count": 1,
   "metadata": {},
   "outputs": [],
   "source": [
    "import json"
   ]
  },
  {
   "cell_type": "markdown",
   "metadata": {},
   "source": [
    "# Serialization\n",
    "**Def:** To convert a complex object (say a dictionary) in to a JSON representation, the object needs to be encoded as a “series of bytes”, for easy transmission or streaming\n",
    "\n",
    "\n",
    "By default, the JSON encoder only understands native Python data types (str, int, float, bool, list, tuple, and dict).\n",
    "- **dumps( )** — to serialize an object to a JSON formatted string.\n",
    "- **dump( )** — to serialize an object to a JSON formatted stream ( which supports writing to a file)."
   ]
  },
  {
   "cell_type": "markdown",
   "metadata": {},
   "source": [
    "## print json string"
   ]
  },
  {
   "cell_type": "code",
   "execution_count": 2,
   "metadata": {},
   "outputs": [
    {
     "name": "stdout",
     "output_type": "stream",
     "text": [
      "{\n",
      "    \"active\": true,\n",
      "    \"age\": 78,\n",
      "    \"balance\": 345.8,\n",
      "    \"friends\": [\n",
      "        \"Jane\",\n",
      "        \"John\"\n",
      "    ],\n",
      "    \"name\": \"Foo Bar\",\n",
      "    \"other_names\": [\n",
      "        \"Doe\",\n",
      "        \"Joe\"\n",
      "    ],\n",
      "    \"spouse\": null\n",
      "}\n"
     ]
    }
   ],
   "source": [
    "# dumps(): serialize an object to a JSON formatted string\n",
    "exmp = json.dumps({\n",
    "            \"name\": \"Foo Bar\",\n",
    "            \"age\": 78,\n",
    "            \"friends\": [\"Jane\",\"John\"],\n",
    "            \"balance\": 345.80,\n",
    "            \"other_names\":(\"Doe\",\"Joe\"),\n",
    "            \"active\":True,\n",
    "            \"spouse\":None\n",
    "            }, \n",
    "            sort_keys=True, \n",
    "            indent=4\n",
    "            )\n",
    "\n",
    "print(exmp)"
   ]
  },
  {
   "cell_type": "markdown",
   "metadata": {},
   "source": [
    "## write the output stream to a file."
   ]
  },
  {
   "cell_type": "code",
   "execution_count": 15,
   "metadata": {},
   "outputs": [],
   "source": [
    "with open('Data/JSON_exmp.json','w') as file:\n",
    "         json.dump({\n",
    "            \"name\": \"Foo Bar\",\n",
    "            \"age\": 78,\n",
    "            \"friends\": [\"Jane\",\"John\"],\n",
    "            \"balance\": 345.80,\n",
    "            \"other_names\":(\"Doe\",\"Joe\"),\n",
    "            \"active\":True,\n",
    "            \"spouse\":None\n",
    "        }, file, sort_keys=True, indent=4)"
   ]
  },
  {
   "cell_type": "markdown",
   "metadata": {},
   "source": [
    "# Deserialization\n",
    "**Deserialization** is the reverse of serialization. It involves decoding data received in JSON format as native data types, that can be manipulated further.\n",
    "\n",
    "- **loads( )** — to deserialize a JSON document to a Python object.\n",
    "- **load( )** — to deserialize a JSON formatted stream ( which supports reading from a file) to a Python object."
   ]
  },
  {
   "cell_type": "code",
   "execution_count": 20,
   "metadata": {},
   "outputs": [
    {
     "data": {
      "text/plain": [
       "{'active': True,\n",
       " 'age': 78,\n",
       " 'balance': 345.8,\n",
       " 'friends': ['Jane', 'John'],\n",
       " 'name': 'Foo Bar',\n",
       " 'other_names': ['Doe', 'Joe'],\n",
       " 'spouse': None}"
      ]
     },
     "execution_count": 20,
     "metadata": {},
     "output_type": "execute_result"
    }
   ],
   "source": [
    "# deserialize JSON string to a python object\n",
    "json.loads('{ \"active\": true, \"age\": 78, \"balance\": 345.8,   \"friends\": [\"Jane\",\"John\"], \"name\": \"Foo Bar\", \"other_names\": [\"Doe\",\"Joe\"],\"spouse\":null}')"
   ]
  },
  {
   "cell_type": "code",
   "execution_count": 17,
   "metadata": {},
   "outputs": [
    {
     "data": {
      "text/plain": [
       "{'active': True,\n",
       " 'age': 78,\n",
       " 'balance': 345.8,\n",
       " 'friends': ['Jane', 'John'],\n",
       " 'name': 'Foo Bar',\n",
       " 'other_names': ['Doe', 'Joe'],\n",
       " 'spouse': None}"
      ]
     },
     "execution_count": 17,
     "metadata": {},
     "output_type": "execute_result"
    }
   ],
   "source": [
    "# deserialize a JSON formatted stream ( which supports reading from a file) to a Python object\n",
    "with open('Data/JSON_exmp.json','r') as file:\n",
    "    user_data = json.load(file)\n",
    "\n",
    "user_data"
   ]
  },
  {
   "cell_type": "code",
   "execution_count": null,
   "metadata": {},
   "outputs": [],
   "source": []
  },
  {
   "cell_type": "code",
   "execution_count": null,
   "metadata": {},
   "outputs": [],
   "source": []
  },
  {
   "cell_type": "code",
   "execution_count": null,
   "metadata": {},
   "outputs": [],
   "source": []
  },
  {
   "cell_type": "code",
   "execution_count": null,
   "metadata": {},
   "outputs": [],
   "source": []
  }
 ],
 "metadata": {
  "kernelspec": {
   "display_name": "Python 3",
   "language": "python",
   "name": "python3"
  },
  "language_info": {
   "codemirror_mode": {
    "name": "ipython",
    "version": 3
   },
   "file_extension": ".py",
   "mimetype": "text/x-python",
   "name": "python",
   "nbconvert_exporter": "python",
   "pygments_lexer": "ipython3",
   "version": "3.6.7"
  },
  "pycharm": {
   "stem_cell": {
    "cell_type": "raw",
    "source": [],
    "metadata": {
     "collapsed": false
    }
   }
  }
 },
 "nbformat": 4,
 "nbformat_minor": 2
}